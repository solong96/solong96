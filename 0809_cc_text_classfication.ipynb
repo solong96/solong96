{
  "cells": [
    {
      "cell_type": "code",
      "source": [
        "from google.colab import drive\n",
        "drive.mount('/content/drive')"
      ],
      "metadata": {
        "id": "tPdCfJAHV0t_"
      },
      "execution_count": null,
      "outputs": []
    },
    {
      "cell_type": "code",
      "source": [
        "!pip install lemminflect\n",
        "!pip install tomotopy"
      ],
      "metadata": {
        "id": "DzAv8xXOVy-U"
      },
      "execution_count": null,
      "outputs": []
    },
    {
      "cell_type": "code",
      "source": [
        "import pandas as pd\n",
        "import numpy as np\n",
        "import nltk\n",
        "from nltk.tokenize import word_tokenize\n",
        "from nltk.corpus import stopwords\n",
        "from nltk.tag import pos_tag\n",
        "import tomotopy as tp\n",
        "from tqdm import tqdm\n",
        "from nltk import pos_tag\n",
        "from nltk.tokenize import word_tokenize\n",
        "# nltk.download()\n",
        "nltk.download('averaged_perceptron_tagger')\n",
        "nltk.download('stopwords')\n",
        "nltk.download('punkt')\n",
        "import spacy\n",
        "import lemminflect\n",
        "from lemminflect import getLemma\n",
        "from operator import itemgetter\n",
        "import sys\n",
        "import os\n",
        "import re\n",
        "import collections\n",
        "import matplotlib.pyplot as plt\n",
        "import seaborn as sns\n",
        "\n",
        "from sklearn.model_selection import train_test_split\n",
        "from sklearn.preprocessing import LabelEncoder\n",
        "import tensorflow as tf\n",
        "from tensorflow import keras\n",
        "from keras.models import Sequential\n",
        "from keras.layers.rnn import LSTM, GRU,SimpleRNN\n",
        "from keras.layers.core import Dense, Activation, Dropout, Embedding\n",
        "from keras.layers.normalization import batch_normalization\n",
        "from keras.utils import np_utils\n",
        "from sklearn import preprocessing, decomposition, model_selection, metrics, pipeline\n",
        "from keras.layers import GlobalMaxPooling1D, Conv1D, MaxPooling1D, Flatten, Bidirectional, SpatialDropout1D\n",
        "from keras.preprocessing import sequence, text\n",
        "from keras.utils import pad_sequences\n",
        "from keras.utils import to_categorical\n",
        "from keras.callbacks import EarlyStopping\n",
        "%matplotlib inline\n",
        "from plotly import graph_objs as go\n",
        "import plotly.express as px\n",
        "import plotly.figure_factory as ff"
      ],
      "metadata": {
        "colab": {
          "base_uri": "https://localhost:8080/"
        },
        "id": "YoEuyviFT8Yl",
        "outputId": "80b72e4e-9269-4f8c-d5c5-ee9a81e64059"
      },
      "execution_count": 13,
      "outputs": [
        {
          "output_type": "stream",
          "name": "stderr",
          "text": [
            "[nltk_data] Downloading package averaged_perceptron_tagger to\n",
            "[nltk_data]     /root/nltk_data...\n",
            "[nltk_data]   Package averaged_perceptron_tagger is already up-to-\n",
            "[nltk_data]       date!\n",
            "[nltk_data] Downloading package stopwords to /root/nltk_data...\n",
            "[nltk_data]   Package stopwords is already up-to-date!\n",
            "[nltk_data] Downloading package punkt to /root/nltk_data...\n",
            "[nltk_data]   Package punkt is already up-to-date!\n"
          ]
        }
      ]
    },
    {
      "cell_type": "code",
      "execution_count": 17,
      "metadata": {
        "colab": {
          "base_uri": "https://localhost:8080/"
        },
        "id": "mDXrHdzhT2xp",
        "outputId": "2547c0d8-a83f-4c8e-a2a3-e68fe184630f"
      },
      "outputs": [
        {
          "output_type": "stream",
          "name": "stdout",
          "text": [
            "Running on TPU  grpc://10.53.216.210:8470\n"
          ]
        },
        {
          "output_type": "stream",
          "name": "stderr",
          "text": [
            "WARNING:tensorflow:TPU system grpc://10.53.216.210:8470 has already been initialized. Reinitializing the TPU can cause previously created variables on TPU to be lost.\n"
          ]
        },
        {
          "output_type": "stream",
          "name": "stdout",
          "text": [
            "REPLICAS:  8\n"
          ]
        }
      ],
      "source": [
        "# Detect hardware, return appropriate distribution strategy\n",
        "try:\n",
        "    # TPU detection. No parameters necessary if TPU_NAME environment variable is\n",
        "    # set: this is always the case on Kaggle.\n",
        "    tpu = tf.distribute.cluster_resolver.TPUClusterResolver()\n",
        "    print('Running on TPU ', tpu.master())\n",
        "except ValueError:\n",
        "    tpu = None\n",
        "\n",
        "if tpu:\n",
        "    tf.config.experimental_connect_to_cluster(tpu)\n",
        "    tf.tpu.experimental.initialize_tpu_system(tpu)\n",
        "    strategy = tf.distribute.TPUStrategy(tpu)\n",
        "else:\n",
        "    # Default distribution strategy in Tensorflow. Works on CPU and single GPU.\n",
        "    strategy = tf.distribute.get_strategy()\n",
        "\n",
        "print(\"REPLICAS: \", strategy.num_replicas_in_sync)"
      ]
    },
    {
      "cell_type": "code",
      "execution_count": null,
      "metadata": {
        "id": "KqnrgyfST2xi"
      },
      "outputs": [],
      "source": [
        "stops = stopwords.words('english')\n",
        "newstop = ['et', 'al', 'us','factor','evidence','review','analysis','impact','effect','example','research','paper','result',\"first\",\"second\",\"third\",\"forth\",'doe', 'C', 'elsevier', 'ltd', 'etc', 'was', 'wa', 'ha', 'springer','mdpi','evaluation','evaluating']\n",
        "stops.extend(newstop)\n",
        "path = '/content/drive/MyDrive/0809'\n",
        "os.chdir(path)"
      ]
    },
    {
      "cell_type": "code",
      "execution_count": 41,
      "metadata": {
        "id": "I4HsRBH3T2xj",
        "outputId": "5dfb99a5-c891-4203-96b8-b4f8d32647b8",
        "colab": {
          "base_uri": "https://localhost:8080/",
          "height": 424
        }
      },
      "outputs": [
        {
          "output_type": "execute_result",
          "data": {
            "text/plain": [
              "                                                Abstract  category  \\\n",
              "0      Fossil fuel consumption, luxurious lifestyles,...        11   \n",
              "1      Global climate change is a change in the long-...        11   \n",
              "2      Many policy-makers view nuclear power as a mit...        11   \n",
              "3      The climate varies on multiple timescales, but...        11   \n",
              "4      Innovative digital twins (DTs) that allow engi...        11   \n",
              "...                                                  ...       ...   \n",
              "15088  It is of importance to realize high-efficiency...        24   \n",
              "15089  The co-firing of various ultra-low volatile co...        24   \n",
              "15090  The deployment of CO2 capture and storage (or ...        24   \n",
              "15091  There are a few economy and power industry dec...        24   \n",
              "15092  Latent heat thermal energy storage (LHTES) alw...        24   \n",
              "\n",
              "             toxic                                              token  \n",
              "0           energy  fossil fuel consumption luxurious lifestyle po...  \n",
              "1           energy  global climate-change change long-term weather...  \n",
              "2           energy  many policy-maker view nuclear power mitigatio...  \n",
              "3           energy  climate vary multiple timescale human main age...  \n",
              "4           energy  innovative digital twin Dt engineer visualise ...  \n",
              "...            ...                                                ...  \n",
              "15088  heat island  importance high-efficiency clean utilization f...  \n",
              "15089  heat island  co-firing various ultra-low volatile coal-base...  \n",
              "15090  heat island  deployment CO2 capture storage carbon capture ...  \n",
              "15091  heat island  economy power industry decarbonization line co...  \n",
              "15092  heat island  latent heat thermal energy storage LHTE phase ...  \n",
              "\n",
              "[15093 rows x 4 columns]"
            ],
            "text/html": [
              "\n",
              "\n",
              "  <div id=\"df-4d74b0a5-1d28-4909-a1b9-67f0af63c0f6\">\n",
              "    <div class=\"colab-df-container\">\n",
              "      <div>\n",
              "<style scoped>\n",
              "    .dataframe tbody tr th:only-of-type {\n",
              "        vertical-align: middle;\n",
              "    }\n",
              "\n",
              "    .dataframe tbody tr th {\n",
              "        vertical-align: top;\n",
              "    }\n",
              "\n",
              "    .dataframe thead th {\n",
              "        text-align: right;\n",
              "    }\n",
              "</style>\n",
              "<table border=\"1\" class=\"dataframe\">\n",
              "  <thead>\n",
              "    <tr style=\"text-align: right;\">\n",
              "      <th></th>\n",
              "      <th>Abstract</th>\n",
              "      <th>category</th>\n",
              "      <th>toxic</th>\n",
              "      <th>token</th>\n",
              "    </tr>\n",
              "  </thead>\n",
              "  <tbody>\n",
              "    <tr>\n",
              "      <th>0</th>\n",
              "      <td>Fossil fuel consumption, luxurious lifestyles,...</td>\n",
              "      <td>11</td>\n",
              "      <td>energy</td>\n",
              "      <td>fossil fuel consumption luxurious lifestyle po...</td>\n",
              "    </tr>\n",
              "    <tr>\n",
              "      <th>1</th>\n",
              "      <td>Global climate change is a change in the long-...</td>\n",
              "      <td>11</td>\n",
              "      <td>energy</td>\n",
              "      <td>global climate-change change long-term weather...</td>\n",
              "    </tr>\n",
              "    <tr>\n",
              "      <th>2</th>\n",
              "      <td>Many policy-makers view nuclear power as a mit...</td>\n",
              "      <td>11</td>\n",
              "      <td>energy</td>\n",
              "      <td>many policy-maker view nuclear power mitigatio...</td>\n",
              "    </tr>\n",
              "    <tr>\n",
              "      <th>3</th>\n",
              "      <td>The climate varies on multiple timescales, but...</td>\n",
              "      <td>11</td>\n",
              "      <td>energy</td>\n",
              "      <td>climate vary multiple timescale human main age...</td>\n",
              "    </tr>\n",
              "    <tr>\n",
              "      <th>4</th>\n",
              "      <td>Innovative digital twins (DTs) that allow engi...</td>\n",
              "      <td>11</td>\n",
              "      <td>energy</td>\n",
              "      <td>innovative digital twin Dt engineer visualise ...</td>\n",
              "    </tr>\n",
              "    <tr>\n",
              "      <th>...</th>\n",
              "      <td>...</td>\n",
              "      <td>...</td>\n",
              "      <td>...</td>\n",
              "      <td>...</td>\n",
              "    </tr>\n",
              "    <tr>\n",
              "      <th>15088</th>\n",
              "      <td>It is of importance to realize high-efficiency...</td>\n",
              "      <td>24</td>\n",
              "      <td>heat island</td>\n",
              "      <td>importance high-efficiency clean utilization f...</td>\n",
              "    </tr>\n",
              "    <tr>\n",
              "      <th>15089</th>\n",
              "      <td>The co-firing of various ultra-low volatile co...</td>\n",
              "      <td>24</td>\n",
              "      <td>heat island</td>\n",
              "      <td>co-firing various ultra-low volatile coal-base...</td>\n",
              "    </tr>\n",
              "    <tr>\n",
              "      <th>15090</th>\n",
              "      <td>The deployment of CO2 capture and storage (or ...</td>\n",
              "      <td>24</td>\n",
              "      <td>heat island</td>\n",
              "      <td>deployment CO2 capture storage carbon capture ...</td>\n",
              "    </tr>\n",
              "    <tr>\n",
              "      <th>15091</th>\n",
              "      <td>There are a few economy and power industry dec...</td>\n",
              "      <td>24</td>\n",
              "      <td>heat island</td>\n",
              "      <td>economy power industry decarbonization line co...</td>\n",
              "    </tr>\n",
              "    <tr>\n",
              "      <th>15092</th>\n",
              "      <td>Latent heat thermal energy storage (LHTES) alw...</td>\n",
              "      <td>24</td>\n",
              "      <td>heat island</td>\n",
              "      <td>latent heat thermal energy storage LHTE phase ...</td>\n",
              "    </tr>\n",
              "  </tbody>\n",
              "</table>\n",
              "<p>15093 rows × 4 columns</p>\n",
              "</div>\n",
              "      <button class=\"colab-df-convert\" onclick=\"convertToInteractive('df-4d74b0a5-1d28-4909-a1b9-67f0af63c0f6')\"\n",
              "              title=\"Convert this dataframe to an interactive table.\"\n",
              "              style=\"display:none;\">\n",
              "\n",
              "  <svg xmlns=\"http://www.w3.org/2000/svg\" height=\"24px\"viewBox=\"0 0 24 24\"\n",
              "       width=\"24px\">\n",
              "    <path d=\"M0 0h24v24H0V0z\" fill=\"none\"/>\n",
              "    <path d=\"M18.56 5.44l.94 2.06.94-2.06 2.06-.94-2.06-.94-.94-2.06-.94 2.06-2.06.94zm-11 1L8.5 8.5l.94-2.06 2.06-.94-2.06-.94L8.5 2.5l-.94 2.06-2.06.94zm10 10l.94 2.06.94-2.06 2.06-.94-2.06-.94-.94-2.06-.94 2.06-2.06.94z\"/><path d=\"M17.41 7.96l-1.37-1.37c-.4-.4-.92-.59-1.43-.59-.52 0-1.04.2-1.43.59L10.3 9.45l-7.72 7.72c-.78.78-.78 2.05 0 2.83L4 21.41c.39.39.9.59 1.41.59.51 0 1.02-.2 1.41-.59l7.78-7.78 2.81-2.81c.8-.78.8-2.07 0-2.86zM5.41 20L4 18.59l7.72-7.72 1.47 1.35L5.41 20z\"/>\n",
              "  </svg>\n",
              "      </button>\n",
              "\n",
              "\n",
              "\n",
              "    <div id=\"df-e09b4404-5e34-4569-b406-03a172b6925b\">\n",
              "      <button class=\"colab-df-quickchart\" onclick=\"quickchart('df-e09b4404-5e34-4569-b406-03a172b6925b')\"\n",
              "              title=\"Suggest charts.\"\n",
              "              style=\"display:none;\">\n",
              "\n",
              "<svg xmlns=\"http://www.w3.org/2000/svg\" height=\"24px\"viewBox=\"0 0 24 24\"\n",
              "     width=\"24px\">\n",
              "    <g>\n",
              "        <path d=\"M19 3H5c-1.1 0-2 .9-2 2v14c0 1.1.9 2 2 2h14c1.1 0 2-.9 2-2V5c0-1.1-.9-2-2-2zM9 17H7v-7h2v7zm4 0h-2V7h2v10zm4 0h-2v-4h2v4z\"/>\n",
              "    </g>\n",
              "</svg>\n",
              "      </button>\n",
              "    </div>\n",
              "\n",
              "<style>\n",
              "  .colab-df-quickchart {\n",
              "    background-color: #E8F0FE;\n",
              "    border: none;\n",
              "    border-radius: 50%;\n",
              "    cursor: pointer;\n",
              "    display: none;\n",
              "    fill: #1967D2;\n",
              "    height: 32px;\n",
              "    padding: 0 0 0 0;\n",
              "    width: 32px;\n",
              "  }\n",
              "\n",
              "  .colab-df-quickchart:hover {\n",
              "    background-color: #E2EBFA;\n",
              "    box-shadow: 0px 1px 2px rgba(60, 64, 67, 0.3), 0px 1px 3px 1px rgba(60, 64, 67, 0.15);\n",
              "    fill: #174EA6;\n",
              "  }\n",
              "\n",
              "  [theme=dark] .colab-df-quickchart {\n",
              "    background-color: #3B4455;\n",
              "    fill: #D2E3FC;\n",
              "  }\n",
              "\n",
              "  [theme=dark] .colab-df-quickchart:hover {\n",
              "    background-color: #434B5C;\n",
              "    box-shadow: 0px 1px 3px 1px rgba(0, 0, 0, 0.15);\n",
              "    filter: drop-shadow(0px 1px 2px rgba(0, 0, 0, 0.3));\n",
              "    fill: #FFFFFF;\n",
              "  }\n",
              "</style>\n",
              "\n",
              "    <script>\n",
              "      async function quickchart(key) {\n",
              "        const containerElement = document.querySelector('#' + key);\n",
              "        const charts = await google.colab.kernel.invokeFunction(\n",
              "            'suggestCharts', [key], {});\n",
              "      }\n",
              "    </script>\n",
              "\n",
              "      <script>\n",
              "\n",
              "function displayQuickchartButton(domScope) {\n",
              "  let quickchartButtonEl =\n",
              "    domScope.querySelector('#df-e09b4404-5e34-4569-b406-03a172b6925b button.colab-df-quickchart');\n",
              "  quickchartButtonEl.style.display =\n",
              "    google.colab.kernel.accessAllowed ? 'block' : 'none';\n",
              "}\n",
              "\n",
              "        displayQuickchartButton(document);\n",
              "      </script>\n",
              "      <style>\n",
              "    .colab-df-container {\n",
              "      display:flex;\n",
              "      flex-wrap:wrap;\n",
              "      gap: 12px;\n",
              "    }\n",
              "\n",
              "    .colab-df-convert {\n",
              "      background-color: #E8F0FE;\n",
              "      border: none;\n",
              "      border-radius: 50%;\n",
              "      cursor: pointer;\n",
              "      display: none;\n",
              "      fill: #1967D2;\n",
              "      height: 32px;\n",
              "      padding: 0 0 0 0;\n",
              "      width: 32px;\n",
              "    }\n",
              "\n",
              "    .colab-df-convert:hover {\n",
              "      background-color: #E2EBFA;\n",
              "      box-shadow: 0px 1px 2px rgba(60, 64, 67, 0.3), 0px 1px 3px 1px rgba(60, 64, 67, 0.15);\n",
              "      fill: #174EA6;\n",
              "    }\n",
              "\n",
              "    [theme=dark] .colab-df-convert {\n",
              "      background-color: #3B4455;\n",
              "      fill: #D2E3FC;\n",
              "    }\n",
              "\n",
              "    [theme=dark] .colab-df-convert:hover {\n",
              "      background-color: #434B5C;\n",
              "      box-shadow: 0px 1px 3px 1px rgba(0, 0, 0, 0.15);\n",
              "      filter: drop-shadow(0px 1px 2px rgba(0, 0, 0, 0.3));\n",
              "      fill: #FFFFFF;\n",
              "    }\n",
              "  </style>\n",
              "\n",
              "      <script>\n",
              "        const buttonEl =\n",
              "          document.querySelector('#df-4d74b0a5-1d28-4909-a1b9-67f0af63c0f6 button.colab-df-convert');\n",
              "        buttonEl.style.display =\n",
              "          google.colab.kernel.accessAllowed ? 'block' : 'none';\n",
              "\n",
              "        async function convertToInteractive(key) {\n",
              "          const element = document.querySelector('#df-4d74b0a5-1d28-4909-a1b9-67f0af63c0f6');\n",
              "          const dataTable =\n",
              "            await google.colab.kernel.invokeFunction('convertToInteractive',\n",
              "                                                     [key], {});\n",
              "          if (!dataTable) return;\n",
              "\n",
              "          const docLinkHtml = 'Like what you see? Visit the ' +\n",
              "            '<a target=\"_blank\" href=https://colab.research.google.com/notebooks/data_table.ipynb>data table notebook</a>'\n",
              "            + ' to learn more about interactive tables.';\n",
              "          element.innerHTML = '';\n",
              "          dataTable['output_type'] = 'display_data';\n",
              "          await google.colab.output.renderOutput(dataTable, element);\n",
              "          const docLink = document.createElement('div');\n",
              "          docLink.innerHTML = docLinkHtml;\n",
              "          element.appendChild(docLink);\n",
              "        }\n",
              "      </script>\n",
              "    </div>\n",
              "  </div>\n"
            ]
          },
          "metadata": {},
          "execution_count": 41
        }
      ],
      "source": [
        "content = pd.read_excel('0809_cc_train_token.xlsx')\n",
        "train = content[['Abstract','category','toxic','token']]\n",
        "train"
      ]
    },
    {
      "cell_type": "code",
      "source": [
        "train[train['token'].isna()]"
      ],
      "metadata": {
        "colab": {
          "base_uri": "https://localhost:8080/",
          "height": 81
        },
        "id": "pxAU8JLEW1ex",
        "outputId": "43bc9905-c739-432f-c208-bfaca746c9a5"
      },
      "execution_count": 42,
      "outputs": [
        {
          "output_type": "execute_result",
          "data": {
            "text/plain": [
              "      Abstract  category     toxic token\n",
              "11694        .        16  land-use   NaN"
            ],
            "text/html": [
              "\n",
              "\n",
              "  <div id=\"df-e50987ec-43a5-4e69-bbc0-6c379a2496e1\">\n",
              "    <div class=\"colab-df-container\">\n",
              "      <div>\n",
              "<style scoped>\n",
              "    .dataframe tbody tr th:only-of-type {\n",
              "        vertical-align: middle;\n",
              "    }\n",
              "\n",
              "    .dataframe tbody tr th {\n",
              "        vertical-align: top;\n",
              "    }\n",
              "\n",
              "    .dataframe thead th {\n",
              "        text-align: right;\n",
              "    }\n",
              "</style>\n",
              "<table border=\"1\" class=\"dataframe\">\n",
              "  <thead>\n",
              "    <tr style=\"text-align: right;\">\n",
              "      <th></th>\n",
              "      <th>Abstract</th>\n",
              "      <th>category</th>\n",
              "      <th>toxic</th>\n",
              "      <th>token</th>\n",
              "    </tr>\n",
              "  </thead>\n",
              "  <tbody>\n",
              "    <tr>\n",
              "      <th>11694</th>\n",
              "      <td>.</td>\n",
              "      <td>16</td>\n",
              "      <td>land-use</td>\n",
              "      <td>NaN</td>\n",
              "    </tr>\n",
              "  </tbody>\n",
              "</table>\n",
              "</div>\n",
              "      <button class=\"colab-df-convert\" onclick=\"convertToInteractive('df-e50987ec-43a5-4e69-bbc0-6c379a2496e1')\"\n",
              "              title=\"Convert this dataframe to an interactive table.\"\n",
              "              style=\"display:none;\">\n",
              "\n",
              "  <svg xmlns=\"http://www.w3.org/2000/svg\" height=\"24px\"viewBox=\"0 0 24 24\"\n",
              "       width=\"24px\">\n",
              "    <path d=\"M0 0h24v24H0V0z\" fill=\"none\"/>\n",
              "    <path d=\"M18.56 5.44l.94 2.06.94-2.06 2.06-.94-2.06-.94-.94-2.06-.94 2.06-2.06.94zm-11 1L8.5 8.5l.94-2.06 2.06-.94-2.06-.94L8.5 2.5l-.94 2.06-2.06.94zm10 10l.94 2.06.94-2.06 2.06-.94-2.06-.94-.94-2.06-.94 2.06-2.06.94z\"/><path d=\"M17.41 7.96l-1.37-1.37c-.4-.4-.92-.59-1.43-.59-.52 0-1.04.2-1.43.59L10.3 9.45l-7.72 7.72c-.78.78-.78 2.05 0 2.83L4 21.41c.39.39.9.59 1.41.59.51 0 1.02-.2 1.41-.59l7.78-7.78 2.81-2.81c.8-.78.8-2.07 0-2.86zM5.41 20L4 18.59l7.72-7.72 1.47 1.35L5.41 20z\"/>\n",
              "  </svg>\n",
              "      </button>\n",
              "\n",
              "\n",
              "\n",
              "    <div id=\"df-39aa353e-5e28-47c3-8062-284b87b06b47\">\n",
              "      <button class=\"colab-df-quickchart\" onclick=\"quickchart('df-39aa353e-5e28-47c3-8062-284b87b06b47')\"\n",
              "              title=\"Suggest charts.\"\n",
              "              style=\"display:none;\">\n",
              "\n",
              "<svg xmlns=\"http://www.w3.org/2000/svg\" height=\"24px\"viewBox=\"0 0 24 24\"\n",
              "     width=\"24px\">\n",
              "    <g>\n",
              "        <path d=\"M19 3H5c-1.1 0-2 .9-2 2v14c0 1.1.9 2 2 2h14c1.1 0 2-.9 2-2V5c0-1.1-.9-2-2-2zM9 17H7v-7h2v7zm4 0h-2V7h2v10zm4 0h-2v-4h2v4z\"/>\n",
              "    </g>\n",
              "</svg>\n",
              "      </button>\n",
              "    </div>\n",
              "\n",
              "<style>\n",
              "  .colab-df-quickchart {\n",
              "    background-color: #E8F0FE;\n",
              "    border: none;\n",
              "    border-radius: 50%;\n",
              "    cursor: pointer;\n",
              "    display: none;\n",
              "    fill: #1967D2;\n",
              "    height: 32px;\n",
              "    padding: 0 0 0 0;\n",
              "    width: 32px;\n",
              "  }\n",
              "\n",
              "  .colab-df-quickchart:hover {\n",
              "    background-color: #E2EBFA;\n",
              "    box-shadow: 0px 1px 2px rgba(60, 64, 67, 0.3), 0px 1px 3px 1px rgba(60, 64, 67, 0.15);\n",
              "    fill: #174EA6;\n",
              "  }\n",
              "\n",
              "  [theme=dark] .colab-df-quickchart {\n",
              "    background-color: #3B4455;\n",
              "    fill: #D2E3FC;\n",
              "  }\n",
              "\n",
              "  [theme=dark] .colab-df-quickchart:hover {\n",
              "    background-color: #434B5C;\n",
              "    box-shadow: 0px 1px 3px 1px rgba(0, 0, 0, 0.15);\n",
              "    filter: drop-shadow(0px 1px 2px rgba(0, 0, 0, 0.3));\n",
              "    fill: #FFFFFF;\n",
              "  }\n",
              "</style>\n",
              "\n",
              "    <script>\n",
              "      async function quickchart(key) {\n",
              "        const containerElement = document.querySelector('#' + key);\n",
              "        const charts = await google.colab.kernel.invokeFunction(\n",
              "            'suggestCharts', [key], {});\n",
              "      }\n",
              "    </script>\n",
              "\n",
              "      <script>\n",
              "\n",
              "function displayQuickchartButton(domScope) {\n",
              "  let quickchartButtonEl =\n",
              "    domScope.querySelector('#df-39aa353e-5e28-47c3-8062-284b87b06b47 button.colab-df-quickchart');\n",
              "  quickchartButtonEl.style.display =\n",
              "    google.colab.kernel.accessAllowed ? 'block' : 'none';\n",
              "}\n",
              "\n",
              "        displayQuickchartButton(document);\n",
              "      </script>\n",
              "      <style>\n",
              "    .colab-df-container {\n",
              "      display:flex;\n",
              "      flex-wrap:wrap;\n",
              "      gap: 12px;\n",
              "    }\n",
              "\n",
              "    .colab-df-convert {\n",
              "      background-color: #E8F0FE;\n",
              "      border: none;\n",
              "      border-radius: 50%;\n",
              "      cursor: pointer;\n",
              "      display: none;\n",
              "      fill: #1967D2;\n",
              "      height: 32px;\n",
              "      padding: 0 0 0 0;\n",
              "      width: 32px;\n",
              "    }\n",
              "\n",
              "    .colab-df-convert:hover {\n",
              "      background-color: #E2EBFA;\n",
              "      box-shadow: 0px 1px 2px rgba(60, 64, 67, 0.3), 0px 1px 3px 1px rgba(60, 64, 67, 0.15);\n",
              "      fill: #174EA6;\n",
              "    }\n",
              "\n",
              "    [theme=dark] .colab-df-convert {\n",
              "      background-color: #3B4455;\n",
              "      fill: #D2E3FC;\n",
              "    }\n",
              "\n",
              "    [theme=dark] .colab-df-convert:hover {\n",
              "      background-color: #434B5C;\n",
              "      box-shadow: 0px 1px 3px 1px rgba(0, 0, 0, 0.15);\n",
              "      filter: drop-shadow(0px 1px 2px rgba(0, 0, 0, 0.3));\n",
              "      fill: #FFFFFF;\n",
              "    }\n",
              "  </style>\n",
              "\n",
              "      <script>\n",
              "        const buttonEl =\n",
              "          document.querySelector('#df-e50987ec-43a5-4e69-bbc0-6c379a2496e1 button.colab-df-convert');\n",
              "        buttonEl.style.display =\n",
              "          google.colab.kernel.accessAllowed ? 'block' : 'none';\n",
              "\n",
              "        async function convertToInteractive(key) {\n",
              "          const element = document.querySelector('#df-e50987ec-43a5-4e69-bbc0-6c379a2496e1');\n",
              "          const dataTable =\n",
              "            await google.colab.kernel.invokeFunction('convertToInteractive',\n",
              "                                                     [key], {});\n",
              "          if (!dataTable) return;\n",
              "\n",
              "          const docLinkHtml = 'Like what you see? Visit the ' +\n",
              "            '<a target=\"_blank\" href=https://colab.research.google.com/notebooks/data_table.ipynb>data table notebook</a>'\n",
              "            + ' to learn more about interactive tables.';\n",
              "          element.innerHTML = '';\n",
              "          dataTable['output_type'] = 'display_data';\n",
              "          await google.colab.output.renderOutput(dataTable, element);\n",
              "          const docLink = document.createElement('div');\n",
              "          docLink.innerHTML = docLinkHtml;\n",
              "          element.appendChild(docLink);\n",
              "        }\n",
              "      </script>\n",
              "    </div>\n",
              "  </div>\n"
            ]
          },
          "metadata": {},
          "execution_count": 42
        }
      ]
    },
    {
      "cell_type": "code",
      "source": [
        "train = train.dropna(axis=0)\n",
        "train"
      ],
      "metadata": {
        "colab": {
          "base_uri": "https://localhost:8080/",
          "height": 424
        },
        "id": "QzVhFtUqYA_S",
        "outputId": "9c61f9e5-d883-4af6-eb33-47ed4151766e"
      },
      "execution_count": 43,
      "outputs": [
        {
          "output_type": "execute_result",
          "data": {
            "text/plain": [
              "                                                Abstract  category  \\\n",
              "0      Fossil fuel consumption, luxurious lifestyles,...        11   \n",
              "1      Global climate change is a change in the long-...        11   \n",
              "2      Many policy-makers view nuclear power as a mit...        11   \n",
              "3      The climate varies on multiple timescales, but...        11   \n",
              "4      Innovative digital twins (DTs) that allow engi...        11   \n",
              "...                                                  ...       ...   \n",
              "15088  It is of importance to realize high-efficiency...        24   \n",
              "15089  The co-firing of various ultra-low volatile co...        24   \n",
              "15090  The deployment of CO2 capture and storage (or ...        24   \n",
              "15091  There are a few economy and power industry dec...        24   \n",
              "15092  Latent heat thermal energy storage (LHTES) alw...        24   \n",
              "\n",
              "             toxic                                              token  \n",
              "0           energy  fossil fuel consumption luxurious lifestyle po...  \n",
              "1           energy  global climate-change change long-term weather...  \n",
              "2           energy  many policy-maker view nuclear power mitigatio...  \n",
              "3           energy  climate vary multiple timescale human main age...  \n",
              "4           energy  innovative digital twin Dt engineer visualise ...  \n",
              "...            ...                                                ...  \n",
              "15088  heat island  importance high-efficiency clean utilization f...  \n",
              "15089  heat island  co-firing various ultra-low volatile coal-base...  \n",
              "15090  heat island  deployment CO2 capture storage carbon capture ...  \n",
              "15091  heat island  economy power industry decarbonization line co...  \n",
              "15092  heat island  latent heat thermal energy storage LHTE phase ...  \n",
              "\n",
              "[15092 rows x 4 columns]"
            ],
            "text/html": [
              "\n",
              "\n",
              "  <div id=\"df-b1db470d-6c09-451f-b79b-51c61d2d8533\">\n",
              "    <div class=\"colab-df-container\">\n",
              "      <div>\n",
              "<style scoped>\n",
              "    .dataframe tbody tr th:only-of-type {\n",
              "        vertical-align: middle;\n",
              "    }\n",
              "\n",
              "    .dataframe tbody tr th {\n",
              "        vertical-align: top;\n",
              "    }\n",
              "\n",
              "    .dataframe thead th {\n",
              "        text-align: right;\n",
              "    }\n",
              "</style>\n",
              "<table border=\"1\" class=\"dataframe\">\n",
              "  <thead>\n",
              "    <tr style=\"text-align: right;\">\n",
              "      <th></th>\n",
              "      <th>Abstract</th>\n",
              "      <th>category</th>\n",
              "      <th>toxic</th>\n",
              "      <th>token</th>\n",
              "    </tr>\n",
              "  </thead>\n",
              "  <tbody>\n",
              "    <tr>\n",
              "      <th>0</th>\n",
              "      <td>Fossil fuel consumption, luxurious lifestyles,...</td>\n",
              "      <td>11</td>\n",
              "      <td>energy</td>\n",
              "      <td>fossil fuel consumption luxurious lifestyle po...</td>\n",
              "    </tr>\n",
              "    <tr>\n",
              "      <th>1</th>\n",
              "      <td>Global climate change is a change in the long-...</td>\n",
              "      <td>11</td>\n",
              "      <td>energy</td>\n",
              "      <td>global climate-change change long-term weather...</td>\n",
              "    </tr>\n",
              "    <tr>\n",
              "      <th>2</th>\n",
              "      <td>Many policy-makers view nuclear power as a mit...</td>\n",
              "      <td>11</td>\n",
              "      <td>energy</td>\n",
              "      <td>many policy-maker view nuclear power mitigatio...</td>\n",
              "    </tr>\n",
              "    <tr>\n",
              "      <th>3</th>\n",
              "      <td>The climate varies on multiple timescales, but...</td>\n",
              "      <td>11</td>\n",
              "      <td>energy</td>\n",
              "      <td>climate vary multiple timescale human main age...</td>\n",
              "    </tr>\n",
              "    <tr>\n",
              "      <th>4</th>\n",
              "      <td>Innovative digital twins (DTs) that allow engi...</td>\n",
              "      <td>11</td>\n",
              "      <td>energy</td>\n",
              "      <td>innovative digital twin Dt engineer visualise ...</td>\n",
              "    </tr>\n",
              "    <tr>\n",
              "      <th>...</th>\n",
              "      <td>...</td>\n",
              "      <td>...</td>\n",
              "      <td>...</td>\n",
              "      <td>...</td>\n",
              "    </tr>\n",
              "    <tr>\n",
              "      <th>15088</th>\n",
              "      <td>It is of importance to realize high-efficiency...</td>\n",
              "      <td>24</td>\n",
              "      <td>heat island</td>\n",
              "      <td>importance high-efficiency clean utilization f...</td>\n",
              "    </tr>\n",
              "    <tr>\n",
              "      <th>15089</th>\n",
              "      <td>The co-firing of various ultra-low volatile co...</td>\n",
              "      <td>24</td>\n",
              "      <td>heat island</td>\n",
              "      <td>co-firing various ultra-low volatile coal-base...</td>\n",
              "    </tr>\n",
              "    <tr>\n",
              "      <th>15090</th>\n",
              "      <td>The deployment of CO2 capture and storage (or ...</td>\n",
              "      <td>24</td>\n",
              "      <td>heat island</td>\n",
              "      <td>deployment CO2 capture storage carbon capture ...</td>\n",
              "    </tr>\n",
              "    <tr>\n",
              "      <th>15091</th>\n",
              "      <td>There are a few economy and power industry dec...</td>\n",
              "      <td>24</td>\n",
              "      <td>heat island</td>\n",
              "      <td>economy power industry decarbonization line co...</td>\n",
              "    </tr>\n",
              "    <tr>\n",
              "      <th>15092</th>\n",
              "      <td>Latent heat thermal energy storage (LHTES) alw...</td>\n",
              "      <td>24</td>\n",
              "      <td>heat island</td>\n",
              "      <td>latent heat thermal energy storage LHTE phase ...</td>\n",
              "    </tr>\n",
              "  </tbody>\n",
              "</table>\n",
              "<p>15092 rows × 4 columns</p>\n",
              "</div>\n",
              "      <button class=\"colab-df-convert\" onclick=\"convertToInteractive('df-b1db470d-6c09-451f-b79b-51c61d2d8533')\"\n",
              "              title=\"Convert this dataframe to an interactive table.\"\n",
              "              style=\"display:none;\">\n",
              "\n",
              "  <svg xmlns=\"http://www.w3.org/2000/svg\" height=\"24px\"viewBox=\"0 0 24 24\"\n",
              "       width=\"24px\">\n",
              "    <path d=\"M0 0h24v24H0V0z\" fill=\"none\"/>\n",
              "    <path d=\"M18.56 5.44l.94 2.06.94-2.06 2.06-.94-2.06-.94-.94-2.06-.94 2.06-2.06.94zm-11 1L8.5 8.5l.94-2.06 2.06-.94-2.06-.94L8.5 2.5l-.94 2.06-2.06.94zm10 10l.94 2.06.94-2.06 2.06-.94-2.06-.94-.94-2.06-.94 2.06-2.06.94z\"/><path d=\"M17.41 7.96l-1.37-1.37c-.4-.4-.92-.59-1.43-.59-.52 0-1.04.2-1.43.59L10.3 9.45l-7.72 7.72c-.78.78-.78 2.05 0 2.83L4 21.41c.39.39.9.59 1.41.59.51 0 1.02-.2 1.41-.59l7.78-7.78 2.81-2.81c.8-.78.8-2.07 0-2.86zM5.41 20L4 18.59l7.72-7.72 1.47 1.35L5.41 20z\"/>\n",
              "  </svg>\n",
              "      </button>\n",
              "\n",
              "\n",
              "\n",
              "    <div id=\"df-6026ac95-8a5d-40bd-8590-516daa536f9e\">\n",
              "      <button class=\"colab-df-quickchart\" onclick=\"quickchart('df-6026ac95-8a5d-40bd-8590-516daa536f9e')\"\n",
              "              title=\"Suggest charts.\"\n",
              "              style=\"display:none;\">\n",
              "\n",
              "<svg xmlns=\"http://www.w3.org/2000/svg\" height=\"24px\"viewBox=\"0 0 24 24\"\n",
              "     width=\"24px\">\n",
              "    <g>\n",
              "        <path d=\"M19 3H5c-1.1 0-2 .9-2 2v14c0 1.1.9 2 2 2h14c1.1 0 2-.9 2-2V5c0-1.1-.9-2-2-2zM9 17H7v-7h2v7zm4 0h-2V7h2v10zm4 0h-2v-4h2v4z\"/>\n",
              "    </g>\n",
              "</svg>\n",
              "      </button>\n",
              "    </div>\n",
              "\n",
              "<style>\n",
              "  .colab-df-quickchart {\n",
              "    background-color: #E8F0FE;\n",
              "    border: none;\n",
              "    border-radius: 50%;\n",
              "    cursor: pointer;\n",
              "    display: none;\n",
              "    fill: #1967D2;\n",
              "    height: 32px;\n",
              "    padding: 0 0 0 0;\n",
              "    width: 32px;\n",
              "  }\n",
              "\n",
              "  .colab-df-quickchart:hover {\n",
              "    background-color: #E2EBFA;\n",
              "    box-shadow: 0px 1px 2px rgba(60, 64, 67, 0.3), 0px 1px 3px 1px rgba(60, 64, 67, 0.15);\n",
              "    fill: #174EA6;\n",
              "  }\n",
              "\n",
              "  [theme=dark] .colab-df-quickchart {\n",
              "    background-color: #3B4455;\n",
              "    fill: #D2E3FC;\n",
              "  }\n",
              "\n",
              "  [theme=dark] .colab-df-quickchart:hover {\n",
              "    background-color: #434B5C;\n",
              "    box-shadow: 0px 1px 3px 1px rgba(0, 0, 0, 0.15);\n",
              "    filter: drop-shadow(0px 1px 2px rgba(0, 0, 0, 0.3));\n",
              "    fill: #FFFFFF;\n",
              "  }\n",
              "</style>\n",
              "\n",
              "    <script>\n",
              "      async function quickchart(key) {\n",
              "        const containerElement = document.querySelector('#' + key);\n",
              "        const charts = await google.colab.kernel.invokeFunction(\n",
              "            'suggestCharts', [key], {});\n",
              "      }\n",
              "    </script>\n",
              "\n",
              "      <script>\n",
              "\n",
              "function displayQuickchartButton(domScope) {\n",
              "  let quickchartButtonEl =\n",
              "    domScope.querySelector('#df-6026ac95-8a5d-40bd-8590-516daa536f9e button.colab-df-quickchart');\n",
              "  quickchartButtonEl.style.display =\n",
              "    google.colab.kernel.accessAllowed ? 'block' : 'none';\n",
              "}\n",
              "\n",
              "        displayQuickchartButton(document);\n",
              "      </script>\n",
              "      <style>\n",
              "    .colab-df-container {\n",
              "      display:flex;\n",
              "      flex-wrap:wrap;\n",
              "      gap: 12px;\n",
              "    }\n",
              "\n",
              "    .colab-df-convert {\n",
              "      background-color: #E8F0FE;\n",
              "      border: none;\n",
              "      border-radius: 50%;\n",
              "      cursor: pointer;\n",
              "      display: none;\n",
              "      fill: #1967D2;\n",
              "      height: 32px;\n",
              "      padding: 0 0 0 0;\n",
              "      width: 32px;\n",
              "    }\n",
              "\n",
              "    .colab-df-convert:hover {\n",
              "      background-color: #E2EBFA;\n",
              "      box-shadow: 0px 1px 2px rgba(60, 64, 67, 0.3), 0px 1px 3px 1px rgba(60, 64, 67, 0.15);\n",
              "      fill: #174EA6;\n",
              "    }\n",
              "\n",
              "    [theme=dark] .colab-df-convert {\n",
              "      background-color: #3B4455;\n",
              "      fill: #D2E3FC;\n",
              "    }\n",
              "\n",
              "    [theme=dark] .colab-df-convert:hover {\n",
              "      background-color: #434B5C;\n",
              "      box-shadow: 0px 1px 3px 1px rgba(0, 0, 0, 0.15);\n",
              "      filter: drop-shadow(0px 1px 2px rgba(0, 0, 0, 0.3));\n",
              "      fill: #FFFFFF;\n",
              "    }\n",
              "  </style>\n",
              "\n",
              "      <script>\n",
              "        const buttonEl =\n",
              "          document.querySelector('#df-b1db470d-6c09-451f-b79b-51c61d2d8533 button.colab-df-convert');\n",
              "        buttonEl.style.display =\n",
              "          google.colab.kernel.accessAllowed ? 'block' : 'none';\n",
              "\n",
              "        async function convertToInteractive(key) {\n",
              "          const element = document.querySelector('#df-b1db470d-6c09-451f-b79b-51c61d2d8533');\n",
              "          const dataTable =\n",
              "            await google.colab.kernel.invokeFunction('convertToInteractive',\n",
              "                                                     [key], {});\n",
              "          if (!dataTable) return;\n",
              "\n",
              "          const docLinkHtml = 'Like what you see? Visit the ' +\n",
              "            '<a target=\"_blank\" href=https://colab.research.google.com/notebooks/data_table.ipynb>data table notebook</a>'\n",
              "            + ' to learn more about interactive tables.';\n",
              "          element.innerHTML = '';\n",
              "          dataTable['output_type'] = 'display_data';\n",
              "          await google.colab.output.renderOutput(dataTable, element);\n",
              "          const docLink = document.createElement('div');\n",
              "          docLink.innerHTML = docLinkHtml;\n",
              "          element.appendChild(docLink);\n",
              "        }\n",
              "      </script>\n",
              "    </div>\n",
              "  </div>\n"
            ]
          },
          "metadata": {},
          "execution_count": 43
        }
      ]
    },
    {
      "cell_type": "code",
      "source": [
        "sorted(train.category.unique())"
      ],
      "metadata": {
        "colab": {
          "base_uri": "https://localhost:8080/"
        },
        "id": "2a66nAetV_Y3",
        "outputId": "00ff9bd1-86a7-4941-b5ad-d6591d4ecaa4"
      },
      "execution_count": 23,
      "outputs": [
        {
          "output_type": "execute_result",
          "data": {
            "text/plain": [
              "[11, 12, 13, 14, 15, 16, 21, 22, 23, 24]"
            ]
          },
          "metadata": {},
          "execution_count": 23
        }
      ]
    },
    {
      "cell_type": "code",
      "execution_count": 46,
      "metadata": {
        "colab": {
          "base_uri": "https://localhost:8080/"
        },
        "id": "9B1XcMK5T2xq",
        "outputId": "89057499-5544-4b5f-de1a-4dacca3bd018"
      },
      "outputs": [
        {
          "output_type": "stream",
          "name": "stdout",
          "text": [
            "358\n",
            "400\n"
          ]
        }
      ],
      "source": [
        "print(train['token'].apply(lambda x:len(str(x).split())).max())\n",
        "max_len = (round(train['token'].apply(lambda x:len(str(x).split())).max()/100)*100)\n",
        "print(max_len)"
      ]
    },
    {
      "cell_type": "code",
      "execution_count": 45,
      "metadata": {
        "id": "M9AIeEsWT2xq"
      },
      "outputs": [],
      "source": [
        "xtrain, xvalid, ytrain, yvalid = train_test_split(train.token.values, train.category.values,\n",
        "                                                  stratify=train.category.values,\n",
        "                                                  random_state=42,\n",
        "                                                  test_size=0.2, shuffle=True)"
      ]
    },
    {
      "cell_type": "code",
      "source": [
        "xtrain"
      ],
      "metadata": {
        "colab": {
          "base_uri": "https://localhost:8080/"
        },
        "id": "mHF3in8ZWNQD",
        "outputId": "cc002c60-6e28-4760-f7a0-4a1bc1ff0e03"
      },
      "execution_count": 47,
      "outputs": [
        {
          "output_type": "execute_result",
          "data": {
            "text/plain": [
              "array(['eco-city project prevalent globe new urban environment sustainable urban environmental-economic transition low-carbon technological industrial base article argue need thermal aspect urban metabolism time individual building eco-city master plan economic development strategy state level article critical eco-city design focus role specific building structure eco-city political ecology scale stretch specific climatic characteristic metabolic master plan eco-city provincial regional state-level plan integration eco-city wider economic political development trajectory article focus masdar abu dhabus eco-city construction time',\n",
              "       'anticipate challenge wind industry standardize wind infrastructure expiration respective approval period energy climate target german federal government challenge context sustainability potential concept deconstruction infrastructure replacement ii operation plant iii newer modernize plant re-powering re-powering infrastructure innovative technology hydrogen work concept analyze risk additional feasibility cost-effectiveness predictability technological progress security discuss quantitative risk resilience specific risk extreme weather condition cause climate-change synthetic wave height data generate corresponding load change wind farm end-of-life option resilience indicator exemplary measure energy output key performance indicator',\n",
              "       'carbon sulfur dioxide SO2 nitrogen oxide NOX emission energy system IES low carbon optimization strategy IES account carbon SO2 NOX emission firstly hydrogen production storage use equipment methane reactor electrolysis tank hydrogen fuel cell hydrogen energy storage traditional IES multi-energy complementary system electricity gas thermal hydrogen stepped carbon trading mechanism model emission SO2 NOX finally pollutant emission model heat power unit hydrogen fuel cell adjustable thermoelectric ratio account air pollutant emission optimal low-carbon operation IES scenario lowest cost carbon trading lowest penalty cost SO2 NOX emission total operation cost objective function show strategy effective air pollutant emission energy system output CHP HFC adjustable thermoelectric ratio flexible carbon-reduction pollutant emission reduction author publish open access article climate-change BY-NC-ND license http creativecommon org license by-nc-nd',\n",
              "       ...,\n",
              "       'expert elicitation bottom-up manufacturing cost model demand subsidy future cost low-carbon energy technology available organic photovoltaic PV successful enable PV cost target kwh cost PV reach target subsidy production-related technological advance-learning-by-doing economy scale-are critical long-term potential cost reduction organic PV investment success insensitive level policy intensity level carbon price availability storage technology uncertainty main parameter model case subsidy comparison stochastic dominance show subsidy hedge failure program',\n",
              "       'physical health important economic development improvement standard indoor treadmill popular traditional treadmill drive system many drawback order meet requirement low-carbon environmental protection necessary electromagnetic control system capable generation traditional treadmill drive system therefore treadmill use PWM mode electromagnetic damping guarantee accuracy adjustment movement process system integrated intelligent management data function enhance practicability treadmill large number treadmill electricity generate treadmill large alleviate energy shortage',\n",
              "       'electrochemical impedance spectroscopic technique EI local electrochemical impedance spectroscopic technique LEIS investigate corrosion zinc-nickel chromate conversion carbon steel measurement conduct chloride medium mm nacl solution artificial defect electrical equivalent circuit analyze EI spectrum nacl solution LEIS vicinity scratch carbon steel corrosive solution local impedance measurement useful characterize situ electrochemical reactivity defect'],\n",
              "      dtype=object)"
            ]
          },
          "metadata": {},
          "execution_count": 47
        }
      ]
    },
    {
      "cell_type": "code",
      "source": [
        "xvalid"
      ],
      "metadata": {
        "colab": {
          "base_uri": "https://localhost:8080/"
        },
        "id": "rOAjEbkPWP7A",
        "outputId": "5d7a9595-2685-4889-f3ec-488a46edd792"
      },
      "execution_count": 48,
      "outputs": [
        {
          "output_type": "execute_result",
          "data": {
            "text/plain": [
              "array(['urban heat island UHU heat foster biophysical hazard heat stress air pollution public health problem mitigation strategy vegetative cover higher albedo material atlantum georgia extreme heat better understand heat island relate weather modification objective characterize temporal variation magnitude UHU metro atlantum area climatological attribute UHU high temperature condition atlantum summer june july august period conduct theoretical numerical simulation first-order mitigation strategy period 1984-2007 climatological mean UHU magnitude atlanta-athen athens-monticello 71UM degree significant minimum temperature trend 70UM degree decade athen 79UM degree decade monticello atlantum minimum temperature unchanged largest smallest UHU magnitude spring summer cloud-radiative cycle heat atlantum year 1984-2007 summertime phenomenon mean number heat event atlantum heat year average atlantum heat wave day bit variability standard deviation mean maximum temperature atlantum heat 85UM degree atlanta-athen UHU larger heat atlanta-monticello UHU model simulation daytime nocturnal uhus heat condition sensitivity increase atlantum surface vegetation albedo UHU surface temperature mitigation technological standpoint low feasibility albedo foreseeable future vegetation likely choice surface temperature',\n",
              "       'strategy resilience forest climate-change increase number species spread risk range biotic abiotic hazard strategy case area forest new zealand scotland performance major tree species radium pine eucalyptus new zealand sitka scot pine scotland process-based model 3-PG2 used simulate climate-change end century CO2 fertilisation productivity financial return abiotic hazard biotic hazard current climate major species alternative circumstance climate-change relative performance alter new zealand fastigatum become attractive various hazard elevate CO2 concentration scotland scot attractive sitka spruce lower interest rate major plantation species country current climate deployment alternative species help adapt forest climate-change',\n",
              "       'low-carbon methane CH4 CO2 hydrogenation option greenhouse gas greenhous-gas emission carbon-intensive fossil fuel-based energy production catalytic performance low tempera-ture improved large-scale implementation work hydroxyapatite HAP alternative catalyst support validate performance CO2 hydrogenation CH4 addition time literature influence process condition temperature gas space velocity nus metal load performance hap-support catalyst investigate semi-pilot scale CO2 conversion degree thermodynamic limitation hydrogenation reaction ni-based catalyst present best performance CO2 hydrogenation maximum CO2 conversion optimize condition wt nus degree GHSV CH4 selectivity CO2 production degree long-term operation HAP semi-pilot scale show robust performance CO2 conversion CH4 selectivity sign catalyst deactivation performance hap-based catalyst demonstrate feasibility HAP alternative catalyst support CO2 hydrogenation potential process hap-support catalyst',\n",
              "       ...,\n",
              "       'energy storage system cost-effectively balance fluctuation renewable generation dam flexibility massive fluctuation flow release ecology downstream river expanding transmission infrastructure flexibility source social opposition decision-making process transcend cost multi-objective framework design renewable power system total cost new transmission project multi-stakeholder perspective chilean power system year trade-off curve pareto identify implication different stakeholder avoiding new transmission generate little cost transmission cost positive planner negative transmission company severe mitigate additional cost transmission avoiding transmission extreme scenario less transmission solar storage technology cheap solar storage system enable policymaker limit new transmission system greener acceptable',\n",
              "       'increase global climate disaster people concerned low carbon economy poly-silicon representative industry low carbon economy become focus low carbon economy production process consume great deal energy excessive waste poisonous fluid sicl4 aim poly-silicon industry planning energy hungry pollution intensive link seek solution control optimization select optimize main fuzzy chance-constrained model complete industry chain system dynamics world natural cultural heritage area leshan show decision improved insight model provide',\n",
              "       'resilience climate-change priority government indonesia climate-change significant agricultural sector global gross domestic product java island center food production strategic location strong food availability indonesia study provide information status vulnerability system food district city level java island determinant level vulnerability soil fertility water availability demand socio-economy expressed term exposure sensitivity index adaptation capacity index quadrant method show district city java high level vulnerability main determinant identify java ratio number extension agent number farmer group rice field area consumption ratio total carbohydrate food study reference priority location adaptation program action climate-change'],\n",
              "      dtype=object)"
            ]
          },
          "metadata": {},
          "execution_count": 48
        }
      ]
    },
    {
      "cell_type": "code",
      "execution_count": 49,
      "metadata": {
        "id": "Sjtp-BEyT2xw"
      },
      "outputs": [],
      "source": [
        "# using keras tokenizer here\n",
        "token = text.Tokenizer(num_words=None)\n",
        "# max_len = 1000\n",
        "\n",
        "token.fit_on_texts(list(xtrain) + list(xvalid))\n",
        "xtrain_seq = token.texts_to_sequences(xtrain)\n",
        "xvalid_seq = token.texts_to_sequences(xvalid)\n",
        "\n",
        "#zero pad the sequences\n",
        "xtrain_pad = pad_sequences(xtrain_seq, maxlen=max_len)\n",
        "xvalid_pad = pad_sequences(xvalid_seq, maxlen=max_len)\n",
        "\n",
        "word_index = token.word_index"
      ]
    },
    {
      "cell_type": "code",
      "execution_count": 50,
      "metadata": {
        "colab": {
          "base_uri": "https://localhost:8080/"
        },
        "id": "89PM9FqbT2xw",
        "outputId": "6074ee81-1b6a-4b72-81e3-45c263a1aafe"
      },
      "outputs": [
        {
          "output_type": "stream",
          "name": "stdout",
          "text": [
            "Vocabulary size=34260\n",
            "Number of Answers=15092\n"
          ]
        }
      ],
      "source": [
        "# Calculating the Vocabulary Size and the number of Answers\n",
        "\n",
        "print(\"Vocabulary size={}\".format(len(token.word_index)))\n",
        "print(\"Number of Answers={}\".format(token.document_count))"
      ]
    },
    {
      "cell_type": "code",
      "execution_count": 51,
      "metadata": {
        "id": "hLoHNEIQT2xw"
      },
      "outputs": [],
      "source": [
        "le = LabelEncoder()\n",
        "num_classes=len(train.category.unique()) # 1 = Society & Culture 2 = Science & Mathematics 3 = Health 4 = Education & Reference 5 = Computers & Internet 6 = Sports 7 = Business & Finance 8 = Entertainment & Music 9 = Family & Relationships 10 = Politics & Government\n",
        "\n",
        "ytrain = le.fit_transform(ytrain)\n",
        "yvalid = le.transform(yvalid)\n",
        "\n",
        "ytrain = to_categorical(ytrain)\n",
        "yvalid = to_categorical(yvalid)"
      ]
    },
    {
      "cell_type": "code",
      "execution_count": 52,
      "metadata": {
        "colab": {
          "base_uri": "https://localhost:8080/"
        },
        "id": "GNzrQPcST2xx",
        "outputId": "d12aa74e-5868-4b6c-ce31-63c2408ca47e"
      },
      "outputs": [
        {
          "output_type": "execute_result",
          "data": {
            "text/plain": [
              "array([[0., 0., 0., ..., 0., 0., 0.],\n",
              "       [1., 0., 0., ..., 0., 0., 0.],\n",
              "       [1., 0., 0., ..., 0., 0., 0.],\n",
              "       ...,\n",
              "       [1., 0., 0., ..., 0., 0., 0.],\n",
              "       [1., 0., 0., ..., 0., 0., 0.],\n",
              "       [1., 0., 0., ..., 0., 0., 0.]], dtype=float32)"
            ]
          },
          "metadata": {},
          "execution_count": 52
        }
      ],
      "source": [
        "ytrain"
      ]
    },
    {
      "cell_type": "code",
      "execution_count": 53,
      "metadata": {
        "colab": {
          "base_uri": "https://localhost:8080/"
        },
        "id": "XQ19dtI1T2xx",
        "outputId": "267a4ed0-6476-4323-fecb-a7e3ea06f96c"
      },
      "outputs": [
        {
          "output_type": "execute_result",
          "data": {
            "text/plain": [
              "(12073, 10)"
            ]
          },
          "metadata": {},
          "execution_count": 53
        }
      ],
      "source": [
        "ytrain.shape"
      ]
    },
    {
      "cell_type": "markdown",
      "metadata": {
        "id": "tMkCb43mT2xx"
      },
      "source": [
        "# Word Embeddings\n",
        "\n",
        "While building our simple RNN models we talked about using word-embeddings , So what is word-embeddings and how do we get word-embeddings?\n",
        "Here is the answer :\n",
        "* https://www.coursera.org/learn/nlp-sequence-models/lecture/6Oq70/word-representation\n",
        "* https://machinelearningmastery.com/what-are-word-embeddings/\n",
        "<br> <br>\n",
        "The latest approach to getting word Embeddings is using pretained GLoVe or using Fasttext. Without going into too much details, I would explain how to create sentence vectors and how can we use them to create a machine learning model on top of it and since I am a fan of GloVe vectors, word2vec and fasttext. In this Notebook, I'll be using the GloVe vectors. You can download the GloVe vectors from here http://www-nlp.stanford.edu/data/glove.840B.300d.zip or you can search for GloVe in datasets on Kaggle and add the file"
      ]
    },
    {
      "cell_type": "code",
      "execution_count": 55,
      "metadata": {
        "colab": {
          "base_uri": "https://localhost:8080/"
        },
        "id": "WkvRzfeOT2xx",
        "outputId": "fc795b28-fa3e-4d37-844c-5dfef94db0e9"
      },
      "outputs": [
        {
          "output_type": "stream",
          "name": "stderr",
          "text": [
            "400001it [01:07, 5923.51it/s]"
          ]
        },
        {
          "output_type": "stream",
          "name": "stdout",
          "text": [
            "Found 400001 word vectors.\n"
          ]
        },
        {
          "output_type": "stream",
          "name": "stderr",
          "text": [
            "\n"
          ]
        }
      ],
      "source": [
        "# load the GloVe vectors in a dictionary:\n",
        "\n",
        "embeddings_index = {}\n",
        "f = open('glove.6B.300d.txt','r',encoding='utf-8')\n",
        "for line in tqdm(f):\n",
        "    values = line.split(' ')\n",
        "    word = values[0]\n",
        "    coefs = np.asarray([float(val) for val in values[1:]])\n",
        "    embeddings_index[word] = coefs\n",
        "f.close()\n",
        "\n",
        "print('Found %s word vectors.' % len(embeddings_index))"
      ]
    },
    {
      "cell_type": "markdown",
      "metadata": {
        "id": "BCxFS4KbT2xx"
      },
      "source": [
        "# LSTM's\n",
        "\n",
        "## Basic Overview\n",
        "\n",
        "Simple RNN's were certainly better than classical ML algorithms and gave state of the art results, but it failed to capture long term dependencies that is present in sentences . So in 1998-99 LSTM's were introduced to counter to these drawbacks.\n",
        "\n",
        "## In Depth Understanding\n",
        "\n",
        "Why LSTM's?\n",
        "* https://www.coursera.org/learn/nlp-sequence-models/lecture/PKMRR/vanishing-gradients-with-rnns\n",
        "* https://www.analyticsvidhya.com/blog/2017/12/fundamentals-of-deep-learning-introduction-to-lstm/\n",
        "\n",
        "What are LSTM's?\n",
        "* https://www.coursera.org/learn/nlp-sequence-models/lecture/KXoay/long-short-term-memory-lstm\n",
        "* https://distill.pub/2019/memorization-in-rnns/\n",
        "* https://towardsdatascience.com/illustrated-guide-to-lstms-and-gru-s-a-step-by-step-explanation-44e9eb85bf21\n",
        "\n",
        "# Code Implementation\n",
        "\n",
        "We have already tokenized and paded our text for input to LSTM's"
      ]
    },
    {
      "cell_type": "code",
      "execution_count": 56,
      "metadata": {
        "colab": {
          "base_uri": "https://localhost:8080/"
        },
        "id": "faA09xo8T2xx",
        "outputId": "9395b584-3876-4459-8ae8-ba731645e3d2"
      },
      "outputs": [
        {
          "output_type": "stream",
          "name": "stderr",
          "text": [
            "100%|██████████| 34260/34260 [00:00<00:00, 109987.63it/s]\n"
          ]
        }
      ],
      "source": [
        "# create an embedding matrix for the words we have in the dataset\n",
        "embedding_matrix = np.zeros((len(word_index) + 1, 300)) # 300은 차원 수\n",
        "for word, i in tqdm(word_index.items()):\n",
        "    embedding_vector = embeddings_index.get(word)\n",
        "    if embedding_vector is not None:\n",
        "        embedding_matrix[i] = embedding_vector"
      ]
    },
    {
      "cell_type": "markdown",
      "metadata": {
        "id": "yis1gM8KT2xx"
      },
      "source": [
        "LSTM(n, input_dim = k, input_length = k)\n",
        "\n",
        "n : 메모리 셀의 개수(기억용량, 출력형태를 결정함)"
      ]
    },
    {
      "cell_type": "code",
      "execution_count": 57,
      "metadata": {
        "colab": {
          "base_uri": "https://localhost:8080/"
        },
        "id": "ncpBvWDST2xx",
        "outputId": "593fb021-02f1-4d6d-e4a3-09edff4dba7d"
      },
      "outputs": [
        {
          "output_type": "stream",
          "name": "stdout",
          "text": [
            "Model: \"sequential\"\n",
            "_________________________________________________________________\n",
            " Layer (type)                Output Shape              Param #   \n",
            "=================================================================\n",
            " embedding (Embedding)       (None, 400, 300)          10278300  \n",
            "                                                                 \n",
            " lstm (LSTM)                 (None, 256)               570368    \n",
            "                                                                 \n",
            " dense (Dense)               (None, 128)               32896     \n",
            "                                                                 \n",
            " dense_1 (Dense)             (None, 10)                1290      \n",
            "                                                                 \n",
            "=================================================================\n",
            "Total params: 10,882,854\n",
            "Trainable params: 604,554\n",
            "Non-trainable params: 10,278,300\n",
            "_________________________________________________________________\n"
          ]
        }
      ],
      "source": [
        "# %%time\n",
        "with strategy.scope():\n",
        "\n",
        "    # A simple LSTM with glove embeddings and one dense layer\n",
        "    model = Sequential()\n",
        "    model.add(Embedding(len(word_index) + 1,\n",
        "                     300,\n",
        "                     weights=[embedding_matrix],\n",
        "                     input_length=max_len,\n",
        "                     trainable=False))\n",
        "\n",
        "    model.add(LSTM(256, dropout=0.3, recurrent_dropout=0.3))\n",
        "    model.add(Dense(128, activation='relu'))\n",
        "    model.add(Dense(10, activation='log_softmax'))\n",
        "    model.compile(loss='categorical_crossentropy', optimizer='adam', metrics=['accuracy'])\n",
        "\n",
        "model.summary()"
      ]
    },
    {
      "cell_type": "code",
      "execution_count": null,
      "metadata": {
        "colab": {
          "base_uri": "https://localhost:8080/"
        },
        "id": "dJAlnV11T2xx",
        "outputId": "cb67074a-b9c3-4c15-ec0c-d88a2e2f41c0"
      },
      "outputs": [
        {
          "output_type": "stream",
          "name": "stdout",
          "text": [
            "Epoch 1/20\n",
            "24/24 [==============================] - 17s 398ms/step - loss: 1.9363 - accuracy: 0.0222 - val_loss: 1.7618 - val_accuracy: 0.0126\n",
            "Epoch 2/20\n",
            "24/24 [==============================] - 3s 130ms/step - loss: 1.6912 - accuracy: 0.0084 - val_loss: 1.6421 - val_accuracy: 0.0053\n",
            "Epoch 3/20\n",
            "24/24 [==============================] - ETA: 0s - loss: 1.5975 - accuracy: 0.0035"
          ]
        }
      ],
      "source": [
        "model.fit(xtrain_pad, ytrain, validation_data = (xvalid_pad, yvalid), epochs=20, batch_size=64*strategy.num_replicas_in_sync)"
      ]
    },
    {
      "cell_type": "code",
      "execution_count": null,
      "metadata": {
        "id": "7d6mCsMaT2xx",
        "outputId": "303416d8-6a7c-4ef5-fd6f-cd81c4cd6957"
      },
      "outputs": [
        {
          "name": "stdout",
          "output_type": "stream",
          "text": [
            "149/149 [==============================] - 315s 2s/step - loss: 0.1207 - accuracy: 0.6306\n",
            "Accuracy: 63.06%\n"
          ]
        }
      ],
      "source": [
        "scores = model.evaluate(xvalid_pad, yvalid)\n",
        "print(\"Accuracy: %.2f%%\" % (scores[1]*100))"
      ]
    },
    {
      "cell_type": "code",
      "execution_count": null,
      "metadata": {
        "id": "2_LJif1dT2xx"
      },
      "outputs": [],
      "source": [
        "model.save('15_LSTM_02.h5', save_format='h5')\n",
        "model.save('15_LSTM_02.keras')"
      ]
    },
    {
      "cell_type": "code",
      "execution_count": null,
      "metadata": {
        "id": "kyO2Eec-T2xx"
      },
      "outputs": [],
      "source": [
        "import pickle\n",
        "pickle.dump(model, open('15_LSTM_02.pkl', 'wb'))"
      ]
    },
    {
      "cell_type": "code",
      "execution_count": null,
      "metadata": {
        "id": "N4csBVX5T2xx"
      },
      "outputs": [],
      "source": [
        "yvalid_model = model.predict(xvalid_pad)\n",
        "yvalid_model"
      ]
    },
    {
      "cell_type": "code",
      "execution_count": null,
      "metadata": {
        "id": "Fj3sNwJXT2xy",
        "outputId": "db2183d4-0b92-4a30-f561-e24d9ff24f9d"
      },
      "outputs": [
        {
          "name": "stdout",
          "output_type": "stream",
          "text": [
            "multiple anthropogenic stressor co-occur natural ecosystem multiple stressor study nature direction stressor interaction strength stressor examine coral alpha beta-diversity vary site gradient chronic local anthropogenic stress marine heatwave multiple stressor framework encompass non-discrete stressor examine interaction continuou discrete stressor additive antagonistic interaction heatwave-driven turnover coral community composition continuou stressor point response coral hill-richness stressor additive synergistic community-level response multiple stressor vary stressor intensity importance complex realistic continuou stressor understand stressor interaction ecological\n",
            "(array([7], dtype=int64),)\n",
            "(array([5], dtype=int64),)\n"
          ]
        }
      ],
      "source": [
        "print(xvalid[12])\n",
        "print(np.where(scores[11] == np.max(scores[11])))\n",
        "print(np.where(yvalid[11] == np.max(yvalid[11])))"
      ]
    }
  ],
  "metadata": {
    "kernelspec": {
      "display_name": "Python 3",
      "name": "python3"
    },
    "language_info": {
      "codemirror_mode": {
        "name": "ipython",
        "version": 3
      },
      "file_extension": ".py",
      "mimetype": "text/x-python",
      "name": "python",
      "nbconvert_exporter": "python",
      "pygments_lexer": "ipython3",
      "version": "3.11.0"
    },
    "orig_nbformat": 4,
    "colab": {
      "provenance": []
    },
    "accelerator": "TPU"
  },
  "nbformat": 4,
  "nbformat_minor": 0
}