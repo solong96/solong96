{
  "cells": [
    {
      "cell_type": "markdown",
      "metadata": {
        "id": "view-in-github",
        "colab_type": "text"
      },
      "source": [
        "<a href=\"https://colab.research.google.com/github/solong96/solong96/blob/main/0911_digital_cc_topic.ipynb\" target=\"_parent\"><img src=\"https://colab.research.google.com/assets/colab-badge.svg\" alt=\"Open In Colab\"/></a>"
      ]
    },
    {
      "cell_type": "code",
      "source": [
        "from google.colab import drive\n",
        "drive.mount('/content/drive')"
      ],
      "metadata": {
        "id": "7XVBwa2AID5h",
        "outputId": "9bcb949d-b65e-4544-83ea-09d687e7bcf1",
        "colab": {
          "base_uri": "https://localhost:8080/"
        }
      },
      "execution_count": 1,
      "outputs": [
        {
          "output_type": "stream",
          "name": "stdout",
          "text": [
            "Mounted at /content/drive\n"
          ]
        }
      ]
    },
    {
      "cell_type": "code",
      "source": [
        "# !pip install contextualized-topic-models\n",
        "# !pip install pyldavis\n",
        "!pip install --upgrade ipython\n",
        "# !pip install --upgrade ipywidgets"
      ],
      "metadata": {
        "id": "tQdGfBfgUZ1z",
        "outputId": "dc37190f-7609-49aa-8263-bb6e414fdb6e",
        "colab": {
          "base_uri": "https://localhost:8080/",
          "height": 760
        }
      },
      "execution_count": 5,
      "outputs": [
        {
          "output_type": "stream",
          "name": "stdout",
          "text": [
            "Requirement already satisfied: ipython in /usr/local/lib/python3.10/dist-packages (7.34.0)\n",
            "Collecting ipython\n",
            "  Downloading ipython-8.15.0-py3-none-any.whl (806 kB)\n",
            "\u001b[2K     \u001b[90m━━━━━━━━━━━━━━━━━━━━━━━━━━━━━━━━━━━━━━━\u001b[0m \u001b[32m806.6/806.6 kB\u001b[0m \u001b[31m3.7 MB/s\u001b[0m eta \u001b[36m0:00:00\u001b[0m\n",
            "\u001b[?25hRequirement already satisfied: backcall in /usr/local/lib/python3.10/dist-packages (from ipython) (0.2.0)\n",
            "Requirement already satisfied: decorator in /usr/local/lib/python3.10/dist-packages (from ipython) (4.4.2)\n",
            "Requirement already satisfied: jedi>=0.16 in /usr/local/lib/python3.10/dist-packages (from ipython) (0.19.0)\n",
            "Requirement already satisfied: matplotlib-inline in /usr/local/lib/python3.10/dist-packages (from ipython) (0.1.6)\n",
            "Requirement already satisfied: pickleshare in /usr/local/lib/python3.10/dist-packages (from ipython) (0.7.5)\n",
            "Requirement already satisfied: prompt-toolkit!=3.0.37,<3.1.0,>=3.0.30 in /usr/local/lib/python3.10/dist-packages (from ipython) (3.0.39)\n",
            "Requirement already satisfied: pygments>=2.4.0 in /usr/local/lib/python3.10/dist-packages (from ipython) (2.16.1)\n",
            "Requirement already satisfied: stack-data in /usr/local/lib/python3.10/dist-packages (from ipython) (0.6.2)\n",
            "Requirement already satisfied: traitlets>=5 in /usr/local/lib/python3.10/dist-packages (from ipython) (5.7.1)\n",
            "Requirement already satisfied: exceptiongroup in /usr/local/lib/python3.10/dist-packages (from ipython) (1.1.3)\n",
            "Requirement already satisfied: pexpect>4.3 in /usr/local/lib/python3.10/dist-packages (from ipython) (4.8.0)\n",
            "Requirement already satisfied: parso<0.9.0,>=0.8.3 in /usr/local/lib/python3.10/dist-packages (from jedi>=0.16->ipython) (0.8.3)\n",
            "Requirement already satisfied: ptyprocess>=0.5 in /usr/local/lib/python3.10/dist-packages (from pexpect>4.3->ipython) (0.7.0)\n",
            "Requirement already satisfied: wcwidth in /usr/local/lib/python3.10/dist-packages (from prompt-toolkit!=3.0.37,<3.1.0,>=3.0.30->ipython) (0.2.6)\n",
            "Requirement already satisfied: executing>=1.2.0 in /usr/local/lib/python3.10/dist-packages (from stack-data->ipython) (1.2.0)\n",
            "Requirement already satisfied: asttokens>=2.1.0 in /usr/local/lib/python3.10/dist-packages (from stack-data->ipython) (2.4.0)\n",
            "Requirement already satisfied: pure-eval in /usr/local/lib/python3.10/dist-packages (from stack-data->ipython) (0.2.2)\n",
            "Requirement already satisfied: six>=1.12.0 in /usr/local/lib/python3.10/dist-packages (from asttokens>=2.1.0->stack-data->ipython) (1.16.0)\n",
            "Installing collected packages: ipython\n",
            "  Attempting uninstall: ipython\n",
            "    Found existing installation: ipython 7.34.0\n",
            "    Uninstalling ipython-7.34.0:\n",
            "      Successfully uninstalled ipython-7.34.0\n",
            "\u001b[31mERROR: pip's dependency resolver does not currently take into account all the packages that are installed. This behaviour is the source of the following dependency conflicts.\n",
            "contextualized-topic-models 2.5.0 requires ipython==8.10.0, but you have ipython 8.15.0 which is incompatible.\n",
            "contextualized-topic-models 2.5.0 requires ipywidgets==7.5.1, but you have ipywidgets 8.1.1 which is incompatible.\n",
            "google-colab 1.0.0 requires ipython==7.34.0, but you have ipython 8.15.0 which is incompatible.\n",
            "google-colab 1.0.0 requires pandas==1.5.3, but you have pandas 2.1.0 which is incompatible.\u001b[0m\u001b[31m\n",
            "\u001b[0mSuccessfully installed ipython-8.15.0\n"
          ]
        },
        {
          "output_type": "display_data",
          "data": {
            "application/vnd.colab-display-data+json": {
              "pip_warning": {
                "packages": [
                  "IPython"
                ]
              }
            }
          },
          "metadata": {}
        }
      ]
    },
    {
      "cell_type": "code",
      "source": [
        "import tensorflow as tf\n",
        "from tensorflow.keras.preprocessing.sequence import pad_sequences\n",
        "from tensorflow.keras.preprocessing.text import Tokenizer\n",
        "from itertools import count\n",
        "import time\n",
        "import csv\n",
        "from tqdm import tqdm\n",
        "import collections\n",
        "import sys\n",
        "import os\n",
        "import openpyxl\n",
        "import re\n",
        "import pandas as pd\n",
        "import numpy as np\n",
        "import json\n",
        "import nltk\n",
        "from nltk.tokenize import sent_tokenize\n",
        "from nltk.tokenize import word_tokenize\n",
        "from nltk.tokenize import PunktSentenceTokenizer, word_tokenize\n",
        "from nltk.tokenize.treebank import TreebankWordTokenizer\n",
        "from nltk.corpus.reader.panlex_lite import Meaning\n",
        "from nltk.corpus import stopwords\n",
        "from nltk.stem.snowball import SnowballStemmer\n",
        "from nltk.stem import WordNetLemmatizer\n",
        "from nltk.data import load\n",
        "from nltk.tag import pos_tag\n",
        "nltk.download('stopwords')\n",
        "nltk.download('punkt')\n",
        "from contextualized_topic_models.models.ctm import CombinedTM\n",
        "from contextualized_topic_models.utils.data_preparation import TopicModelDataPreparation\n",
        "from contextualized_topic_models.utils.preprocessing import WhiteSpacePreprocessingStopwords"
      ],
      "metadata": {
        "id": "kBgaw-Y7H8Co",
        "outputId": "81711897-68f9-4ed0-8771-3798978b2442",
        "colab": {
          "base_uri": "https://localhost:8080/"
        }
      },
      "execution_count": 6,
      "outputs": [
        {
          "output_type": "stream",
          "name": "stderr",
          "text": [
            "[nltk_data] Downloading package stopwords to /root/nltk_data...\n",
            "[nltk_data]   Package stopwords is already up-to-date!\n",
            "[nltk_data] Downloading package punkt to /root/nltk_data...\n",
            "[nltk_data]   Package punkt is already up-to-date!\n"
          ]
        }
      ]
    },
    {
      "cell_type": "code",
      "execution_count": 7,
      "metadata": {
        "id": "qUTz68gHH1K1"
      },
      "outputs": [],
      "source": [
        "wordnet_lemmatizer=WordNetLemmatizer()\n",
        "stops = stopwords.words('english')\n",
        "newstop = ['et', 'al', 'us','factor','evidence','review','analysis','impact','effect','example','research','paper','result',\"first\",\"second\",\"third\",\"forth\",'doe', 'C', 'elsevier', 'ltd', 'etc', 'was', 'wa', 'ha', 'springer','mdpi','evaluation','evaluating']\n",
        "stops.extend(newstop)\n",
        "\n",
        "path = '/content/drive/MyDrive'\n",
        "os.chdir(path)"
      ]
    },
    {
      "cell_type": "code",
      "execution_count": 8,
      "metadata": {
        "id": "lora-NKBH1K1",
        "outputId": "c5c0438e-689f-4525-e4e4-0850b0061f69",
        "colab": {
          "base_uri": "https://localhost:8080/",
          "height": 1000
        }
      },
      "outputs": [
        {
          "output_type": "execute_result",
          "data": {
            "text/plain": [
              "       Publication Year                                      Article Title  \\\n",
              "0                  2023  Energy Efficiency Model Construction of Buildi...   \n",
              "1                  2003  Adaptation measures for climate change and the...   \n",
              "2                  2021  How Cool Pavements and Green Roof Affect Build...   \n",
              "3                  2011  Essence Research on the Sustainable Developmen...   \n",
              "4                  2019  Towards the next generation of green building ...   \n",
              "...                 ...                                                ...   \n",
              "52719              2014  Feasibility of Solid Fuel CLC Plant Investment...   \n",
              "52720              2018  Investigation of the Influence of Energy Param...   \n",
              "52721              2005  The Mekong - Applications of Value at Risk (Va...   \n",
              "52722              2020  Water in the dynamics of strategic natural res...   \n",
              "52723              2011  Preparing the Ground for the Implementation of...   \n",
              "\n",
              "                                            Source Title  \\\n",
              "0                                         SUSTAINABILITY   \n",
              "1                      BUILDING RESEARCH AND INFORMATION   \n",
              "2                              HEAT TRANSFER ENGINEERING   \n",
              "3      PROCEEDINGS OF 2011 INTERNATIONAL CONFERENCE O...   \n",
              "4                         SUSTAINABLE CITIES AND SOCIETY   \n",
              "...                                                  ...   \n",
              "52719  12TH INTERNATIONAL CONFERENCE ON GREENHOUSE GA...   \n",
              "52720  OBRABOTKA METALLOV-METAL WORKING AND MATERIAL ...   \n",
              "52721  MODSIM 2005: INTERNATIONAL CONGRESS ON MODELLI...   \n",
              "52722                  RELACIONES INTERNACIONALES-MADRID   \n",
              "52723  10TH INTERNATIONAL CONFERENCE ON GREENHOUSE GA...   \n",
              "\n",
              "                                          WoS Categories  \\\n",
              "0      Green & Sustainable Science & Technology; Envi...   \n",
              "1                     Construction & Building Technology   \n",
              "2      Thermodynamics; Engineering, Mechanical; Mecha...   \n",
              "3                  Management; Regional & Urban Planning   \n",
              "4      Construction & Building Technology; Green & Su...   \n",
              "...                                                  ...   \n",
              "52719                 Chemistry, Applied; Energy & Fuels   \n",
              "52720             Metallurgy & Metallurgical Engineering   \n",
              "52721  Computer Science, Interdisciplinary Applicatio...   \n",
              "52722                            International Relations   \n",
              "52723             Energy & Fuels; Environmental Sciences   \n",
              "\n",
              "                                                Abstract  \\\n",
              "0      We aim to create a feasible quantitative metho...   \n",
              "1      Climate change scenarios are discussed for Jap...   \n",
              "2      The urban heat island effect amplifies the glo...   \n",
              "3      Three pillars of sustainable development are e...   \n",
              "4      At present, cities are under the threats of gl...   \n",
              "...                                                  ...   \n",
              "52719  It is predicted that share of solar and wind e...   \n",
              "52720  Justification: High-strength low-alloy steels ...   \n",
              "52721  The world's tenth largest river in terms of an...   \n",
              "52722  Are we close to facing what some researchers a...   \n",
              "52723  The COACH project (Cooperation Action Within C...   \n",
              "\n",
              "                                                   words    energy  industry  \\\n",
              "0      create feasible quantitative method calculate ...    energy  0.007705   \n",
              "1      climate-change scenario japan clear implicatio...  0.017241         0   \n",
              "2      urban heat-island amplify global warm phenomen...  0.048193         0   \n",
              "3      pillar sustainable-development economic enviro...         0  industry   \n",
              "4      present city threat global warm urban heat-isl...  0.008929         0   \n",
              "...                                                  ...       ...       ...   \n",
              "52719  share solar wind energy increase future energy...    energy  industry   \n",
              "52720  justification high-strength low-alloy steel us...  0.021505  0.005376   \n",
              "52721  world tenth largest river term annual flow vol...  0.013937         0   \n",
              "52722  close face researcher politician call war wate...  0.015385  0.002364   \n",
              "52723  COACH project cooperation action within CCS ch...  0.017149  0.002884   \n",
              "\n",
              "          waste   traffic  building land-use     green biodiversity     water  \\\n",
              "0             0   traffic  building        0         0            0         0   \n",
              "1             0         0         0        0         0     0.012281  0.034483   \n",
              "2             0         0  building        0     green            0  0.012048   \n",
              "3             0   traffic  building        0     green            0         0   \n",
              "4             0  0.006835  building        0  0.008929            0         0   \n",
              "...         ...       ...       ...      ...       ...          ...       ...   \n",
              "52719         0  0.012545  0.004631        0  0.007018            0         0   \n",
              "52720         0  0.017724  0.016502        0         0            0  0.002913   \n",
              "52721         0         0  0.005347        0         0            0  0.037879   \n",
              "52722         0  0.005047         0        0         0            0  0.048352   \n",
              "52723  0.001724  0.011224  0.005236        0  0.005236            0         0   \n",
              "\n",
              "       heat-island  digital                                  label  \n",
              "0                0        0              energy, traffic, building  \n",
              "1      heat-island        0                            heat-island  \n",
              "2      heat-island  digital  building, green, heat-island, digital  \n",
              "3                0        0     industry, traffic, building, green  \n",
              "4      heat-island        0                  building, heat-island  \n",
              "...            ...      ...                                    ...  \n",
              "52719            0        0                       energy, industry  \n",
              "52720            0        0                                   None  \n",
              "52721            0  digital                                digital  \n",
              "52722            0        0                                   None  \n",
              "52723            0        0                                   None  \n",
              "\n",
              "[52724 rows x 18 columns]"
            ],
            "text/html": [
              "\n",
              "  <div id=\"df-833813a0-7a15-480d-9c5f-fc0eb887f0f0\" class=\"colab-df-container\">\n",
              "    <div>\n",
              "<style scoped>\n",
              "    .dataframe tbody tr th:only-of-type {\n",
              "        vertical-align: middle;\n",
              "    }\n",
              "\n",
              "    .dataframe tbody tr th {\n",
              "        vertical-align: top;\n",
              "    }\n",
              "\n",
              "    .dataframe thead th {\n",
              "        text-align: right;\n",
              "    }\n",
              "</style>\n",
              "<table border=\"1\" class=\"dataframe\">\n",
              "  <thead>\n",
              "    <tr style=\"text-align: right;\">\n",
              "      <th></th>\n",
              "      <th>Publication Year</th>\n",
              "      <th>Article Title</th>\n",
              "      <th>Source Title</th>\n",
              "      <th>WoS Categories</th>\n",
              "      <th>Abstract</th>\n",
              "      <th>words</th>\n",
              "      <th>energy</th>\n",
              "      <th>industry</th>\n",
              "      <th>waste</th>\n",
              "      <th>traffic</th>\n",
              "      <th>building</th>\n",
              "      <th>land-use</th>\n",
              "      <th>green</th>\n",
              "      <th>biodiversity</th>\n",
              "      <th>water</th>\n",
              "      <th>heat-island</th>\n",
              "      <th>digital</th>\n",
              "      <th>label</th>\n",
              "    </tr>\n",
              "  </thead>\n",
              "  <tbody>\n",
              "    <tr>\n",
              "      <th>0</th>\n",
              "      <td>2023</td>\n",
              "      <td>Energy Efficiency Model Construction of Buildi...</td>\n",
              "      <td>SUSTAINABILITY</td>\n",
              "      <td>Green &amp; Sustainable Science &amp; Technology; Envi...</td>\n",
              "      <td>We aim to create a feasible quantitative metho...</td>\n",
              "      <td>create feasible quantitative method calculate ...</td>\n",
              "      <td>energy</td>\n",
              "      <td>0.007705</td>\n",
              "      <td>0</td>\n",
              "      <td>traffic</td>\n",
              "      <td>building</td>\n",
              "      <td>0</td>\n",
              "      <td>0</td>\n",
              "      <td>0</td>\n",
              "      <td>0</td>\n",
              "      <td>0</td>\n",
              "      <td>0</td>\n",
              "      <td>energy, traffic, building</td>\n",
              "    </tr>\n",
              "    <tr>\n",
              "      <th>1</th>\n",
              "      <td>2003</td>\n",
              "      <td>Adaptation measures for climate change and the...</td>\n",
              "      <td>BUILDING RESEARCH AND INFORMATION</td>\n",
              "      <td>Construction &amp; Building Technology</td>\n",
              "      <td>Climate change scenarios are discussed for Jap...</td>\n",
              "      <td>climate-change scenario japan clear implicatio...</td>\n",
              "      <td>0.017241</td>\n",
              "      <td>0</td>\n",
              "      <td>0</td>\n",
              "      <td>0</td>\n",
              "      <td>0</td>\n",
              "      <td>0</td>\n",
              "      <td>0</td>\n",
              "      <td>0.012281</td>\n",
              "      <td>0.034483</td>\n",
              "      <td>heat-island</td>\n",
              "      <td>0</td>\n",
              "      <td>heat-island</td>\n",
              "    </tr>\n",
              "    <tr>\n",
              "      <th>2</th>\n",
              "      <td>2021</td>\n",
              "      <td>How Cool Pavements and Green Roof Affect Build...</td>\n",
              "      <td>HEAT TRANSFER ENGINEERING</td>\n",
              "      <td>Thermodynamics; Engineering, Mechanical; Mecha...</td>\n",
              "      <td>The urban heat island effect amplifies the glo...</td>\n",
              "      <td>urban heat-island amplify global warm phenomen...</td>\n",
              "      <td>0.048193</td>\n",
              "      <td>0</td>\n",
              "      <td>0</td>\n",
              "      <td>0</td>\n",
              "      <td>building</td>\n",
              "      <td>0</td>\n",
              "      <td>green</td>\n",
              "      <td>0</td>\n",
              "      <td>0.012048</td>\n",
              "      <td>heat-island</td>\n",
              "      <td>digital</td>\n",
              "      <td>building, green, heat-island, digital</td>\n",
              "    </tr>\n",
              "    <tr>\n",
              "      <th>3</th>\n",
              "      <td>2011</td>\n",
              "      <td>Essence Research on the Sustainable Developmen...</td>\n",
              "      <td>PROCEEDINGS OF 2011 INTERNATIONAL CONFERENCE O...</td>\n",
              "      <td>Management; Regional &amp; Urban Planning</td>\n",
              "      <td>Three pillars of sustainable development are e...</td>\n",
              "      <td>pillar sustainable-development economic enviro...</td>\n",
              "      <td>0</td>\n",
              "      <td>industry</td>\n",
              "      <td>0</td>\n",
              "      <td>traffic</td>\n",
              "      <td>building</td>\n",
              "      <td>0</td>\n",
              "      <td>green</td>\n",
              "      <td>0</td>\n",
              "      <td>0</td>\n",
              "      <td>0</td>\n",
              "      <td>0</td>\n",
              "      <td>industry, traffic, building, green</td>\n",
              "    </tr>\n",
              "    <tr>\n",
              "      <th>4</th>\n",
              "      <td>2019</td>\n",
              "      <td>Towards the next generation of green building ...</td>\n",
              "      <td>SUSTAINABLE CITIES AND SOCIETY</td>\n",
              "      <td>Construction &amp; Building Technology; Green &amp; Su...</td>\n",
              "      <td>At present, cities are under the threats of gl...</td>\n",
              "      <td>present city threat global warm urban heat-isl...</td>\n",
              "      <td>0.008929</td>\n",
              "      <td>0</td>\n",
              "      <td>0</td>\n",
              "      <td>0.006835</td>\n",
              "      <td>building</td>\n",
              "      <td>0</td>\n",
              "      <td>0.008929</td>\n",
              "      <td>0</td>\n",
              "      <td>0</td>\n",
              "      <td>heat-island</td>\n",
              "      <td>0</td>\n",
              "      <td>building, heat-island</td>\n",
              "    </tr>\n",
              "    <tr>\n",
              "      <th>...</th>\n",
              "      <td>...</td>\n",
              "      <td>...</td>\n",
              "      <td>...</td>\n",
              "      <td>...</td>\n",
              "      <td>...</td>\n",
              "      <td>...</td>\n",
              "      <td>...</td>\n",
              "      <td>...</td>\n",
              "      <td>...</td>\n",
              "      <td>...</td>\n",
              "      <td>...</td>\n",
              "      <td>...</td>\n",
              "      <td>...</td>\n",
              "      <td>...</td>\n",
              "      <td>...</td>\n",
              "      <td>...</td>\n",
              "      <td>...</td>\n",
              "      <td>...</td>\n",
              "    </tr>\n",
              "    <tr>\n",
              "      <th>52719</th>\n",
              "      <td>2014</td>\n",
              "      <td>Feasibility of Solid Fuel CLC Plant Investment...</td>\n",
              "      <td>12TH INTERNATIONAL CONFERENCE ON GREENHOUSE GA...</td>\n",
              "      <td>Chemistry, Applied; Energy &amp; Fuels</td>\n",
              "      <td>It is predicted that share of solar and wind e...</td>\n",
              "      <td>share solar wind energy increase future energy...</td>\n",
              "      <td>energy</td>\n",
              "      <td>industry</td>\n",
              "      <td>0</td>\n",
              "      <td>0.012545</td>\n",
              "      <td>0.004631</td>\n",
              "      <td>0</td>\n",
              "      <td>0.007018</td>\n",
              "      <td>0</td>\n",
              "      <td>0</td>\n",
              "      <td>0</td>\n",
              "      <td>0</td>\n",
              "      <td>energy, industry</td>\n",
              "    </tr>\n",
              "    <tr>\n",
              "      <th>52720</th>\n",
              "      <td>2018</td>\n",
              "      <td>Investigation of the Influence of Energy Param...</td>\n",
              "      <td>OBRABOTKA METALLOV-METAL WORKING AND MATERIAL ...</td>\n",
              "      <td>Metallurgy &amp; Metallurgical Engineering</td>\n",
              "      <td>Justification: High-strength low-alloy steels ...</td>\n",
              "      <td>justification high-strength low-alloy steel us...</td>\n",
              "      <td>0.021505</td>\n",
              "      <td>0.005376</td>\n",
              "      <td>0</td>\n",
              "      <td>0.017724</td>\n",
              "      <td>0.016502</td>\n",
              "      <td>0</td>\n",
              "      <td>0</td>\n",
              "      <td>0</td>\n",
              "      <td>0.002913</td>\n",
              "      <td>0</td>\n",
              "      <td>0</td>\n",
              "      <td>None</td>\n",
              "    </tr>\n",
              "    <tr>\n",
              "      <th>52721</th>\n",
              "      <td>2005</td>\n",
              "      <td>The Mekong - Applications of Value at Risk (Va...</td>\n",
              "      <td>MODSIM 2005: INTERNATIONAL CONGRESS ON MODELLI...</td>\n",
              "      <td>Computer Science, Interdisciplinary Applicatio...</td>\n",
              "      <td>The world's tenth largest river in terms of an...</td>\n",
              "      <td>world tenth largest river term annual flow vol...</td>\n",
              "      <td>0.013937</td>\n",
              "      <td>0</td>\n",
              "      <td>0</td>\n",
              "      <td>0</td>\n",
              "      <td>0.005347</td>\n",
              "      <td>0</td>\n",
              "      <td>0</td>\n",
              "      <td>0</td>\n",
              "      <td>0.037879</td>\n",
              "      <td>0</td>\n",
              "      <td>digital</td>\n",
              "      <td>digital</td>\n",
              "    </tr>\n",
              "    <tr>\n",
              "      <th>52722</th>\n",
              "      <td>2020</td>\n",
              "      <td>Water in the dynamics of strategic natural res...</td>\n",
              "      <td>RELACIONES INTERNACIONALES-MADRID</td>\n",
              "      <td>International Relations</td>\n",
              "      <td>Are we close to facing what some researchers a...</td>\n",
              "      <td>close face researcher politician call war wate...</td>\n",
              "      <td>0.015385</td>\n",
              "      <td>0.002364</td>\n",
              "      <td>0</td>\n",
              "      <td>0.005047</td>\n",
              "      <td>0</td>\n",
              "      <td>0</td>\n",
              "      <td>0</td>\n",
              "      <td>0</td>\n",
              "      <td>0.048352</td>\n",
              "      <td>0</td>\n",
              "      <td>0</td>\n",
              "      <td>None</td>\n",
              "    </tr>\n",
              "    <tr>\n",
              "      <th>52723</th>\n",
              "      <td>2011</td>\n",
              "      <td>Preparing the Ground for the Implementation of...</td>\n",
              "      <td>10TH INTERNATIONAL CONFERENCE ON GREENHOUSE GA...</td>\n",
              "      <td>Energy &amp; Fuels; Environmental Sciences</td>\n",
              "      <td>The COACH project (Cooperation Action Within C...</td>\n",
              "      <td>COACH project cooperation action within CCS ch...</td>\n",
              "      <td>0.017149</td>\n",
              "      <td>0.002884</td>\n",
              "      <td>0.001724</td>\n",
              "      <td>0.011224</td>\n",
              "      <td>0.005236</td>\n",
              "      <td>0</td>\n",
              "      <td>0.005236</td>\n",
              "      <td>0</td>\n",
              "      <td>0</td>\n",
              "      <td>0</td>\n",
              "      <td>0</td>\n",
              "      <td>None</td>\n",
              "    </tr>\n",
              "  </tbody>\n",
              "</table>\n",
              "<p>52724 rows × 18 columns</p>\n",
              "</div>\n",
              "    <div class=\"colab-df-buttons\">\n",
              "\n",
              "  <div class=\"colab-df-container\">\n",
              "    <button class=\"colab-df-convert\" onclick=\"convertToInteractive('df-833813a0-7a15-480d-9c5f-fc0eb887f0f0')\"\n",
              "            title=\"Convert this dataframe to an interactive table.\"\n",
              "            style=\"display:none;\">\n",
              "\n",
              "  <svg xmlns=\"http://www.w3.org/2000/svg\" height=\"24px\" viewBox=\"0 -960 960 960\">\n",
              "    <path d=\"M120-120v-720h720v720H120Zm60-500h600v-160H180v160Zm220 220h160v-160H400v160Zm0 220h160v-160H400v160ZM180-400h160v-160H180v160Zm440 0h160v-160H620v160ZM180-180h160v-160H180v160Zm440 0h160v-160H620v160Z\"/>\n",
              "  </svg>\n",
              "    </button>\n",
              "\n",
              "  <style>\n",
              "    .colab-df-container {\n",
              "      display:flex;\n",
              "      gap: 12px;\n",
              "    }\n",
              "\n",
              "    .colab-df-convert {\n",
              "      background-color: #E8F0FE;\n",
              "      border: none;\n",
              "      border-radius: 50%;\n",
              "      cursor: pointer;\n",
              "      display: none;\n",
              "      fill: #1967D2;\n",
              "      height: 32px;\n",
              "      padding: 0 0 0 0;\n",
              "      width: 32px;\n",
              "    }\n",
              "\n",
              "    .colab-df-convert:hover {\n",
              "      background-color: #E2EBFA;\n",
              "      box-shadow: 0px 1px 2px rgba(60, 64, 67, 0.3), 0px 1px 3px 1px rgba(60, 64, 67, 0.15);\n",
              "      fill: #174EA6;\n",
              "    }\n",
              "\n",
              "    .colab-df-buttons div {\n",
              "      margin-bottom: 4px;\n",
              "    }\n",
              "\n",
              "    [theme=dark] .colab-df-convert {\n",
              "      background-color: #3B4455;\n",
              "      fill: #D2E3FC;\n",
              "    }\n",
              "\n",
              "    [theme=dark] .colab-df-convert:hover {\n",
              "      background-color: #434B5C;\n",
              "      box-shadow: 0px 1px 3px 1px rgba(0, 0, 0, 0.15);\n",
              "      filter: drop-shadow(0px 1px 2px rgba(0, 0, 0, 0.3));\n",
              "      fill: #FFFFFF;\n",
              "    }\n",
              "  </style>\n",
              "\n",
              "    <script>\n",
              "      const buttonEl =\n",
              "        document.querySelector('#df-833813a0-7a15-480d-9c5f-fc0eb887f0f0 button.colab-df-convert');\n",
              "      buttonEl.style.display =\n",
              "        google.colab.kernel.accessAllowed ? 'block' : 'none';\n",
              "\n",
              "      async function convertToInteractive(key) {\n",
              "        const element = document.querySelector('#df-833813a0-7a15-480d-9c5f-fc0eb887f0f0');\n",
              "        const dataTable =\n",
              "          await google.colab.kernel.invokeFunction('convertToInteractive',\n",
              "                                                    [key], {});\n",
              "        if (!dataTable) return;\n",
              "\n",
              "        const docLinkHtml = 'Like what you see? Visit the ' +\n",
              "          '<a target=\"_blank\" href=https://colab.research.google.com/notebooks/data_table.ipynb>data table notebook</a>'\n",
              "          + ' to learn more about interactive tables.';\n",
              "        element.innerHTML = '';\n",
              "        dataTable['output_type'] = 'display_data';\n",
              "        await google.colab.output.renderOutput(dataTable, element);\n",
              "        const docLink = document.createElement('div');\n",
              "        docLink.innerHTML = docLinkHtml;\n",
              "        element.appendChild(docLink);\n",
              "      }\n",
              "    </script>\n",
              "  </div>\n",
              "\n",
              "\n",
              "<div id=\"df-d8da56f2-abff-41ac-8de8-decc031f134f\">\n",
              "  <button class=\"colab-df-quickchart\" onclick=\"quickchart('df-d8da56f2-abff-41ac-8de8-decc031f134f')\"\n",
              "            title=\"Suggest charts.\"\n",
              "            style=\"display:none;\">\n",
              "\n",
              "<svg xmlns=\"http://www.w3.org/2000/svg\" height=\"24px\"viewBox=\"0 0 24 24\"\n",
              "     width=\"24px\">\n",
              "    <g>\n",
              "        <path d=\"M19 3H5c-1.1 0-2 .9-2 2v14c0 1.1.9 2 2 2h14c1.1 0 2-.9 2-2V5c0-1.1-.9-2-2-2zM9 17H7v-7h2v7zm4 0h-2V7h2v10zm4 0h-2v-4h2v4z\"/>\n",
              "    </g>\n",
              "</svg>\n",
              "  </button>\n",
              "\n",
              "<style>\n",
              "  .colab-df-quickchart {\n",
              "      --bg-color: #E8F0FE;\n",
              "      --fill-color: #1967D2;\n",
              "      --hover-bg-color: #E2EBFA;\n",
              "      --hover-fill-color: #174EA6;\n",
              "      --disabled-fill-color: #AAA;\n",
              "      --disabled-bg-color: #DDD;\n",
              "  }\n",
              "\n",
              "  [theme=dark] .colab-df-quickchart {\n",
              "      --bg-color: #3B4455;\n",
              "      --fill-color: #D2E3FC;\n",
              "      --hover-bg-color: #434B5C;\n",
              "      --hover-fill-color: #FFFFFF;\n",
              "      --disabled-bg-color: #3B4455;\n",
              "      --disabled-fill-color: #666;\n",
              "  }\n",
              "\n",
              "  .colab-df-quickchart {\n",
              "    background-color: var(--bg-color);\n",
              "    border: none;\n",
              "    border-radius: 50%;\n",
              "    cursor: pointer;\n",
              "    display: none;\n",
              "    fill: var(--fill-color);\n",
              "    height: 32px;\n",
              "    padding: 0;\n",
              "    width: 32px;\n",
              "  }\n",
              "\n",
              "  .colab-df-quickchart:hover {\n",
              "    background-color: var(--hover-bg-color);\n",
              "    box-shadow: 0 1px 2px rgba(60, 64, 67, 0.3), 0 1px 3px 1px rgba(60, 64, 67, 0.15);\n",
              "    fill: var(--button-hover-fill-color);\n",
              "  }\n",
              "\n",
              "  .colab-df-quickchart-complete:disabled,\n",
              "  .colab-df-quickchart-complete:disabled:hover {\n",
              "    background-color: var(--disabled-bg-color);\n",
              "    fill: var(--disabled-fill-color);\n",
              "    box-shadow: none;\n",
              "  }\n",
              "\n",
              "  .colab-df-spinner {\n",
              "    border: 2px solid var(--fill-color);\n",
              "    border-color: transparent;\n",
              "    border-bottom-color: var(--fill-color);\n",
              "    animation:\n",
              "      spin 1s steps(1) infinite;\n",
              "  }\n",
              "\n",
              "  @keyframes spin {\n",
              "    0% {\n",
              "      border-color: transparent;\n",
              "      border-bottom-color: var(--fill-color);\n",
              "      border-left-color: var(--fill-color);\n",
              "    }\n",
              "    20% {\n",
              "      border-color: transparent;\n",
              "      border-left-color: var(--fill-color);\n",
              "      border-top-color: var(--fill-color);\n",
              "    }\n",
              "    30% {\n",
              "      border-color: transparent;\n",
              "      border-left-color: var(--fill-color);\n",
              "      border-top-color: var(--fill-color);\n",
              "      border-right-color: var(--fill-color);\n",
              "    }\n",
              "    40% {\n",
              "      border-color: transparent;\n",
              "      border-right-color: var(--fill-color);\n",
              "      border-top-color: var(--fill-color);\n",
              "    }\n",
              "    60% {\n",
              "      border-color: transparent;\n",
              "      border-right-color: var(--fill-color);\n",
              "    }\n",
              "    80% {\n",
              "      border-color: transparent;\n",
              "      border-right-color: var(--fill-color);\n",
              "      border-bottom-color: var(--fill-color);\n",
              "    }\n",
              "    90% {\n",
              "      border-color: transparent;\n",
              "      border-bottom-color: var(--fill-color);\n",
              "    }\n",
              "  }\n",
              "</style>\n",
              "\n",
              "  <script>\n",
              "    async function quickchart(key) {\n",
              "      const quickchartButtonEl =\n",
              "        document.querySelector('#' + key + ' button');\n",
              "      quickchartButtonEl.disabled = true;  // To prevent multiple clicks.\n",
              "      quickchartButtonEl.classList.add('colab-df-spinner');\n",
              "      try {\n",
              "        const charts = await google.colab.kernel.invokeFunction(\n",
              "            'suggestCharts', [key], {});\n",
              "      } catch (error) {\n",
              "        console.error('Error during call to suggestCharts:', error);\n",
              "      }\n",
              "      quickchartButtonEl.classList.remove('colab-df-spinner');\n",
              "      quickchartButtonEl.classList.add('colab-df-quickchart-complete');\n",
              "    }\n",
              "    (() => {\n",
              "      let quickchartButtonEl =\n",
              "        document.querySelector('#df-d8da56f2-abff-41ac-8de8-decc031f134f button');\n",
              "      quickchartButtonEl.style.display =\n",
              "        google.colab.kernel.accessAllowed ? 'block' : 'none';\n",
              "    })();\n",
              "  </script>\n",
              "</div>\n",
              "    </div>\n",
              "  </div>\n"
            ]
          },
          "metadata": {},
          "execution_count": 8
        }
      ],
      "source": [
        "content = pd.read_excel('0913_multi_token_abstract_full.xlsx', index_col = 0)\n",
        "content"
      ]
    },
    {
      "cell_type": "code",
      "execution_count": 11,
      "metadata": {
        "id": "r8RcaREBH1K1",
        "outputId": "f659a431-1a16-4642-f440-9b80d393f304",
        "colab": {
          "base_uri": "https://localhost:8080/"
        }
      },
      "outputs": [
        {
          "output_type": "stream",
          "name": "stdout",
          "text": [
            "Index(['energy', 'industry', 'waste', 'traffic', 'building', 'land-use',\n",
            "       'green', 'biodiversity', 'water', 'heat-island', 'digital'],\n",
            "      dtype='object')\n"
          ]
        },
        {
          "output_type": "stream",
          "name": "stderr",
          "text": [
            "100%|██████████| 11/11 [00:08<00:00,  1.26it/s]\n"
          ]
        }
      ],
      "source": [
        "category = content.columns[6:17]\n",
        "print(category)\n",
        "\n",
        "original = [[] for _ in range(len(category))]\n",
        "sentence = [[] for _ in range(len(category))]\n",
        "for j in tqdm(range(len(category))):\n",
        "    for i in range(len(content)):\n",
        "        if content[category[j]][i] == category[j]:\n",
        "            original[j].append(content['Abstract'][i])\n",
        "            sentence[j].append(content['words'][i])"
      ]
    },
    {
      "cell_type": "code",
      "execution_count": 14,
      "metadata": {
        "id": "5FqpUSOMH1K2",
        "outputId": "86be966f-1684-48ef-ba64-4f4378f7d426",
        "colab": {
          "base_uri": "https://localhost:8080/"
        }
      },
      "outputs": [
        {
          "output_type": "stream",
          "name": "stdout",
          "text": [
            "energy 12796 12796\n",
            "industry 7891 7891\n",
            "waste 2408 2408\n",
            "traffic 9685 9685\n",
            "building 6022 6022\n",
            "land-use 1323 1323\n",
            "green 4726 4726\n",
            "biodiversity 2750 2750\n",
            "water 10603 10603\n",
            "heat-island 489 489\n",
            "digital 8135 8135\n"
          ]
        }
      ],
      "source": [
        "for i in range(len(content.columns[6:17])):\n",
        "    print(category[i], len(original[i]), len(sentence[i]))"
      ]
    },
    {
      "cell_type": "code",
      "source": [
        "print(original[0][1])\n",
        "print(sentence[0][1])"
      ],
      "metadata": {
        "id": "LzEKwMP0V9Wr",
        "outputId": "9bb5b14d-2704-4778-c4a5-ee7f5457045e",
        "colab": {
          "base_uri": "https://localhost:8080/"
        }
      },
      "execution_count": 15,
      "outputs": [
        {
          "output_type": "stream",
          "name": "stdout",
          "text": [
            "The low-carbon building has been proposed to mitigate the climate change caused by environmental problems and realize carbon neutrality in urban areas. In addition, the integrated energy system (IES) has been developed to reduce renewable energy curtailment in the power distribution system and improve energy efficiency due to the independent operation of traditional energy systems. In this paper, we propose a stochastic planning method for low-carbon building IES, in which the Vehicle to Grid (V2G) is also considered to further increase the flexibility of low-carbon buildings. The proposed planning method optimizes the investment and operation costs, and CO2 emission of the building IES, to achieve the maximum benefit of the low-carbon building and help realize carbon neutrality. By considering the uncertainty of distributed renewable energy, multi-energy load fluctuation and the random behavior of EV users, a two-stage stochastic programming model is formulated with chance constraints, in which the heuristic moment matching scenario generation (HMMSG) and sample average approximation (SAA) methods are applied to deal with the uncertainties. In the case study, a real IES office building in Shanghai, where photovoltaic (PV), energy storage system (ESS), fuel cell (FC), EV, etc. are included as planning options, is used as the test system to verify the effectiveness of the proposed planning method, and the functions of the ESS and EV in IES are analyzed in detail in different operation scenarios. The case study results show that the proposed planning scheme can reduce the total cost and carbon emission significantly. (c) 2017 Elsevier Inc. All rights reserved.\n",
            "low-carbon building propose mitigate climate-change cause environmental problem carbon-neutrality urban area addition integrate energy system IES renewable energy curtailment power distribution system energy efficiency due independent operation traditional energy system propose stochastic plan low-carbon building IES vehicle grid V2G increase flexibility low-carbon building propose plan optimize investment operation cost CO2 emission building IES maximum benefit low-carbon building help carbon-neutrality consider uncertainty distribute renewable energy multi-energy load fluctuation random behavior EV two-stage stochastic programme model formulate chance constraint heuristic moment match scenario generation HMMSG sample average approximation SAA method deal uncertainty case-study real IES office building shanghai photovoltaic PV energy storage system ESS fuel cell FC EV plan option test system propose plan function ESS EV IES detail different operation scenario case-study propose plan scheme total cost carbon-emission inc reserve\n"
          ]
        }
      ]
    },
    {
      "cell_type": "code",
      "execution_count": 16,
      "metadata": {
        "id": "00JqN4pGH1K2",
        "outputId": "475ec4c1-7f39-4a57-e5c6-94a57cd97869",
        "colab": {
          "base_uri": "https://localhost:8080/"
        }
      },
      "outputs": [
        {
          "output_type": "stream",
          "name": "stderr",
          "text": [
            "100%|██████████| 11/11 [00:05<00:00,  1.96it/s]\n"
          ]
        }
      ],
      "source": [
        "for i in tqdm(range(len(category))):\n",
        "    pd.DataFrame(sentence[i]).to_csv(\"sentence/\"+str(category[i])+\".txt\", index=False, header=None, sep=\"\\t\")"
      ]
    },
    {
      "cell_type": "code",
      "execution_count": null,
      "metadata": {
        "id": "yoX_s9k3H1K2",
        "outputId": "1cef0e63-eada-4f39-98b7-73cab183d16f"
      },
      "outputs": [
        {
          "name": "stdout",
          "output_type": "stream",
          "text": [
            "11\n",
            "biodiversity\n",
            "building\n",
            "digital\n",
            "energy\n",
            "green\n",
            "heat-island\n",
            "industry\n",
            "land-use\n",
            "traffic\n",
            "waste\n",
            "water\n"
          ]
        }
      ],
      "source": [
        "folder_path = \"F:/02. 유영은(박사과정)/OneDrive - 충북대학교/05. 수업/08. AI 교육/ICT/digital_cc/0906/sentence/\"\n",
        "file_list = os.listdir(folder_path)\n",
        "print(len(file_list))\n",
        "for topic_name in file_list:\n",
        "    print(topic_name[0:len(topic_name)-4])"
      ]
    },
    {
      "cell_type": "code",
      "execution_count": null,
      "metadata": {
        "id": "kxOrBGTLH1K2",
        "outputId": "eb7de2b2-6541-4c84-cc29-12d3d7e458a8"
      },
      "outputs": [
        {
          "ename": "",
          "evalue": "",
          "output_type": "error",
          "traceback": [
            "\u001b[1;31mCannot execute code, session has been disposed. Please try restarting the Kernel."
          ]
        },
        {
          "ename": "",
          "evalue": "",
          "output_type": "error",
          "traceback": [
            "\u001b[1;31mThe Kernel crashed while executing code in the the current cell or a previous cell. Please review the code in the cell(s) to identify a possible cause of the failure. Click <a href='https://aka.ms/vscodeJupyterKernelCrash'>here</a> for more info. View Jupyter <a href='command:jupyter.viewOutput'>log</a> for further details."
          ]
        }
      ],
      "source": [
        "corpus = tp.utils.Corpus()\n",
        "for topic_name in file_list:\n",
        "    for line in tqdm(open(folder_path + topic_name)):\n",
        "        tokens = word_tokenize(line)\n",
        "        corpus.add_doc(words = tokens)\n",
        "\n",
        "        model_results = {'Topics': [], 'Opti_Topics': [], 'Coherence': [], 'Perplexity' : []}\n",
        "\n",
        "        mdl = tp.HDPModel(tw=tp.TermWeight.IDF, min_cf=5, min_df=10, rm_top=10, initial_k=30, corpus=corpus, seed=99999)\n",
        "\n",
        "        # Initiate MCMC burn-in\n",
        "        mdl.burn_in = 100\n",
        "        mdl.train(0)\n",
        "\n",
        "        print('Num docs:', len(mdl.docs), ', Vocab size:', mdl.num_vocabs, ', Num words:', mdl.num_words)\n",
        "        print('Removed top words:', mdl.removed_top_words)\n",
        "        print('Training...', file=sys.stderr, flush=True)\n",
        "\n",
        "        # Train model\n",
        "        mcmc_iter = 1000\n",
        "        quiet = False\n",
        "\n",
        "        step=round(mcmc_iter*0.01)\n",
        "        for i in range(0, mcmc_iter, step):\n",
        "            mdl.train(step, workers=1)\n",
        "            if not quiet:\n",
        "                ('Iteration: {}\\tLog-likelihood: {}\\tNum. of topics: {}'.format(i, mdl.ll_per_word, mdl.live_k))\n",
        "\n",
        "        coh = tp.coherence.Coherence(mdl, coherence='c_v')\n",
        "        average_coherence = coh.get_score()\n",
        "        topic_len = np.array(np.nonzero(mdl.get_count_by_topics())).size\n",
        "\n",
        "        print('Topic{}_Opti topic{}_Coherence: {:.4}_Perplexity: {:.4}'.format(topic_name[0:len(topic_name)-4], topic_len, average_coherence, mdl.perplexity))\n",
        "        model_results['Topics'].append(k)\n",
        "        model_results['Opti_Topics'].append(topic_len)\n",
        "        model_results['Coherence'].append(average_coherence)\n",
        "        model_results['Perplexity'].append(mdl.perplexity)\n",
        "\n",
        "    pd.DataFrame(model_results).to_excel('0913_num_40_{}.xlsx'.format(topic_name[0:len(topic_name)-4]), index=False)"
      ]
    },
    {
      "cell_type": "code",
      "execution_count": null,
      "metadata": {
        "id": "IYbsxeqKH1K2",
        "outputId": "5cda9471-ed96-4249-e944-d82419ad6e23"
      },
      "outputs": [
        {
          "name": "stderr",
          "output_type": "stream",
          "text": [
            "2750it [00:00, 15003.72it/s]\n",
            "  0%|          | 0/39 [00:00<?, ?it/s]"
          ]
        },
        {
          "ename": "",
          "evalue": "",
          "output_type": "error",
          "traceback": [
            "\u001b[1;31mCannot execute code, session has been disposed. Please try restarting the Kernel."
          ]
        },
        {
          "ename": "",
          "evalue": "",
          "output_type": "error",
          "traceback": [
            "\u001b[1;31mThe Kernel crashed while executing code in the the current cell or a previous cell. Please review the code in the cell(s) to identify a possible cause of the failure. Click <a href='https://aka.ms/vscodeJupyterKernelCrash'>here</a> for more info. View Jupyter <a href='command:jupyter.viewOutput'>log</a> for further details."
          ]
        }
      ],
      "source": [
        "corpus = tp.utils.Corpus()\n",
        "for topic_name in file_list:\n",
        "    for line in tqdm(open(folder_path + topic_name)):\n",
        "        tokens = word_tokenize(line)\n",
        "        corpus.add_doc(words = tokens)\n",
        "\n",
        "    model_results = {'Topics': [], 'Opti_Topics': [], 'Coherence': [], 'Perplexity' : []}\n",
        "\n",
        "    for k in tqdm(range(2,41)):\n",
        "        mdl = tp.HDPModel(tw=tp.TermWeight.IDF, min_cf=5, min_df=10, rm_top=10, initial_k=k, corpus=corpus, seed=99999)\n",
        "\n",
        "        # Initiate MCMC burn-in\n",
        "        mdl.burn_in = 100\n",
        "        mdl.train(0)\n",
        "\n",
        "        print('Num docs:', len(mdl.docs), ', Vocab size:', mdl.num_vocabs, ', Num words:', mdl.num_words)\n",
        "        print('Removed top words:', mdl.removed_top_words)\n",
        "        print('Training...', file=sys.stderr, flush=True)\n",
        "\n",
        "        # Train model\n",
        "        mcmc_iter = 1000\n",
        "        quiet = False\n",
        "\n",
        "        step=round(mcmc_iter*0.01)\n",
        "        for i in range(0, mcmc_iter, step):\n",
        "            mdl.train(step, workers=1)\n",
        "            if not quiet:\n",
        "                ('Iteration: {}\\tLog-likelihood: {}\\tNum. of topics: {}'.format(i, mdl.ll_per_word, mdl.live_k))\n",
        "\n",
        "        coh = tp.coherence.Coherence(mdl, coherence='c_v')\n",
        "        average_coherence = coh.get_score()\n",
        "        topic_len = np.array(np.nonzero(mdl.get_count_by_topics())).size\n",
        "\n",
        "        print('Topic{}_Opti topic{}_Coherence: {:.4}_Perplexity: {:.4}'.format(k, topic_len, average_coherence, mdl.perplexity))\n",
        "        model_results['Topics'].append(k)\n",
        "        model_results['Opti_Topics'].append(topic_len)\n",
        "        model_results['Coherence'].append(average_coherence)\n",
        "        model_results['Perplexity'].append(mdl.perplexity)\n",
        "\n",
        "        # topic_results = {'Topics': [], 'document_count': [], 'represent': [], 'words': [], 'word_probability': []}\n",
        "\n",
        "        # important_topics = [j for j, v in sorted(enumerate(mdl.get_count_by_topics()), key=lambda x:x[1], reverse=True)]\n",
        "        # important_topics.sort()\n",
        "\n",
        "        # # 먼저 토픽 개수만큼 공간을 만들어줍니다.\n",
        "        # buckets = [[] for _ in range(len(important_topics))]\n",
        "\n",
        "        # # extract candidates for auto topic labeling\n",
        "        # extractor = tp.label.PMIExtractor(min_cf=5, min_df=10, min_len=1, max_len=4, max_cand=10000)\n",
        "        # cands = extractor.extract(mdl)\n",
        "\n",
        "        # labeler = tp.label.FoRelevance(mdl, cands, min_df=10, smoothing=1e-2, mu=0.25)\n",
        "\n",
        "        # for t in tqdm(important_topics):\n",
        "        #     if not mdl.is_live_topic(t): continue # remove un-assigned topics at the end (i.e. not alive)\n",
        "\n",
        "        #     # 전체 문헌에 대해, top 1 주제 번호를 찾아 그 그룹에 해당 문헌을 포함시킵니다.\n",
        "        #     for d in mdl.docs:\n",
        "        #         topic = d.get_topics(top_n=1)[0][0]\n",
        "        #         if t == topic:\n",
        "        #             buckets[t].append(topic)\n",
        "\n",
        "        #     topic_results['Topics'].append(t)\n",
        "        #     topic_results['document_count'].append(len(buckets[t]))\n",
        "        #     label = \"Labels:\", ', '.join(label for label, score in labeler.get_topic_labels(t, top_n=40))\n",
        "        #     topic_results['represent'].append(label)\n",
        "        #     word = \"Words:\", ', '.join(word for word, prob in mdl.get_topic_words(t, top_n=40))\n",
        "        #     prob = [np.round(prob,6) for word, prob in mdl.get_topic_words(t, top_n=40)]\n",
        "        #     topic_results['words'].append(word)\n",
        "        #     word_porobability = dict(zip(word, prob))\n",
        "        #     topic_results['word_probability'].append(word_porobability)\n",
        "\n",
        "        # pd.DataFrame(topic_results).to_excel(writer, sheet_name = 'Topics_{}'.format(t), index=False)\n",
        "\n",
        "    pd.DataFrame(model_results).to_excel('0913_num_40_{}.xlsx'.format(topic_name[0:len(topic_name)-4]), index=False)"
      ]
    },
    {
      "cell_type": "code",
      "execution_count": null,
      "metadata": {
        "id": "uBoKSMgAH1K3",
        "outputId": "52c845a5-e848-4f5f-ef61-92e5021972f6"
      },
      "outputs": [
        {
          "name": "stderr",
          "output_type": "stream",
          "text": [
            "33131it [00:12, 2723.48it/s]\n",
            "C:\\Users\\Public\\Documents\\ESTsoft\\CreatorTemp\\ipykernel_40760\\2904594182.py:10: RuntimeWarning: The training result may differ even with fixed seed if `workers` != 1.\n",
            "  mdl.train(0)\n",
            "Training...\n"
          ]
        },
        {
          "name": "stdout",
          "output_type": "stream",
          "text": [
            "Num docs: 33131 , Vocab size: 10247 , Num words: 2857958\n",
            "Removed top words: ['energy', 'system', 'climate-change', 'emission', 'carbon', 'policy', 'study', 'water', 'model', 'development']\n",
            "topic38_opti topic40_Coherence: 0.7693_Perplexity: 2.075e+03\n"
          ]
        },
        {
          "name": "stderr",
          "output_type": "stream",
          "text": [
            "100%|██████████| 40/40 [00:02<00:00, 14.91it/s]\n"
          ]
        }
      ],
      "source": [
        "corpus = tp.utils.Corpus()\n",
        "for line in tqdm(open('0527_token_cc.txt')):\n",
        "    tokens = word_tokenize(line)\n",
        "    corpus.add_doc(words = tokens)\n",
        "\n",
        "mdl = tp.HDPModel(tw=tp.TermWeight.IDF, min_cf=5, min_df=10, rm_top=10, initial_k=model_results['Coherence'].index(max(model_results['Coherence']))+2, corpus=corpus, seed=99999)\n",
        "\n",
        "# Initiate MCMC burn-in\n",
        "mdl.burn_in = 100\n",
        "mdl.train(0)\n",
        "\n",
        "print('Num docs:', len(mdl.docs), ', Vocab size:', mdl.num_vocabs, ', Num words:', mdl.num_words)\n",
        "print('Removed top words:', mdl.removed_top_words)\n",
        "print('Training...', file=sys.stderr, flush=True)\n",
        "\n",
        "# Train model\n",
        "mcmc_iter = 1000\n",
        "quiet = False\n",
        "\n",
        "step=round(mcmc_iter*0.01)\n",
        "for i in range(0, mcmc_iter, step):\n",
        "    mdl.train(step, workers=1)\n",
        "    if not quiet:\n",
        "        ('Iteration: {}\\tLog-likelihood: {}\\tNum. of topics: {}'.format(i, mdl.ll_per_word, mdl.live_k))\n",
        "\n",
        "coh = tp.coherence.Coherence(mdl, coherence='c_v')\n",
        "average_coherence = coh.get_score()\n",
        "topic_len = np.array(np.nonzero(mdl.get_count_by_topics())).size\n",
        "\n",
        "print('topic{}_opti topic{}_Coherence: {:.4}_Perplexity: {:.4}'.format(38, topic_len, average_coherence, mdl.perplexity))\n",
        "\n",
        "topic_results = {'Topics': [], 'document_count': [], 'represent': [], 'words': [], 'word_probability': []}\n",
        "\n",
        "important_topics = [k for k, v in sorted(enumerate(mdl.get_count_by_topics()), key=lambda x:x[1], reverse=True)]\n",
        "important_topics.sort()\n",
        "\n",
        "# 먼저 토픽 개수만큼 공간을 만들어줍니다.\n",
        "buckets = [[] for _ in range(len(important_topics))]\n",
        "\n",
        "# extract candidates for auto topic labeling\n",
        "extractor = tp.label.PMIExtractor(min_cf=5, min_df=10, min_len=1, max_len=4, max_cand=10000)\n",
        "cands = extractor.extract(mdl)\n",
        "\n",
        "labeler = tp.label.FoRelevance(mdl, cands, min_df=10, smoothing=1e-2, mu=0.25)\n",
        "\n",
        "for k in tqdm(important_topics):\n",
        "    if not mdl.is_live_topic(k): continue # remove un-assigned topics at the end (i.e. not alive)\n",
        "\n",
        "    # 전체 문헌에 대해, top 1 주제 번호를 찾아 그 그룹에 해당 문헌을 포함시킵니다.\n",
        "    for d in mdl.docs:\n",
        "        topic = d.get_topics(top_n=1)[0][0]\n",
        "        if k == topic:\n",
        "            buckets[k].append(topic)\n",
        "\n",
        "    topic_results['Topics'].append(k)\n",
        "    topic_results['document_count'].append(len(buckets[k]))\n",
        "    label = \"Labels:\", ', '.join(label for label, score in labeler.get_topic_labels(k, top_n=40))\n",
        "    topic_results['represent'].append(label)\n",
        "    word = \"Words:\", ', '.join(word for word, prob in mdl.get_topic_words(k, top_n=40))\n",
        "    prob = [np.round(prob,6) for word, prob in mdl.get_topic_words(k, top_n=40)]\n",
        "    topic_results['words'].append(word)\n",
        "    word_porobability = dict(zip(word, prob))\n",
        "    topic_results['word_probability'].append(word_porobability)\n",
        "\n",
        "pd.DataFrame(topic_results).to_excel('0527_result_topic_cc.xlsx', index=False)"
      ]
    },
    {
      "cell_type": "code",
      "execution_count": null,
      "metadata": {
        "id": "Mq1DhH-6H1K3",
        "outputId": "bad2d77c-29bc-4582-d0f3-215b4a449183"
      },
      "outputs": [
        {
          "name": "stdout",
          "output_type": "stream",
          "text": [
            "Num docs belonging to topic #0: 5046\n",
            "Num docs belonging to topic #1: 736\n",
            "Num docs belonging to topic #2: 380\n",
            "Num docs belonging to topic #3: 31\n",
            "Num docs belonging to topic #4: 7\n",
            "Num docs belonging to topic #5: 416\n",
            "Num docs belonging to topic #6: 2640\n",
            "Num docs belonging to topic #7: 561\n",
            "Num docs belonging to topic #8: 9\n",
            "Num docs belonging to topic #9: 426\n",
            "Num docs belonging to topic #10: 66\n",
            "Num docs belonging to topic #11: 6\n",
            "Num docs belonging to topic #12: 1297\n",
            "Num docs belonging to topic #13: 6\n",
            "Num docs belonging to topic #14: 54\n",
            "Num docs belonging to topic #15: 271\n",
            "Num docs belonging to topic #16: 238\n",
            "Num docs belonging to topic #17: 31\n",
            "Num docs belonging to topic #18: 2491\n",
            "Num docs belonging to topic #19: 1921\n",
            "Num docs belonging to topic #20: 234\n",
            "Num docs belonging to topic #21: 8\n",
            "Num docs belonging to topic #22: 503\n",
            "Num docs belonging to topic #23: 1421\n",
            "Num docs belonging to topic #24: 1170\n",
            "Num docs belonging to topic #25: 937\n",
            "Num docs belonging to topic #26: 2099\n",
            "Num docs belonging to topic #27: 8\n",
            "Num docs belonging to topic #28: 7\n",
            "Num docs belonging to topic #29: 121\n",
            "Num docs belonging to topic #30: 2706\n",
            "Num docs belonging to topic #31: 4500\n",
            "Num docs belonging to topic #32: 12\n",
            "Num docs belonging to topic #33: 2767\n",
            "Num docs belonging to topic #34: 0\n",
            "Num docs belonging to topic #35: 1\n",
            "Num docs belonging to topic #36: 0\n",
            "Num docs belonging to topic #37: 3\n",
            "Num docs belonging to topic #38: 1\n",
            "Num docs belonging to topic #39: 0\n"
          ]
        },
        {
          "data": {
            "text/html": [
              "<div>\n",
              "<style scoped>\n",
              "    .dataframe tbody tr th:only-of-type {\n",
              "        vertical-align: middle;\n",
              "    }\n",
              "\n",
              "    .dataframe tbody tr th {\n",
              "        vertical-align: top;\n",
              "    }\n",
              "\n",
              "    .dataframe thead th {\n",
              "        text-align: right;\n",
              "    }\n",
              "</style>\n",
              "<table border=\"1\" class=\"dataframe\">\n",
              "  <thead>\n",
              "    <tr style=\"text-align: right;\">\n",
              "      <th></th>\n",
              "      <th>mdl.docs</th>\n",
              "      <th>topic</th>\n",
              "    </tr>\n",
              "  </thead>\n",
              "  <tbody>\n",
              "    <tr>\n",
              "      <th>0</th>\n",
              "      <td>(climate-change, global, threat, time, signato...</td>\n",
              "      <td>0</td>\n",
              "    </tr>\n",
              "    <tr>\n",
              "      <th>1</th>\n",
              "      <td>(multiple, vision, urbanism, respond, climate,...</td>\n",
              "      <td>0</td>\n",
              "    </tr>\n",
              "    <tr>\n",
              "      <th>2</th>\n",
              "      <td>(valuable, work, climate, crisis, contribution...</td>\n",
              "      <td>0</td>\n",
              "    </tr>\n",
              "    <tr>\n",
              "      <th>3</th>\n",
              "      <td>(article, stock, climate-change, special, IPCC...</td>\n",
              "      <td>0</td>\n",
              "    </tr>\n",
              "    <tr>\n",
              "      <th>4</th>\n",
              "      <td>(affected, climate-change, main, challenge, ag...</td>\n",
              "      <td>0</td>\n",
              "    </tr>\n",
              "    <tr>\n",
              "      <th>...</th>\n",
              "      <td>...</td>\n",
              "      <td>...</td>\n",
              "    </tr>\n",
              "    <tr>\n",
              "      <th>33126</th>\n",
              "      <td>(compare, energy, ventilation, performance, le...</td>\n",
              "      <td>35</td>\n",
              "    </tr>\n",
              "    <tr>\n",
              "      <th>33127</th>\n",
              "      <td>(letter, editor)</td>\n",
              "      <td>37</td>\n",
              "    </tr>\n",
              "    <tr>\n",
              "      <th>33128</th>\n",
              "      <td>(solar, system, water, water, earth, water, co...</td>\n",
              "      <td>37</td>\n",
              "    </tr>\n",
              "    <tr>\n",
              "      <th>33129</th>\n",
              "      <td>(earth, water, core, sustainable-development, ...</td>\n",
              "      <td>37</td>\n",
              "    </tr>\n",
              "    <tr>\n",
              "      <th>33130</th>\n",
              "      <td>(GAINS, global, air-ocean, in-situ, system, ne...</td>\n",
              "      <td>38</td>\n",
              "    </tr>\n",
              "  </tbody>\n",
              "</table>\n",
              "<p>33131 rows × 2 columns</p>\n",
              "</div>"
            ],
            "text/plain": [
              "                                                mdl.docs  topic\n",
              "0      (climate-change, global, threat, time, signato...      0\n",
              "1      (multiple, vision, urbanism, respond, climate,...      0\n",
              "2      (valuable, work, climate, crisis, contribution...      0\n",
              "3      (article, stock, climate-change, special, IPCC...      0\n",
              "4      (affected, climate-change, main, challenge, ag...      0\n",
              "...                                                  ...    ...\n",
              "33126  (compare, energy, ventilation, performance, le...     35\n",
              "33127                                   (letter, editor)     37\n",
              "33128  (solar, system, water, water, earth, water, co...     37\n",
              "33129  (earth, water, core, sustainable-development, ...     37\n",
              "33130  (GAINS, global, air-ocean, in-situ, system, ne...     38\n",
              "\n",
              "[33131 rows x 2 columns]"
            ]
          },
          "execution_count": 11,
          "metadata": {},
          "output_type": "execute_result"
        }
      ],
      "source": [
        "topic_doc = {'mdl.docs': [],\n",
        "             'topic': []}\n",
        "\n",
        "\n",
        "# 먼저 토픽 개수만큼 공간을 만들어줍니다.\n",
        "buckets = [[] for _ in range(mdl.k)]\n",
        "# 전체 문헌에 대해, top 1 주제 번호를 찾아 그 그룹에 해당 문헌을 포함시킵니다.\n",
        "for d in mdl.docs:\n",
        "    buckets[d.get_topics(top_n=1)[0][0]].append(d)\n",
        "\n",
        "for k in range(mdl.k):\n",
        "    print('Num docs belonging to topic #%d: %d' % (k, len(buckets[k])))\n",
        "\n",
        "topic = [[] for _ in range(mdl.k)]\n",
        "for k in range(mdl.k):\n",
        "    for d in buckets[k]:\n",
        "        topic_doc['mdl.docs'].append(d)\n",
        "        topic_doc['topic'].append(k)\n",
        "\n",
        "pd.DataFrame(topic_doc).to_excel('0527_topic_doc_cc.xlsx', index=False)\n",
        "topic_doc = pd.DataFrame(topic_doc)\n",
        "topic_doc"
      ]
    },
    {
      "cell_type": "code",
      "execution_count": null,
      "metadata": {
        "id": "52Hp_lHCH1K4",
        "outputId": "726bf13c-fffc-4a3f-a49e-639b64b32460"
      },
      "outputs": [
        {
          "data": {
            "text/html": [
              "<div>\n",
              "<style scoped>\n",
              "    .dataframe tbody tr th:only-of-type {\n",
              "        vertical-align: middle;\n",
              "    }\n",
              "\n",
              "    .dataframe tbody tr th {\n",
              "        vertical-align: top;\n",
              "    }\n",
              "\n",
              "    .dataframe thead th {\n",
              "        text-align: right;\n",
              "    }\n",
              "</style>\n",
              "<table border=\"1\" class=\"dataframe\">\n",
              "  <thead>\n",
              "    <tr style=\"text-align: right;\">\n",
              "      <th></th>\n",
              "      <th>No</th>\n",
              "      <th>corpus</th>\n",
              "      <th>Article Title</th>\n",
              "      <th>Abstract</th>\n",
              "      <th>Year</th>\n",
              "    </tr>\n",
              "  </thead>\n",
              "  <tbody>\n",
              "    <tr>\n",
              "      <th>0</th>\n",
              "      <td>0</td>\n",
              "      <td>(climate-change, global, threat, time, signato...</td>\n",
              "      <td>Aligning Urban Policy with Climate Action in t...</td>\n",
              "      <td>Climate change is the biggest global threat of...</td>\n",
              "      <td>2019</td>\n",
              "    </tr>\n",
              "    <tr>\n",
              "      <th>1</th>\n",
              "      <td>1</td>\n",
              "      <td>(multiple, vision, urbanism, respond, climate,...</td>\n",
              "      <td>Transnational Governance and the Urban Politic...</td>\n",
              "      <td>Multiple visions for how urbanism can respond ...</td>\n",
              "      <td>2022</td>\n",
              "    </tr>\n",
              "    <tr>\n",
              "      <th>2</th>\n",
              "      <td>2</td>\n",
              "      <td>(climate-change, scenario, japan, clear, impli...</td>\n",
              "      <td>Adaptation measures for climate change and the...</td>\n",
              "      <td>Climate change scenarios are discussed for Jap...</td>\n",
              "      <td>2003</td>\n",
              "    </tr>\n",
              "    <tr>\n",
              "      <th>3</th>\n",
              "      <td>3</td>\n",
              "      <td>(valuable, work, climate, crisis, contribution...</td>\n",
              "      <td>Addressing the Climate Crisis: An Action Plan ...</td>\n",
              "      <td>Psychologists have conducted valuable work on ...</td>\n",
              "      <td>2022</td>\n",
              "    </tr>\n",
              "    <tr>\n",
              "      <th>4</th>\n",
              "      <td>4</td>\n",
              "      <td>(article, stock, climate-change, special, IPCC...</td>\n",
              "      <td>Global warming, state of scientific knowledge,...</td>\n",
              "      <td>This article takes stock of climate change, ba...</td>\n",
              "      <td>2020</td>\n",
              "    </tr>\n",
              "    <tr>\n",
              "      <th>...</th>\n",
              "      <td>...</td>\n",
              "      <td>...</td>\n",
              "      <td>...</td>\n",
              "      <td>...</td>\n",
              "      <td>...</td>\n",
              "    </tr>\n",
              "    <tr>\n",
              "      <th>33126</th>\n",
              "      <td>33126</td>\n",
              "      <td>(purposethis, study, aim, describe, bibliometr...</td>\n",
              "      <td>A systematic bibliometric analysis of studies ...</td>\n",
              "      <td>PurposeThis study aims to describe a bibliomet...</td>\n",
              "      <td>2023</td>\n",
              "    </tr>\n",
              "    <tr>\n",
              "      <th>33127</th>\n",
              "      <td>33127</td>\n",
              "      <td>(increase, price, dependence, fossil, fuel, co...</td>\n",
              "      <td>Dual fuel ethanol port injection in a compress...</td>\n",
              "      <td>The increase in prices, dependence on fossil f...</td>\n",
              "      <td>2021</td>\n",
              "    </tr>\n",
              "    <tr>\n",
              "      <th>33128</th>\n",
              "      <td>33128</td>\n",
              "      <td>(streptomyces, specie, antibiotic, production,...</td>\n",
              "      <td>A Proteomic Analysis Indicates That Oxidative ...</td>\n",
              "      <td>In most Streptomyces species, antibiotic produ...</td>\n",
              "      <td>2022</td>\n",
              "    </tr>\n",
              "    <tr>\n",
              "      <th>33129</th>\n",
              "      <td>33129</td>\n",
              "      <td>(synthesis, procedure, dodecanethiol, wurtzite...</td>\n",
              "      <td>Understanding quantum confinement and ligand r...</td>\n",
              "      <td>We report a synthesis procedure for dodecaneth...</td>\n",
              "      <td>2018</td>\n",
              "    </tr>\n",
              "    <tr>\n",
              "      <th>33130</th>\n",
              "      <td>33130</td>\n",
              "      <td>(asphaltene, deposition, reservoir, pipeline, ...</td>\n",
              "      <td>Experimental investigation of a novel multifun...</td>\n",
              "      <td>Asphaltene deposition in the reservoir and the...</td>\n",
              "      <td>2020</td>\n",
              "    </tr>\n",
              "  </tbody>\n",
              "</table>\n",
              "<p>33131 rows × 5 columns</p>\n",
              "</div>"
            ],
            "text/plain": [
              "          No                                             corpus  \\\n",
              "0          0  (climate-change, global, threat, time, signato...   \n",
              "1          1  (multiple, vision, urbanism, respond, climate,...   \n",
              "2          2  (climate-change, scenario, japan, clear, impli...   \n",
              "3          3  (valuable, work, climate, crisis, contribution...   \n",
              "4          4  (article, stock, climate-change, special, IPCC...   \n",
              "...      ...                                                ...   \n",
              "33126  33126  (purposethis, study, aim, describe, bibliometr...   \n",
              "33127  33127  (increase, price, dependence, fossil, fuel, co...   \n",
              "33128  33128  (streptomyces, specie, antibiotic, production,...   \n",
              "33129  33129  (synthesis, procedure, dodecanethiol, wurtzite...   \n",
              "33130  33130  (asphaltene, deposition, reservoir, pipeline, ...   \n",
              "\n",
              "                                           Article Title  \\\n",
              "0      Aligning Urban Policy with Climate Action in t...   \n",
              "1      Transnational Governance and the Urban Politic...   \n",
              "2      Adaptation measures for climate change and the...   \n",
              "3      Addressing the Climate Crisis: An Action Plan ...   \n",
              "4      Global warming, state of scientific knowledge,...   \n",
              "...                                                  ...   \n",
              "33126  A systematic bibliometric analysis of studies ...   \n",
              "33127  Dual fuel ethanol port injection in a compress...   \n",
              "33128  A Proteomic Analysis Indicates That Oxidative ...   \n",
              "33129  Understanding quantum confinement and ligand r...   \n",
              "33130  Experimental investigation of a novel multifun...   \n",
              "\n",
              "                                                Abstract  Year  \n",
              "0      Climate change is the biggest global threat of...  2019  \n",
              "1      Multiple visions for how urbanism can respond ...  2022  \n",
              "2      Climate change scenarios are discussed for Jap...  2003  \n",
              "3      Psychologists have conducted valuable work on ...  2022  \n",
              "4      This article takes stock of climate change, ba...  2020  \n",
              "...                                                  ...   ...  \n",
              "33126  PurposeThis study aims to describe a bibliomet...  2023  \n",
              "33127  The increase in prices, dependence on fossil f...  2021  \n",
              "33128  In most Streptomyces species, antibiotic produ...  2022  \n",
              "33129  We report a synthesis procedure for dodecaneth...  2018  \n",
              "33130  Asphaltene deposition in the reservoir and the...  2020  \n",
              "\n",
              "[33131 rows x 5 columns]"
            ]
          },
          "execution_count": 12,
          "metadata": {},
          "output_type": "execute_result"
        }
      ],
      "source": [
        "full_content = {'No' : [], 'corpus' : [], 'Article Title' : [], 'Abstract' : [], 'Year' : []}\n",
        "\n",
        "full_content['No'] = range(0,len(corpus))\n",
        "full_content['corpus'] =  corpus\n",
        "full_content['Article Title'] = content['Article Title']\n",
        "full_content['Abstract'] = content['Abstract']\n",
        "# full_content['sentence'] = sentence\n",
        "full_content['Year'] = content['Publication Year']\n",
        "\n",
        "df = pd.DataFrame(full_content)\n",
        "df.to_excel('0527_full_content_cc.xlsx')\n",
        "df"
      ]
    },
    {
      "cell_type": "code",
      "execution_count": null,
      "metadata": {
        "id": "vGjgb5DnH1K4"
      },
      "outputs": [],
      "source": [
        "full_docs = pd.read_excel('0527_full_content_cc.xlsx',dtype=object)\n",
        "topic_docs = pd.read_excel('0527_topic_doc_cc.xlsx',dtype=object)"
      ]
    },
    {
      "cell_type": "code",
      "execution_count": null,
      "metadata": {
        "id": "ug2OcqgBH1K4",
        "outputId": "4942647e-f79e-4b1d-c925-445911728184"
      },
      "outputs": [
        {
          "data": {
            "text/html": [
              "<div>\n",
              "<style scoped>\n",
              "    .dataframe tbody tr th:only-of-type {\n",
              "        vertical-align: middle;\n",
              "    }\n",
              "\n",
              "    .dataframe tbody tr th {\n",
              "        vertical-align: top;\n",
              "    }\n",
              "\n",
              "    .dataframe thead th {\n",
              "        text-align: right;\n",
              "    }\n",
              "</style>\n",
              "<table border=\"1\" class=\"dataframe\">\n",
              "  <thead>\n",
              "    <tr style=\"text-align: right;\">\n",
              "      <th></th>\n",
              "      <th>No</th>\n",
              "      <th>corpus</th>\n",
              "      <th>Article Title</th>\n",
              "      <th>Abstract</th>\n",
              "      <th>Year</th>\n",
              "    </tr>\n",
              "  </thead>\n",
              "  <tbody>\n",
              "    <tr>\n",
              "      <th>0</th>\n",
              "      <td>0</td>\n",
              "      <td>&lt;tomotopy.Document with words=\"climate-change ...</td>\n",
              "      <td>Aligning Urban Policy with Climate Action in t...</td>\n",
              "      <td>Climate change is the biggest global threat of...</td>\n",
              "      <td>2019</td>\n",
              "    </tr>\n",
              "    <tr>\n",
              "      <th>1</th>\n",
              "      <td>1</td>\n",
              "      <td>&lt;tomotopy.Document with words=\"multiple vision...</td>\n",
              "      <td>Transnational Governance and the Urban Politic...</td>\n",
              "      <td>Multiple visions for how urbanism can respond ...</td>\n",
              "      <td>2022</td>\n",
              "    </tr>\n",
              "    <tr>\n",
              "      <th>2</th>\n",
              "      <td>2</td>\n",
              "      <td>&lt;tomotopy.Document with words=\"climate-change ...</td>\n",
              "      <td>Adaptation measures for climate change and the...</td>\n",
              "      <td>Climate change scenarios are discussed for Jap...</td>\n",
              "      <td>2003</td>\n",
              "    </tr>\n",
              "    <tr>\n",
              "      <th>3</th>\n",
              "      <td>3</td>\n",
              "      <td>&lt;tomotopy.Document with words=\"valuable work c...</td>\n",
              "      <td>Addressing the Climate Crisis: An Action Plan ...</td>\n",
              "      <td>Psychologists have conducted valuable work on ...</td>\n",
              "      <td>2022</td>\n",
              "    </tr>\n",
              "    <tr>\n",
              "      <th>4</th>\n",
              "      <td>4</td>\n",
              "      <td>&lt;tomotopy.Document with words=\"article stock c...</td>\n",
              "      <td>Global warming, state of scientific knowledge,...</td>\n",
              "      <td>This article takes stock of climate change, ba...</td>\n",
              "      <td>2020</td>\n",
              "    </tr>\n",
              "    <tr>\n",
              "      <th>...</th>\n",
              "      <td>...</td>\n",
              "      <td>...</td>\n",
              "      <td>...</td>\n",
              "      <td>...</td>\n",
              "      <td>...</td>\n",
              "    </tr>\n",
              "    <tr>\n",
              "      <th>33126</th>\n",
              "      <td>33126</td>\n",
              "      <td>&lt;tomotopy.Document with words=\"purposethis stu...</td>\n",
              "      <td>A systematic bibliometric analysis of studies ...</td>\n",
              "      <td>PurposeThis study aims to describe a bibliomet...</td>\n",
              "      <td>2023</td>\n",
              "    </tr>\n",
              "    <tr>\n",
              "      <th>33127</th>\n",
              "      <td>33127</td>\n",
              "      <td>&lt;tomotopy.Document with words=\"increase price ...</td>\n",
              "      <td>Dual fuel ethanol port injection in a compress...</td>\n",
              "      <td>The increase in prices, dependence on fossil f...</td>\n",
              "      <td>2021</td>\n",
              "    </tr>\n",
              "    <tr>\n",
              "      <th>33128</th>\n",
              "      <td>33128</td>\n",
              "      <td>&lt;tomotopy.Document with words=\"streptomyces sp...</td>\n",
              "      <td>A Proteomic Analysis Indicates That Oxidative ...</td>\n",
              "      <td>In most Streptomyces species, antibiotic produ...</td>\n",
              "      <td>2022</td>\n",
              "    </tr>\n",
              "    <tr>\n",
              "      <th>33129</th>\n",
              "      <td>33129</td>\n",
              "      <td>&lt;tomotopy.Document with words=\"synthesis proce...</td>\n",
              "      <td>Understanding quantum confinement and ligand r...</td>\n",
              "      <td>We report a synthesis procedure for dodecaneth...</td>\n",
              "      <td>2018</td>\n",
              "    </tr>\n",
              "    <tr>\n",
              "      <th>33130</th>\n",
              "      <td>33130</td>\n",
              "      <td>&lt;tomotopy.Document with words=\"asphaltene depo...</td>\n",
              "      <td>Experimental investigation of a novel multifun...</td>\n",
              "      <td>Asphaltene deposition in the reservoir and the...</td>\n",
              "      <td>2020</td>\n",
              "    </tr>\n",
              "  </tbody>\n",
              "</table>\n",
              "<p>33131 rows × 5 columns</p>\n",
              "</div>"
            ],
            "text/plain": [
              "          No                                             corpus  \\\n",
              "0          0  <tomotopy.Document with words=\"climate-change ...   \n",
              "1          1  <tomotopy.Document with words=\"multiple vision...   \n",
              "2          2  <tomotopy.Document with words=\"climate-change ...   \n",
              "3          3  <tomotopy.Document with words=\"valuable work c...   \n",
              "4          4  <tomotopy.Document with words=\"article stock c...   \n",
              "...      ...                                                ...   \n",
              "33126  33126  <tomotopy.Document with words=\"purposethis stu...   \n",
              "33127  33127  <tomotopy.Document with words=\"increase price ...   \n",
              "33128  33128  <tomotopy.Document with words=\"streptomyces sp...   \n",
              "33129  33129  <tomotopy.Document with words=\"synthesis proce...   \n",
              "33130  33130  <tomotopy.Document with words=\"asphaltene depo...   \n",
              "\n",
              "                                           Article Title  \\\n",
              "0      Aligning Urban Policy with Climate Action in t...   \n",
              "1      Transnational Governance and the Urban Politic...   \n",
              "2      Adaptation measures for climate change and the...   \n",
              "3      Addressing the Climate Crisis: An Action Plan ...   \n",
              "4      Global warming, state of scientific knowledge,...   \n",
              "...                                                  ...   \n",
              "33126  A systematic bibliometric analysis of studies ...   \n",
              "33127  Dual fuel ethanol port injection in a compress...   \n",
              "33128  A Proteomic Analysis Indicates That Oxidative ...   \n",
              "33129  Understanding quantum confinement and ligand r...   \n",
              "33130  Experimental investigation of a novel multifun...   \n",
              "\n",
              "                                                Abstract  Year  \n",
              "0      Climate change is the biggest global threat of...  2019  \n",
              "1      Multiple visions for how urbanism can respond ...  2022  \n",
              "2      Climate change scenarios are discussed for Jap...  2003  \n",
              "3      Psychologists have conducted valuable work on ...  2022  \n",
              "4      This article takes stock of climate change, ba...  2020  \n",
              "...                                                  ...   ...  \n",
              "33126  PurposeThis study aims to describe a bibliomet...  2023  \n",
              "33127  The increase in prices, dependence on fossil f...  2021  \n",
              "33128  In most Streptomyces species, antibiotic produ...  2022  \n",
              "33129  We report a synthesis procedure for dodecaneth...  2018  \n",
              "33130  Asphaltene deposition in the reservoir and the...  2020  \n",
              "\n",
              "[33131 rows x 5 columns]"
            ]
          },
          "execution_count": 14,
          "metadata": {},
          "output_type": "execute_result"
        }
      ],
      "source": [
        "full_docs = full_docs.drop(['Unnamed: 0'], axis=1)\n",
        "full_docs"
      ]
    },
    {
      "cell_type": "code",
      "execution_count": null,
      "metadata": {
        "id": "mAJou-32H1K4",
        "outputId": "5b34fa17-3367-453e-b921-2faa33c08013"
      },
      "outputs": [
        {
          "data": {
            "text/html": [
              "<div>\n",
              "<style scoped>\n",
              "    .dataframe tbody tr th:only-of-type {\n",
              "        vertical-align: middle;\n",
              "    }\n",
              "\n",
              "    .dataframe tbody tr th {\n",
              "        vertical-align: top;\n",
              "    }\n",
              "\n",
              "    .dataframe thead th {\n",
              "        text-align: right;\n",
              "    }\n",
              "</style>\n",
              "<table border=\"1\" class=\"dataframe\">\n",
              "  <thead>\n",
              "    <tr style=\"text-align: right;\">\n",
              "      <th></th>\n",
              "      <th>mdl.docs</th>\n",
              "      <th>topic</th>\n",
              "    </tr>\n",
              "  </thead>\n",
              "  <tbody>\n",
              "    <tr>\n",
              "      <th>0</th>\n",
              "      <td>&lt;tomotopy.Document with words=\"climate-change ...</td>\n",
              "      <td>0</td>\n",
              "    </tr>\n",
              "    <tr>\n",
              "      <th>1</th>\n",
              "      <td>&lt;tomotopy.Document with words=\"multiple vision...</td>\n",
              "      <td>0</td>\n",
              "    </tr>\n",
              "    <tr>\n",
              "      <th>2</th>\n",
              "      <td>&lt;tomotopy.Document with words=\"valuable work c...</td>\n",
              "      <td>0</td>\n",
              "    </tr>\n",
              "    <tr>\n",
              "      <th>3</th>\n",
              "      <td>&lt;tomotopy.Document with words=\"article stock c...</td>\n",
              "      <td>0</td>\n",
              "    </tr>\n",
              "    <tr>\n",
              "      <th>4</th>\n",
              "      <td>&lt;tomotopy.Document with words=\"affected climat...</td>\n",
              "      <td>0</td>\n",
              "    </tr>\n",
              "    <tr>\n",
              "      <th>...</th>\n",
              "      <td>...</td>\n",
              "      <td>...</td>\n",
              "    </tr>\n",
              "    <tr>\n",
              "      <th>33126</th>\n",
              "      <td>&lt;tomotopy.Document with words=\"compare energy ...</td>\n",
              "      <td>35</td>\n",
              "    </tr>\n",
              "    <tr>\n",
              "      <th>33127</th>\n",
              "      <td>&lt;tomotopy.Document with words=\"letter editor\"&gt;</td>\n",
              "      <td>37</td>\n",
              "    </tr>\n",
              "    <tr>\n",
              "      <th>33128</th>\n",
              "      <td>&lt;tomotopy.Document with words=\"solar system wa...</td>\n",
              "      <td>37</td>\n",
              "    </tr>\n",
              "    <tr>\n",
              "      <th>33129</th>\n",
              "      <td>&lt;tomotopy.Document with words=\"earth water cor...</td>\n",
              "      <td>37</td>\n",
              "    </tr>\n",
              "    <tr>\n",
              "      <th>33130</th>\n",
              "      <td>&lt;tomotopy.Document with words=\"GAINS global ai...</td>\n",
              "      <td>38</td>\n",
              "    </tr>\n",
              "  </tbody>\n",
              "</table>\n",
              "<p>33131 rows × 2 columns</p>\n",
              "</div>"
            ],
            "text/plain": [
              "                                                mdl.docs topic\n",
              "0      <tomotopy.Document with words=\"climate-change ...     0\n",
              "1      <tomotopy.Document with words=\"multiple vision...     0\n",
              "2      <tomotopy.Document with words=\"valuable work c...     0\n",
              "3      <tomotopy.Document with words=\"article stock c...     0\n",
              "4      <tomotopy.Document with words=\"affected climat...     0\n",
              "...                                                  ...   ...\n",
              "33126  <tomotopy.Document with words=\"compare energy ...    35\n",
              "33127     <tomotopy.Document with words=\"letter editor\">    37\n",
              "33128  <tomotopy.Document with words=\"solar system wa...    37\n",
              "33129  <tomotopy.Document with words=\"earth water cor...    37\n",
              "33130  <tomotopy.Document with words=\"GAINS global ai...    38\n",
              "\n",
              "[33131 rows x 2 columns]"
            ]
          },
          "execution_count": 15,
          "metadata": {},
          "output_type": "execute_result"
        }
      ],
      "source": [
        "topic_docs"
      ]
    },
    {
      "cell_type": "code",
      "execution_count": null,
      "metadata": {
        "id": "76GcYEoDH1K4",
        "outputId": "7c8ed096-82bf-4d38-fcb7-36516cad70f8"
      },
      "outputs": [
        {
          "data": {
            "text/html": [
              "<div>\n",
              "<style scoped>\n",
              "    .dataframe tbody tr th:only-of-type {\n",
              "        vertical-align: middle;\n",
              "    }\n",
              "\n",
              "    .dataframe tbody tr th {\n",
              "        vertical-align: top;\n",
              "    }\n",
              "\n",
              "    .dataframe thead th {\n",
              "        text-align: right;\n",
              "    }\n",
              "</style>\n",
              "<table border=\"1\" class=\"dataframe\">\n",
              "  <thead>\n",
              "    <tr style=\"text-align: right;\">\n",
              "      <th></th>\n",
              "      <th>No</th>\n",
              "      <th>corpus</th>\n",
              "      <th>Article Title</th>\n",
              "      <th>Abstract</th>\n",
              "      <th>Year</th>\n",
              "      <th>mdl.docs</th>\n",
              "      <th>topic</th>\n",
              "    </tr>\n",
              "  </thead>\n",
              "  <tbody>\n",
              "    <tr>\n",
              "      <th>0</th>\n",
              "      <td>0</td>\n",
              "      <td>&lt;tomotopy.Document with words=\"climate-change ...</td>\n",
              "      <td>Aligning Urban Policy with Climate Action in t...</td>\n",
              "      <td>Climate change is the biggest global threat of...</td>\n",
              "      <td>2019</td>\n",
              "      <td>&lt;tomotopy.Document with words=\"climate-change ...</td>\n",
              "      <td>0</td>\n",
              "    </tr>\n",
              "    <tr>\n",
              "      <th>1</th>\n",
              "      <td>1</td>\n",
              "      <td>&lt;tomotopy.Document with words=\"multiple vision...</td>\n",
              "      <td>Transnational Governance and the Urban Politic...</td>\n",
              "      <td>Multiple visions for how urbanism can respond ...</td>\n",
              "      <td>2022</td>\n",
              "      <td>&lt;tomotopy.Document with words=\"multiple vision...</td>\n",
              "      <td>0</td>\n",
              "    </tr>\n",
              "    <tr>\n",
              "      <th>2</th>\n",
              "      <td>2</td>\n",
              "      <td>&lt;tomotopy.Document with words=\"climate-change ...</td>\n",
              "      <td>Adaptation measures for climate change and the...</td>\n",
              "      <td>Climate change scenarios are discussed for Jap...</td>\n",
              "      <td>2003</td>\n",
              "      <td>&lt;tomotopy.Document with words=\"climate-change ...</td>\n",
              "      <td>5</td>\n",
              "    </tr>\n",
              "    <tr>\n",
              "      <th>3</th>\n",
              "      <td>3</td>\n",
              "      <td>&lt;tomotopy.Document with words=\"valuable work c...</td>\n",
              "      <td>Addressing the Climate Crisis: An Action Plan ...</td>\n",
              "      <td>Psychologists have conducted valuable work on ...</td>\n",
              "      <td>2022</td>\n",
              "      <td>&lt;tomotopy.Document with words=\"valuable work c...</td>\n",
              "      <td>0</td>\n",
              "    </tr>\n",
              "    <tr>\n",
              "      <th>4</th>\n",
              "      <td>4</td>\n",
              "      <td>&lt;tomotopy.Document with words=\"article stock c...</td>\n",
              "      <td>Global warming, state of scientific knowledge,...</td>\n",
              "      <td>This article takes stock of climate change, ba...</td>\n",
              "      <td>2020</td>\n",
              "      <td>&lt;tomotopy.Document with words=\"article stock c...</td>\n",
              "      <td>0</td>\n",
              "    </tr>\n",
              "    <tr>\n",
              "      <th>...</th>\n",
              "      <td>...</td>\n",
              "      <td>...</td>\n",
              "      <td>...</td>\n",
              "      <td>...</td>\n",
              "      <td>...</td>\n",
              "      <td>...</td>\n",
              "      <td>...</td>\n",
              "    </tr>\n",
              "    <tr>\n",
              "      <th>33146</th>\n",
              "      <td>33126</td>\n",
              "      <td>&lt;tomotopy.Document with words=\"purposethis stu...</td>\n",
              "      <td>A systematic bibliometric analysis of studies ...</td>\n",
              "      <td>PurposeThis study aims to describe a bibliomet...</td>\n",
              "      <td>2023</td>\n",
              "      <td>&lt;tomotopy.Document with words=\"purposethis stu...</td>\n",
              "      <td>30</td>\n",
              "    </tr>\n",
              "    <tr>\n",
              "      <th>33147</th>\n",
              "      <td>33127</td>\n",
              "      <td>&lt;tomotopy.Document with words=\"increase price ...</td>\n",
              "      <td>Dual fuel ethanol port injection in a compress...</td>\n",
              "      <td>The increase in prices, dependence on fossil f...</td>\n",
              "      <td>2021</td>\n",
              "      <td>&lt;tomotopy.Document with words=\"increase price ...</td>\n",
              "      <td>17</td>\n",
              "    </tr>\n",
              "    <tr>\n",
              "      <th>33148</th>\n",
              "      <td>33128</td>\n",
              "      <td>&lt;tomotopy.Document with words=\"streptomyces sp...</td>\n",
              "      <td>A Proteomic Analysis Indicates That Oxidative ...</td>\n",
              "      <td>In most Streptomyces species, antibiotic produ...</td>\n",
              "      <td>2022</td>\n",
              "      <td>&lt;tomotopy.Document with words=\"streptomyces sp...</td>\n",
              "      <td>1</td>\n",
              "    </tr>\n",
              "    <tr>\n",
              "      <th>33149</th>\n",
              "      <td>33129</td>\n",
              "      <td>&lt;tomotopy.Document with words=\"synthesis proce...</td>\n",
              "      <td>Understanding quantum confinement and ligand r...</td>\n",
              "      <td>We report a synthesis procedure for dodecaneth...</td>\n",
              "      <td>2018</td>\n",
              "      <td>&lt;tomotopy.Document with words=\"synthesis proce...</td>\n",
              "      <td>7</td>\n",
              "    </tr>\n",
              "    <tr>\n",
              "      <th>33150</th>\n",
              "      <td>33130</td>\n",
              "      <td>&lt;tomotopy.Document with words=\"asphaltene depo...</td>\n",
              "      <td>Experimental investigation of a novel multifun...</td>\n",
              "      <td>Asphaltene deposition in the reservoir and the...</td>\n",
              "      <td>2020</td>\n",
              "      <td>&lt;tomotopy.Document with words=\"asphaltene depo...</td>\n",
              "      <td>7</td>\n",
              "    </tr>\n",
              "  </tbody>\n",
              "</table>\n",
              "<p>33151 rows × 7 columns</p>\n",
              "</div>"
            ],
            "text/plain": [
              "          No                                             corpus  \\\n",
              "0          0  <tomotopy.Document with words=\"climate-change ...   \n",
              "1          1  <tomotopy.Document with words=\"multiple vision...   \n",
              "2          2  <tomotopy.Document with words=\"climate-change ...   \n",
              "3          3  <tomotopy.Document with words=\"valuable work c...   \n",
              "4          4  <tomotopy.Document with words=\"article stock c...   \n",
              "...      ...                                                ...   \n",
              "33146  33126  <tomotopy.Document with words=\"purposethis stu...   \n",
              "33147  33127  <tomotopy.Document with words=\"increase price ...   \n",
              "33148  33128  <tomotopy.Document with words=\"streptomyces sp...   \n",
              "33149  33129  <tomotopy.Document with words=\"synthesis proce...   \n",
              "33150  33130  <tomotopy.Document with words=\"asphaltene depo...   \n",
              "\n",
              "                                           Article Title  \\\n",
              "0      Aligning Urban Policy with Climate Action in t...   \n",
              "1      Transnational Governance and the Urban Politic...   \n",
              "2      Adaptation measures for climate change and the...   \n",
              "3      Addressing the Climate Crisis: An Action Plan ...   \n",
              "4      Global warming, state of scientific knowledge,...   \n",
              "...                                                  ...   \n",
              "33146  A systematic bibliometric analysis of studies ...   \n",
              "33147  Dual fuel ethanol port injection in a compress...   \n",
              "33148  A Proteomic Analysis Indicates That Oxidative ...   \n",
              "33149  Understanding quantum confinement and ligand r...   \n",
              "33150  Experimental investigation of a novel multifun...   \n",
              "\n",
              "                                                Abstract  Year  \\\n",
              "0      Climate change is the biggest global threat of...  2019   \n",
              "1      Multiple visions for how urbanism can respond ...  2022   \n",
              "2      Climate change scenarios are discussed for Jap...  2003   \n",
              "3      Psychologists have conducted valuable work on ...  2022   \n",
              "4      This article takes stock of climate change, ba...  2020   \n",
              "...                                                  ...   ...   \n",
              "33146  PurposeThis study aims to describe a bibliomet...  2023   \n",
              "33147  The increase in prices, dependence on fossil f...  2021   \n",
              "33148  In most Streptomyces species, antibiotic produ...  2022   \n",
              "33149  We report a synthesis procedure for dodecaneth...  2018   \n",
              "33150  Asphaltene deposition in the reservoir and the...  2020   \n",
              "\n",
              "                                                mdl.docs topic  \n",
              "0      <tomotopy.Document with words=\"climate-change ...     0  \n",
              "1      <tomotopy.Document with words=\"multiple vision...     0  \n",
              "2      <tomotopy.Document with words=\"climate-change ...     5  \n",
              "3      <tomotopy.Document with words=\"valuable work c...     0  \n",
              "4      <tomotopy.Document with words=\"article stock c...     0  \n",
              "...                                                  ...   ...  \n",
              "33146  <tomotopy.Document with words=\"purposethis stu...    30  \n",
              "33147  <tomotopy.Document with words=\"increase price ...    17  \n",
              "33148  <tomotopy.Document with words=\"streptomyces sp...     1  \n",
              "33149  <tomotopy.Document with words=\"synthesis proce...     7  \n",
              "33150  <tomotopy.Document with words=\"asphaltene depo...     7  \n",
              "\n",
              "[33151 rows x 7 columns]"
            ]
          },
          "execution_count": 16,
          "metadata": {},
          "output_type": "execute_result"
        }
      ],
      "source": [
        "full_docs2 = full_docs[['No','corpus','Article Title','Abstract','Year']]\n",
        "df = pd.merge(full_docs2, topic_docs, how = 'left', left_on = 'corpus', right_on = 'mdl.docs')\n",
        "df"
      ]
    },
    {
      "cell_type": "code",
      "execution_count": null,
      "metadata": {
        "id": "8G_smGbiH1K4",
        "outputId": "7d88446c-bdf6-4d5d-c507-34a711ee03e5"
      },
      "outputs": [
        {
          "name": "stdout",
          "output_type": "stream",
          "text": [
            "20\n"
          ]
        },
        {
          "data": {
            "text/html": [
              "<div>\n",
              "<style scoped>\n",
              "    .dataframe tbody tr th:only-of-type {\n",
              "        vertical-align: middle;\n",
              "    }\n",
              "\n",
              "    .dataframe tbody tr th {\n",
              "        vertical-align: top;\n",
              "    }\n",
              "\n",
              "    .dataframe thead th {\n",
              "        text-align: right;\n",
              "    }\n",
              "</style>\n",
              "<table border=\"1\" class=\"dataframe\">\n",
              "  <thead>\n",
              "    <tr style=\"text-align: right;\">\n",
              "      <th></th>\n",
              "      <th>No</th>\n",
              "      <th>corpus</th>\n",
              "      <th>Article Title</th>\n",
              "      <th>Abstract</th>\n",
              "      <th>Year</th>\n",
              "      <th>mdl.docs</th>\n",
              "      <th>topic</th>\n",
              "    </tr>\n",
              "  </thead>\n",
              "  <tbody>\n",
              "    <tr>\n",
              "      <th>0</th>\n",
              "      <td>0</td>\n",
              "      <td>&lt;tomotopy.Document with words=\"climate-change ...</td>\n",
              "      <td>Aligning Urban Policy with Climate Action in t...</td>\n",
              "      <td>Climate change is the biggest global threat of...</td>\n",
              "      <td>2019</td>\n",
              "      <td>&lt;tomotopy.Document with words=\"climate-change ...</td>\n",
              "      <td>0</td>\n",
              "    </tr>\n",
              "    <tr>\n",
              "      <th>1</th>\n",
              "      <td>1</td>\n",
              "      <td>&lt;tomotopy.Document with words=\"multiple vision...</td>\n",
              "      <td>Transnational Governance and the Urban Politic...</td>\n",
              "      <td>Multiple visions for how urbanism can respond ...</td>\n",
              "      <td>2022</td>\n",
              "      <td>&lt;tomotopy.Document with words=\"multiple vision...</td>\n",
              "      <td>0</td>\n",
              "    </tr>\n",
              "    <tr>\n",
              "      <th>2</th>\n",
              "      <td>2</td>\n",
              "      <td>&lt;tomotopy.Document with words=\"climate-change ...</td>\n",
              "      <td>Adaptation measures for climate change and the...</td>\n",
              "      <td>Climate change scenarios are discussed for Jap...</td>\n",
              "      <td>2003</td>\n",
              "      <td>&lt;tomotopy.Document with words=\"climate-change ...</td>\n",
              "      <td>5</td>\n",
              "    </tr>\n",
              "    <tr>\n",
              "      <th>3</th>\n",
              "      <td>3</td>\n",
              "      <td>&lt;tomotopy.Document with words=\"valuable work c...</td>\n",
              "      <td>Addressing the Climate Crisis: An Action Plan ...</td>\n",
              "      <td>Psychologists have conducted valuable work on ...</td>\n",
              "      <td>2022</td>\n",
              "      <td>&lt;tomotopy.Document with words=\"valuable work c...</td>\n",
              "      <td>0</td>\n",
              "    </tr>\n",
              "    <tr>\n",
              "      <th>4</th>\n",
              "      <td>4</td>\n",
              "      <td>&lt;tomotopy.Document with words=\"article stock c...</td>\n",
              "      <td>Global warming, state of scientific knowledge,...</td>\n",
              "      <td>This article takes stock of climate change, ba...</td>\n",
              "      <td>2020</td>\n",
              "      <td>&lt;tomotopy.Document with words=\"article stock c...</td>\n",
              "      <td>0</td>\n",
              "    </tr>\n",
              "    <tr>\n",
              "      <th>...</th>\n",
              "      <td>...</td>\n",
              "      <td>...</td>\n",
              "      <td>...</td>\n",
              "      <td>...</td>\n",
              "      <td>...</td>\n",
              "      <td>...</td>\n",
              "      <td>...</td>\n",
              "    </tr>\n",
              "    <tr>\n",
              "      <th>33126</th>\n",
              "      <td>33126</td>\n",
              "      <td>&lt;tomotopy.Document with words=\"purposethis stu...</td>\n",
              "      <td>A systematic bibliometric analysis of studies ...</td>\n",
              "      <td>PurposeThis study aims to describe a bibliomet...</td>\n",
              "      <td>2023</td>\n",
              "      <td>&lt;tomotopy.Document with words=\"purposethis stu...</td>\n",
              "      <td>30</td>\n",
              "    </tr>\n",
              "    <tr>\n",
              "      <th>33127</th>\n",
              "      <td>33127</td>\n",
              "      <td>&lt;tomotopy.Document with words=\"increase price ...</td>\n",
              "      <td>Dual fuel ethanol port injection in a compress...</td>\n",
              "      <td>The increase in prices, dependence on fossil f...</td>\n",
              "      <td>2021</td>\n",
              "      <td>&lt;tomotopy.Document with words=\"increase price ...</td>\n",
              "      <td>17</td>\n",
              "    </tr>\n",
              "    <tr>\n",
              "      <th>33128</th>\n",
              "      <td>33128</td>\n",
              "      <td>&lt;tomotopy.Document with words=\"streptomyces sp...</td>\n",
              "      <td>A Proteomic Analysis Indicates That Oxidative ...</td>\n",
              "      <td>In most Streptomyces species, antibiotic produ...</td>\n",
              "      <td>2022</td>\n",
              "      <td>&lt;tomotopy.Document with words=\"streptomyces sp...</td>\n",
              "      <td>1</td>\n",
              "    </tr>\n",
              "    <tr>\n",
              "      <th>33129</th>\n",
              "      <td>33129</td>\n",
              "      <td>&lt;tomotopy.Document with words=\"synthesis proce...</td>\n",
              "      <td>Understanding quantum confinement and ligand r...</td>\n",
              "      <td>We report a synthesis procedure for dodecaneth...</td>\n",
              "      <td>2018</td>\n",
              "      <td>&lt;tomotopy.Document with words=\"synthesis proce...</td>\n",
              "      <td>7</td>\n",
              "    </tr>\n",
              "    <tr>\n",
              "      <th>33130</th>\n",
              "      <td>33130</td>\n",
              "      <td>&lt;tomotopy.Document with words=\"asphaltene depo...</td>\n",
              "      <td>Experimental investigation of a novel multifun...</td>\n",
              "      <td>Asphaltene deposition in the reservoir and the...</td>\n",
              "      <td>2020</td>\n",
              "      <td>&lt;tomotopy.Document with words=\"asphaltene depo...</td>\n",
              "      <td>7</td>\n",
              "    </tr>\n",
              "  </tbody>\n",
              "</table>\n",
              "<p>33131 rows × 7 columns</p>\n",
              "</div>"
            ],
            "text/plain": [
              "          No                                             corpus  \\\n",
              "0          0  <tomotopy.Document with words=\"climate-change ...   \n",
              "1          1  <tomotopy.Document with words=\"multiple vision...   \n",
              "2          2  <tomotopy.Document with words=\"climate-change ...   \n",
              "3          3  <tomotopy.Document with words=\"valuable work c...   \n",
              "4          4  <tomotopy.Document with words=\"article stock c...   \n",
              "...      ...                                                ...   \n",
              "33126  33126  <tomotopy.Document with words=\"purposethis stu...   \n",
              "33127  33127  <tomotopy.Document with words=\"increase price ...   \n",
              "33128  33128  <tomotopy.Document with words=\"streptomyces sp...   \n",
              "33129  33129  <tomotopy.Document with words=\"synthesis proce...   \n",
              "33130  33130  <tomotopy.Document with words=\"asphaltene depo...   \n",
              "\n",
              "                                           Article Title  \\\n",
              "0      Aligning Urban Policy with Climate Action in t...   \n",
              "1      Transnational Governance and the Urban Politic...   \n",
              "2      Adaptation measures for climate change and the...   \n",
              "3      Addressing the Climate Crisis: An Action Plan ...   \n",
              "4      Global warming, state of scientific knowledge,...   \n",
              "...                                                  ...   \n",
              "33126  A systematic bibliometric analysis of studies ...   \n",
              "33127  Dual fuel ethanol port injection in a compress...   \n",
              "33128  A Proteomic Analysis Indicates That Oxidative ...   \n",
              "33129  Understanding quantum confinement and ligand r...   \n",
              "33130  Experimental investigation of a novel multifun...   \n",
              "\n",
              "                                                Abstract  Year  \\\n",
              "0      Climate change is the biggest global threat of...  2019   \n",
              "1      Multiple visions for how urbanism can respond ...  2022   \n",
              "2      Climate change scenarios are discussed for Jap...  2003   \n",
              "3      Psychologists have conducted valuable work on ...  2022   \n",
              "4      This article takes stock of climate change, ba...  2020   \n",
              "...                                                  ...   ...   \n",
              "33126  PurposeThis study aims to describe a bibliomet...  2023   \n",
              "33127  The increase in prices, dependence on fossil f...  2021   \n",
              "33128  In most Streptomyces species, antibiotic produ...  2022   \n",
              "33129  We report a synthesis procedure for dodecaneth...  2018   \n",
              "33130  Asphaltene deposition in the reservoir and the...  2020   \n",
              "\n",
              "                                                mdl.docs topic  \n",
              "0      <tomotopy.Document with words=\"climate-change ...     0  \n",
              "1      <tomotopy.Document with words=\"multiple vision...     0  \n",
              "2      <tomotopy.Document with words=\"climate-change ...     5  \n",
              "3      <tomotopy.Document with words=\"valuable work c...     0  \n",
              "4      <tomotopy.Document with words=\"article stock c...     0  \n",
              "...                                                  ...   ...  \n",
              "33126  <tomotopy.Document with words=\"purposethis stu...    30  \n",
              "33127  <tomotopy.Document with words=\"increase price ...    17  \n",
              "33128  <tomotopy.Document with words=\"streptomyces sp...     1  \n",
              "33129  <tomotopy.Document with words=\"synthesis proce...     7  \n",
              "33130  <tomotopy.Document with words=\"asphaltene depo...     7  \n",
              "\n",
              "[33131 rows x 7 columns]"
            ]
          },
          "execution_count": 17,
          "metadata": {},
          "output_type": "execute_result"
        }
      ],
      "source": [
        "print(df.duplicated(['Abstract']).sum())\n",
        "df2 = df.drop_duplicates(['Abstract'],keep='first',ignore_index=True)\n",
        "df2"
      ]
    },
    {
      "cell_type": "code",
      "execution_count": null,
      "metadata": {
        "id": "YsuSG5teH1K5",
        "outputId": "62948ab6-63c3-445b-9271-da08ecadd4d1"
      },
      "outputs": [
        {
          "name": "stderr",
          "output_type": "stream",
          "text": [
            "C:\\Users\\Public\\Documents\\ESTsoft\\CreatorTemp\\ipykernel_40760\\1386363151.py:1: SettingWithCopyWarning: \n",
            "A value is trying to be set on a copy of a slice from a DataFrame.\n",
            "Try using .loc[row_indexer,col_indexer] = value instead\n",
            "\n",
            "See the caveats in the documentation: https://pandas.pydata.org/pandas-docs/stable/user_guide/indexing.html#returning-a-view-versus-a-copy\n",
            "  df2['count'] = 1\n"
          ]
        },
        {
          "data": {
            "text/html": [
              "<div>\n",
              "<style scoped>\n",
              "    .dataframe tbody tr th:only-of-type {\n",
              "        vertical-align: middle;\n",
              "    }\n",
              "\n",
              "    .dataframe tbody tr th {\n",
              "        vertical-align: top;\n",
              "    }\n",
              "\n",
              "    .dataframe thead th {\n",
              "        text-align: right;\n",
              "    }\n",
              "</style>\n",
              "<table border=\"1\" class=\"dataframe\">\n",
              "  <thead>\n",
              "    <tr style=\"text-align: right;\">\n",
              "      <th></th>\n",
              "      <th>No</th>\n",
              "      <th>corpus</th>\n",
              "      <th>Article Title</th>\n",
              "      <th>Abstract</th>\n",
              "      <th>Year</th>\n",
              "      <th>mdl.docs</th>\n",
              "      <th>topic</th>\n",
              "      <th>count</th>\n",
              "    </tr>\n",
              "  </thead>\n",
              "  <tbody>\n",
              "    <tr>\n",
              "      <th>0</th>\n",
              "      <td>0</td>\n",
              "      <td>&lt;tomotopy.Document with words=\"climate-change ...</td>\n",
              "      <td>Aligning Urban Policy with Climate Action in t...</td>\n",
              "      <td>Climate change is the biggest global threat of...</td>\n",
              "      <td>2019</td>\n",
              "      <td>&lt;tomotopy.Document with words=\"climate-change ...</td>\n",
              "      <td>0</td>\n",
              "      <td>1</td>\n",
              "    </tr>\n",
              "    <tr>\n",
              "      <th>1</th>\n",
              "      <td>1</td>\n",
              "      <td>&lt;tomotopy.Document with words=\"multiple vision...</td>\n",
              "      <td>Transnational Governance and the Urban Politic...</td>\n",
              "      <td>Multiple visions for how urbanism can respond ...</td>\n",
              "      <td>2022</td>\n",
              "      <td>&lt;tomotopy.Document with words=\"multiple vision...</td>\n",
              "      <td>0</td>\n",
              "      <td>1</td>\n",
              "    </tr>\n",
              "    <tr>\n",
              "      <th>2</th>\n",
              "      <td>2</td>\n",
              "      <td>&lt;tomotopy.Document with words=\"climate-change ...</td>\n",
              "      <td>Adaptation measures for climate change and the...</td>\n",
              "      <td>Climate change scenarios are discussed for Jap...</td>\n",
              "      <td>2003</td>\n",
              "      <td>&lt;tomotopy.Document with words=\"climate-change ...</td>\n",
              "      <td>5</td>\n",
              "      <td>1</td>\n",
              "    </tr>\n",
              "    <tr>\n",
              "      <th>3</th>\n",
              "      <td>3</td>\n",
              "      <td>&lt;tomotopy.Document with words=\"valuable work c...</td>\n",
              "      <td>Addressing the Climate Crisis: An Action Plan ...</td>\n",
              "      <td>Psychologists have conducted valuable work on ...</td>\n",
              "      <td>2022</td>\n",
              "      <td>&lt;tomotopy.Document with words=\"valuable work c...</td>\n",
              "      <td>0</td>\n",
              "      <td>1</td>\n",
              "    </tr>\n",
              "    <tr>\n",
              "      <th>4</th>\n",
              "      <td>4</td>\n",
              "      <td>&lt;tomotopy.Document with words=\"article stock c...</td>\n",
              "      <td>Global warming, state of scientific knowledge,...</td>\n",
              "      <td>This article takes stock of climate change, ba...</td>\n",
              "      <td>2020</td>\n",
              "      <td>&lt;tomotopy.Document with words=\"article stock c...</td>\n",
              "      <td>0</td>\n",
              "      <td>1</td>\n",
              "    </tr>\n",
              "    <tr>\n",
              "      <th>...</th>\n",
              "      <td>...</td>\n",
              "      <td>...</td>\n",
              "      <td>...</td>\n",
              "      <td>...</td>\n",
              "      <td>...</td>\n",
              "      <td>...</td>\n",
              "      <td>...</td>\n",
              "      <td>...</td>\n",
              "    </tr>\n",
              "    <tr>\n",
              "      <th>33126</th>\n",
              "      <td>33126</td>\n",
              "      <td>&lt;tomotopy.Document with words=\"purposethis stu...</td>\n",
              "      <td>A systematic bibliometric analysis of studies ...</td>\n",
              "      <td>PurposeThis study aims to describe a bibliomet...</td>\n",
              "      <td>2023</td>\n",
              "      <td>&lt;tomotopy.Document with words=\"purposethis stu...</td>\n",
              "      <td>30</td>\n",
              "      <td>1</td>\n",
              "    </tr>\n",
              "    <tr>\n",
              "      <th>33127</th>\n",
              "      <td>33127</td>\n",
              "      <td>&lt;tomotopy.Document with words=\"increase price ...</td>\n",
              "      <td>Dual fuel ethanol port injection in a compress...</td>\n",
              "      <td>The increase in prices, dependence on fossil f...</td>\n",
              "      <td>2021</td>\n",
              "      <td>&lt;tomotopy.Document with words=\"increase price ...</td>\n",
              "      <td>17</td>\n",
              "      <td>1</td>\n",
              "    </tr>\n",
              "    <tr>\n",
              "      <th>33128</th>\n",
              "      <td>33128</td>\n",
              "      <td>&lt;tomotopy.Document with words=\"streptomyces sp...</td>\n",
              "      <td>A Proteomic Analysis Indicates That Oxidative ...</td>\n",
              "      <td>In most Streptomyces species, antibiotic produ...</td>\n",
              "      <td>2022</td>\n",
              "      <td>&lt;tomotopy.Document with words=\"streptomyces sp...</td>\n",
              "      <td>1</td>\n",
              "      <td>1</td>\n",
              "    </tr>\n",
              "    <tr>\n",
              "      <th>33129</th>\n",
              "      <td>33129</td>\n",
              "      <td>&lt;tomotopy.Document with words=\"synthesis proce...</td>\n",
              "      <td>Understanding quantum confinement and ligand r...</td>\n",
              "      <td>We report a synthesis procedure for dodecaneth...</td>\n",
              "      <td>2018</td>\n",
              "      <td>&lt;tomotopy.Document with words=\"synthesis proce...</td>\n",
              "      <td>7</td>\n",
              "      <td>1</td>\n",
              "    </tr>\n",
              "    <tr>\n",
              "      <th>33130</th>\n",
              "      <td>33130</td>\n",
              "      <td>&lt;tomotopy.Document with words=\"asphaltene depo...</td>\n",
              "      <td>Experimental investigation of a novel multifun...</td>\n",
              "      <td>Asphaltene deposition in the reservoir and the...</td>\n",
              "      <td>2020</td>\n",
              "      <td>&lt;tomotopy.Document with words=\"asphaltene depo...</td>\n",
              "      <td>7</td>\n",
              "      <td>1</td>\n",
              "    </tr>\n",
              "  </tbody>\n",
              "</table>\n",
              "<p>33131 rows × 8 columns</p>\n",
              "</div>"
            ],
            "text/plain": [
              "          No                                             corpus  \\\n",
              "0          0  <tomotopy.Document with words=\"climate-change ...   \n",
              "1          1  <tomotopy.Document with words=\"multiple vision...   \n",
              "2          2  <tomotopy.Document with words=\"climate-change ...   \n",
              "3          3  <tomotopy.Document with words=\"valuable work c...   \n",
              "4          4  <tomotopy.Document with words=\"article stock c...   \n",
              "...      ...                                                ...   \n",
              "33126  33126  <tomotopy.Document with words=\"purposethis stu...   \n",
              "33127  33127  <tomotopy.Document with words=\"increase price ...   \n",
              "33128  33128  <tomotopy.Document with words=\"streptomyces sp...   \n",
              "33129  33129  <tomotopy.Document with words=\"synthesis proce...   \n",
              "33130  33130  <tomotopy.Document with words=\"asphaltene depo...   \n",
              "\n",
              "                                           Article Title  \\\n",
              "0      Aligning Urban Policy with Climate Action in t...   \n",
              "1      Transnational Governance and the Urban Politic...   \n",
              "2      Adaptation measures for climate change and the...   \n",
              "3      Addressing the Climate Crisis: An Action Plan ...   \n",
              "4      Global warming, state of scientific knowledge,...   \n",
              "...                                                  ...   \n",
              "33126  A systematic bibliometric analysis of studies ...   \n",
              "33127  Dual fuel ethanol port injection in a compress...   \n",
              "33128  A Proteomic Analysis Indicates That Oxidative ...   \n",
              "33129  Understanding quantum confinement and ligand r...   \n",
              "33130  Experimental investigation of a novel multifun...   \n",
              "\n",
              "                                                Abstract  Year  \\\n",
              "0      Climate change is the biggest global threat of...  2019   \n",
              "1      Multiple visions for how urbanism can respond ...  2022   \n",
              "2      Climate change scenarios are discussed for Jap...  2003   \n",
              "3      Psychologists have conducted valuable work on ...  2022   \n",
              "4      This article takes stock of climate change, ba...  2020   \n",
              "...                                                  ...   ...   \n",
              "33126  PurposeThis study aims to describe a bibliomet...  2023   \n",
              "33127  The increase in prices, dependence on fossil f...  2021   \n",
              "33128  In most Streptomyces species, antibiotic produ...  2022   \n",
              "33129  We report a synthesis procedure for dodecaneth...  2018   \n",
              "33130  Asphaltene deposition in the reservoir and the...  2020   \n",
              "\n",
              "                                                mdl.docs topic  count  \n",
              "0      <tomotopy.Document with words=\"climate-change ...     0      1  \n",
              "1      <tomotopy.Document with words=\"multiple vision...     0      1  \n",
              "2      <tomotopy.Document with words=\"climate-change ...     5      1  \n",
              "3      <tomotopy.Document with words=\"valuable work c...     0      1  \n",
              "4      <tomotopy.Document with words=\"article stock c...     0      1  \n",
              "...                                                  ...   ...    ...  \n",
              "33126  <tomotopy.Document with words=\"purposethis stu...    30      1  \n",
              "33127  <tomotopy.Document with words=\"increase price ...    17      1  \n",
              "33128  <tomotopy.Document with words=\"streptomyces sp...     1      1  \n",
              "33129  <tomotopy.Document with words=\"synthesis proce...     7      1  \n",
              "33130  <tomotopy.Document with words=\"asphaltene depo...     7      1  \n",
              "\n",
              "[33131 rows x 8 columns]"
            ]
          },
          "execution_count": 18,
          "metadata": {},
          "output_type": "execute_result"
        }
      ],
      "source": [
        "df2['count'] = 1\n",
        "df2"
      ]
    },
    {
      "cell_type": "code",
      "execution_count": null,
      "metadata": {
        "id": "y-IHRrYAH1K5",
        "outputId": "55517574-4f7c-4cb4-9c4f-0c83f73b099c"
      },
      "outputs": [
        {
          "name": "stderr",
          "output_type": "stream",
          "text": [
            "C:\\Users\\Public\\Documents\\ESTsoft\\CreatorTemp\\ipykernel_40760\\2407136449.py:1: SettingWithCopyWarning: \n",
            "A value is trying to be set on a copy of a slice from a DataFrame.\n",
            "Try using .loc[row_indexer,col_indexer] = value instead\n",
            "\n",
            "See the caveats in the documentation: https://pandas.pydata.org/pandas-docs/stable/user_guide/indexing.html#returning-a-view-versus-a-copy\n",
            "  df2['doc_count'] = df2.groupby(['topic'])['count'].transform(sum)\n"
          ]
        },
        {
          "data": {
            "text/html": [
              "<div>\n",
              "<style scoped>\n",
              "    .dataframe tbody tr th:only-of-type {\n",
              "        vertical-align: middle;\n",
              "    }\n",
              "\n",
              "    .dataframe tbody tr th {\n",
              "        vertical-align: top;\n",
              "    }\n",
              "\n",
              "    .dataframe thead th {\n",
              "        text-align: right;\n",
              "    }\n",
              "</style>\n",
              "<table border=\"1\" class=\"dataframe\">\n",
              "  <thead>\n",
              "    <tr style=\"text-align: right;\">\n",
              "      <th></th>\n",
              "      <th>No</th>\n",
              "      <th>corpus</th>\n",
              "      <th>Article Title</th>\n",
              "      <th>Abstract</th>\n",
              "      <th>Year</th>\n",
              "      <th>mdl.docs</th>\n",
              "      <th>topic</th>\n",
              "      <th>count</th>\n",
              "      <th>doc_count</th>\n",
              "    </tr>\n",
              "  </thead>\n",
              "  <tbody>\n",
              "    <tr>\n",
              "      <th>0</th>\n",
              "      <td>0</td>\n",
              "      <td>&lt;tomotopy.Document with words=\"climate-change ...</td>\n",
              "      <td>Aligning Urban Policy with Climate Action in t...</td>\n",
              "      <td>Climate change is the biggest global threat of...</td>\n",
              "      <td>2019</td>\n",
              "      <td>&lt;tomotopy.Document with words=\"climate-change ...</td>\n",
              "      <td>0</td>\n",
              "      <td>1</td>\n",
              "      <td>5046</td>\n",
              "    </tr>\n",
              "    <tr>\n",
              "      <th>9142</th>\n",
              "      <td>9142</td>\n",
              "      <td>&lt;tomotopy.Document with words=\"heritage practi...</td>\n",
              "      <td>Limiting binary thinking: architectural design...</td>\n",
              "      <td>Heritage practitioners are increasingly facing...</td>\n",
              "      <td>2020</td>\n",
              "      <td>&lt;tomotopy.Document with words=\"heritage practi...</td>\n",
              "      <td>0</td>\n",
              "      <td>1</td>\n",
              "      <td>5046</td>\n",
              "    </tr>\n",
              "    <tr>\n",
              "      <th>9218</th>\n",
              "      <td>9218</td>\n",
              "      <td>&lt;tomotopy.Document with words=\"acceleration te...</td>\n",
              "      <td>Are vine-growers climate change skeptics? The ...</td>\n",
              "      <td>Researchers have emphasized an acceleration of...</td>\n",
              "      <td>2020</td>\n",
              "      <td>&lt;tomotopy.Document with words=\"acceleration te...</td>\n",
              "      <td>0</td>\n",
              "      <td>1</td>\n",
              "      <td>5046</td>\n",
              "    </tr>\n",
              "    <tr>\n",
              "      <th>9215</th>\n",
              "      <td>9215</td>\n",
              "      <td>&lt;tomotopy.Document with words=\"quantitative de...</td>\n",
              "      <td>Measuring the Co-Benefits of Climate Change Mi...</td>\n",
              "      <td>Co-benefits rarely enter quantitative decision...</td>\n",
              "      <td>2014</td>\n",
              "      <td>&lt;tomotopy.Document with words=\"quantitative de...</td>\n",
              "      <td>0</td>\n",
              "      <td>1</td>\n",
              "      <td>5046</td>\n",
              "    </tr>\n",
              "    <tr>\n",
              "      <th>9213</th>\n",
              "      <td>9213</td>\n",
              "      <td>&lt;tomotopy.Document with words=\"objective artic...</td>\n",
              "      <td>Climate Change, Aeroallergens, Natural Particu...</td>\n",
              "      <td>The objective of this article is to systematic...</td>\n",
              "      <td>2011</td>\n",
              "      <td>&lt;tomotopy.Document with words=\"objective artic...</td>\n",
              "      <td>0</td>\n",
              "      <td>1</td>\n",
              "      <td>5046</td>\n",
              "    </tr>\n",
              "    <tr>\n",
              "      <th>...</th>\n",
              "      <td>...</td>\n",
              "      <td>...</td>\n",
              "      <td>...</td>\n",
              "      <td>...</td>\n",
              "      <td>...</td>\n",
              "      <td>...</td>\n",
              "      <td>...</td>\n",
              "      <td>...</td>\n",
              "      <td>...</td>\n",
              "    </tr>\n",
              "    <tr>\n",
              "      <th>19344</th>\n",
              "      <td>19344</td>\n",
              "      <td>&lt;tomotopy.Document with words=\"earth water cor...</td>\n",
              "      <td>Long waves in oceanic shallow water: Symbolic ...</td>\n",
              "      <td>For the Earth, water is at the core of sustain...</td>\n",
              "      <td>2020</td>\n",
              "      <td>&lt;tomotopy.Document with words=\"earth water cor...</td>\n",
              "      <td>37</td>\n",
              "      <td>1</td>\n",
              "      <td>3</td>\n",
              "    </tr>\n",
              "    <tr>\n",
              "      <th>18984</th>\n",
              "      <td>18984</td>\n",
              "      <td>&lt;tomotopy.Document with words=\"solar system wa...</td>\n",
              "      <td>Water-wave symbolic computation for the Earth,...</td>\n",
              "      <td>In the Solar System, water and water waves are...</td>\n",
              "      <td>2020</td>\n",
              "      <td>&lt;tomotopy.Document with words=\"solar system wa...</td>\n",
              "      <td>37</td>\n",
              "      <td>1</td>\n",
              "      <td>3</td>\n",
              "    </tr>\n",
              "    <tr>\n",
              "      <th>8409</th>\n",
              "      <td>8409</td>\n",
              "      <td>&lt;tomotopy.Document with words=\"letter editor\"&gt;</td>\n",
              "      <td>Formally designate blue-green infrastructure f...</td>\n",
              "      <td>Letter to the Editor</td>\n",
              "      <td>2022</td>\n",
              "      <td>&lt;tomotopy.Document with words=\"letter editor\"&gt;</td>\n",
              "      <td>37</td>\n",
              "      <td>1</td>\n",
              "      <td>3</td>\n",
              "    </tr>\n",
              "    <tr>\n",
              "      <th>26573</th>\n",
              "      <td>26573</td>\n",
              "      <td>&lt;tomotopy.Document with words=\"GAINS global ai...</td>\n",
              "      <td>Progress and recent developments in the GAINS ...</td>\n",
              "      <td>The GAINS (Global Air-ocean IN-situ System) ne...</td>\n",
              "      <td>2001</td>\n",
              "      <td>&lt;tomotopy.Document with words=\"GAINS global ai...</td>\n",
              "      <td>38</td>\n",
              "      <td>1</td>\n",
              "      <td>1</td>\n",
              "    </tr>\n",
              "    <tr>\n",
              "      <th>5918</th>\n",
              "      <td>5918</td>\n",
              "      <td>&lt;tomotopy.Document with words=\"compare energy ...</td>\n",
              "      <td>A Victorian school and a low carbon designed s...</td>\n",
              "      <td>This paper compares energy and ventilation per...</td>\n",
              "      <td>2014</td>\n",
              "      <td>&lt;tomotopy.Document with words=\"compare energy ...</td>\n",
              "      <td>35</td>\n",
              "      <td>1</td>\n",
              "      <td>1</td>\n",
              "    </tr>\n",
              "  </tbody>\n",
              "</table>\n",
              "<p>33131 rows × 9 columns</p>\n",
              "</div>"
            ],
            "text/plain": [
              "          No                                             corpus  \\\n",
              "0          0  <tomotopy.Document with words=\"climate-change ...   \n",
              "9142    9142  <tomotopy.Document with words=\"heritage practi...   \n",
              "9218    9218  <tomotopy.Document with words=\"acceleration te...   \n",
              "9215    9215  <tomotopy.Document with words=\"quantitative de...   \n",
              "9213    9213  <tomotopy.Document with words=\"objective artic...   \n",
              "...      ...                                                ...   \n",
              "19344  19344  <tomotopy.Document with words=\"earth water cor...   \n",
              "18984  18984  <tomotopy.Document with words=\"solar system wa...   \n",
              "8409    8409     <tomotopy.Document with words=\"letter editor\">   \n",
              "26573  26573  <tomotopy.Document with words=\"GAINS global ai...   \n",
              "5918    5918  <tomotopy.Document with words=\"compare energy ...   \n",
              "\n",
              "                                           Article Title  \\\n",
              "0      Aligning Urban Policy with Climate Action in t...   \n",
              "9142   Limiting binary thinking: architectural design...   \n",
              "9218   Are vine-growers climate change skeptics? The ...   \n",
              "9215   Measuring the Co-Benefits of Climate Change Mi...   \n",
              "9213   Climate Change, Aeroallergens, Natural Particu...   \n",
              "...                                                  ...   \n",
              "19344  Long waves in oceanic shallow water: Symbolic ...   \n",
              "18984  Water-wave symbolic computation for the Earth,...   \n",
              "8409   Formally designate blue-green infrastructure f...   \n",
              "26573  Progress and recent developments in the GAINS ...   \n",
              "5918   A Victorian school and a low carbon designed s...   \n",
              "\n",
              "                                                Abstract  Year  \\\n",
              "0      Climate change is the biggest global threat of...  2019   \n",
              "9142   Heritage practitioners are increasingly facing...  2020   \n",
              "9218   Researchers have emphasized an acceleration of...  2020   \n",
              "9215   Co-benefits rarely enter quantitative decision...  2014   \n",
              "9213   The objective of this article is to systematic...  2011   \n",
              "...                                                  ...   ...   \n",
              "19344  For the Earth, water is at the core of sustain...  2020   \n",
              "18984  In the Solar System, water and water waves are...  2020   \n",
              "8409                                Letter to the Editor  2022   \n",
              "26573  The GAINS (Global Air-ocean IN-situ System) ne...  2001   \n",
              "5918   This paper compares energy and ventilation per...  2014   \n",
              "\n",
              "                                                mdl.docs topic  count  \\\n",
              "0      <tomotopy.Document with words=\"climate-change ...     0      1   \n",
              "9142   <tomotopy.Document with words=\"heritage practi...     0      1   \n",
              "9218   <tomotopy.Document with words=\"acceleration te...     0      1   \n",
              "9215   <tomotopy.Document with words=\"quantitative de...     0      1   \n",
              "9213   <tomotopy.Document with words=\"objective artic...     0      1   \n",
              "...                                                  ...   ...    ...   \n",
              "19344  <tomotopy.Document with words=\"earth water cor...    37      1   \n",
              "18984  <tomotopy.Document with words=\"solar system wa...    37      1   \n",
              "8409      <tomotopy.Document with words=\"letter editor\">    37      1   \n",
              "26573  <tomotopy.Document with words=\"GAINS global ai...    38      1   \n",
              "5918   <tomotopy.Document with words=\"compare energy ...    35      1   \n",
              "\n",
              "       doc_count  \n",
              "0           5046  \n",
              "9142        5046  \n",
              "9218        5046  \n",
              "9215        5046  \n",
              "9213        5046  \n",
              "...          ...  \n",
              "19344          3  \n",
              "18984          3  \n",
              "8409           3  \n",
              "26573          1  \n",
              "5918           1  \n",
              "\n",
              "[33131 rows x 9 columns]"
            ]
          },
          "execution_count": 19,
          "metadata": {},
          "output_type": "execute_result"
        }
      ],
      "source": [
        "df2['doc_count'] = df2.groupby(['topic'])['count'].transform(sum)\n",
        "df2 = df2.sort_values('doc_count', ascending=False)\n",
        "df2.to_excel('0527_final_topic_index_cc.xlsx', index=False)\n",
        "df2"
      ]
    },
    {
      "cell_type": "code",
      "execution_count": null,
      "metadata": {
        "id": "nhyFOG0sH1K5",
        "outputId": "5bb844f5-4896-4b05-db9e-71c0f87b26f2"
      },
      "outputs": [
        {
          "data": {
            "text/html": [
              "<div>\n",
              "<style scoped>\n",
              "    .dataframe tbody tr th:only-of-type {\n",
              "        vertical-align: middle;\n",
              "    }\n",
              "\n",
              "    .dataframe tbody tr th {\n",
              "        vertical-align: top;\n",
              "    }\n",
              "\n",
              "    .dataframe thead th {\n",
              "        text-align: right;\n",
              "    }\n",
              "</style>\n",
              "<table border=\"1\" class=\"dataframe\">\n",
              "  <thead>\n",
              "    <tr style=\"text-align: right;\">\n",
              "      <th></th>\n",
              "      <th>corpus</th>\n",
              "      <th>Article Title</th>\n",
              "      <th>Abstract</th>\n",
              "      <th>Year</th>\n",
              "      <th>topic</th>\n",
              "      <th>count</th>\n",
              "      <th>doc_count</th>\n",
              "    </tr>\n",
              "  </thead>\n",
              "  <tbody>\n",
              "    <tr>\n",
              "      <th>0</th>\n",
              "      <td>&lt;tomotopy.Document with words=\"climate-change ...</td>\n",
              "      <td>Aligning Urban Policy with Climate Action in t...</td>\n",
              "      <td>Climate change is the biggest global threat of...</td>\n",
              "      <td>2019</td>\n",
              "      <td>0</td>\n",
              "      <td>1</td>\n",
              "      <td>5046</td>\n",
              "    </tr>\n",
              "    <tr>\n",
              "      <th>1</th>\n",
              "      <td>&lt;tomotopy.Document with words=\"heritage practi...</td>\n",
              "      <td>Limiting binary thinking: architectural design...</td>\n",
              "      <td>Heritage practitioners are increasingly facing...</td>\n",
              "      <td>2020</td>\n",
              "      <td>0</td>\n",
              "      <td>1</td>\n",
              "      <td>5046</td>\n",
              "    </tr>\n",
              "    <tr>\n",
              "      <th>2</th>\n",
              "      <td>&lt;tomotopy.Document with words=\"acceleration te...</td>\n",
              "      <td>Are vine-growers climate change skeptics? The ...</td>\n",
              "      <td>Researchers have emphasized an acceleration of...</td>\n",
              "      <td>2020</td>\n",
              "      <td>0</td>\n",
              "      <td>1</td>\n",
              "      <td>5046</td>\n",
              "    </tr>\n",
              "    <tr>\n",
              "      <th>3</th>\n",
              "      <td>&lt;tomotopy.Document with words=\"quantitative de...</td>\n",
              "      <td>Measuring the Co-Benefits of Climate Change Mi...</td>\n",
              "      <td>Co-benefits rarely enter quantitative decision...</td>\n",
              "      <td>2014</td>\n",
              "      <td>0</td>\n",
              "      <td>1</td>\n",
              "      <td>5046</td>\n",
              "    </tr>\n",
              "    <tr>\n",
              "      <th>4</th>\n",
              "      <td>&lt;tomotopy.Document with words=\"objective artic...</td>\n",
              "      <td>Climate Change, Aeroallergens, Natural Particu...</td>\n",
              "      <td>The objective of this article is to systematic...</td>\n",
              "      <td>2011</td>\n",
              "      <td>0</td>\n",
              "      <td>1</td>\n",
              "      <td>5046</td>\n",
              "    </tr>\n",
              "    <tr>\n",
              "      <th>...</th>\n",
              "      <td>...</td>\n",
              "      <td>...</td>\n",
              "      <td>...</td>\n",
              "      <td>...</td>\n",
              "      <td>...</td>\n",
              "      <td>...</td>\n",
              "      <td>...</td>\n",
              "    </tr>\n",
              "    <tr>\n",
              "      <th>33070</th>\n",
              "      <td>&lt;tomotopy.Document with words=\"focus uncertain...</td>\n",
              "      <td>Climate Policy and Industry Elite Perceptions ...</td>\n",
              "      <td>There has been a growing focus on uncertainty ...</td>\n",
              "      <td>2020</td>\n",
              "      <td>32</td>\n",
              "      <td>1</td>\n",
              "      <td>12</td>\n",
              "    </tr>\n",
              "    <tr>\n",
              "      <th>33071</th>\n",
              "      <td>&lt;tomotopy.Document with words=\"climate action ...</td>\n",
              "      <td>Social involvement on urban climate action and...</td>\n",
              "      <td>Climate action has been consolidated in cities...</td>\n",
              "      <td>2023</td>\n",
              "      <td>32</td>\n",
              "      <td>1</td>\n",
              "      <td>12</td>\n",
              "    </tr>\n",
              "    <tr>\n",
              "      <th>33072</th>\n",
              "      <td>&lt;tomotopy.Document with words=\"continuous deve...</td>\n",
              "      <td>Design of a wave energy converter based on Hal...</td>\n",
              "      <td>With the continuous development of society and...</td>\n",
              "      <td>2020</td>\n",
              "      <td>32</td>\n",
              "      <td>1</td>\n",
              "      <td>12</td>\n",
              "    </tr>\n",
              "    <tr>\n",
              "      <th>33073</th>\n",
              "      <td>&lt;tomotopy.Document with words=\"MNP-23 septum-l...</td>\n",
              "      <td>Septum magnet MNP-23 for the CERN PS experimen...</td>\n",
              "      <td>Two MNP-23 septum-like magnets are installed a...</td>\n",
              "      <td>2004</td>\n",
              "      <td>32</td>\n",
              "      <td>1</td>\n",
              "      <td>12</td>\n",
              "    </tr>\n",
              "    <tr>\n",
              "      <th>33074</th>\n",
              "      <td>&lt;tomotopy.Document with words=\"technique mitig...</td>\n",
              "      <td>Fatigue Resistance of Rim Seals in Multi-Pane ...</td>\n",
              "      <td>A technique widely used to mitigate climate ch...</td>\n",
              "      <td>2018</td>\n",
              "      <td>32</td>\n",
              "      <td>1</td>\n",
              "      <td>12</td>\n",
              "    </tr>\n",
              "  </tbody>\n",
              "</table>\n",
              "<p>33075 rows × 7 columns</p>\n",
              "</div>"
            ],
            "text/plain": [
              "                                                  corpus  \\\n",
              "0      <tomotopy.Document with words=\"climate-change ...   \n",
              "1      <tomotopy.Document with words=\"heritage practi...   \n",
              "2      <tomotopy.Document with words=\"acceleration te...   \n",
              "3      <tomotopy.Document with words=\"quantitative de...   \n",
              "4      <tomotopy.Document with words=\"objective artic...   \n",
              "...                                                  ...   \n",
              "33070  <tomotopy.Document with words=\"focus uncertain...   \n",
              "33071  <tomotopy.Document with words=\"climate action ...   \n",
              "33072  <tomotopy.Document with words=\"continuous deve...   \n",
              "33073  <tomotopy.Document with words=\"MNP-23 septum-l...   \n",
              "33074  <tomotopy.Document with words=\"technique mitig...   \n",
              "\n",
              "                                           Article Title  \\\n",
              "0      Aligning Urban Policy with Climate Action in t...   \n",
              "1      Limiting binary thinking: architectural design...   \n",
              "2      Are vine-growers climate change skeptics? The ...   \n",
              "3      Measuring the Co-Benefits of Climate Change Mi...   \n",
              "4      Climate Change, Aeroallergens, Natural Particu...   \n",
              "...                                                  ...   \n",
              "33070  Climate Policy and Industry Elite Perceptions ...   \n",
              "33071  Social involvement on urban climate action and...   \n",
              "33072  Design of a wave energy converter based on Hal...   \n",
              "33073  Septum magnet MNP-23 for the CERN PS experimen...   \n",
              "33074  Fatigue Resistance of Rim Seals in Multi-Pane ...   \n",
              "\n",
              "                                                Abstract  Year topic  count  \\\n",
              "0      Climate change is the biggest global threat of...  2019     0      1   \n",
              "1      Heritage practitioners are increasingly facing...  2020     0      1   \n",
              "2      Researchers have emphasized an acceleration of...  2020     0      1   \n",
              "3      Co-benefits rarely enter quantitative decision...  2014     0      1   \n",
              "4      The objective of this article is to systematic...  2011     0      1   \n",
              "...                                                  ...   ...   ...    ...   \n",
              "33070  There has been a growing focus on uncertainty ...  2020    32      1   \n",
              "33071  Climate action has been consolidated in cities...  2023    32      1   \n",
              "33072  With the continuous development of society and...  2020    32      1   \n",
              "33073  Two MNP-23 septum-like magnets are installed a...  2004    32      1   \n",
              "33074  A technique widely used to mitigate climate ch...  2018    32      1   \n",
              "\n",
              "       doc_count  \n",
              "0           5046  \n",
              "1           5046  \n",
              "2           5046  \n",
              "3           5046  \n",
              "4           5046  \n",
              "...          ...  \n",
              "33070         12  \n",
              "33071         12  \n",
              "33072         12  \n",
              "33073         12  \n",
              "33074         12  \n",
              "\n",
              "[33075 rows x 7 columns]"
            ]
          },
          "execution_count": 20,
          "metadata": {},
          "output_type": "execute_result"
        }
      ],
      "source": [
        "content = df2\n",
        "content = content[content['doc_count']>=10]\n",
        "content = content.reset_index(drop=True)\n",
        "content = content.drop(['No', 'mdl.docs'], axis=1)\n",
        "content"
      ]
    },
    {
      "cell_type": "code",
      "execution_count": null,
      "metadata": {
        "id": "F6ThutnFH1K5",
        "outputId": "48a7280a-54cb-4770-d3ad-0536aa315db0"
      },
      "outputs": [
        {
          "data": {
            "text/plain": [
              "[0,\n",
              " 31,\n",
              " 33,\n",
              " 30,\n",
              " 6,\n",
              " 18,\n",
              " 26,\n",
              " 19,\n",
              " 23,\n",
              " 12,\n",
              " 24,\n",
              " 25,\n",
              " 1,\n",
              " 7,\n",
              " 22,\n",
              " 9,\n",
              " 5,\n",
              " 2,\n",
              " 15,\n",
              " 16,\n",
              " 20,\n",
              " 29,\n",
              " 10,\n",
              " 14,\n",
              " 17,\n",
              " 3,\n",
              " 32]"
            ]
          },
          "execution_count": 21,
          "metadata": {},
          "output_type": "execute_result"
        }
      ],
      "source": [
        "topics = list(content['topic'].unique())\n",
        "topics"
      ]
    },
    {
      "cell_type": "code",
      "execution_count": null,
      "metadata": {
        "id": "z9dWfRorH1K5",
        "outputId": "55f6fa16-7905-4602-feee-bee96704c23c"
      },
      "outputs": [
        {
          "name": "stdout",
          "output_type": "stream",
          "text": [
            "5046\n",
            "Climate change is the biggest global threat of our time. As a signatory nation of the Paris Agreement, Brazil has made a climate action commitment, and expressed its nationally determined contribution to reduce its greenhouse gas emissions by 37%. The Brazilian population is highly urban, and Brazilian cities are mostly responsible for greenhouse gas emissions, and the worst effects of global warming are experienced in cities. Hence, the fulfillment of the Brazilian climate commitments depends on the active engagement of municipalities. Nevertheless, the Brazilian national government does not monitor local climate actions, and it is not clear how local urban policy is aligned with climate action. In order to bridge this gap, this study tackles the question of: Are, and if yes how, cities considering the climate emergency in their local planning mechanisms? This question is investigated by placing five major Brazilian cities under the microscope. The methodological approach includes literature review and applied qualitative analysis to scrutinize how climate issues and actions are factored in urban planning regulations to verify if and to what extent local policies contribute to the fulfillment of the Brazilian nationally determined contribution, and sustainable development goals. The results disclose that investigated cities have adequately incorporated climatic issues in their urban planning mechanisms. However, policy concentrates more on adaptation rather than mitigation, and policy implementation yet to be realized.\n",
            "['Climate change is the biggest global threat of our time. As a signatory nation of the Paris Agreement, Brazil has made a climate action commitment, and expressed its nationally determined contribution to reduce its greenhouse gas emissions by 37%. The Brazilian population is highly urban, and Brazilian cities are mostly responsible for greenhouse gas emissions, and the worst effects of global warming are experienced in cities. Hence, the fulfillment of the Brazilian climate commitments depends on the active engagement of municipalities. Nevertheless, the Brazilian national government does not monitor local climate actions, and it is not clear how local urban policy is aligned with climate action. In order to bridge this gap, this study tackles the question of: Are, and if yes how, cities considering the climate emergency in their local planning mechanisms? This question is investigated by placing five major Brazilian cities under the microscope. The methodological approach includes literature review and applied qualitative analysis to scrutinize how climate issues and actions are factored in urban planning regulations to verify if and to what extent local policies contribute to the fulfillment of the Brazilian nationally determined contribution, and sustainable development goals. The results disclose that investigated cities have adequately incorporated climatic issues in their urban planning mechanisms. However, policy concentrates more on adaptation rather than mitigation, and policy implementation yet to be realized.'\n",
            " 'Heritage practitioners are increasingly facing the challenges of working in historic environments, as issues such as densification, resource depletion and the effects of climate change impact on city development, often at the expense of conservation. Due consideration should, therefore, be given to processes that ensure critical architectural solutions that limit the perception of historical contexts as static resources and design solutions as binary responses. Through a theoretical lens of architectural post-structuralism, based on binaries, it will be argued that architectural heritage practice was initiated in a dichotomous manner and that its processes and resultant architectural design approaches have been similarly polarised. This article will briefly formulate a relevant architectural post-structuralist critique while highlighting and describing the general binary oppositions present in heritage practice and design. Then, crucial project phases that provide a range of possibilities for those working in historical contexts will be presented, to limit heritage practice only operating at the extremes of its current, inherent, binary oppositions.'\n",
            " 'Researchers have emphasized an acceleration of the temperature increase since the mid 1980s and published alarming forecasts regarding the vine and wine production, most of all in wine areas with Protected designations of origin (PDO). Nonetheless, since the end of the 1990s, enquiries have shown a relative indifference of farmers and vine-growers towards climate change, although one would see them at the front stage regarding climate change. We have tried to better understand this apparent climate scepticism by enquiring amongst vine-growers, wine-makers, vintners and some of their institutional partners, in two French PDO vineyards so as to gather their point of view on the on-going climate change. Results are more or less in line with former studies. However, while the interviewees agree with the researchers in listing some important changes in the grapes and wines, they do not attribute them to climate warming but instead to the technical change and the yield reduction that have spread amongst the French vineyards since the mid 1980s. This discrepancy can be first related to the special emphasis they put on practices, and their ability to deal with the yearly climate variations. Yet the divergence can also be related to the framing of the problem. While climate researchers endeavour to recognize amongst the multiple changes, the changes they infer from climate change, the actors deal with the wide series of observed changes and causes, which they try hard to manage altogether.'\n",
            " ...\n",
            " 'This paper outlines the development of the first municipal adaptation plans for climate change in Durban, South Africa. Particular attention is paid to the storm water and coastal plans developed for the water sector. Key adaptation activities in the main operational departments are highlighted as well as the key challenges and lessons learned during the development of the plans. Three factors were significant in determining the success of the project: (1) the emergence of political and technical champions, (2) the existence of high level technical expertise within the municipality and (3) broad based and appropriate communication with stakeholders.'\n",
            " 'Starting from the relationship between urban planning and mobility management, TeMA has gradually expanded the view of the covered topics, always following a rigorous scientific in-depth analysis. This section of the Journal, Review Notes, is a continuous update about emerging topics concerning relationships among urban planning, mobility, and environment, thanks to a collection of short scientific papers written by young researchers. The Review Notes are made up of five parts. Each section examines a specific aspect of the broader information storage within the main interests of the TeMA Journal. In particular: the Town Planning International Rules and Legislation. Section aims at presenting the latest updates in the territorial and urban legislative sphere. Accelerating the sustainable urban transition requires functional and structural changes in urban systems through which challenges such as the climate crisis are addressed. Researchers, professionals, policy makers in their various roles are trying to provide concrete proposals and actions to the challenge of climate change in cities from a sustainability perspective. The European Commission has also played a crucial role in providing forms of funding on the issue. In this direction, the paper examines precisely the European regulatory excursus starting from the climate law up to the EU Adaptation Strategy to increase the resilience of cities.'\n",
            " 'Effectively addressing the health risks of climate change necessitates an active crosssectoral approach because health risks arise predominantly via sectors such as water, agriculture and energy. Much has been written on climate change and its impact on health, but little attention has focused on the realpolitik of how to progress the development and implementation of health-relevant strategies and policies to reduce this impact. The objective of this paper is to propose three solutions to address current deficiencies: i) strengthening the capacity and understanding of health officials in relation to climate change and health; ii) improving cross-sectoral partnerships with sectors relevant to climate change and health, and iii) identifying organisations influential in the development of climate change mitigation and adaptation strategies and policies, with a view to better target advocacy efforts. Practical examples of each solution are provided. In conclusion, as a steward of public health, the health sector must take the initiative to encourage a cross-sectoral approach that includes capacity development, coupled with an understanding of influential organisations. If this is done effectively, health, social and economic development goals can be reached more efficiently.']\n"
          ]
        }
      ],
      "source": [
        "print(len(content.Abstract.values[content['topic'] == topics[0]]))\n",
        "print(content.Abstract.values[content['topic'] == topics[0]][0])\n",
        "print(content.Abstract.values[content['topic'] == topics[0]])"
      ]
    },
    {
      "cell_type": "code",
      "execution_count": null,
      "metadata": {
        "id": "QnFc0XrpH1K5",
        "outputId": "7c9c53b4-1df5-4132-a986-0e94ff687982"
      },
      "outputs": [
        {
          "name": "stderr",
          "output_type": "stream",
          "text": [
            "100%|██████████| 5046/5046 [01:02<00:00, 80.94it/s]\n",
            "100%|██████████| 4500/4500 [00:55<00:00, 81.31it/s]\n",
            "100%|██████████| 2767/2767 [00:36<00:00, 74.92it/s]\n",
            "100%|██████████| 2706/2706 [00:33<00:00, 80.35it/s]\n",
            "100%|██████████| 2640/2640 [00:31<00:00, 84.61it/s]\n",
            "100%|██████████| 2491/2491 [00:33<00:00, 75.47it/s]\n",
            "100%|██████████| 2099/2099 [00:24<00:00, 86.52it/s]\n",
            "100%|██████████| 1921/1921 [00:22<00:00, 84.37it/s]\n",
            "100%|██████████| 1421/1421 [00:18<00:00, 76.94it/s]\n",
            "100%|██████████| 1297/1297 [00:19<00:00, 66.75it/s]\n",
            "100%|██████████| 1170/1170 [00:10<00:00, 107.64it/s]\n",
            "100%|██████████| 937/937 [00:14<00:00, 66.36it/s]\n",
            "100%|██████████| 736/736 [00:11<00:00, 66.10it/s]\n",
            "100%|██████████| 561/561 [00:06<00:00, 80.28it/s]\n",
            "100%|██████████| 503/503 [00:06<00:00, 83.36it/s]\n",
            "100%|██████████| 426/426 [00:05<00:00, 82.72it/s]\n",
            "100%|██████████| 416/416 [00:05<00:00, 74.42it/s]\n",
            "100%|██████████| 380/380 [00:05<00:00, 65.52it/s]\n",
            "100%|██████████| 271/271 [00:03<00:00, 84.63it/s]\n",
            "100%|██████████| 238/238 [00:03<00:00, 61.94it/s]\n",
            "100%|██████████| 234/234 [00:03<00:00, 76.12it/s]\n",
            "100%|██████████| 121/121 [00:01<00:00, 89.43it/s]\n",
            "100%|██████████| 66/66 [00:00<00:00, 80.98it/s]\n",
            "100%|██████████| 54/54 [00:00<00:00, 68.18it/s]\n",
            "100%|██████████| 31/31 [00:00<00:00, 63.92it/s]\n",
            "100%|██████████| 31/31 [00:00<00:00, 67.54it/s]\n",
            "100%|██████████| 12/12 [00:00<00:00, 93.02it/s] \n"
          ]
        }
      ],
      "source": [
        "custom_tokenizer = CustomTokenizer()\n",
        "sentence = []\n",
        "for i in topics:\n",
        "    preprocessing = []\n",
        "    for k in tqdm(range(len(content.Abstract.values[content['topic'] == i]))):\n",
        "        preprocessing.append(custom_tokenizer(content.Abstract.values[content['topic'] == i][k]))\n",
        "    sentence.append(preprocessing)\n"
      ]
    },
    {
      "cell_type": "code",
      "execution_count": null,
      "metadata": {
        "id": "dp0PjkqXH1K5",
        "outputId": "7fc8eafc-07f7-46a8-d684-58bf8494d34c"
      },
      "outputs": [
        {
          "name": "stdout",
          "output_type": "stream",
          "text": [
            "Climate change is the biggest global threat of our time. As a signatory nation of the Paris Agreement, Brazil has made a climate action commitment, and expressed its nationally determined contribution to reduce its greenhouse gas emissions by 37%. The Brazilian population is highly urban, and Brazilian cities are mostly responsible for greenhouse gas emissions, and the worst effects of global warming are experienced in cities. Hence, the fulfillment of the Brazilian climate commitments depends on the active engagement of municipalities. Nevertheless, the Brazilian national government does not monitor local climate actions, and it is not clear how local urban policy is aligned with climate action. In order to bridge this gap, this study tackles the question of: Are, and if yes how, cities considering the climate emergency in their local planning mechanisms? This question is investigated by placing five major Brazilian cities under the microscope. The methodological approach includes literature review and applied qualitative analysis to scrutinize how climate issues and actions are factored in urban planning regulations to verify if and to what extent local policies contribute to the fulfillment of the Brazilian nationally determined contribution, and sustainable development goals. The results disclose that investigated cities have adequately incorporated climatic issues in their urban planning mechanisms. However, policy concentrates more on adaptation rather than mitigation, and policy implementation yet to be realized.\n",
            "climate-change global threat time signatory nation paris agreement brazil climate action commitment contribution greenhouse gas emission brazilian population urban brazilian city responsible greenhouse gas emission global warming experienced city hence fulfillment brazilian climate commitment active engagement municipality nevertheless brazilian national government monitor local climate action clear local urban policy climate action order bridge gap study tackle question yes city climate emergency local planning mechanism question major brazilian city methodological approach literature qualitative scrutinize climate issue action urban regulation extent local policy contribute fulfillment brazilian contribution sustainable-development goal investigated city incorporated climatic issue urban mechanism policy concentrate adaptation mitigation policy implementation\n",
            "Over the past few decades, cities have repeatedly demonstrated high levels of ambition with regard to climate action. Global environmental governance has been marked by a proliferation of policy actions taken by local governments around the world to demonstrate their potential to advance climate change mitigation and adaptation. Leading 'by example' and demonstrating the extent of action that it is possible to deliver, cities have aspired to raise the ambition of national and international climate governance and put action into practice via a growing number of 'climate change experiments' delivered on the ground. Yet accounts of the potential of cities in global environmental governance have often stopped short of a systematic valuation of the nature and impact of the networked dimension of this action. This article addresses this by assessing the nature, and challenges faced by, urban climate governance in the post-Paris era, focusing on the 'experimentation' undertaken in cities and the city networks shaping this type of governance. First, we unpack the concept of 'urban climate change experimentation', the ways in which it is networked, and the forces driving it. In the second and third parts of the article, we discuss two main pitfalls of networked urban experimentation in its current form, focusing on issues of scaling experiments and the nature of experimentation. We call for increased attention to 'scaling up' experiments beyond urban levels of governance, and to transformative experimentation with governance and politics by and in cities. Finally, we consider how these pitfalls allow us to weigh the potential of urban climate ambition, and consider the pathways available for supporting urban climate change experimentation.\n",
            "past decade city high level ambition regard climate action global environmental governance proliferation policy action local government world potential advance climate-change mitigation adaptation extent action possible deliver city raise ambition national international climate governance action practice number climate-change experiment ground yet potential city global environmental governance short systematic valuation nature dimension action article address nature challenge urban climate governance post-paris era experimentation undertaken city city network type governance unpack concept urban climate-change experimentation way force driving part article discus main pitfall urban experimentation current form issue experiment nature experimentation increased attention experiment urban level governance transformative experimentation governance city pitfall allow potential urban climate ambition pathway available urban climate-change experimentation\n"
          ]
        }
      ],
      "source": [
        "print(content.Abstract.values[content['topic'] == topics[0]][0])\n",
        "print(sentence[0][0])\n",
        "\n",
        "print(content.Abstract.values[content['topic'] == topics[0]][3000])\n",
        "print(sentence[0][3000])"
      ]
    },
    {
      "cell_type": "code",
      "execution_count": null,
      "metadata": {
        "id": "sg1sPeO0H1K5",
        "outputId": "5d622654-d59b-40da-a8fb-b51cc6f3b1d0"
      },
      "outputs": [
        {
          "name": "stdout",
          "output_type": "stream",
          "text": [
            "0 5046\n",
            "1 4500\n",
            "2 2767\n",
            "3 2706\n",
            "4 2640\n",
            "5 2491\n",
            "6 2099\n",
            "7 1921\n",
            "8 1421\n",
            "9 1297\n",
            "10 1170\n",
            "11 937\n",
            "12 736\n",
            "13 561\n",
            "14 503\n",
            "15 426\n",
            "16 416\n",
            "17 380\n",
            "18 271\n",
            "19 238\n",
            "20 234\n",
            "21 121\n",
            "22 66\n",
            "23 54\n",
            "24 31\n",
            "25 31\n",
            "26 12\n"
          ]
        }
      ],
      "source": [
        "for t in range(len(topics)):\n",
        "    print(t, len(sentence[t]))"
      ]
    },
    {
      "cell_type": "code",
      "execution_count": null,
      "metadata": {
        "id": "fZ35WCqbH1K6",
        "outputId": "4bacd567-4222-4253-f043-90e427eedd3b"
      },
      "outputs": [
        {
          "name": "stderr",
          "output_type": "stream",
          "text": [
            "  0%|          | 0/9 [00:00<?, ?it/s]C:\\Users\\Public\\Documents\\ESTsoft\\CreatorTemp\\ipykernel_40760\\3125301607.py:15: RuntimeWarning: The training result may differ even with fixed seed if `workers` != 1.\n",
            "  mdl.train(0)\n",
            "Training...\n"
          ]
        },
        {
          "name": "stdout",
          "output_type": "stream",
          "text": [
            "Num docs: 5045 , Vocab size: 3230 , Num words: 396172\n",
            "Removed top words: ['climate-change', 'policy', 'adaptation', 'urban', 'climate', 'system', 'city', 'local', 'development', 'water']\n"
          ]
        },
        {
          "name": "stderr",
          "output_type": "stream",
          "text": [
            " 11%|█         | 1/9 [00:38<05:08, 38.61s/it]Training...\n"
          ]
        },
        {
          "name": "stdout",
          "output_type": "stream",
          "text": [
            "topic2_Coherence: 0.3898_Perplexity: 1.856e+03\n",
            "Num docs: 5045 , Vocab size: 3230 , Num words: 396172\n",
            "Removed top words: ['climate-change', 'policy', 'adaptation', 'urban', 'climate', 'system', 'city', 'local', 'development', 'water']\n"
          ]
        },
        {
          "name": "stderr",
          "output_type": "stream",
          "text": [
            " 22%|██▏       | 2/9 [01:22<04:53, 41.89s/it]Training...\n"
          ]
        },
        {
          "name": "stdout",
          "output_type": "stream",
          "text": [
            "topic4_Coherence: 0.5727_Perplexity: 1.784e+03\n",
            "Num docs: 5045 , Vocab size: 3230 , Num words: 396172\n",
            "Removed top words: ['climate-change', 'policy', 'adaptation', 'urban', 'climate', 'system', 'city', 'local', 'development', 'water']\n"
          ]
        },
        {
          "name": "stderr",
          "output_type": "stream",
          "text": [
            " 33%|███▎      | 3/9 [02:05<04:14, 42.47s/it]Training...\n"
          ]
        },
        {
          "name": "stdout",
          "output_type": "stream",
          "text": [
            "topic4_Coherence: 0.5575_Perplexity: 1.775e+03\n",
            "Num docs: 5045 , Vocab size: 3230 , Num words: 396172\n",
            "Removed top words: ['climate-change', 'policy', 'adaptation', 'urban', 'climate', 'system', 'city', 'local', 'development', 'water']\n"
          ]
        },
        {
          "name": "stderr",
          "output_type": "stream",
          "text": [
            " 44%|████▍     | 4/9 [02:54<03:43, 44.76s/it]Training...\n"
          ]
        },
        {
          "name": "stdout",
          "output_type": "stream",
          "text": [
            "topic5_Coherence: 0.5121_Perplexity: 1.728e+03\n",
            "Num docs: 5045 , Vocab size: 3230 , Num words: 396172\n",
            "Removed top words: ['climate-change', 'policy', 'adaptation', 'urban', 'climate', 'system', 'city', 'local', 'development', 'water']\n"
          ]
        },
        {
          "name": "stderr",
          "output_type": "stream",
          "text": [
            " 56%|█████▌    | 5/9 [03:43<03:06, 46.51s/it]Training...\n"
          ]
        },
        {
          "name": "stdout",
          "output_type": "stream",
          "text": [
            "topic6_Coherence: 0.562_Perplexity: 1.781e+03\n",
            "Num docs: 5045 , Vocab size: 3230 , Num words: 396172\n",
            "Removed top words: ['climate-change', 'policy', 'adaptation', 'urban', 'climate', 'system', 'city', 'local', 'development', 'water']\n"
          ]
        },
        {
          "name": "stderr",
          "output_type": "stream",
          "text": [
            " 67%|██████▋   | 6/9 [04:24<02:13, 44.51s/it]Training...\n"
          ]
        },
        {
          "name": "stdout",
          "output_type": "stream",
          "text": [
            "topic8_Coherence: 0.5928_Perplexity: 1.717e+03\n",
            "Num docs: 5045 , Vocab size: 3230 , Num words: 396172\n",
            "Removed top words: ['climate-change', 'policy', 'adaptation', 'urban', 'climate', 'system', 'city', 'local', 'development', 'water']\n"
          ]
        },
        {
          "name": "stderr",
          "output_type": "stream",
          "text": [
            " 78%|███████▊  | 7/9 [05:03<01:25, 42.59s/it]Training...\n"
          ]
        },
        {
          "name": "stdout",
          "output_type": "stream",
          "text": [
            "topic8_Coherence: 0.5846_Perplexity: 1.72e+03\n",
            "Num docs: 5045 , Vocab size: 3230 , Num words: 396172\n",
            "Removed top words: ['climate-change', 'policy', 'adaptation', 'urban', 'climate', 'system', 'city', 'local', 'development', 'water']\n"
          ]
        },
        {
          "name": "stderr",
          "output_type": "stream",
          "text": [
            " 89%|████████▉ | 8/9 [05:47<00:43, 43.23s/it]Training...\n"
          ]
        },
        {
          "name": "stdout",
          "output_type": "stream",
          "text": [
            "topic9_Coherence: 0.558_Perplexity: 1.736e+03\n",
            "Num docs: 5045 , Vocab size: 3230 , Num words: 396172\n",
            "Removed top words: ['climate-change', 'policy', 'adaptation', 'urban', 'climate', 'system', 'city', 'local', 'development', 'water']\n"
          ]
        },
        {
          "name": "stderr",
          "output_type": "stream",
          "text": [
            "100%|██████████| 9/9 [06:32<00:00, 43.61s/it]"
          ]
        },
        {
          "name": "stdout",
          "output_type": "stream",
          "text": [
            "topic11_Coherence: 0.6527_Perplexity: 1.743e+03\n",
            "Topics : 0, Sub_topics : 10, Coherence_score : 0.6527\n"
          ]
        },
        {
          "name": "stderr",
          "output_type": "stream",
          "text": [
            "\n",
            "  0%|          | 0/9 [00:00<?, ?it/s]C:\\Users\\Public\\Documents\\ESTsoft\\CreatorTemp\\ipykernel_40760\\3125301607.py:15: RuntimeWarning: The training result may differ even with fixed seed if `workers` != 1.\n",
            "  mdl.train(0)\n",
            "Training...\n"
          ]
        },
        {
          "name": "stdout",
          "output_type": "stream",
          "text": [
            "Num docs: 4500 , Vocab size: 2820 , Num words: 356141\n",
            "Removed top words: ['energy', 'emission', 'policy', 'technology', 'system', 'carbon', 'power', 'cost', 'gas', 'CO2']\n"
          ]
        },
        {
          "name": "stderr",
          "output_type": "stream",
          "text": [
            " 11%|█         | 1/9 [00:32<04:21, 32.63s/it]Training...\n"
          ]
        },
        {
          "name": "stdout",
          "output_type": "stream",
          "text": [
            "topic2_Coherence: 0.5268_Perplexity: 1.608e+03\n",
            "Num docs: 4500 , Vocab size: 2820 , Num words: 356141\n",
            "Removed top words: ['energy', 'emission', 'policy', 'technology', 'system', 'carbon', 'power', 'cost', 'gas', 'CO2']\n"
          ]
        },
        {
          "name": "stderr",
          "output_type": "stream",
          "text": [
            " 22%|██▏       | 2/9 [01:07<03:57, 33.91s/it]Training...\n"
          ]
        },
        {
          "name": "stdout",
          "output_type": "stream",
          "text": [
            "topic3_Coherence: 0.4848_Perplexity: 1.624e+03\n",
            "Num docs: 4500 , Vocab size: 2820 , Num words: 356141\n",
            "Removed top words: ['energy', 'emission', 'policy', 'technology', 'system', 'carbon', 'power', 'cost', 'gas', 'CO2']\n"
          ]
        },
        {
          "name": "stderr",
          "output_type": "stream",
          "text": [
            " 33%|███▎      | 3/9 [01:48<03:41, 36.97s/it]Training...\n"
          ]
        },
        {
          "name": "stdout",
          "output_type": "stream",
          "text": [
            "topic4_Coherence: 0.5256_Perplexity: 1.549e+03\n",
            "Num docs: 4500 , Vocab size: 2820 , Num words: 356141\n",
            "Removed top words: ['energy', 'emission', 'policy', 'technology', 'system', 'carbon', 'power', 'cost', 'gas', 'CO2']\n"
          ]
        },
        {
          "name": "stderr",
          "output_type": "stream",
          "text": [
            " 44%|████▍     | 4/9 [02:29<03:13, 38.73s/it]Training...\n"
          ]
        },
        {
          "name": "stdout",
          "output_type": "stream",
          "text": [
            "topic5_Coherence: 0.5489_Perplexity: 1.582e+03\n",
            "Num docs: 4500 , Vocab size: 2820 , Num words: 356141\n",
            "Removed top words: ['energy', 'emission', 'policy', 'technology', 'system', 'carbon', 'power', 'cost', 'gas', 'CO2']\n"
          ]
        },
        {
          "name": "stderr",
          "output_type": "stream",
          "text": [
            " 56%|█████▌    | 5/9 [03:13<02:42, 40.73s/it]Training...\n"
          ]
        },
        {
          "name": "stdout",
          "output_type": "stream",
          "text": [
            "topic6_Coherence: 0.6141_Perplexity: 1.562e+03\n",
            "Num docs: 4500 , Vocab size: 2820 , Num words: 356141\n",
            "Removed top words: ['energy', 'emission', 'policy', 'technology', 'system', 'carbon', 'power', 'cost', 'gas', 'CO2']\n"
          ]
        },
        {
          "name": "stderr",
          "output_type": "stream",
          "text": [
            " 67%|██████▋   | 6/9 [03:45<01:53, 37.75s/it]Training...\n"
          ]
        },
        {
          "name": "stdout",
          "output_type": "stream",
          "text": [
            "topic7_Coherence: 0.5891_Perplexity: 1.538e+03\n",
            "Num docs: 4500 , Vocab size: 2820 , Num words: 356141\n",
            "Removed top words: ['energy', 'emission', 'policy', 'technology', 'system', 'carbon', 'power', 'cost', 'gas', 'CO2']\n"
          ]
        },
        {
          "name": "stderr",
          "output_type": "stream",
          "text": [
            " 78%|███████▊  | 7/9 [04:20<01:13, 36.84s/it]Training...\n"
          ]
        },
        {
          "name": "stdout",
          "output_type": "stream",
          "text": [
            "topic8_Coherence: 0.6374_Perplexity: 1.56e+03\n",
            "Num docs: 4500 , Vocab size: 2820 , Num words: 356141\n",
            "Removed top words: ['energy', 'emission', 'policy', 'technology', 'system', 'carbon', 'power', 'cost', 'gas', 'CO2']\n"
          ]
        },
        {
          "name": "stderr",
          "output_type": "stream",
          "text": [
            " 89%|████████▉ | 8/9 [04:57<00:36, 36.93s/it]Training...\n"
          ]
        },
        {
          "name": "stdout",
          "output_type": "stream",
          "text": [
            "topic9_Coherence: 0.6471_Perplexity: 1.506e+03\n",
            "Num docs: 4500 , Vocab size: 2820 , Num words: 356141\n",
            "Removed top words: ['energy', 'emission', 'policy', 'technology', 'system', 'carbon', 'power', 'cost', 'gas', 'CO2']\n"
          ]
        },
        {
          "name": "stderr",
          "output_type": "stream",
          "text": [
            "100%|██████████| 9/9 [05:38<00:00, 37.57s/it]"
          ]
        },
        {
          "name": "stdout",
          "output_type": "stream",
          "text": [
            "topic10_Coherence: 0.6401_Perplexity: 1.552e+03\n",
            "Topics : 1, Sub_topics : 9, Coherence_score : 0.6471\n"
          ]
        },
        {
          "name": "stderr",
          "output_type": "stream",
          "text": [
            "\n",
            "  0%|          | 0/9 [00:00<?, ?it/s]C:\\Users\\Public\\Documents\\ESTsoft\\CreatorTemp\\ipykernel_40760\\3125301607.py:15: RuntimeWarning: The training result may differ even with fixed seed if `workers` != 1.\n",
            "  mdl.train(0)\n",
            "Training...\n"
          ]
        },
        {
          "name": "stdout",
          "output_type": "stream",
          "text": [
            "Num docs: 2767 , Vocab size: 2420 , Num words: 225673\n",
            "Removed top words: ['water', 'climate-change', 'system', 'risk', 'flood', 'adaptation', 'study', 'management', 'model', 'area']\n"
          ]
        },
        {
          "name": "stderr",
          "output_type": "stream",
          "text": [
            " 11%|█         | 1/9 [00:21<02:50, 21.33s/it]Training...\n"
          ]
        },
        {
          "name": "stdout",
          "output_type": "stream",
          "text": [
            "topic2_Coherence: 0.4026_Perplexity: 1.533e+03\n",
            "Num docs: 2767 , Vocab size: 2420 , Num words: 225673\n",
            "Removed top words: ['water', 'climate-change', 'system', 'risk', 'flood', 'adaptation', 'study', 'management', 'model', 'area']\n"
          ]
        },
        {
          "name": "stderr",
          "output_type": "stream",
          "text": [
            " 22%|██▏       | 2/9 [00:43<02:31, 21.65s/it]Training...\n"
          ]
        },
        {
          "name": "stdout",
          "output_type": "stream",
          "text": [
            "topic3_Coherence: 0.5078_Perplexity: 1.452e+03\n",
            "Num docs: 2767 , Vocab size: 2420 , Num words: 225673\n",
            "Removed top words: ['water', 'climate-change', 'system', 'risk', 'flood', 'adaptation', 'study', 'management', 'model', 'area']\n"
          ]
        },
        {
          "name": "stderr",
          "output_type": "stream",
          "text": [
            " 33%|███▎      | 3/9 [01:09<02:21, 23.54s/it]Training...\n"
          ]
        },
        {
          "name": "stdout",
          "output_type": "stream",
          "text": [
            "topic4_Coherence: 0.5997_Perplexity: 1.487e+03\n",
            "Num docs: 2767 , Vocab size: 2420 , Num words: 225673\n",
            "Removed top words: ['water', 'climate-change', 'system', 'risk', 'flood', 'adaptation', 'study', 'management', 'model', 'area']\n"
          ]
        },
        {
          "name": "stderr",
          "output_type": "stream",
          "text": [
            " 44%|████▍     | 4/9 [01:31<01:55, 23.02s/it]Training...\n"
          ]
        },
        {
          "name": "stdout",
          "output_type": "stream",
          "text": [
            "topic8_Coherence: 0.685_Perplexity: 1.436e+03\n",
            "Num docs: 2767 , Vocab size: 2420 , Num words: 225673\n",
            "Removed top words: ['water', 'climate-change', 'system', 'risk', 'flood', 'adaptation', 'study', 'management', 'model', 'area']\n"
          ]
        },
        {
          "name": "stderr",
          "output_type": "stream",
          "text": [
            " 56%|█████▌    | 5/9 [01:53<01:30, 22.68s/it]Training...\n"
          ]
        },
        {
          "name": "stdout",
          "output_type": "stream",
          "text": [
            "topic6_Coherence: 0.573_Perplexity: 1.432e+03\n",
            "Num docs: 2767 , Vocab size: 2420 , Num words: 225673\n",
            "Removed top words: ['water', 'climate-change', 'system', 'risk', 'flood', 'adaptation', 'study', 'management', 'model', 'area']\n"
          ]
        },
        {
          "name": "stderr",
          "output_type": "stream",
          "text": [
            " 67%|██████▋   | 6/9 [02:16<01:08, 22.98s/it]Training...\n"
          ]
        },
        {
          "name": "stdout",
          "output_type": "stream",
          "text": [
            "topic8_Coherence: 0.6076_Perplexity: 1.438e+03\n",
            "Num docs: 2767 , Vocab size: 2420 , Num words: 225673\n",
            "Removed top words: ['water', 'climate-change', 'system', 'risk', 'flood', 'adaptation', 'study', 'management', 'model', 'area']\n"
          ]
        },
        {
          "name": "stderr",
          "output_type": "stream",
          "text": [
            " 78%|███████▊  | 7/9 [02:40<00:46, 23.19s/it]Training...\n"
          ]
        },
        {
          "name": "stdout",
          "output_type": "stream",
          "text": [
            "topic8_Coherence: 0.6283_Perplexity: 1.439e+03\n",
            "Num docs: 2767 , Vocab size: 2420 , Num words: 225673\n",
            "Removed top words: ['water', 'climate-change', 'system', 'risk', 'flood', 'adaptation', 'study', 'management', 'model', 'area']\n"
          ]
        },
        {
          "name": "stderr",
          "output_type": "stream",
          "text": [
            " 89%|████████▉ | 8/9 [03:09<00:25, 25.17s/it]Training...\n"
          ]
        },
        {
          "name": "stdout",
          "output_type": "stream",
          "text": [
            "topic11_Coherence: 0.6144_Perplexity: 1.399e+03\n",
            "Num docs: 2767 , Vocab size: 2420 , Num words: 225673\n",
            "Removed top words: ['water', 'climate-change', 'system', 'risk', 'flood', 'adaptation', 'study', 'management', 'model', 'area']\n"
          ]
        },
        {
          "name": "stderr",
          "output_type": "stream",
          "text": [
            "100%|██████████| 9/9 [03:39<00:00, 24.35s/it]"
          ]
        },
        {
          "name": "stdout",
          "output_type": "stream",
          "text": [
            "topic11_Coherence: 0.6299_Perplexity: 1.402e+03\n",
            "Topics : 2, Sub_topics : 5, Coherence_score : 0.685\n"
          ]
        },
        {
          "name": "stderr",
          "output_type": "stream",
          "text": [
            "\n",
            "  0%|          | 0/9 [00:00<?, ?it/s]C:\\Users\\Public\\Documents\\ESTsoft\\CreatorTemp\\ipykernel_40760\\3125301607.py:15: RuntimeWarning: The training result may differ even with fixed seed if `workers` != 1.\n",
            "  mdl.train(0)\n",
            "Training...\n"
          ]
        },
        {
          "name": "stdout",
          "output_type": "stream",
          "text": [
            "Num docs: 2706 , Vocab size: 2161 , Num words: 202794\n",
            "Removed top words: ['energy', 'building', 'design', 'system', 'environmental', 'construction', 'study', 'material', 'emission', 'carbon']\n"
          ]
        },
        {
          "name": "stderr",
          "output_type": "stream",
          "text": [
            " 11%|█         | 1/9 [00:18<02:29, 18.67s/it]Training...\n"
          ]
        },
        {
          "name": "stdout",
          "output_type": "stream",
          "text": [
            "topic2_Coherence: 0.4786_Perplexity: 1.383e+03\n",
            "Num docs: 2706 , Vocab size: 2161 , Num words: 202794\n",
            "Removed top words: ['energy', 'building', 'design', 'system', 'environmental', 'construction', 'study', 'material', 'emission', 'carbon']\n"
          ]
        },
        {
          "name": "stderr",
          "output_type": "stream",
          "text": [
            " 22%|██▏       | 2/9 [00:40<02:23, 20.55s/it]Training...\n"
          ]
        },
        {
          "name": "stdout",
          "output_type": "stream",
          "text": [
            "topic3_Coherence: 0.4528_Perplexity: 1.378e+03\n",
            "Num docs: 2706 , Vocab size: 2161 , Num words: 202794\n",
            "Removed top words: ['energy', 'building', 'design', 'system', 'environmental', 'construction', 'study', 'material', 'emission', 'carbon']\n"
          ]
        },
        {
          "name": "stderr",
          "output_type": "stream",
          "text": [
            " 33%|███▎      | 3/9 [01:03<02:09, 21.54s/it]Training...\n"
          ]
        },
        {
          "name": "stdout",
          "output_type": "stream",
          "text": [
            "topic4_Coherence: 0.5489_Perplexity: 1.369e+03\n",
            "Num docs: 2706 , Vocab size: 2161 , Num words: 202794\n",
            "Removed top words: ['energy', 'building', 'design', 'system', 'environmental', 'construction', 'study', 'material', 'emission', 'carbon']\n"
          ]
        },
        {
          "name": "stderr",
          "output_type": "stream",
          "text": [
            " 44%|████▍     | 4/9 [01:28<01:55, 23.07s/it]Training...\n"
          ]
        },
        {
          "name": "stdout",
          "output_type": "stream",
          "text": [
            "topic5_Coherence: 0.5704_Perplexity: 1.324e+03\n",
            "Num docs: 2706 , Vocab size: 2161 , Num words: 202794\n",
            "Removed top words: ['energy', 'building', 'design', 'system', 'environmental', 'construction', 'study', 'material', 'emission', 'carbon']\n"
          ]
        },
        {
          "name": "stderr",
          "output_type": "stream",
          "text": [
            " 56%|█████▌    | 5/9 [01:53<01:35, 23.79s/it]Training...\n"
          ]
        },
        {
          "name": "stdout",
          "output_type": "stream",
          "text": [
            "topic6_Coherence: 0.6003_Perplexity: 1.332e+03\n",
            "Num docs: 2706 , Vocab size: 2161 , Num words: 202794\n",
            "Removed top words: ['energy', 'building', 'design', 'system', 'environmental', 'construction', 'study', 'material', 'emission', 'carbon']\n"
          ]
        },
        {
          "name": "stderr",
          "output_type": "stream",
          "text": [
            " 67%|██████▋   | 6/9 [02:11<01:05, 21.84s/it]Training...\n"
          ]
        },
        {
          "name": "stdout",
          "output_type": "stream",
          "text": [
            "topic7_Coherence: 0.5962_Perplexity: 1.333e+03\n",
            "Num docs: 2706 , Vocab size: 2161 , Num words: 202794\n",
            "Removed top words: ['energy', 'building', 'design', 'system', 'environmental', 'construction', 'study', 'material', 'emission', 'carbon']\n"
          ]
        },
        {
          "name": "stderr",
          "output_type": "stream",
          "text": [
            " 78%|███████▊  | 7/9 [02:31<00:42, 21.19s/it]Training...\n"
          ]
        },
        {
          "name": "stdout",
          "output_type": "stream",
          "text": [
            "topic8_Coherence: 0.6009_Perplexity: 1.358e+03\n",
            "Num docs: 2706 , Vocab size: 2161 , Num words: 202794\n",
            "Removed top words: ['energy', 'building', 'design', 'system', 'environmental', 'construction', 'study', 'material', 'emission', 'carbon']\n"
          ]
        },
        {
          "name": "stderr",
          "output_type": "stream",
          "text": [
            " 89%|████████▉ | 8/9 [02:54<00:21, 21.68s/it]Training...\n"
          ]
        },
        {
          "name": "stdout",
          "output_type": "stream",
          "text": [
            "topic9_Coherence: 0.6222_Perplexity: 1.351e+03\n",
            "Num docs: 2706 , Vocab size: 2161 , Num words: 202794\n",
            "Removed top words: ['energy', 'building', 'design', 'system', 'environmental', 'construction', 'study', 'material', 'emission', 'carbon']\n"
          ]
        },
        {
          "name": "stderr",
          "output_type": "stream",
          "text": [
            "100%|██████████| 9/9 [03:17<00:00, 21.90s/it]"
          ]
        },
        {
          "name": "stdout",
          "output_type": "stream",
          "text": [
            "topic10_Coherence: 0.6555_Perplexity: 1.342e+03\n"
          ]
        },
        {
          "name": "stderr",
          "output_type": "stream",
          "text": [
            "\n"
          ]
        },
        {
          "name": "stdout",
          "output_type": "stream",
          "text": [
            "Topics : 3, Sub_topics : 10, Coherence_score : 0.6555\n"
          ]
        },
        {
          "name": "stderr",
          "output_type": "stream",
          "text": [
            "  0%|          | 0/9 [00:00<?, ?it/s]C:\\Users\\Public\\Documents\\ESTsoft\\CreatorTemp\\ipykernel_40760\\3125301607.py:15: RuntimeWarning: The training result may differ even with fixed seed if `workers` != 1.\n",
            "  mdl.train(0)\n",
            "Training...\n"
          ]
        },
        {
          "name": "stdout",
          "output_type": "stream",
          "text": [
            "Num docs: 2640 , Vocab size: 1932 , Num words: 186357\n",
            "Removed top words: ['energy', 'system', 'power', 'model', 'cost', 'carbon-emission', 'network', 'renewable', 'carbon', 'optimization']\n"
          ]
        },
        {
          "name": "stderr",
          "output_type": "stream",
          "text": [
            " 11%|█         | 1/9 [00:17<02:18, 17.27s/it]Training...\n"
          ]
        },
        {
          "name": "stdout",
          "output_type": "stream",
          "text": [
            "topic2_Coherence: 0.6724_Perplexity: 1.208e+03\n",
            "Num docs: 2640 , Vocab size: 1932 , Num words: 186357\n",
            "Removed top words: ['energy', 'system', 'power', 'model', 'cost', 'carbon-emission', 'network', 'renewable', 'carbon', 'optimization']\n"
          ]
        },
        {
          "name": "stderr",
          "output_type": "stream",
          "text": [
            " 22%|██▏       | 2/9 [00:36<02:10, 18.59s/it]Training...\n"
          ]
        },
        {
          "name": "stdout",
          "output_type": "stream",
          "text": [
            "topic3_Coherence: 0.5889_Perplexity: 1.15e+03\n",
            "Num docs: 2640 , Vocab size: 1932 , Num words: 186357\n",
            "Removed top words: ['energy', 'system', 'power', 'model', 'cost', 'carbon-emission', 'network', 'renewable', 'carbon', 'optimization']\n"
          ]
        },
        {
          "name": "stderr",
          "output_type": "stream",
          "text": [
            " 33%|███▎      | 3/9 [00:58<02:00, 20.11s/it]Training...\n"
          ]
        },
        {
          "name": "stdout",
          "output_type": "stream",
          "text": [
            "topic4_Coherence: 0.6024_Perplexity: 1.149e+03\n",
            "Num docs: 2640 , Vocab size: 1932 , Num words: 186357\n",
            "Removed top words: ['energy', 'system', 'power', 'model', 'cost', 'carbon-emission', 'network', 'renewable', 'carbon', 'optimization']\n"
          ]
        },
        {
          "name": "stderr",
          "output_type": "stream",
          "text": [
            " 44%|████▍     | 4/9 [01:16<01:35, 19.11s/it]Training...\n"
          ]
        },
        {
          "name": "stdout",
          "output_type": "stream",
          "text": [
            "topic5_Coherence: 0.5474_Perplexity: 1.144e+03\n",
            "Num docs: 2640 , Vocab size: 1932 , Num words: 186357\n",
            "Removed top words: ['energy', 'system', 'power', 'model', 'cost', 'carbon-emission', 'network', 'renewable', 'carbon', 'optimization']\n"
          ]
        },
        {
          "name": "stderr",
          "output_type": "stream",
          "text": [
            " 56%|█████▌    | 5/9 [01:36<01:17, 19.45s/it]Training...\n"
          ]
        },
        {
          "name": "stdout",
          "output_type": "stream",
          "text": [
            "topic9_Coherence: 0.6798_Perplexity: 1.125e+03\n",
            "Num docs: 2640 , Vocab size: 1932 , Num words: 186357\n",
            "Removed top words: ['energy', 'system', 'power', 'model', 'cost', 'carbon-emission', 'network', 'renewable', 'carbon', 'optimization']\n"
          ]
        },
        {
          "name": "stderr",
          "output_type": "stream",
          "text": [
            " 67%|██████▋   | 6/9 [01:55<00:58, 19.36s/it]Training...\n"
          ]
        },
        {
          "name": "stdout",
          "output_type": "stream",
          "text": [
            "topic7_Coherence: 0.5951_Perplexity: 1.139e+03\n",
            "Num docs: 2640 , Vocab size: 1932 , Num words: 186357\n",
            "Removed top words: ['energy', 'system', 'power', 'model', 'cost', 'carbon-emission', 'network', 'renewable', 'carbon', 'optimization']\n"
          ]
        },
        {
          "name": "stderr",
          "output_type": "stream",
          "text": [
            " 78%|███████▊  | 7/9 [02:16<00:39, 19.95s/it]Training...\n"
          ]
        },
        {
          "name": "stdout",
          "output_type": "stream",
          "text": [
            "topic8_Coherence: 0.5991_Perplexity: 1.102e+03\n",
            "Num docs: 2640 , Vocab size: 1932 , Num words: 186357\n",
            "Removed top words: ['energy', 'system', 'power', 'model', 'cost', 'carbon-emission', 'network', 'renewable', 'carbon', 'optimization']\n"
          ]
        },
        {
          "name": "stderr",
          "output_type": "stream",
          "text": [
            " 89%|████████▉ | 8/9 [02:37<00:20, 20.34s/it]Training...\n"
          ]
        },
        {
          "name": "stdout",
          "output_type": "stream",
          "text": [
            "topic9_Coherence: 0.6274_Perplexity: 1.091e+03\n",
            "Num docs: 2640 , Vocab size: 1932 , Num words: 186357\n",
            "Removed top words: ['energy', 'system', 'power', 'model', 'cost', 'carbon-emission', 'network', 'renewable', 'carbon', 'optimization']\n"
          ]
        },
        {
          "name": "stderr",
          "output_type": "stream",
          "text": [
            "100%|██████████| 9/9 [03:03<00:00, 20.40s/it]"
          ]
        },
        {
          "name": "stdout",
          "output_type": "stream",
          "text": [
            "topic11_Coherence: 0.5998_Perplexity: 1.091e+03\n",
            "Topics : 4, Sub_topics : 6, Coherence_score : 0.6798\n"
          ]
        },
        {
          "name": "stderr",
          "output_type": "stream",
          "text": [
            "\n",
            "  0%|          | 0/9 [00:00<?, ?it/s]C:\\Users\\Public\\Documents\\ESTsoft\\CreatorTemp\\ipykernel_40760\\3125301607.py:15: RuntimeWarning: The training result may differ even with fixed seed if `workers` != 1.\n",
            "  mdl.train(0)\n",
            "Training...\n"
          ]
        },
        {
          "name": "stdout",
          "output_type": "stream",
          "text": [
            "Num docs: 2491 , Vocab size: 2198 , Num words: 195120\n",
            "Removed top words: ['energy', 'production', 'CO2', 'process', 'system', 'carbon', 'fuel', 'gas', 'technology', 'emission']\n"
          ]
        },
        {
          "name": "stderr",
          "output_type": "stream",
          "text": [
            " 11%|█         | 1/9 [00:22<02:58, 22.36s/it]Training...\n"
          ]
        },
        {
          "name": "stdout",
          "output_type": "stream",
          "text": [
            "topic4_Coherence: 0.5664_Perplexity: 1.396e+03\n",
            "Num docs: 2491 , Vocab size: 2198 , Num words: 195120\n",
            "Removed top words: ['energy', 'production', 'CO2', 'process', 'system', 'carbon', 'fuel', 'gas', 'technology', 'emission']\n"
          ]
        },
        {
          "name": "stderr",
          "output_type": "stream",
          "text": [
            " 22%|██▏       | 2/9 [00:46<02:43, 23.32s/it]Training...\n"
          ]
        },
        {
          "name": "stdout",
          "output_type": "stream",
          "text": [
            "topic4_Coherence: 0.5071_Perplexity: 1.351e+03\n",
            "Num docs: 2491 , Vocab size: 2198 , Num words: 195120\n",
            "Removed top words: ['energy', 'production', 'CO2', 'process', 'system', 'carbon', 'fuel', 'gas', 'technology', 'emission']\n"
          ]
        },
        {
          "name": "stderr",
          "output_type": "stream",
          "text": [
            " 33%|███▎      | 3/9 [01:03<02:03, 20.65s/it]Training...\n"
          ]
        },
        {
          "name": "stdout",
          "output_type": "stream",
          "text": [
            "topic5_Coherence: 0.5361_Perplexity: 1.293e+03\n",
            "Num docs: 2491 , Vocab size: 2198 , Num words: 195120\n",
            "Removed top words: ['energy', 'production', 'CO2', 'process', 'system', 'carbon', 'fuel', 'gas', 'technology', 'emission']\n"
          ]
        },
        {
          "name": "stderr",
          "output_type": "stream",
          "text": [
            " 44%|████▍     | 4/9 [01:23<01:41, 20.33s/it]Training...\n"
          ]
        },
        {
          "name": "stdout",
          "output_type": "stream",
          "text": [
            "topic8_Coherence: 0.6521_Perplexity: 1.324e+03\n",
            "Num docs: 2491 , Vocab size: 2198 , Num words: 195120\n",
            "Removed top words: ['energy', 'production', 'CO2', 'process', 'system', 'carbon', 'fuel', 'gas', 'technology', 'emission']\n"
          ]
        },
        {
          "name": "stderr",
          "output_type": "stream",
          "text": [
            " 56%|█████▌    | 5/9 [01:48<01:28, 22.08s/it]Training...\n"
          ]
        },
        {
          "name": "stdout",
          "output_type": "stream",
          "text": [
            "topic7_Coherence: 0.5836_Perplexity: 1.305e+03\n",
            "Num docs: 2491 , Vocab size: 2198 , Num words: 195120\n",
            "Removed top words: ['energy', 'production', 'CO2', 'process', 'system', 'carbon', 'fuel', 'gas', 'technology', 'emission']\n"
          ]
        },
        {
          "name": "stderr",
          "output_type": "stream",
          "text": [
            " 67%|██████▋   | 6/9 [02:11<01:07, 22.42s/it]Training...\n"
          ]
        },
        {
          "name": "stdout",
          "output_type": "stream",
          "text": [
            "topic10_Coherence: 0.6414_Perplexity: 1.284e+03\n",
            "Num docs: 2491 , Vocab size: 2198 , Num words: 195120\n",
            "Removed top words: ['energy', 'production', 'CO2', 'process', 'system', 'carbon', 'fuel', 'gas', 'technology', 'emission']\n"
          ]
        },
        {
          "name": "stderr",
          "output_type": "stream",
          "text": [
            " 78%|███████▊  | 7/9 [02:31<00:43, 21.61s/it]Training...\n"
          ]
        },
        {
          "name": "stdout",
          "output_type": "stream",
          "text": [
            "topic9_Coherence: 0.5843_Perplexity: 1.269e+03\n",
            "Num docs: 2491 , Vocab size: 2198 , Num words: 195120\n",
            "Removed top words: ['energy', 'production', 'CO2', 'process', 'system', 'carbon', 'fuel', 'gas', 'technology', 'emission']\n"
          ]
        },
        {
          "name": "stderr",
          "output_type": "stream",
          "text": [
            " 89%|████████▉ | 8/9 [02:58<00:23, 23.29s/it]Training...\n"
          ]
        },
        {
          "name": "stdout",
          "output_type": "stream",
          "text": [
            "topic10_Coherence: 0.5994_Perplexity: 1.282e+03\n",
            "Num docs: 2491 , Vocab size: 2198 , Num words: 195120\n",
            "Removed top words: ['energy', 'production', 'CO2', 'process', 'system', 'carbon', 'fuel', 'gas', 'technology', 'emission']\n"
          ]
        },
        {
          "name": "stderr",
          "output_type": "stream",
          "text": [
            "100%|██████████| 9/9 [03:25<00:00, 22.84s/it]"
          ]
        },
        {
          "name": "stdout",
          "output_type": "stream",
          "text": [
            "topic11_Coherence: 0.6219_Perplexity: 1.285e+03\n",
            "Topics : 5, Sub_topics : 5, Coherence_score : 0.6521\n"
          ]
        },
        {
          "name": "stderr",
          "output_type": "stream",
          "text": [
            "\n",
            "  0%|          | 0/9 [00:00<?, ?it/s]C:\\Users\\Public\\Documents\\ESTsoft\\CreatorTemp\\ipykernel_40760\\3125301607.py:15: RuntimeWarning: The training result may differ even with fixed seed if `workers` != 1.\n",
            "  mdl.train(0)\n",
            "Training...\n"
          ]
        },
        {
          "name": "stdout",
          "output_type": "stream",
          "text": [
            "Num docs: 2099 , Vocab size: 1795 , Num words: 147532\n",
            "Removed top words: ['energy', 'policy', 'technology', 'transition', 'climate-change', 'innovation', 'carbon', 'system', 'study', 'development']\n"
          ]
        },
        {
          "name": "stderr",
          "output_type": "stream",
          "text": [
            " 11%|█         | 1/9 [00:14<01:58, 14.80s/it]Training...\n"
          ]
        },
        {
          "name": "stdout",
          "output_type": "stream",
          "text": [
            "topic3_Coherence: 0.4465_Perplexity: 1.241e+03\n",
            "Num docs: 2099 , Vocab size: 1795 , Num words: 147532\n",
            "Removed top words: ['energy', 'policy', 'technology', 'transition', 'climate-change', 'innovation', 'carbon', 'system', 'study', 'development']\n"
          ]
        },
        {
          "name": "stderr",
          "output_type": "stream",
          "text": [
            " 22%|██▏       | 2/9 [00:29<01:43, 14.81s/it]Training...\n"
          ]
        },
        {
          "name": "stdout",
          "output_type": "stream",
          "text": [
            "topic3_Coherence: 0.5227_Perplexity: 1.203e+03\n",
            "Num docs: 2099 , Vocab size: 1795 , Num words: 147532\n",
            "Removed top words: ['energy', 'policy', 'technology', 'transition', 'climate-change', 'innovation', 'carbon', 'system', 'study', 'development']\n"
          ]
        },
        {
          "name": "stderr",
          "output_type": "stream",
          "text": [
            " 33%|███▎      | 3/9 [00:45<01:32, 15.41s/it]Training...\n"
          ]
        },
        {
          "name": "stdout",
          "output_type": "stream",
          "text": [
            "topic4_Coherence: 0.5293_Perplexity: 1.26e+03\n",
            "Num docs: 2099 , Vocab size: 1795 , Num words: 147532\n",
            "Removed top words: ['energy', 'policy', 'technology', 'transition', 'climate-change', 'innovation', 'carbon', 'system', 'study', 'development']\n"
          ]
        },
        {
          "name": "stderr",
          "output_type": "stream",
          "text": [
            " 44%|████▍     | 4/9 [01:04<01:22, 16.59s/it]Training...\n"
          ]
        },
        {
          "name": "stdout",
          "output_type": "stream",
          "text": [
            "topic5_Coherence: 0.5105_Perplexity: 1.192e+03\n",
            "Num docs: 2099 , Vocab size: 1795 , Num words: 147532\n",
            "Removed top words: ['energy', 'policy', 'technology', 'transition', 'climate-change', 'innovation', 'carbon', 'system', 'study', 'development']\n"
          ]
        },
        {
          "name": "stderr",
          "output_type": "stream",
          "text": [
            " 56%|█████▌    | 5/9 [01:17<01:01, 15.40s/it]Training...\n"
          ]
        },
        {
          "name": "stdout",
          "output_type": "stream",
          "text": [
            "topic6_Coherence: 0.527_Perplexity: 1.188e+03\n",
            "Num docs: 2099 , Vocab size: 1795 , Num words: 147532\n",
            "Removed top words: ['energy', 'policy', 'technology', 'transition', 'climate-change', 'innovation', 'carbon', 'system', 'study', 'development']\n"
          ]
        },
        {
          "name": "stderr",
          "output_type": "stream",
          "text": [
            " 67%|██████▋   | 6/9 [01:33<00:46, 15.54s/it]Training...\n"
          ]
        },
        {
          "name": "stdout",
          "output_type": "stream",
          "text": [
            "topic7_Coherence: 0.5032_Perplexity: 1.179e+03\n",
            "Num docs: 2099 , Vocab size: 1795 , Num words: 147532\n",
            "Removed top words: ['energy', 'policy', 'technology', 'transition', 'climate-change', 'innovation', 'carbon', 'system', 'study', 'development']\n"
          ]
        },
        {
          "name": "stderr",
          "output_type": "stream",
          "text": [
            " 78%|███████▊  | 7/9 [01:47<00:30, 15.21s/it]Training...\n"
          ]
        },
        {
          "name": "stdout",
          "output_type": "stream",
          "text": [
            "topic8_Coherence: 0.592_Perplexity: 1.183e+03\n",
            "Num docs: 2099 , Vocab size: 1795 , Num words: 147532\n",
            "Removed top words: ['energy', 'policy', 'technology', 'transition', 'climate-change', 'innovation', 'carbon', 'system', 'study', 'development']\n"
          ]
        },
        {
          "name": "stderr",
          "output_type": "stream",
          "text": [
            " 89%|████████▉ | 8/9 [02:04<00:15, 15.70s/it]Training...\n"
          ]
        },
        {
          "name": "stdout",
          "output_type": "stream",
          "text": [
            "topic9_Coherence: 0.5627_Perplexity: 1.183e+03\n",
            "Num docs: 2099 , Vocab size: 1795 , Num words: 147532\n",
            "Removed top words: ['energy', 'policy', 'technology', 'transition', 'climate-change', 'innovation', 'carbon', 'system', 'study', 'development']\n"
          ]
        },
        {
          "name": "stderr",
          "output_type": "stream",
          "text": [
            "100%|██████████| 9/9 [02:24<00:00, 16.08s/it]"
          ]
        },
        {
          "name": "stdout",
          "output_type": "stream",
          "text": [
            "topic10_Coherence: 0.5568_Perplexity: 1.173e+03\n",
            "Topics : 6, Sub_topics : 8, Coherence_score : 0.592\n"
          ]
        },
        {
          "name": "stderr",
          "output_type": "stream",
          "text": [
            "\n",
            "  0%|          | 0/9 [00:00<?, ?it/s]C:\\Users\\Public\\Documents\\ESTsoft\\CreatorTemp\\ipykernel_40760\\3125301607.py:15: RuntimeWarning: The training result may differ even with fixed seed if `workers` != 1.\n",
            "  mdl.train(0)\n",
            "Training...\n"
          ]
        },
        {
          "name": "stdout",
          "output_type": "stream",
          "text": [
            "Num docs: 1921 , Vocab size: 1405 , Num words: 136167\n",
            "Removed top words: ['carbon-emission', 'energy', 'china', 'efficiency', 'development', 'carbon', 'emission', 'industry', 'policy', 'economic']\n"
          ]
        },
        {
          "name": "stderr",
          "output_type": "stream",
          "text": [
            " 11%|█         | 1/9 [00:12<01:38, 12.35s/it]Training...\n"
          ]
        },
        {
          "name": "stdout",
          "output_type": "stream",
          "text": [
            "topic2_Coherence: 0.5046_Perplexity: 891.9\n",
            "Num docs: 1921 , Vocab size: 1405 , Num words: 136167\n",
            "Removed top words: ['carbon-emission', 'energy', 'china', 'efficiency', 'development', 'carbon', 'emission', 'industry', 'policy', 'economic']\n"
          ]
        },
        {
          "name": "stderr",
          "output_type": "stream",
          "text": [
            " 22%|██▏       | 2/9 [00:26<01:34, 13.52s/it]Training...\n"
          ]
        },
        {
          "name": "stdout",
          "output_type": "stream",
          "text": [
            "topic3_Coherence: 0.4654_Perplexity: 833.9\n",
            "Num docs: 1921 , Vocab size: 1405 , Num words: 136167\n",
            "Removed top words: ['carbon-emission', 'energy', 'china', 'efficiency', 'development', 'carbon', 'emission', 'industry', 'policy', 'economic']\n"
          ]
        },
        {
          "name": "stderr",
          "output_type": "stream",
          "text": [
            " 33%|███▎      | 3/9 [00:42<01:27, 14.54s/it]Training...\n"
          ]
        },
        {
          "name": "stdout",
          "output_type": "stream",
          "text": [
            "topic4_Coherence: 0.5013_Perplexity: 833.9\n",
            "Num docs: 1921 , Vocab size: 1405 , Num words: 136167\n",
            "Removed top words: ['carbon-emission', 'energy', 'china', 'efficiency', 'development', 'carbon', 'emission', 'industry', 'policy', 'economic']\n"
          ]
        },
        {
          "name": "stderr",
          "output_type": "stream",
          "text": [
            " 44%|████▍     | 4/9 [00:56<01:11, 14.30s/it]Training...\n"
          ]
        },
        {
          "name": "stdout",
          "output_type": "stream",
          "text": [
            "topic7_Coherence: 0.5817_Perplexity: 803.1\n",
            "Num docs: 1921 , Vocab size: 1405 , Num words: 136167\n",
            "Removed top words: ['carbon-emission', 'energy', 'china', 'efficiency', 'development', 'carbon', 'emission', 'industry', 'policy', 'economic']\n"
          ]
        },
        {
          "name": "stderr",
          "output_type": "stream",
          "text": [
            " 56%|█████▌    | 5/9 [01:08<00:54, 13.68s/it]Training...\n"
          ]
        },
        {
          "name": "stdout",
          "output_type": "stream",
          "text": [
            "topic7_Coherence: 0.5749_Perplexity: 809.9\n",
            "Num docs: 1921 , Vocab size: 1405 , Num words: 136167\n",
            "Removed top words: ['carbon-emission', 'energy', 'china', 'efficiency', 'development', 'carbon', 'emission', 'industry', 'policy', 'economic']\n"
          ]
        },
        {
          "name": "stderr",
          "output_type": "stream",
          "text": [
            " 67%|██████▋   | 6/9 [01:23<00:41, 13.95s/it]Training...\n"
          ]
        },
        {
          "name": "stdout",
          "output_type": "stream",
          "text": [
            "topic8_Coherence: 0.5678_Perplexity: 798.1\n",
            "Num docs: 1921 , Vocab size: 1405 , Num words: 136167\n",
            "Removed top words: ['carbon-emission', 'energy', 'china', 'efficiency', 'development', 'carbon', 'emission', 'industry', 'policy', 'economic']\n"
          ]
        },
        {
          "name": "stderr",
          "output_type": "stream",
          "text": [
            " 78%|███████▊  | 7/9 [01:36<00:27, 13.71s/it]Training...\n"
          ]
        },
        {
          "name": "stdout",
          "output_type": "stream",
          "text": [
            "topic8_Coherence: 0.5823_Perplexity: 835.7\n",
            "Num docs: 1921 , Vocab size: 1405 , Num words: 136167\n",
            "Removed top words: ['carbon-emission', 'energy', 'china', 'efficiency', 'development', 'carbon', 'emission', 'industry', 'policy', 'economic']\n"
          ]
        },
        {
          "name": "stderr",
          "output_type": "stream",
          "text": [
            " 89%|████████▉ | 8/9 [01:51<00:14, 14.22s/it]Training...\n"
          ]
        },
        {
          "name": "stdout",
          "output_type": "stream",
          "text": [
            "topic9_Coherence: 0.5795_Perplexity: 806.4\n",
            "Num docs: 1921 , Vocab size: 1405 , Num words: 136167\n",
            "Removed top words: ['carbon-emission', 'energy', 'china', 'efficiency', 'development', 'carbon', 'emission', 'industry', 'policy', 'economic']\n"
          ]
        },
        {
          "name": "stderr",
          "output_type": "stream",
          "text": [
            "100%|██████████| 9/9 [02:08<00:00, 14.28s/it]"
          ]
        },
        {
          "name": "stdout",
          "output_type": "stream",
          "text": [
            "topic10_Coherence: 0.607_Perplexity: 814.2\n",
            "Topics : 7, Sub_topics : 10, Coherence_score : 0.607\n"
          ]
        },
        {
          "name": "stderr",
          "output_type": "stream",
          "text": [
            "\n",
            "  0%|          | 0/9 [00:00<?, ?it/s]C:\\Users\\Public\\Documents\\ESTsoft\\CreatorTemp\\ipykernel_40760\\3125301607.py:15: RuntimeWarning: The training result may differ even with fixed seed if `workers` != 1.\n",
            "  mdl.train(0)\n",
            "Training...\n"
          ]
        },
        {
          "name": "stdout",
          "output_type": "stream",
          "text": [
            "Num docs: 1421 , Vocab size: 1383 , Num words: 102124\n",
            "Removed top words: ['energy', 'system', 'heat', 'building', 'solar', 'thermal', 'performance', 'power', 'efficiency', 'design']\n"
          ]
        },
        {
          "name": "stderr",
          "output_type": "stream",
          "text": [
            " 11%|█         | 1/9 [00:09<01:19,  9.94s/it]Training...\n"
          ]
        },
        {
          "name": "stdout",
          "output_type": "stream",
          "text": [
            "topic2_Coherence: 0.4191_Perplexity: 984.2\n",
            "Num docs: 1421 , Vocab size: 1383 , Num words: 102124\n",
            "Removed top words: ['energy', 'system', 'heat', 'building', 'solar', 'thermal', 'performance', 'power', 'efficiency', 'design']\n"
          ]
        },
        {
          "name": "stderr",
          "output_type": "stream",
          "text": [
            " 22%|██▏       | 2/9 [00:21<01:15, 10.84s/it]Training...\n"
          ]
        },
        {
          "name": "stdout",
          "output_type": "stream",
          "text": [
            "topic3_Coherence: 0.4273_Perplexity: 983.9\n",
            "Num docs: 1421 , Vocab size: 1383 , Num words: 102124\n",
            "Removed top words: ['energy', 'system', 'heat', 'building', 'solar', 'thermal', 'performance', 'power', 'efficiency', 'design']\n"
          ]
        },
        {
          "name": "stderr",
          "output_type": "stream",
          "text": [
            " 33%|███▎      | 3/9 [00:33<01:09, 11.62s/it]Training...\n"
          ]
        },
        {
          "name": "stdout",
          "output_type": "stream",
          "text": [
            "topic4_Coherence: 0.4187_Perplexity: 972.2\n",
            "Num docs: 1421 , Vocab size: 1383 , Num words: 102124\n",
            "Removed top words: ['energy', 'system', 'heat', 'building', 'solar', 'thermal', 'performance', 'power', 'efficiency', 'design']\n"
          ]
        },
        {
          "name": "stderr",
          "output_type": "stream",
          "text": [
            " 44%|████▍     | 4/9 [00:43<00:54, 10.95s/it]Training...\n"
          ]
        },
        {
          "name": "stdout",
          "output_type": "stream",
          "text": [
            "topic5_Coherence: 0.5339_Perplexity: 1.024e+03\n",
            "Num docs: 1421 , Vocab size: 1383 , Num words: 102124\n",
            "Removed top words: ['energy', 'system', 'heat', 'building', 'solar', 'thermal', 'performance', 'power', 'efficiency', 'design']\n"
          ]
        },
        {
          "name": "stderr",
          "output_type": "stream",
          "text": [
            " 56%|█████▌    | 5/9 [00:53<00:41, 10.31s/it]Training...\n"
          ]
        },
        {
          "name": "stdout",
          "output_type": "stream",
          "text": [
            "topic7_Coherence: 0.6196_Perplexity: 971.1\n",
            "Num docs: 1421 , Vocab size: 1383 , Num words: 102124\n",
            "Removed top words: ['energy', 'system', 'heat', 'building', 'solar', 'thermal', 'performance', 'power', 'efficiency', 'design']\n"
          ]
        },
        {
          "name": "stderr",
          "output_type": "stream",
          "text": [
            " 67%|██████▋   | 6/9 [01:06<00:34, 11.47s/it]Training...\n"
          ]
        },
        {
          "name": "stdout",
          "output_type": "stream",
          "text": [
            "topic7_Coherence: 0.5049_Perplexity: 955.7\n",
            "Num docs: 1421 , Vocab size: 1383 , Num words: 102124\n",
            "Removed top words: ['energy', 'system', 'heat', 'building', 'solar', 'thermal', 'performance', 'power', 'efficiency', 'design']\n"
          ]
        },
        {
          "name": "stderr",
          "output_type": "stream",
          "text": [
            " 78%|███████▊  | 7/9 [01:17<00:22, 11.13s/it]Training...\n"
          ]
        },
        {
          "name": "stdout",
          "output_type": "stream",
          "text": [
            "topic10_Coherence: 0.5621_Perplexity: 962.7\n",
            "Num docs: 1421 , Vocab size: 1383 , Num words: 102124\n",
            "Removed top words: ['energy', 'system', 'heat', 'building', 'solar', 'thermal', 'performance', 'power', 'efficiency', 'design']\n"
          ]
        },
        {
          "name": "stderr",
          "output_type": "stream",
          "text": [
            " 89%|████████▉ | 8/9 [01:31<00:12, 12.02s/it]Training...\n"
          ]
        },
        {
          "name": "stdout",
          "output_type": "stream",
          "text": [
            "topic10_Coherence: 0.54_Perplexity: 958.8\n",
            "Num docs: 1421 , Vocab size: 1383 , Num words: 102124\n",
            "Removed top words: ['energy', 'system', 'heat', 'building', 'solar', 'thermal', 'performance', 'power', 'efficiency', 'design']\n"
          ]
        },
        {
          "name": "stderr",
          "output_type": "stream",
          "text": [
            "100%|██████████| 9/9 [01:42<00:00, 11.39s/it]"
          ]
        },
        {
          "name": "stdout",
          "output_type": "stream",
          "text": [
            "topic11_Coherence: 0.5697_Perplexity: 953.5\n",
            "Topics : 8, Sub_topics : 6, Coherence_score : 0.6196\n"
          ]
        },
        {
          "name": "stderr",
          "output_type": "stream",
          "text": [
            "\n",
            "  0%|          | 0/9 [00:00<?, ?it/s]C:\\Users\\Public\\Documents\\ESTsoft\\CreatorTemp\\ipykernel_40760\\3125301607.py:15: RuntimeWarning: The training result may differ even with fixed seed if `workers` != 1.\n",
            "  mdl.train(0)\n",
            "Training...\n"
          ]
        },
        {
          "name": "stdout",
          "output_type": "stream",
          "text": [
            "Num docs: 1297 , Vocab size: 1651 , Num words: 111124\n",
            "Removed top words: ['climate-change', 'specie', 'ecosystem', 'area', 'management', 'conservation', 'change', 'carbon', 'system', 'study']\n"
          ]
        },
        {
          "name": "stderr",
          "output_type": "stream",
          "text": [
            " 11%|█         | 1/9 [00:10<01:23, 10.49s/it]Training...\n"
          ]
        },
        {
          "name": "stdout",
          "output_type": "stream",
          "text": [
            "topic2_Coherence: 0.4928_Perplexity: 1.18e+03\n",
            "Num docs: 1297 , Vocab size: 1651 , Num words: 111124\n",
            "Removed top words: ['climate-change', 'specie', 'ecosystem', 'area', 'management', 'conservation', 'change', 'carbon', 'system', 'study']\n"
          ]
        },
        {
          "name": "stderr",
          "output_type": "stream",
          "text": [
            " 22%|██▏       | 2/9 [00:22<01:18, 11.26s/it]Training...\n"
          ]
        },
        {
          "name": "stdout",
          "output_type": "stream",
          "text": [
            "topic3_Coherence: 0.5078_Perplexity: 1.174e+03\n",
            "Num docs: 1297 , Vocab size: 1651 , Num words: 111124\n",
            "Removed top words: ['climate-change', 'specie', 'ecosystem', 'area', 'management', 'conservation', 'change', 'carbon', 'system', 'study']\n"
          ]
        },
        {
          "name": "stderr",
          "output_type": "stream",
          "text": [
            " 33%|███▎      | 3/9 [00:34<01:11, 11.92s/it]Training...\n"
          ]
        },
        {
          "name": "stdout",
          "output_type": "stream",
          "text": [
            "topic4_Coherence: 0.5967_Perplexity: 1.149e+03\n",
            "Num docs: 1297 , Vocab size: 1651 , Num words: 111124\n",
            "Removed top words: ['climate-change', 'specie', 'ecosystem', 'area', 'management', 'conservation', 'change', 'carbon', 'system', 'study']\n"
          ]
        },
        {
          "name": "stderr",
          "output_type": "stream",
          "text": [
            " 44%|████▍     | 4/9 [00:48<01:03, 12.64s/it]Training...\n"
          ]
        },
        {
          "name": "stdout",
          "output_type": "stream",
          "text": [
            "topic5_Coherence: 0.5887_Perplexity: 1.145e+03\n",
            "Num docs: 1297 , Vocab size: 1651 , Num words: 111124\n",
            "Removed top words: ['climate-change', 'specie', 'ecosystem', 'area', 'management', 'conservation', 'change', 'carbon', 'system', 'study']\n"
          ]
        },
        {
          "name": "stderr",
          "output_type": "stream",
          "text": [
            " 56%|█████▌    | 5/9 [00:59<00:47, 11.96s/it]Training...\n"
          ]
        },
        {
          "name": "stdout",
          "output_type": "stream",
          "text": [
            "topic6_Coherence: 0.6194_Perplexity: 1.222e+03\n",
            "Num docs: 1297 , Vocab size: 1651 , Num words: 111124\n",
            "Removed top words: ['climate-change', 'specie', 'ecosystem', 'area', 'management', 'conservation', 'change', 'carbon', 'system', 'study']\n"
          ]
        },
        {
          "name": "stderr",
          "output_type": "stream",
          "text": [
            " 67%|██████▋   | 6/9 [01:10<00:34, 11.53s/it]Training...\n"
          ]
        },
        {
          "name": "stdout",
          "output_type": "stream",
          "text": [
            "topic7_Coherence: 0.5827_Perplexity: 1.156e+03\n",
            "Num docs: 1297 , Vocab size: 1651 , Num words: 111124\n",
            "Removed top words: ['climate-change', 'specie', 'ecosystem', 'area', 'management', 'conservation', 'change', 'carbon', 'system', 'study']\n"
          ]
        },
        {
          "name": "stderr",
          "output_type": "stream",
          "text": [
            " 78%|███████▊  | 7/9 [01:22<00:23, 11.76s/it]Training...\n"
          ]
        },
        {
          "name": "stdout",
          "output_type": "stream",
          "text": [
            "topic9_Coherence: 0.65_Perplexity: 1.155e+03\n",
            "Num docs: 1297 , Vocab size: 1651 , Num words: 111124\n",
            "Removed top words: ['climate-change', 'specie', 'ecosystem', 'area', 'management', 'conservation', 'change', 'carbon', 'system', 'study']\n"
          ]
        },
        {
          "name": "stderr",
          "output_type": "stream",
          "text": [
            " 89%|████████▉ | 8/9 [01:33<00:11, 11.56s/it]Training...\n"
          ]
        },
        {
          "name": "stdout",
          "output_type": "stream",
          "text": [
            "topic9_Coherence: 0.5654_Perplexity: 1.137e+03\n",
            "Num docs: 1297 , Vocab size: 1651 , Num words: 111124\n",
            "Removed top words: ['climate-change', 'specie', 'ecosystem', 'area', 'management', 'conservation', 'change', 'carbon', 'system', 'study']\n"
          ]
        },
        {
          "name": "stderr",
          "output_type": "stream",
          "text": [
            "100%|██████████| 9/9 [01:45<00:00, 11.74s/it]"
          ]
        },
        {
          "name": "stdout",
          "output_type": "stream",
          "text": [
            "topic10_Coherence: 0.5863_Perplexity: 1.218e+03\n",
            "Topics : 9, Sub_topics : 8, Coherence_score : 0.65\n"
          ]
        },
        {
          "name": "stderr",
          "output_type": "stream",
          "text": [
            "\n",
            "  0%|          | 0/9 [00:00<?, ?it/s]C:\\Users\\Public\\Documents\\ESTsoft\\CreatorTemp\\ipykernel_40760\\3125301607.py:15: RuntimeWarning: The training result may differ even with fixed seed if `workers` != 1.\n",
            "  mdl.train(0)\n",
            "Training...\n"
          ]
        },
        {
          "name": "stdout",
          "output_type": "stream",
          "text": [
            "Num docs: 1170 , Vocab size: 916 , Num words: 59046\n",
            "Removed top words: ['low-carbon', 'development', 'energy', 'city', 'system', 'carbon', 'urban', 'economy', 'low', 'china']\n"
          ]
        },
        {
          "name": "stderr",
          "output_type": "stream",
          "text": [
            " 11%|█         | 1/9 [00:07<01:00,  7.54s/it]Training...\n"
          ]
        },
        {
          "name": "stdout",
          "output_type": "stream",
          "text": [
            "topic4_Coherence: 0.5126_Perplexity: 655.9\n",
            "Num docs: 1170 , Vocab size: 916 , Num words: 59046\n",
            "Removed top words: ['low-carbon', 'development', 'energy', 'city', 'system', 'carbon', 'urban', 'economy', 'low', 'china']\n"
          ]
        },
        {
          "name": "stderr",
          "output_type": "stream",
          "text": [
            " 22%|██▏       | 2/9 [00:14<00:48,  6.90s/it]Training...\n"
          ]
        },
        {
          "name": "stdout",
          "output_type": "stream",
          "text": [
            "topic7_Coherence: 0.5903_Perplexity: 633.6\n",
            "Num docs: 1170 , Vocab size: 916 , Num words: 59046\n",
            "Removed top words: ['low-carbon', 'development', 'energy', 'city', 'system', 'carbon', 'urban', 'economy', 'low', 'china']\n"
          ]
        },
        {
          "name": "stderr",
          "output_type": "stream",
          "text": [
            " 33%|███▎      | 3/9 [00:20<00:41,  6.87s/it]Training...\n"
          ]
        },
        {
          "name": "stdout",
          "output_type": "stream",
          "text": [
            "topic5_Coherence: 0.5463_Perplexity: 641.9\n",
            "Num docs: 1170 , Vocab size: 916 , Num words: 59046\n",
            "Removed top words: ['low-carbon', 'development', 'energy', 'city', 'system', 'carbon', 'urban', 'economy', 'low', 'china']\n"
          ]
        },
        {
          "name": "stderr",
          "output_type": "stream",
          "text": [
            " 44%|████▍     | 4/9 [00:27<00:34,  6.87s/it]Training...\n"
          ]
        },
        {
          "name": "stdout",
          "output_type": "stream",
          "text": [
            "topic9_Coherence: 0.6223_Perplexity: 640.3\n",
            "Num docs: 1170 , Vocab size: 916 , Num words: 59046\n",
            "Removed top words: ['low-carbon', 'development', 'energy', 'city', 'system', 'carbon', 'urban', 'economy', 'low', 'china']\n"
          ]
        },
        {
          "name": "stderr",
          "output_type": "stream",
          "text": [
            " 56%|█████▌    | 5/9 [00:35<00:29,  7.37s/it]Training...\n"
          ]
        },
        {
          "name": "stdout",
          "output_type": "stream",
          "text": [
            "topic12_Coherence: 0.631_Perplexity: 635.1\n",
            "Num docs: 1170 , Vocab size: 916 , Num words: 59046\n",
            "Removed top words: ['low-carbon', 'development', 'energy', 'city', 'system', 'carbon', 'urban', 'economy', 'low', 'china']\n"
          ]
        },
        {
          "name": "stderr",
          "output_type": "stream",
          "text": [
            " 67%|██████▋   | 6/9 [00:44<00:22,  7.66s/it]Training...\n"
          ]
        },
        {
          "name": "stdout",
          "output_type": "stream",
          "text": [
            "topic8_Coherence: 0.5339_Perplexity: 639.5\n",
            "Num docs: 1170 , Vocab size: 916 , Num words: 59046\n",
            "Removed top words: ['low-carbon', 'development', 'energy', 'city', 'system', 'carbon', 'urban', 'economy', 'low', 'china']\n"
          ]
        },
        {
          "name": "stderr",
          "output_type": "stream",
          "text": [
            " 78%|███████▊  | 7/9 [00:51<00:15,  7.62s/it]Training...\n"
          ]
        },
        {
          "name": "stdout",
          "output_type": "stream",
          "text": [
            "topic10_Coherence: 0.549_Perplexity: 628.9\n",
            "Num docs: 1170 , Vocab size: 916 , Num words: 59046\n",
            "Removed top words: ['low-carbon', 'development', 'energy', 'city', 'system', 'carbon', 'urban', 'economy', 'low', 'china']\n"
          ]
        },
        {
          "name": "stderr",
          "output_type": "stream",
          "text": [
            " 89%|████████▉ | 8/9 [00:59<00:07,  7.72s/it]Training...\n"
          ]
        },
        {
          "name": "stdout",
          "output_type": "stream",
          "text": [
            "topic13_Coherence: 0.5856_Perplexity: 630.5\n",
            "Num docs: 1170 , Vocab size: 916 , Num words: 59046\n",
            "Removed top words: ['low-carbon', 'development', 'energy', 'city', 'system', 'carbon', 'urban', 'economy', 'low', 'china']\n"
          ]
        },
        {
          "name": "stderr",
          "output_type": "stream",
          "text": [
            "100%|██████████| 9/9 [01:06<00:00,  7.38s/it]"
          ]
        },
        {
          "name": "stdout",
          "output_type": "stream",
          "text": [
            "topic12_Coherence: 0.5907_Perplexity: 627.1\n",
            "Topics : 10, Sub_topics : 6, Coherence_score : 0.631\n"
          ]
        },
        {
          "name": "stderr",
          "output_type": "stream",
          "text": [
            "\n",
            "  0%|          | 0/9 [00:00<?, ?it/s]C:\\Users\\Public\\Documents\\ESTsoft\\CreatorTemp\\ipykernel_40760\\3125301607.py:15: RuntimeWarning: The training result may differ even with fixed seed if `workers` != 1.\n",
            "  mdl.train(0)\n",
            "Training...\n"
          ]
        },
        {
          "name": "stdout",
          "output_type": "stream",
          "text": [
            "Num docs: 937 , Vocab size: 1183 , Num words: 79905\n",
            "Removed top words: ['production', 'system', 'emission', 'crop', 'water', 'energy', 'environmental', 'yield', 'use', 'potential']\n"
          ]
        },
        {
          "name": "stderr",
          "output_type": "stream",
          "text": [
            " 11%|█         | 1/9 [00:08<01:05,  8.21s/it]Training...\n"
          ]
        },
        {
          "name": "stdout",
          "output_type": "stream",
          "text": [
            "topic3_Coherence: 0.5753_Perplexity: 875.7\n",
            "Num docs: 937 , Vocab size: 1183 , Num words: 79905\n",
            "Removed top words: ['production', 'system', 'emission', 'crop', 'water', 'energy', 'environmental', 'yield', 'use', 'potential']\n"
          ]
        },
        {
          "name": "stderr",
          "output_type": "stream",
          "text": [
            " 22%|██▏       | 2/9 [00:17<01:00,  8.67s/it]Training...\n"
          ]
        },
        {
          "name": "stdout",
          "output_type": "stream",
          "text": [
            "topic3_Coherence: 0.5031_Perplexity: 849.2\n",
            "Num docs: 937 , Vocab size: 1183 , Num words: 79905\n",
            "Removed top words: ['production', 'system', 'emission', 'crop', 'water', 'energy', 'environmental', 'yield', 'use', 'potential']\n"
          ]
        },
        {
          "name": "stderr",
          "output_type": "stream",
          "text": [
            " 33%|███▎      | 3/9 [00:26<00:54,  9.16s/it]Training...\n"
          ]
        },
        {
          "name": "stdout",
          "output_type": "stream",
          "text": [
            "topic6_Coherence: 0.5573_Perplexity: 834.9\n",
            "Num docs: 937 , Vocab size: 1183 , Num words: 79905\n",
            "Removed top words: ['production', 'system', 'emission', 'crop', 'water', 'energy', 'environmental', 'yield', 'use', 'potential']\n"
          ]
        },
        {
          "name": "stderr",
          "output_type": "stream",
          "text": [
            " 44%|████▍     | 4/9 [00:34<00:41,  8.40s/it]Training...\n"
          ]
        },
        {
          "name": "stdout",
          "output_type": "stream",
          "text": [
            "topic5_Coherence: 0.5487_Perplexity: 832.2\n",
            "Num docs: 937 , Vocab size: 1183 , Num words: 79905\n",
            "Removed top words: ['production', 'system', 'emission', 'crop', 'water', 'energy', 'environmental', 'yield', 'use', 'potential']\n"
          ]
        },
        {
          "name": "stderr",
          "output_type": "stream",
          "text": [
            " 56%|█████▌    | 5/9 [00:42<00:33,  8.34s/it]Training...\n"
          ]
        },
        {
          "name": "stdout",
          "output_type": "stream",
          "text": [
            "topic8_Coherence: 0.6374_Perplexity: 825.8\n",
            "Num docs: 937 , Vocab size: 1183 , Num words: 79905\n",
            "Removed top words: ['production', 'system', 'emission', 'crop', 'water', 'energy', 'environmental', 'yield', 'use', 'potential']\n"
          ]
        },
        {
          "name": "stderr",
          "output_type": "stream",
          "text": [
            " 67%|██████▋   | 6/9 [00:50<00:24,  8.31s/it]Training...\n"
          ]
        },
        {
          "name": "stdout",
          "output_type": "stream",
          "text": [
            "topic8_Coherence: 0.6131_Perplexity: 864.5\n",
            "Num docs: 937 , Vocab size: 1183 , Num words: 79905\n",
            "Removed top words: ['production', 'system', 'emission', 'crop', 'water', 'energy', 'environmental', 'yield', 'use', 'potential']\n"
          ]
        },
        {
          "name": "stderr",
          "output_type": "stream",
          "text": [
            " 78%|███████▊  | 7/9 [00:59<00:17,  8.61s/it]Training...\n"
          ]
        },
        {
          "name": "stdout",
          "output_type": "stream",
          "text": [
            "topic10_Coherence: 0.602_Perplexity: 800.4\n",
            "Num docs: 937 , Vocab size: 1183 , Num words: 79905\n",
            "Removed top words: ['production', 'system', 'emission', 'crop', 'water', 'energy', 'environmental', 'yield', 'use', 'potential']\n"
          ]
        },
        {
          "name": "stderr",
          "output_type": "stream",
          "text": [
            " 89%|████████▉ | 8/9 [01:10<00:09,  9.35s/it]Training...\n"
          ]
        },
        {
          "name": "stdout",
          "output_type": "stream",
          "text": [
            "topic11_Coherence: 0.5895_Perplexity: 806.6\n",
            "Num docs: 937 , Vocab size: 1183 , Num words: 79905\n",
            "Removed top words: ['production', 'system', 'emission', 'crop', 'water', 'energy', 'environmental', 'yield', 'use', 'potential']\n"
          ]
        },
        {
          "name": "stderr",
          "output_type": "stream",
          "text": [
            "100%|██████████| 9/9 [01:21<00:00,  9.02s/it]"
          ]
        },
        {
          "name": "stdout",
          "output_type": "stream",
          "text": [
            "topic11_Coherence: 0.5627_Perplexity: 810.0\n",
            "Topics : 11, Sub_topics : 6, Coherence_score : 0.6374\n"
          ]
        },
        {
          "name": "stderr",
          "output_type": "stream",
          "text": [
            "\n",
            "  0%|          | 0/9 [00:00<?, ?it/s]C:\\Users\\Public\\Documents\\ESTsoft\\CreatorTemp\\ipykernel_40760\\3125301607.py:15: RuntimeWarning: The training result may differ even with fixed seed if `workers` != 1.\n",
            "  mdl.train(0)\n",
            "Training...\n"
          ]
        },
        {
          "name": "stdout",
          "output_type": "stream",
          "text": [
            "Num docs: 736 , Vocab size: 1011 , Num words: 57646\n",
            "Removed top words: ['water', 'crop', 'yield', 'climate-change', 'drought', 'plant', 'stress', 'temperature', 'production', 'condition']\n"
          ]
        },
        {
          "name": "stderr",
          "output_type": "stream",
          "text": [
            " 11%|█         | 1/9 [00:06<00:48,  6.10s/it]Training...\n"
          ]
        },
        {
          "name": "stdout",
          "output_type": "stream",
          "text": [
            "topic3_Coherence: 0.4713_Perplexity: 780.0\n",
            "Num docs: 736 , Vocab size: 1011 , Num words: 57646\n",
            "Removed top words: ['water', 'crop', 'yield', 'climate-change', 'drought', 'plant', 'stress', 'temperature', 'production', 'condition']\n"
          ]
        },
        {
          "name": "stderr",
          "output_type": "stream",
          "text": [
            " 22%|██▏       | 2/9 [00:11<00:40,  5.81s/it]Training...\n"
          ]
        },
        {
          "name": "stdout",
          "output_type": "stream",
          "text": [
            "topic4_Coherence: 0.4566_Perplexity: 738.4\n",
            "Num docs: 736 , Vocab size: 1011 , Num words: 57646\n",
            "Removed top words: ['water', 'crop', 'yield', 'climate-change', 'drought', 'plant', 'stress', 'temperature', 'production', 'condition']\n"
          ]
        },
        {
          "name": "stderr",
          "output_type": "stream",
          "text": [
            " 33%|███▎      | 3/9 [00:19<00:39,  6.54s/it]Training...\n"
          ]
        },
        {
          "name": "stdout",
          "output_type": "stream",
          "text": [
            "topic16_Coherence: 0.6046_Perplexity: 706.1\n",
            "Num docs: 736 , Vocab size: 1011 , Num words: 57646\n",
            "Removed top words: ['water', 'crop', 'yield', 'climate-change', 'drought', 'plant', 'stress', 'temperature', 'production', 'condition']\n"
          ]
        },
        {
          "name": "stderr",
          "output_type": "stream",
          "text": [
            " 44%|████▍     | 4/9 [00:26<00:34,  6.88s/it]Training...\n"
          ]
        },
        {
          "name": "stdout",
          "output_type": "stream",
          "text": [
            "topic12_Coherence: 0.6355_Perplexity: 730.3\n",
            "Num docs: 736 , Vocab size: 1011 , Num words: 57646\n",
            "Removed top words: ['water', 'crop', 'yield', 'climate-change', 'drought', 'plant', 'stress', 'temperature', 'production', 'condition']\n"
          ]
        },
        {
          "name": "stderr",
          "output_type": "stream",
          "text": [
            " 56%|█████▌    | 5/9 [00:34<00:28,  7.12s/it]Training...\n"
          ]
        },
        {
          "name": "stdout",
          "output_type": "stream",
          "text": [
            "topic8_Coherence: 0.5366_Perplexity: 720.6\n",
            "Num docs: 736 , Vocab size: 1011 , Num words: 57646\n",
            "Removed top words: ['water', 'crop', 'yield', 'climate-change', 'drought', 'plant', 'stress', 'temperature', 'production', 'condition']\n"
          ]
        },
        {
          "name": "stderr",
          "output_type": "stream",
          "text": [
            " 67%|██████▋   | 6/9 [00:41<00:21,  7.22s/it]Training...\n"
          ]
        },
        {
          "name": "stdout",
          "output_type": "stream",
          "text": [
            "topic24_Coherence: 0.6499_Perplexity: 688.8\n",
            "Num docs: 736 , Vocab size: 1011 , Num words: 57646\n",
            "Removed top words: ['water', 'crop', 'yield', 'climate-change', 'drought', 'plant', 'stress', 'temperature', 'production', 'condition']\n"
          ]
        },
        {
          "name": "stderr",
          "output_type": "stream",
          "text": [
            " 78%|███████▊  | 7/9 [00:50<00:15,  7.91s/it]Training...\n"
          ]
        },
        {
          "name": "stdout",
          "output_type": "stream",
          "text": [
            "topic13_Coherence: 0.5073_Perplexity: 749.4\n",
            "Num docs: 736 , Vocab size: 1011 , Num words: 57646\n",
            "Removed top words: ['water', 'crop', 'yield', 'climate-change', 'drought', 'plant', 'stress', 'temperature', 'production', 'condition']\n"
          ]
        },
        {
          "name": "stderr",
          "output_type": "stream",
          "text": [
            " 89%|████████▉ | 8/9 [00:59<00:08,  8.17s/it]Training...\n"
          ]
        },
        {
          "name": "stdout",
          "output_type": "stream",
          "text": [
            "topic21_Coherence: 0.6607_Perplexity: 697.3\n",
            "Num docs: 736 , Vocab size: 1011 , Num words: 57646\n",
            "Removed top words: ['water', 'crop', 'yield', 'climate-change', 'drought', 'plant', 'stress', 'temperature', 'production', 'condition']\n"
          ]
        },
        {
          "name": "stderr",
          "output_type": "stream",
          "text": [
            "100%|██████████| 9/9 [01:07<00:00,  7.45s/it]"
          ]
        },
        {
          "name": "stdout",
          "output_type": "stream",
          "text": [
            "topic11_Coherence: 0.4549_Perplexity: 722.8\n",
            "Topics : 12, Sub_topics : 9, Coherence_score : 0.6607\n"
          ]
        },
        {
          "name": "stderr",
          "output_type": "stream",
          "text": [
            "\n",
            "  0%|          | 0/9 [00:00<?, ?it/s]C:\\Users\\Public\\Documents\\ESTsoft\\CreatorTemp\\ipykernel_40760\\3125301607.py:15: RuntimeWarning: The training result may differ even with fixed seed if `workers` != 1.\n",
            "  mdl.train(0)\n",
            "Training...\n"
          ]
        },
        {
          "name": "stdout",
          "output_type": "stream",
          "text": [
            "Num docs: 561 , Vocab size: 772 , Num words: 33207\n",
            "Removed top words: ['CO2', 'energy', 'catalyst', 'reaction', 'hydrogen', 'carbon', 'production', 'high', 'fuel', 'reduction']\n"
          ]
        },
        {
          "name": "stderr",
          "output_type": "stream",
          "text": [
            " 11%|█         | 1/9 [00:03<00:27,  3.45s/it]Training...\n"
          ]
        },
        {
          "name": "stdout",
          "output_type": "stream",
          "text": [
            "topic2_Coherence: 0.5032_Perplexity: 677.8\n",
            "Num docs: 561 , Vocab size: 772 , Num words: 33207\n",
            "Removed top words: ['CO2', 'energy', 'catalyst', 'reaction', 'hydrogen', 'carbon', 'production', 'high', 'fuel', 'reduction']\n"
          ]
        },
        {
          "name": "stderr",
          "output_type": "stream",
          "text": [
            " 22%|██▏       | 2/9 [00:07<00:27,  3.95s/it]Training...\n"
          ]
        },
        {
          "name": "stdout",
          "output_type": "stream",
          "text": [
            "topic3_Coherence: 0.4506_Perplexity: 675.6\n",
            "Num docs: 561 , Vocab size: 772 , Num words: 33207\n",
            "Removed top words: ['CO2', 'energy', 'catalyst', 'reaction', 'hydrogen', 'carbon', 'production', 'high', 'fuel', 'reduction']\n"
          ]
        },
        {
          "name": "stderr",
          "output_type": "stream",
          "text": [
            " 33%|███▎      | 3/9 [00:11<00:23,  3.99s/it]Training...\n"
          ]
        },
        {
          "name": "stdout",
          "output_type": "stream",
          "text": [
            "topic4_Coherence: 0.4319_Perplexity: 643.6\n",
            "Num docs: 561 , Vocab size: 772 , Num words: 33207\n",
            "Removed top words: ['CO2', 'energy', 'catalyst', 'reaction', 'hydrogen', 'carbon', 'production', 'high', 'fuel', 'reduction']\n"
          ]
        },
        {
          "name": "stderr",
          "output_type": "stream",
          "text": [
            " 44%|████▍     | 4/9 [00:15<00:19,  3.94s/it]Training...\n"
          ]
        },
        {
          "name": "stdout",
          "output_type": "stream",
          "text": [
            "topic5_Coherence: 0.457_Perplexity: 669.5\n",
            "Num docs: 561 , Vocab size: 772 , Num words: 33207\n",
            "Removed top words: ['CO2', 'energy', 'catalyst', 'reaction', 'hydrogen', 'carbon', 'production', 'high', 'fuel', 'reduction']\n"
          ]
        },
        {
          "name": "stderr",
          "output_type": "stream",
          "text": [
            " 56%|█████▌    | 5/9 [00:20<00:16,  4.14s/it]Training...\n"
          ]
        },
        {
          "name": "stdout",
          "output_type": "stream",
          "text": [
            "topic7_Coherence: 0.4923_Perplexity: 637.8\n",
            "Num docs: 561 , Vocab size: 772 , Num words: 33207\n",
            "Removed top words: ['CO2', 'energy', 'catalyst', 'reaction', 'hydrogen', 'carbon', 'production', 'high', 'fuel', 'reduction']\n"
          ]
        },
        {
          "name": "stderr",
          "output_type": "stream",
          "text": [
            " 67%|██████▋   | 6/9 [00:23<00:12,  4.03s/it]Training...\n"
          ]
        },
        {
          "name": "stdout",
          "output_type": "stream",
          "text": [
            "topic6_Coherence: 0.4646_Perplexity: 669.2\n",
            "Num docs: 561 , Vocab size: 772 , Num words: 33207\n",
            "Removed top words: ['CO2', 'energy', 'catalyst', 'reaction', 'hydrogen', 'carbon', 'production', 'high', 'fuel', 'reduction']\n"
          ]
        },
        {
          "name": "stderr",
          "output_type": "stream",
          "text": [
            " 78%|███████▊  | 7/9 [00:29<00:08,  4.42s/it]Training...\n"
          ]
        },
        {
          "name": "stdout",
          "output_type": "stream",
          "text": [
            "topic8_Coherence: 0.43_Perplexity: 639.3\n",
            "Num docs: 561 , Vocab size: 772 , Num words: 33207\n",
            "Removed top words: ['CO2', 'energy', 'catalyst', 'reaction', 'hydrogen', 'carbon', 'production', 'high', 'fuel', 'reduction']\n"
          ]
        },
        {
          "name": "stderr",
          "output_type": "stream",
          "text": [
            " 89%|████████▉ | 8/9 [00:34<00:04,  4.70s/it]Training...\n"
          ]
        },
        {
          "name": "stdout",
          "output_type": "stream",
          "text": [
            "topic6_Coherence: 0.4169_Perplexity: 672.1\n",
            "Num docs: 561 , Vocab size: 772 , Num words: 33207\n",
            "Removed top words: ['CO2', 'energy', 'catalyst', 'reaction', 'hydrogen', 'carbon', 'production', 'high', 'fuel', 'reduction']\n"
          ]
        },
        {
          "name": "stderr",
          "output_type": "stream",
          "text": [
            "100%|██████████| 9/9 [00:40<00:00,  4.48s/it]"
          ]
        },
        {
          "name": "stdout",
          "output_type": "stream",
          "text": [
            "topic9_Coherence: 0.4364_Perplexity: 665.3\n",
            "Topics : 13, Sub_topics : 2, Coherence_score : 0.5032\n"
          ]
        },
        {
          "name": "stderr",
          "output_type": "stream",
          "text": [
            "\n",
            "  0%|          | 0/9 [00:00<?, ?it/s]C:\\Users\\Public\\Documents\\ESTsoft\\CreatorTemp\\ipykernel_40760\\3125301607.py:15: RuntimeWarning: The training result may differ even with fixed seed if `workers` != 1.\n",
            "  mdl.train(0)\n",
            "Training...\n"
          ]
        },
        {
          "name": "stdout",
          "output_type": "stream",
          "text": [
            "Num docs: 503 , Vocab size: 593 , Num words: 31731\n",
            "Removed top words: ['energy', 'environmental', 'emission', 'economic', 'study', 'country', 'growth', 'development', 'carbon-emission', 'CO2']\n"
          ]
        },
        {
          "name": "stderr",
          "output_type": "stream",
          "text": [
            " 11%|█         | 1/9 [00:03<00:26,  3.35s/it]Training...\n"
          ]
        },
        {
          "name": "stdout",
          "output_type": "stream",
          "text": [
            "topic2_Coherence: 0.3617_Perplexity: 515.5\n",
            "Num docs: 503 , Vocab size: 593 , Num words: 31731\n",
            "Removed top words: ['energy', 'environmental', 'emission', 'economic', 'study', 'country', 'growth', 'development', 'carbon-emission', 'CO2']\n"
          ]
        },
        {
          "name": "stderr",
          "output_type": "stream",
          "text": [
            " 22%|██▏       | 2/9 [00:07<00:25,  3.62s/it]Training...\n"
          ]
        },
        {
          "name": "stdout",
          "output_type": "stream",
          "text": [
            "topic3_Coherence: 0.403_Perplexity: 515.3\n",
            "Num docs: 503 , Vocab size: 593 , Num words: 31731\n",
            "Removed top words: ['energy', 'environmental', 'emission', 'economic', 'study', 'country', 'growth', 'development', 'carbon-emission', 'CO2']\n"
          ]
        },
        {
          "name": "stderr",
          "output_type": "stream",
          "text": [
            " 33%|███▎      | 3/9 [00:10<00:19,  3.30s/it]Training...\n"
          ]
        },
        {
          "name": "stdout",
          "output_type": "stream",
          "text": [
            "topic4_Coherence: 0.4594_Perplexity: 507.7\n",
            "Num docs: 503 , Vocab size: 593 , Num words: 31731\n",
            "Removed top words: ['energy', 'environmental', 'emission', 'economic', 'study', 'country', 'growth', 'development', 'carbon-emission', 'CO2']\n"
          ]
        },
        {
          "name": "stderr",
          "output_type": "stream",
          "text": [
            " 44%|████▍     | 4/9 [00:13<00:16,  3.26s/it]Training...\n"
          ]
        },
        {
          "name": "stdout",
          "output_type": "stream",
          "text": [
            "topic7_Coherence: 0.5378_Perplexity: 497.3\n",
            "Num docs: 503 , Vocab size: 593 , Num words: 31731\n",
            "Removed top words: ['energy', 'environmental', 'emission', 'economic', 'study', 'country', 'growth', 'development', 'carbon-emission', 'CO2']\n"
          ]
        },
        {
          "name": "stderr",
          "output_type": "stream",
          "text": [
            " 56%|█████▌    | 5/9 [00:17<00:14,  3.69s/it]Training...\n"
          ]
        },
        {
          "name": "stdout",
          "output_type": "stream",
          "text": [
            "topic6_Coherence: 0.4607_Perplexity: 504.1\n",
            "Num docs: 503 , Vocab size: 593 , Num words: 31731\n",
            "Removed top words: ['energy', 'environmental', 'emission', 'economic', 'study', 'country', 'growth', 'development', 'carbon-emission', 'CO2']\n"
          ]
        },
        {
          "name": "stderr",
          "output_type": "stream",
          "text": [
            " 67%|██████▋   | 6/9 [00:21<00:10,  3.65s/it]Training...\n"
          ]
        },
        {
          "name": "stdout",
          "output_type": "stream",
          "text": [
            "topic7_Coherence: 0.4477_Perplexity: 512.1\n",
            "Num docs: 503 , Vocab size: 593 , Num words: 31731\n",
            "Removed top words: ['energy', 'environmental', 'emission', 'economic', 'study', 'country', 'growth', 'development', 'carbon-emission', 'CO2']\n"
          ]
        },
        {
          "name": "stderr",
          "output_type": "stream",
          "text": [
            " 78%|███████▊  | 7/9 [00:25<00:07,  3.97s/it]Training...\n"
          ]
        },
        {
          "name": "stdout",
          "output_type": "stream",
          "text": [
            "topic8_Coherence: 0.4607_Perplexity: 504.4\n",
            "Num docs: 503 , Vocab size: 593 , Num words: 31731\n",
            "Removed top words: ['energy', 'environmental', 'emission', 'economic', 'study', 'country', 'growth', 'development', 'carbon-emission', 'CO2']\n"
          ]
        },
        {
          "name": "stderr",
          "output_type": "stream",
          "text": [
            " 89%|████████▉ | 8/9 [00:30<00:04,  4.23s/it]Training...\n"
          ]
        },
        {
          "name": "stdout",
          "output_type": "stream",
          "text": [
            "topic6_Coherence: 0.4493_Perplexity: 506.0\n",
            "Num docs: 503 , Vocab size: 593 , Num words: 31731\n",
            "Removed top words: ['energy', 'environmental', 'emission', 'economic', 'study', 'country', 'growth', 'development', 'carbon-emission', 'CO2']\n"
          ]
        },
        {
          "name": "stderr",
          "output_type": "stream",
          "text": [
            "100%|██████████| 9/9 [00:35<00:00,  3.90s/it]\n"
          ]
        },
        {
          "name": "stdout",
          "output_type": "stream",
          "text": [
            "topic7_Coherence: 0.4372_Perplexity: 505.7\n",
            "Topics : 14, Sub_topics : 5, Coherence_score : 0.5378\n"
          ]
        },
        {
          "name": "stderr",
          "output_type": "stream",
          "text": [
            "  0%|          | 0/9 [00:00<?, ?it/s]C:\\Users\\Public\\Documents\\ESTsoft\\CreatorTemp\\ipykernel_40760\\3125301607.py:15: RuntimeWarning: The training result may differ even with fixed seed if `workers` != 1.\n",
            "  mdl.train(0)\n",
            "Training...\n"
          ]
        },
        {
          "name": "stdout",
          "output_type": "stream",
          "text": [
            "Num docs: 426 , Vocab size: 544 , Num words: 20630\n",
            "Removed top words: ['steel', 'carbon', 'low', 'process', 'temperature', 'high', 'strength', 'corrosion', 'surface', 'material']\n"
          ]
        },
        {
          "name": "stderr",
          "output_type": "stream",
          "text": [
            " 11%|█         | 1/9 [00:02<00:18,  2.33s/it]Training...\n"
          ]
        },
        {
          "name": "stdout",
          "output_type": "stream",
          "text": [
            "topic8_Coherence: 0.5361_Perplexity: 460.6\n",
            "Num docs: 426 , Vocab size: 544 , Num words: 20630\n",
            "Removed top words: ['steel', 'carbon', 'low', 'process', 'temperature', 'high', 'strength', 'corrosion', 'surface', 'material']\n"
          ]
        },
        {
          "name": "stderr",
          "output_type": "stream",
          "text": [
            " 22%|██▏       | 2/9 [00:05<00:20,  2.97s/it]Training...\n"
          ]
        },
        {
          "name": "stdout",
          "output_type": "stream",
          "text": [
            "topic28_Coherence: 0.614_Perplexity: 405.5\n",
            "Num docs: 426 , Vocab size: 544 , Num words: 20630\n",
            "Removed top words: ['steel', 'carbon', 'low', 'process', 'temperature', 'high', 'strength', 'corrosion', 'surface', 'material']\n"
          ]
        },
        {
          "name": "stderr",
          "output_type": "stream",
          "text": [
            " 33%|███▎      | 3/9 [00:08<00:17,  2.86s/it]Training...\n"
          ]
        },
        {
          "name": "stdout",
          "output_type": "stream",
          "text": [
            "topic5_Coherence: 0.4446_Perplexity: 464.8\n",
            "Num docs: 426 , Vocab size: 544 , Num words: 20630\n",
            "Removed top words: ['steel', 'carbon', 'low', 'process', 'temperature', 'high', 'strength', 'corrosion', 'surface', 'material']\n"
          ]
        },
        {
          "name": "stderr",
          "output_type": "stream",
          "text": [
            " 44%|████▍     | 4/9 [00:11<00:14,  2.93s/it]Training...\n"
          ]
        },
        {
          "name": "stdout",
          "output_type": "stream",
          "text": [
            "topic8_Coherence: 0.4553_Perplexity: 463.6\n",
            "Num docs: 426 , Vocab size: 544 , Num words: 20630\n",
            "Removed top words: ['steel', 'carbon', 'low', 'process', 'temperature', 'high', 'strength', 'corrosion', 'surface', 'material']\n"
          ]
        },
        {
          "name": "stderr",
          "output_type": "stream",
          "text": [
            " 56%|█████▌    | 5/9 [00:15<00:13,  3.37s/it]Training...\n"
          ]
        },
        {
          "name": "stdout",
          "output_type": "stream",
          "text": [
            "topic36_Coherence: 0.6201_Perplexity: 386.1\n",
            "Num docs: 426 , Vocab size: 544 , Num words: 20630\n",
            "Removed top words: ['steel', 'carbon', 'low', 'process', 'temperature', 'high', 'strength', 'corrosion', 'surface', 'material']\n"
          ]
        },
        {
          "name": "stderr",
          "output_type": "stream",
          "text": [
            " 67%|██████▋   | 6/9 [00:20<00:11,  3.92s/it]Training...\n"
          ]
        },
        {
          "name": "stdout",
          "output_type": "stream",
          "text": [
            "topic9_Coherence: 0.4726_Perplexity: 469.6\n",
            "Num docs: 426 , Vocab size: 544 , Num words: 20630\n",
            "Removed top words: ['steel', 'carbon', 'low', 'process', 'temperature', 'high', 'strength', 'corrosion', 'surface', 'material']\n"
          ]
        },
        {
          "name": "stderr",
          "output_type": "stream",
          "text": [
            " 78%|███████▊  | 7/9 [00:26<00:09,  4.53s/it]Training...\n"
          ]
        },
        {
          "name": "stdout",
          "output_type": "stream",
          "text": [
            "topic30_Coherence: 0.4969_Perplexity: 389.8\n",
            "Num docs: 426 , Vocab size: 544 , Num words: 20630\n",
            "Removed top words: ['steel', 'carbon', 'low', 'process', 'temperature', 'high', 'strength', 'corrosion', 'surface', 'material']\n"
          ]
        },
        {
          "name": "stderr",
          "output_type": "stream",
          "text": [
            " 89%|████████▉ | 8/9 [00:31<00:04,  4.71s/it]Training...\n"
          ]
        },
        {
          "name": "stdout",
          "output_type": "stream",
          "text": [
            "topic10_Coherence: 0.4764_Perplexity: 461.4\n",
            "Num docs: 426 , Vocab size: 544 , Num words: 20630\n",
            "Removed top words: ['steel', 'carbon', 'low', 'process', 'temperature', 'high', 'strength', 'corrosion', 'surface', 'material']\n"
          ]
        },
        {
          "name": "stderr",
          "output_type": "stream",
          "text": [
            "100%|██████████| 9/9 [00:37<00:00,  4.18s/it]\n"
          ]
        },
        {
          "name": "stdout",
          "output_type": "stream",
          "text": [
            "topic10_Coherence: 0.4486_Perplexity: 459.5\n",
            "Topics : 15, Sub_topics : 6, Coherence_score : 0.6201\n"
          ]
        },
        {
          "name": "stderr",
          "output_type": "stream",
          "text": [
            "  0%|          | 0/9 [00:00<?, ?it/s]C:\\Users\\Public\\Documents\\ESTsoft\\CreatorTemp\\ipykernel_40760\\3125301607.py:15: RuntimeWarning: The training result may differ even with fixed seed if `workers` != 1.\n",
            "  mdl.train(0)\n",
            "Training...\n"
          ]
        },
        {
          "name": "stdout",
          "output_type": "stream",
          "text": [
            "Num docs: 416 , Vocab size: 611 , Num words: 26413\n",
            "Removed top words: ['urban', 'heat', 'temperature', 'area', 'green', 'city', 'study', 'climate-change', 'thermal', 'climate']\n"
          ]
        },
        {
          "name": "stderr",
          "output_type": "stream",
          "text": [
            " 11%|█         | 1/9 [00:02<00:23,  2.92s/it]Training...\n"
          ]
        },
        {
          "name": "stdout",
          "output_type": "stream",
          "text": [
            "topic2_Coherence: 0.3815_Perplexity: 545.7\n",
            "Num docs: 416 , Vocab size: 611 , Num words: 26413\n",
            "Removed top words: ['urban', 'heat', 'temperature', 'area', 'green', 'city', 'study', 'climate-change', 'thermal', 'climate']\n"
          ]
        },
        {
          "name": "stderr",
          "output_type": "stream",
          "text": [
            " 22%|██▏       | 2/9 [00:05<00:20,  2.97s/it]Training...\n"
          ]
        },
        {
          "name": "stdout",
          "output_type": "stream",
          "text": [
            "topic3_Coherence: 0.4366_Perplexity: 542.3\n",
            "Num docs: 416 , Vocab size: 611 , Num words: 26413\n",
            "Removed top words: ['urban', 'heat', 'temperature', 'area', 'green', 'city', 'study', 'climate-change', 'thermal', 'climate']\n"
          ]
        },
        {
          "name": "stderr",
          "output_type": "stream",
          "text": [
            " 33%|███▎      | 3/9 [00:08<00:17,  2.87s/it]Training...\n"
          ]
        },
        {
          "name": "stdout",
          "output_type": "stream",
          "text": [
            "topic4_Coherence: 0.5417_Perplexity: 535.4\n",
            "Num docs: 416 , Vocab size: 611 , Num words: 26413\n",
            "Removed top words: ['urban', 'heat', 'temperature', 'area', 'green', 'city', 'study', 'climate-change', 'thermal', 'climate']\n"
          ]
        },
        {
          "name": "stderr",
          "output_type": "stream",
          "text": [
            " 44%|████▍     | 4/9 [00:12<00:15,  3.13s/it]Training...\n"
          ]
        },
        {
          "name": "stdout",
          "output_type": "stream",
          "text": [
            "topic6_Coherence: 0.5052_Perplexity: 535.2\n",
            "Num docs: 416 , Vocab size: 611 , Num words: 26413\n",
            "Removed top words: ['urban', 'heat', 'temperature', 'area', 'green', 'city', 'study', 'climate-change', 'thermal', 'climate']\n"
          ]
        },
        {
          "name": "stderr",
          "output_type": "stream",
          "text": [
            " 56%|█████▌    | 5/9 [00:15<00:13,  3.36s/it]Training...\n"
          ]
        },
        {
          "name": "stdout",
          "output_type": "stream",
          "text": [
            "topic5_Coherence: 0.5369_Perplexity: 534.4\n",
            "Num docs: 416 , Vocab size: 611 , Num words: 26413\n",
            "Removed top words: ['urban', 'heat', 'temperature', 'area', 'green', 'city', 'study', 'climate-change', 'thermal', 'climate']\n"
          ]
        },
        {
          "name": "stderr",
          "output_type": "stream",
          "text": [
            " 67%|██████▋   | 6/9 [00:19<00:10,  3.51s/it]Training...\n"
          ]
        },
        {
          "name": "stdout",
          "output_type": "stream",
          "text": [
            "topic6_Coherence: 0.5074_Perplexity: 529.1\n",
            "Num docs: 416 , Vocab size: 611 , Num words: 26413\n",
            "Removed top words: ['urban', 'heat', 'temperature', 'area', 'green', 'city', 'study', 'climate-change', 'thermal', 'climate']\n"
          ]
        },
        {
          "name": "stderr",
          "output_type": "stream",
          "text": [
            " 78%|███████▊  | 7/9 [00:23<00:07,  3.56s/it]Training...\n"
          ]
        },
        {
          "name": "stdout",
          "output_type": "stream",
          "text": [
            "topic7_Coherence: 0.547_Perplexity: 530.6\n",
            "Num docs: 416 , Vocab size: 611 , Num words: 26413\n",
            "Removed top words: ['urban', 'heat', 'temperature', 'area', 'green', 'city', 'study', 'climate-change', 'thermal', 'climate']\n"
          ]
        },
        {
          "name": "stderr",
          "output_type": "stream",
          "text": [
            " 89%|████████▉ | 8/9 [00:27<00:03,  3.61s/it]Training...\n"
          ]
        },
        {
          "name": "stdout",
          "output_type": "stream",
          "text": [
            "topic8_Coherence: 0.4953_Perplexity: 525.6\n",
            "Num docs: 416 , Vocab size: 611 , Num words: 26413\n",
            "Removed top words: ['urban', 'heat', 'temperature', 'area', 'green', 'city', 'study', 'climate-change', 'thermal', 'climate']\n"
          ]
        },
        {
          "name": "stderr",
          "output_type": "stream",
          "text": [
            "100%|██████████| 9/9 [00:31<00:00,  3.50s/it]\n"
          ]
        },
        {
          "name": "stdout",
          "output_type": "stream",
          "text": [
            "topic8_Coherence: 0.5157_Perplexity: 525.4\n",
            "Topics : 16, Sub_topics : 8, Coherence_score : 0.547\n"
          ]
        },
        {
          "name": "stderr",
          "output_type": "stream",
          "text": [
            "  0%|          | 0/9 [00:00<?, ?it/s]C:\\Users\\Public\\Documents\\ESTsoft\\CreatorTemp\\ipykernel_40760\\3125301607.py:15: RuntimeWarning: The training result may differ even with fixed seed if `workers` != 1.\n",
            "  mdl.train(0)\n",
            "Training...\n"
          ]
        },
        {
          "name": "stdout",
          "output_type": "stream",
          "text": [
            "Num docs: 380 , Vocab size: 638 , Num words: 28675\n",
            "Removed top words: ['water', 'model', 'climate-change', 'climate', 'change', 'study', 'temperature', 'area', 'ecosystem', 'drought']\n"
          ]
        },
        {
          "name": "stderr",
          "output_type": "stream",
          "text": [
            " 11%|█         | 1/9 [00:03<00:31,  3.91s/it]Training...\n"
          ]
        },
        {
          "name": "stdout",
          "output_type": "stream",
          "text": [
            "topic6_Coherence: 0.502_Perplexity: 522.5\n",
            "Num docs: 380 , Vocab size: 638 , Num words: 28675\n",
            "Removed top words: ['water', 'model', 'climate-change', 'climate', 'change', 'study', 'temperature', 'area', 'ecosystem', 'drought']\n"
          ]
        },
        {
          "name": "stderr",
          "output_type": "stream",
          "text": [
            " 22%|██▏       | 2/9 [00:07<00:26,  3.72s/it]Training...\n"
          ]
        },
        {
          "name": "stdout",
          "output_type": "stream",
          "text": [
            "topic14_Coherence: 0.5812_Perplexity: 509.1\n",
            "Num docs: 380 , Vocab size: 638 , Num words: 28675\n",
            "Removed top words: ['water', 'model', 'climate-change', 'climate', 'change', 'study', 'temperature', 'area', 'ecosystem', 'drought']\n"
          ]
        },
        {
          "name": "stderr",
          "output_type": "stream",
          "text": [
            " 33%|███▎      | 3/9 [00:12<00:25,  4.23s/it]Training...\n"
          ]
        },
        {
          "name": "stdout",
          "output_type": "stream",
          "text": [
            "topic8_Coherence: 0.4161_Perplexity: 518.9\n",
            "Num docs: 380 , Vocab size: 638 , Num words: 28675\n",
            "Removed top words: ['water', 'model', 'climate-change', 'climate', 'change', 'study', 'temperature', 'area', 'ecosystem', 'drought']\n"
          ]
        },
        {
          "name": "stderr",
          "output_type": "stream",
          "text": [
            " 44%|████▍     | 4/9 [00:15<00:19,  3.93s/it]Training...\n"
          ]
        },
        {
          "name": "stdout",
          "output_type": "stream",
          "text": [
            "topic9_Coherence: 0.4836_Perplexity: 517.2\n",
            "Num docs: 380 , Vocab size: 638 , Num words: 28675\n",
            "Removed top words: ['water', 'model', 'climate-change', 'climate', 'change', 'study', 'temperature', 'area', 'ecosystem', 'drought']\n"
          ]
        },
        {
          "name": "stderr",
          "output_type": "stream",
          "text": [
            " 56%|█████▌    | 5/9 [00:20<00:16,  4.12s/it]Training...\n"
          ]
        },
        {
          "name": "stdout",
          "output_type": "stream",
          "text": [
            "topic20_Coherence: 0.5268_Perplexity: 517.4\n",
            "Num docs: 380 , Vocab size: 638 , Num words: 28675\n",
            "Removed top words: ['water', 'model', 'climate-change', 'climate', 'change', 'study', 'temperature', 'area', 'ecosystem', 'drought']\n"
          ]
        },
        {
          "name": "stderr",
          "output_type": "stream",
          "text": [
            " 67%|██████▋   | 6/9 [00:25<00:13,  4.53s/it]Training...\n"
          ]
        },
        {
          "name": "stdout",
          "output_type": "stream",
          "text": [
            "topic17_Coherence: 0.4722_Perplexity: 498.1\n",
            "Num docs: 380 , Vocab size: 638 , Num words: 28675\n",
            "Removed top words: ['water', 'model', 'climate-change', 'climate', 'change', 'study', 'temperature', 'area', 'ecosystem', 'drought']\n"
          ]
        },
        {
          "name": "stderr",
          "output_type": "stream",
          "text": [
            " 78%|███████▊  | 7/9 [00:31<00:09,  4.83s/it]Training...\n"
          ]
        },
        {
          "name": "stdout",
          "output_type": "stream",
          "text": [
            "topic23_Coherence: 0.497_Perplexity: 486.4\n",
            "Num docs: 380 , Vocab size: 638 , Num words: 28675\n",
            "Removed top words: ['water', 'model', 'climate-change', 'climate', 'change', 'study', 'temperature', 'area', 'ecosystem', 'drought']\n"
          ]
        },
        {
          "name": "stderr",
          "output_type": "stream",
          "text": [
            " 89%|████████▉ | 8/9 [00:35<00:04,  4.84s/it]Training...\n"
          ]
        },
        {
          "name": "stdout",
          "output_type": "stream",
          "text": [
            "topic15_Coherence: 0.4708_Perplexity: 505.8\n",
            "Num docs: 380 , Vocab size: 638 , Num words: 28675\n",
            "Removed top words: ['water', 'model', 'climate-change', 'climate', 'change', 'study', 'temperature', 'area', 'ecosystem', 'drought']\n"
          ]
        },
        {
          "name": "stderr",
          "output_type": "stream",
          "text": [
            "100%|██████████| 9/9 [00:41<00:00,  4.64s/it]\n"
          ]
        },
        {
          "name": "stdout",
          "output_type": "stream",
          "text": [
            "topic19_Coherence: 0.49_Perplexity: 498.7\n",
            "Topics : 17, Sub_topics : 3, Coherence_score : 0.5812\n"
          ]
        },
        {
          "name": "stderr",
          "output_type": "stream",
          "text": [
            "  0%|          | 0/9 [00:00<?, ?it/s]C:\\Users\\Public\\Documents\\ESTsoft\\CreatorTemp\\ipykernel_40760\\3125301607.py:15: RuntimeWarning: The training result may differ even with fixed seed if `workers` != 1.\n",
            "  mdl.train(0)\n",
            "Training...\n"
          ]
        },
        {
          "name": "stdout",
          "output_type": "stream",
          "text": [
            "Num docs: 271 , Vocab size: 386 , Num words: 13211\n",
            "Removed top words: ['energy', 'system', 'network', 'consumption', 'power', 'technology', 'smart', 'model', 'grid', 'communication']\n"
          ]
        },
        {
          "name": "stderr",
          "output_type": "stream",
          "text": [
            " 11%|█         | 1/9 [00:01<00:14,  1.78s/it]Training...\n"
          ]
        },
        {
          "name": "stdout",
          "output_type": "stream",
          "text": [
            "topic2_Coherence: 0.4315_Perplexity: 351.0\n",
            "Num docs: 271 , Vocab size: 386 , Num words: 13211\n",
            "Removed top words: ['energy', 'system', 'network', 'consumption', 'power', 'technology', 'smart', 'model', 'grid', 'communication']\n"
          ]
        },
        {
          "name": "stderr",
          "output_type": "stream",
          "text": [
            " 22%|██▏       | 2/9 [00:03<00:11,  1.59s/it]Training...\n"
          ]
        },
        {
          "name": "stdout",
          "output_type": "stream",
          "text": [
            "topic4_Coherence: 0.4795_Perplexity: 347.6\n",
            "Num docs: 271 , Vocab size: 386 , Num words: 13211\n",
            "Removed top words: ['energy', 'system', 'network', 'consumption', 'power', 'technology', 'smart', 'model', 'grid', 'communication']\n"
          ]
        },
        {
          "name": "stderr",
          "output_type": "stream",
          "text": [
            " 33%|███▎      | 3/9 [00:04<00:09,  1.56s/it]Training...\n"
          ]
        },
        {
          "name": "stdout",
          "output_type": "stream",
          "text": [
            "topic6_Coherence: 0.5323_Perplexity: 347.5\n",
            "Num docs: 271 , Vocab size: 386 , Num words: 13211\n",
            "Removed top words: ['energy', 'system', 'network', 'consumption', 'power', 'technology', 'smart', 'model', 'grid', 'communication']\n"
          ]
        },
        {
          "name": "stderr",
          "output_type": "stream",
          "text": [
            " 44%|████▍     | 4/9 [00:06<00:08,  1.60s/it]Training...\n"
          ]
        },
        {
          "name": "stdout",
          "output_type": "stream",
          "text": [
            "topic4_Coherence: 0.4261_Perplexity: 348.3\n",
            "Num docs: 271 , Vocab size: 386 , Num words: 13211\n",
            "Removed top words: ['energy', 'system', 'network', 'consumption', 'power', 'technology', 'smart', 'model', 'grid', 'communication']\n"
          ]
        },
        {
          "name": "stderr",
          "output_type": "stream",
          "text": [
            " 56%|█████▌    | 5/9 [00:08<00:06,  1.66s/it]Training...\n"
          ]
        },
        {
          "name": "stdout",
          "output_type": "stream",
          "text": [
            "topic7_Coherence: 0.4592_Perplexity: 341.5\n",
            "Num docs: 271 , Vocab size: 386 , Num words: 13211\n",
            "Removed top words: ['energy', 'system', 'network', 'consumption', 'power', 'technology', 'smart', 'model', 'grid', 'communication']\n"
          ]
        },
        {
          "name": "stderr",
          "output_type": "stream",
          "text": [
            " 67%|██████▋   | 6/9 [00:09<00:05,  1.71s/it]Training...\n"
          ]
        },
        {
          "name": "stdout",
          "output_type": "stream",
          "text": [
            "topic7_Coherence: 0.4489_Perplexity: 348.5\n",
            "Num docs: 271 , Vocab size: 386 , Num words: 13211\n",
            "Removed top words: ['energy', 'system', 'network', 'consumption', 'power', 'technology', 'smart', 'model', 'grid', 'communication']\n"
          ]
        },
        {
          "name": "stderr",
          "output_type": "stream",
          "text": [
            " 78%|███████▊  | 7/9 [00:12<00:03,  1.87s/it]Training...\n"
          ]
        },
        {
          "name": "stdout",
          "output_type": "stream",
          "text": [
            "topic11_Coherence: 0.4756_Perplexity: 336.1\n",
            "Num docs: 271 , Vocab size: 386 , Num words: 13211\n",
            "Removed top words: ['energy', 'system', 'network', 'consumption', 'power', 'technology', 'smart', 'model', 'grid', 'communication']\n"
          ]
        },
        {
          "name": "stderr",
          "output_type": "stream",
          "text": [
            " 89%|████████▉ | 8/9 [00:15<00:02,  2.32s/it]Training...\n"
          ]
        },
        {
          "name": "stdout",
          "output_type": "stream",
          "text": [
            "topic10_Coherence: 0.4019_Perplexity: 333.4\n",
            "Num docs: 271 , Vocab size: 386 , Num words: 13211\n",
            "Removed top words: ['energy', 'system', 'network', 'consumption', 'power', 'technology', 'smart', 'model', 'grid', 'communication']\n"
          ]
        },
        {
          "name": "stderr",
          "output_type": "stream",
          "text": [
            "100%|██████████| 9/9 [00:18<00:00,  2.02s/it]\n"
          ]
        },
        {
          "name": "stdout",
          "output_type": "stream",
          "text": [
            "topic9_Coherence: 0.4548_Perplexity: 336.5\n",
            "Topics : 18, Sub_topics : 4, Coherence_score : 0.5323\n"
          ]
        },
        {
          "name": "stderr",
          "output_type": "stream",
          "text": [
            "  0%|          | 0/9 [00:00<?, ?it/s]C:\\Users\\Public\\Documents\\ESTsoft\\CreatorTemp\\ipykernel_40760\\3125301607.py:15: RuntimeWarning: The training result may differ even with fixed seed if `workers` != 1.\n",
            "  mdl.train(0)\n",
            "Training...\n"
          ]
        },
        {
          "name": "stdout",
          "output_type": "stream",
          "text": [
            "Num docs: 238 , Vocab size: 369 , Num words: 16013\n",
            "Removed top words: ['soil', 'carbon', 'system', 'SOC', 'emission', 'organic', 'stock', 'CO2', 'N2O', 'production']\n"
          ]
        },
        {
          "name": "stderr",
          "output_type": "stream",
          "text": [
            " 11%|█         | 1/9 [00:01<00:15,  1.94s/it]Training...\n"
          ]
        },
        {
          "name": "stdout",
          "output_type": "stream",
          "text": [
            "topic3_Coherence: 0.4386_Perplexity: 328.7\n",
            "Num docs: 238 , Vocab size: 369 , Num words: 16013\n",
            "Removed top words: ['soil', 'carbon', 'system', 'SOC', 'emission', 'organic', 'stock', 'CO2', 'N2O', 'production']\n"
          ]
        },
        {
          "name": "stderr",
          "output_type": "stream",
          "text": [
            " 22%|██▏       | 2/9 [00:04<00:14,  2.08s/it]Training...\n"
          ]
        },
        {
          "name": "stdout",
          "output_type": "stream",
          "text": [
            "topic12_Coherence: 0.4596_Perplexity: 312.6\n",
            "Num docs: 238 , Vocab size: 369 , Num words: 16013\n",
            "Removed top words: ['soil', 'carbon', 'system', 'SOC', 'emission', 'organic', 'stock', 'CO2', 'N2O', 'production']\n"
          ]
        },
        {
          "name": "stderr",
          "output_type": "stream",
          "text": [
            " 33%|███▎      | 3/9 [00:06<00:12,  2.08s/it]Training...\n"
          ]
        },
        {
          "name": "stdout",
          "output_type": "stream",
          "text": [
            "topic6_Coherence: 0.4759_Perplexity: 313.5\n",
            "Num docs: 238 , Vocab size: 369 , Num words: 16013\n",
            "Removed top words: ['soil', 'carbon', 'system', 'SOC', 'emission', 'organic', 'stock', 'CO2', 'N2O', 'production']\n"
          ]
        },
        {
          "name": "stderr",
          "output_type": "stream",
          "text": [
            " 44%|████▍     | 4/9 [00:08<00:10,  2.15s/it]Training...\n"
          ]
        },
        {
          "name": "stdout",
          "output_type": "stream",
          "text": [
            "topic6_Coherence: 0.4611_Perplexity: 323.9\n",
            "Num docs: 238 , Vocab size: 369 , Num words: 16013\n",
            "Removed top words: ['soil', 'carbon', 'system', 'SOC', 'emission', 'organic', 'stock', 'CO2', 'N2O', 'production']\n"
          ]
        },
        {
          "name": "stderr",
          "output_type": "stream",
          "text": [
            " 56%|█████▌    | 5/9 [00:10<00:09,  2.27s/it]Training...\n"
          ]
        },
        {
          "name": "stdout",
          "output_type": "stream",
          "text": [
            "topic13_Coherence: 0.4611_Perplexity: 310.6\n",
            "Num docs: 238 , Vocab size: 369 , Num words: 16013\n",
            "Removed top words: ['soil', 'carbon', 'system', 'SOC', 'emission', 'organic', 'stock', 'CO2', 'N2O', 'production']\n"
          ]
        },
        {
          "name": "stderr",
          "output_type": "stream",
          "text": [
            " 67%|██████▋   | 6/9 [00:13<00:06,  2.22s/it]Training...\n"
          ]
        },
        {
          "name": "stdout",
          "output_type": "stream",
          "text": [
            "topic9_Coherence: 0.4412_Perplexity: 314.2\n",
            "Num docs: 238 , Vocab size: 369 , Num words: 16013\n",
            "Removed top words: ['soil', 'carbon', 'system', 'SOC', 'emission', 'organic', 'stock', 'CO2', 'N2O', 'production']\n"
          ]
        },
        {
          "name": "stderr",
          "output_type": "stream",
          "text": [
            " 78%|███████▊  | 7/9 [00:15<00:04,  2.28s/it]Training...\n"
          ]
        },
        {
          "name": "stdout",
          "output_type": "stream",
          "text": [
            "topic10_Coherence: 0.4293_Perplexity: 315.7\n",
            "Num docs: 238 , Vocab size: 369 , Num words: 16013\n",
            "Removed top words: ['soil', 'carbon', 'system', 'SOC', 'emission', 'organic', 'stock', 'CO2', 'N2O', 'production']\n"
          ]
        },
        {
          "name": "stderr",
          "output_type": "stream",
          "text": [
            " 89%|████████▉ | 8/9 [00:18<00:02,  2.48s/it]Training...\n"
          ]
        },
        {
          "name": "stdout",
          "output_type": "stream",
          "text": [
            "topic10_Coherence: 0.4061_Perplexity: 317.9\n",
            "Num docs: 238 , Vocab size: 369 , Num words: 16013\n",
            "Removed top words: ['soil', 'carbon', 'system', 'SOC', 'emission', 'organic', 'stock', 'CO2', 'N2O', 'production']\n"
          ]
        },
        {
          "name": "stderr",
          "output_type": "stream",
          "text": [
            "100%|██████████| 9/9 [00:21<00:00,  2.43s/it]\n"
          ]
        },
        {
          "name": "stdout",
          "output_type": "stream",
          "text": [
            "topic9_Coherence: 0.3923_Perplexity: 318.2\n",
            "Topics : 19, Sub_topics : 4, Coherence_score : 0.4759\n"
          ]
        },
        {
          "name": "stderr",
          "output_type": "stream",
          "text": [
            "  0%|          | 0/9 [00:00<?, ?it/s]C:\\Users\\Public\\Documents\\ESTsoft\\CreatorTemp\\ipykernel_40760\\3125301607.py:15: RuntimeWarning: The training result may differ even with fixed seed if `workers` != 1.\n",
            "  mdl.train(0)\n",
            "Training...\n"
          ]
        },
        {
          "name": "stdout",
          "output_type": "stream",
          "text": [
            "Num docs: 234 , Vocab size: 335 , Num words: 12339\n",
            "Removed top words: ['concrete', 'material', 'cement', 'strength', 'waste', 'production', 'construction', 'CO2', 'emission', 'property']\n"
          ]
        },
        {
          "name": "stderr",
          "output_type": "stream",
          "text": [
            " 11%|█         | 1/9 [00:01<00:13,  1.64s/it]Training...\n"
          ]
        },
        {
          "name": "stdout",
          "output_type": "stream",
          "text": [
            "topic4_Coherence: 0.454_Perplexity: 311.7\n",
            "Num docs: 234 , Vocab size: 335 , Num words: 12339\n",
            "Removed top words: ['concrete', 'material', 'cement', 'strength', 'waste', 'production', 'construction', 'CO2', 'emission', 'property']\n"
          ]
        },
        {
          "name": "stderr",
          "output_type": "stream",
          "text": [
            " 22%|██▏       | 2/9 [00:03<00:10,  1.50s/it]Training...\n"
          ]
        },
        {
          "name": "stdout",
          "output_type": "stream",
          "text": [
            "topic6_Coherence: 0.4497_Perplexity: 310.3\n",
            "Num docs: 234 , Vocab size: 335 , Num words: 12339\n",
            "Removed top words: ['concrete', 'material', 'cement', 'strength', 'waste', 'production', 'construction', 'CO2', 'emission', 'property']\n"
          ]
        },
        {
          "name": "stderr",
          "output_type": "stream",
          "text": [
            " 33%|███▎      | 3/9 [00:04<00:08,  1.41s/it]Training...\n"
          ]
        },
        {
          "name": "stdout",
          "output_type": "stream",
          "text": [
            "topic5_Coherence: 0.4013_Perplexity: 311.7\n",
            "Num docs: 234 , Vocab size: 335 , Num words: 12339\n",
            "Removed top words: ['concrete', 'material', 'cement', 'strength', 'waste', 'production', 'construction', 'CO2', 'emission', 'property']\n"
          ]
        },
        {
          "name": "stderr",
          "output_type": "stream",
          "text": [
            " 44%|████▍     | 4/9 [00:06<00:07,  1.58s/it]Training...\n"
          ]
        },
        {
          "name": "stdout",
          "output_type": "stream",
          "text": [
            "topic7_Coherence: 0.4515_Perplexity: 307.3\n",
            "Num docs: 234 , Vocab size: 335 , Num words: 12339\n",
            "Removed top words: ['concrete', 'material', 'cement', 'strength', 'waste', 'production', 'construction', 'CO2', 'emission', 'property']\n"
          ]
        },
        {
          "name": "stderr",
          "output_type": "stream",
          "text": [
            " 56%|█████▌    | 5/9 [00:07<00:06,  1.62s/it]Training...\n"
          ]
        },
        {
          "name": "stdout",
          "output_type": "stream",
          "text": [
            "topic6_Coherence: 0.4093_Perplexity: 310.9\n",
            "Num docs: 234 , Vocab size: 335 , Num words: 12339\n",
            "Removed top words: ['concrete', 'material', 'cement', 'strength', 'waste', 'production', 'construction', 'CO2', 'emission', 'property']\n"
          ]
        },
        {
          "name": "stderr",
          "output_type": "stream",
          "text": [
            " 67%|██████▋   | 6/9 [00:09<00:04,  1.64s/it]Training...\n"
          ]
        },
        {
          "name": "stdout",
          "output_type": "stream",
          "text": [
            "topic7_Coherence: 0.4232_Perplexity: 304.5\n",
            "Num docs: 234 , Vocab size: 335 , Num words: 12339\n",
            "Removed top words: ['concrete', 'material', 'cement', 'strength', 'waste', 'production', 'construction', 'CO2', 'emission', 'property']\n"
          ]
        },
        {
          "name": "stderr",
          "output_type": "stream",
          "text": [
            " 78%|███████▊  | 7/9 [00:11<00:03,  1.74s/it]Training...\n"
          ]
        },
        {
          "name": "stdout",
          "output_type": "stream",
          "text": [
            "topic8_Coherence: 0.3844_Perplexity: 300.3\n",
            "Num docs: 234 , Vocab size: 335 , Num words: 12339\n",
            "Removed top words: ['concrete', 'material', 'cement', 'strength', 'waste', 'production', 'construction', 'CO2', 'emission', 'property']\n"
          ]
        },
        {
          "name": "stderr",
          "output_type": "stream",
          "text": [
            " 89%|████████▉ | 8/9 [00:13<00:01,  1.73s/it]Training...\n"
          ]
        },
        {
          "name": "stdout",
          "output_type": "stream",
          "text": [
            "topic9_Coherence: 0.4028_Perplexity: 302.8\n",
            "Num docs: 234 , Vocab size: 335 , Num words: 12339\n",
            "Removed top words: ['concrete', 'material', 'cement', 'strength', 'waste', 'production', 'construction', 'CO2', 'emission', 'property']\n"
          ]
        },
        {
          "name": "stderr",
          "output_type": "stream",
          "text": [
            "100%|██████████| 9/9 [00:15<00:00,  1.76s/it]\n"
          ]
        },
        {
          "name": "stdout",
          "output_type": "stream",
          "text": [
            "topic8_Coherence: 0.3856_Perplexity: 303.7\n",
            "Topics : 20, Sub_topics : 2, Coherence_score : 0.454\n"
          ]
        },
        {
          "name": "stderr",
          "output_type": "stream",
          "text": [
            "  0%|          | 0/9 [00:00<?, ?it/s]C:\\Users\\Public\\Documents\\ESTsoft\\CreatorTemp\\ipykernel_40760\\3125301607.py:15: RuntimeWarning: The training result may differ even with fixed seed if `workers` != 1.\n",
            "  mdl.train(0)\n",
            "Training...\n"
          ]
        },
        {
          "name": "stdout",
          "output_type": "stream",
          "text": [
            "Num docs: 121 , Vocab size: 140 , Num words: 4055\n",
            "Removed top words: ['corrosion', 'inhibitor', 'steel', 'inhibition', 'adsorption', 'surface', 'solution', 'efficiency', 'electrochemical', 'polarization']\n"
          ]
        },
        {
          "name": "stderr",
          "output_type": "stream",
          "text": [
            " 11%|█         | 1/9 [00:00<00:04,  1.93it/s]Training...\n"
          ]
        },
        {
          "name": "stdout",
          "output_type": "stream",
          "text": [
            "topic3_Coherence: 0.3306_Perplexity: 147.7\n",
            "Num docs: 121 , Vocab size: 140 , Num words: 4055\n",
            "Removed top words: ['corrosion', 'inhibitor', 'steel', 'inhibition', 'adsorption', 'surface', 'solution', 'efficiency', 'electrochemical', 'polarization']\n"
          ]
        },
        {
          "name": "stderr",
          "output_type": "stream",
          "text": [
            " 22%|██▏       | 2/9 [00:01<00:03,  1.94it/s]Training...\n"
          ]
        },
        {
          "name": "stdout",
          "output_type": "stream",
          "text": [
            "topic4_Coherence: 0.3723_Perplexity: 143.8\n",
            "Num docs: 121 , Vocab size: 140 , Num words: 4055\n",
            "Removed top words: ['corrosion', 'inhibitor', 'steel', 'inhibition', 'adsorption', 'surface', 'solution', 'efficiency', 'electrochemical', 'polarization']\n"
          ]
        },
        {
          "name": "stderr",
          "output_type": "stream",
          "text": [
            " 33%|███▎      | 3/9 [00:01<00:03,  1.85it/s]Training...\n"
          ]
        },
        {
          "name": "stdout",
          "output_type": "stream",
          "text": [
            "topic3_Coherence: 0.3119_Perplexity: 143.6\n",
            "Num docs: 121 , Vocab size: 140 , Num words: 4055\n",
            "Removed top words: ['corrosion', 'inhibitor', 'steel', 'inhibition', 'adsorption', 'surface', 'solution', 'efficiency', 'electrochemical', 'polarization']\n"
          ]
        },
        {
          "name": "stderr",
          "output_type": "stream",
          "text": [
            " 44%|████▍     | 4/9 [00:02<00:02,  1.72it/s]Training...\n"
          ]
        },
        {
          "name": "stdout",
          "output_type": "stream",
          "text": [
            "topic5_Coherence: 0.3434_Perplexity: 144.2\n",
            "Num docs: 121 , Vocab size: 140 , Num words: 4055\n",
            "Removed top words: ['corrosion', 'inhibitor', 'steel', 'inhibition', 'adsorption', 'surface', 'solution', 'efficiency', 'electrochemical', 'polarization']\n"
          ]
        },
        {
          "name": "stderr",
          "output_type": "stream",
          "text": [
            " 56%|█████▌    | 5/9 [00:02<00:02,  1.64it/s]Training...\n"
          ]
        },
        {
          "name": "stdout",
          "output_type": "stream",
          "text": [
            "topic5_Coherence: 0.3288_Perplexity: 145.6\n",
            "Num docs: 121 , Vocab size: 140 , Num words: 4055\n",
            "Removed top words: ['corrosion', 'inhibitor', 'steel', 'inhibition', 'adsorption', 'surface', 'solution', 'efficiency', 'electrochemical', 'polarization']\n"
          ]
        },
        {
          "name": "stderr",
          "output_type": "stream",
          "text": [
            " 67%|██████▋   | 6/9 [00:03<00:01,  1.60it/s]Training...\n"
          ]
        },
        {
          "name": "stdout",
          "output_type": "stream",
          "text": [
            "topic6_Coherence: 0.3217_Perplexity: 145.8\n",
            "Num docs: 121 , Vocab size: 140 , Num words: 4055\n",
            "Removed top words: ['corrosion', 'inhibitor', 'steel', 'inhibition', 'adsorption', 'surface', 'solution', 'efficiency', 'electrochemical', 'polarization']\n"
          ]
        },
        {
          "name": "stderr",
          "output_type": "stream",
          "text": [
            " 78%|███████▊  | 7/9 [00:04<00:01,  1.42it/s]Training...\n"
          ]
        },
        {
          "name": "stdout",
          "output_type": "stream",
          "text": [
            "topic16_Coherence: 0.3697_Perplexity: 150.2\n",
            "Num docs: 121 , Vocab size: 140 , Num words: 4055\n",
            "Removed top words: ['corrosion', 'inhibitor', 'steel', 'inhibition', 'adsorption', 'surface', 'solution', 'efficiency', 'electrochemical', 'polarization']\n"
          ]
        },
        {
          "name": "stderr",
          "output_type": "stream",
          "text": [
            " 89%|████████▉ | 8/9 [00:05<00:00,  1.30it/s]Training...\n"
          ]
        },
        {
          "name": "stdout",
          "output_type": "stream",
          "text": [
            "topic5_Coherence: 0.3044_Perplexity: 142.3\n",
            "Num docs: 121 , Vocab size: 140 , Num words: 4055\n",
            "Removed top words: ['corrosion', 'inhibitor', 'steel', 'inhibition', 'adsorption', 'surface', 'solution', 'efficiency', 'electrochemical', 'polarization']\n"
          ]
        },
        {
          "name": "stderr",
          "output_type": "stream",
          "text": [
            "100%|██████████| 9/9 [00:06<00:00,  1.47it/s]\n"
          ]
        },
        {
          "name": "stdout",
          "output_type": "stream",
          "text": [
            "topic3_Coherence: 0.2939_Perplexity: 144.1\n",
            "Topics : 21, Sub_topics : 3, Coherence_score : 0.3723\n"
          ]
        },
        {
          "name": "stderr",
          "output_type": "stream",
          "text": [
            "  0%|          | 0/9 [00:00<?, ?it/s]C:\\Users\\Public\\Documents\\ESTsoft\\CreatorTemp\\ipykernel_40760\\3125301607.py:15: RuntimeWarning: The training result may differ even with fixed seed if `workers` != 1.\n",
            "  mdl.train(0)\n",
            "Training...\n"
          ]
        },
        {
          "name": "stdout",
          "output_type": "stream",
          "text": [
            "Num docs: 66 , Vocab size: 67 , Num words: 1678\n",
            "Removed top words: ['removal', 'nitrogen', 'carbon', 'wastewater', 'system', 'low', 'treatment', 'ratio', 'denitrification', 'process']\n"
          ]
        },
        {
          "name": "stderr",
          "output_type": "stream",
          "text": [
            " 11%|█         | 1/9 [00:00<00:02,  2.85it/s]Training...\n"
          ]
        },
        {
          "name": "stdout",
          "output_type": "stream",
          "text": [
            "topic6_Coherence: 0.4925_Perplexity: 72.14\n",
            "Num docs: 66 , Vocab size: 67 , Num words: 1678\n",
            "Removed top words: ['removal', 'nitrogen', 'carbon', 'wastewater', 'system', 'low', 'treatment', 'ratio', 'denitrification', 'process']\n"
          ]
        },
        {
          "name": "stderr",
          "output_type": "stream",
          "text": [
            " 22%|██▏       | 2/9 [00:00<00:02,  3.09it/s]Training...\n"
          ]
        },
        {
          "name": "stdout",
          "output_type": "stream",
          "text": [
            "topic11_Coherence: 0.4638_Perplexity: 72.98\n",
            "Num docs: 66 , Vocab size: 67 , Num words: 1678\n",
            "Removed top words: ['removal', 'nitrogen', 'carbon', 'wastewater', 'system', 'low', 'treatment', 'ratio', 'denitrification', 'process']\n"
          ]
        },
        {
          "name": "stderr",
          "output_type": "stream",
          "text": [
            " 33%|███▎      | 3/9 [00:00<00:01,  3.05it/s]Training...\n"
          ]
        },
        {
          "name": "stdout",
          "output_type": "stream",
          "text": [
            "topic12_Coherence: 0.4714_Perplexity: 68.72\n",
            "Num docs: 66 , Vocab size: 67 , Num words: 1678\n",
            "Removed top words: ['removal', 'nitrogen', 'carbon', 'wastewater', 'system', 'low', 'treatment', 'ratio', 'denitrification', 'process']\n"
          ]
        },
        {
          "name": "stderr",
          "output_type": "stream",
          "text": [
            " 44%|████▍     | 4/9 [00:01<00:01,  3.34it/s]Training...\n"
          ]
        },
        {
          "name": "stdout",
          "output_type": "stream",
          "text": [
            "topic17_Coherence: 0.4623_Perplexity: 78.1\n",
            "Num docs: 66 , Vocab size: 67 , Num words: 1678\n",
            "Removed top words: ['removal', 'nitrogen', 'carbon', 'wastewater', 'system', 'low', 'treatment', 'ratio', 'denitrification', 'process']\n"
          ]
        },
        {
          "name": "stderr",
          "output_type": "stream",
          "text": [
            " 56%|█████▌    | 5/9 [00:01<00:01,  3.39it/s]Training...\n"
          ]
        },
        {
          "name": "stdout",
          "output_type": "stream",
          "text": [
            "topic2_Coherence: 0.4918_Perplexity: 73.27\n",
            "Num docs: 66 , Vocab size: 67 , Num words: 1678\n",
            "Removed top words: ['removal', 'nitrogen', 'carbon', 'wastewater', 'system', 'low', 'treatment', 'ratio', 'denitrification', 'process']\n"
          ]
        },
        {
          "name": "stderr",
          "output_type": "stream",
          "text": [
            " 67%|██████▋   | 6/9 [00:01<00:00,  3.23it/s]Training...\n"
          ]
        },
        {
          "name": "stdout",
          "output_type": "stream",
          "text": [
            "topic8_Coherence: 0.4994_Perplexity: 71.07\n",
            "Num docs: 66 , Vocab size: 67 , Num words: 1678\n",
            "Removed top words: ['removal', 'nitrogen', 'carbon', 'wastewater', 'system', 'low', 'treatment', 'ratio', 'denitrification', 'process']\n"
          ]
        },
        {
          "name": "stderr",
          "output_type": "stream",
          "text": [
            " 78%|███████▊  | 7/9 [00:02<00:00,  3.10it/s]Training...\n"
          ]
        },
        {
          "name": "stdout",
          "output_type": "stream",
          "text": [
            "topic8_Coherence: 0.4764_Perplexity: 67.94\n",
            "Num docs: 66 , Vocab size: 67 , Num words: 1678\n",
            "Removed top words: ['removal', 'nitrogen', 'carbon', 'wastewater', 'system', 'low', 'treatment', 'ratio', 'denitrification', 'process']\n"
          ]
        },
        {
          "name": "stderr",
          "output_type": "stream",
          "text": [
            " 89%|████████▉ | 8/9 [00:02<00:00,  3.20it/s]Training...\n"
          ]
        },
        {
          "name": "stdout",
          "output_type": "stream",
          "text": [
            "topic9_Coherence: 0.4797_Perplexity: 69.8\n",
            "Num docs: 66 , Vocab size: 67 , Num words: 1678\n",
            "Removed top words: ['removal', 'nitrogen', 'carbon', 'wastewater', 'system', 'low', 'treatment', 'ratio', 'denitrification', 'process']\n"
          ]
        },
        {
          "name": "stderr",
          "output_type": "stream",
          "text": [
            "100%|██████████| 9/9 [00:02<00:00,  3.12it/s]\n"
          ]
        },
        {
          "name": "stdout",
          "output_type": "stream",
          "text": [
            "topic6_Coherence: 0.4869_Perplexity: 69.24\n",
            "Topics : 22, Sub_topics : 7, Coherence_score : 0.4994\n"
          ]
        },
        {
          "name": "stderr",
          "output_type": "stream",
          "text": [
            "  0%|          | 0/9 [00:00<?, ?it/s]C:\\Users\\Public\\Documents\\ESTsoft\\CreatorTemp\\ipykernel_40760\\3125301607.py:15: RuntimeWarning: The training result may differ even with fixed seed if `workers` != 1.\n",
            "  mdl.train(0)\n",
            "Training...\n"
          ]
        },
        {
          "name": "stdout",
          "output_type": "stream",
          "text": [
            "Num docs: 54 , Vocab size: 58 , Num words: 1493\n",
            "Removed top words: ['water', 'urban', 'system', 'stormwater', 'drainage', 'area', 'management', 'model', 'green', 'study']\n"
          ]
        },
        {
          "name": "stderr",
          "output_type": "stream",
          "text": [
            " 11%|█         | 1/9 [00:00<00:02,  3.00it/s]Training...\n"
          ]
        },
        {
          "name": "stdout",
          "output_type": "stream",
          "text": [
            "topic13_Coherence: 0.3977_Perplexity: 64.39\n",
            "Num docs: 54 , Vocab size: 58 , Num words: 1493\n",
            "Removed top words: ['water', 'urban', 'system', 'stormwater', 'drainage', 'area', 'management', 'model', 'green', 'study']\n"
          ]
        },
        {
          "name": "stderr",
          "output_type": "stream",
          "text": [
            " 22%|██▏       | 2/9 [00:00<00:02,  2.79it/s]Training...\n"
          ]
        },
        {
          "name": "stdout",
          "output_type": "stream",
          "text": [
            "topic15_Coherence: 0.393_Perplexity: 61.88\n",
            "Num docs: 54 , Vocab size: 58 , Num words: 1493\n",
            "Removed top words: ['water', 'urban', 'system', 'stormwater', 'drainage', 'area', 'management', 'model', 'green', 'study']\n"
          ]
        },
        {
          "name": "stderr",
          "output_type": "stream",
          "text": [
            " 33%|███▎      | 3/9 [00:00<00:01,  3.11it/s]Training...\n"
          ]
        },
        {
          "name": "stdout",
          "output_type": "stream",
          "text": [
            "topic11_Coherence: 0.395_Perplexity: 62.11\n",
            "Num docs: 54 , Vocab size: 58 , Num words: 1493\n",
            "Removed top words: ['water', 'urban', 'system', 'stormwater', 'drainage', 'area', 'management', 'model', 'green', 'study']\n"
          ]
        },
        {
          "name": "stderr",
          "output_type": "stream",
          "text": [
            " 44%|████▍     | 4/9 [00:01<00:01,  3.19it/s]Training...\n"
          ]
        },
        {
          "name": "stdout",
          "output_type": "stream",
          "text": [
            "topic6_Coherence: 0.4098_Perplexity: 62.19\n",
            "Num docs: 54 , Vocab size: 58 , Num words: 1493\n",
            "Removed top words: ['water', 'urban', 'system', 'stormwater', 'drainage', 'area', 'management', 'model', 'green', 'study']\n"
          ]
        },
        {
          "name": "stderr",
          "output_type": "stream",
          "text": [
            " 56%|█████▌    | 5/9 [00:01<00:01,  3.03it/s]Training...\n"
          ]
        },
        {
          "name": "stdout",
          "output_type": "stream",
          "text": [
            "topic19_Coherence: 0.3971_Perplexity: 61.65\n",
            "Num docs: 54 , Vocab size: 58 , Num words: 1493\n",
            "Removed top words: ['water', 'urban', 'system', 'stormwater', 'drainage', 'area', 'management', 'model', 'green', 'study']\n"
          ]
        },
        {
          "name": "stderr",
          "output_type": "stream",
          "text": [
            " 67%|██████▋   | 6/9 [00:02<00:01,  2.79it/s]Training...\n"
          ]
        },
        {
          "name": "stdout",
          "output_type": "stream",
          "text": [
            "topic17_Coherence: 0.3988_Perplexity: 62.79\n",
            "Num docs: 54 , Vocab size: 58 , Num words: 1493\n",
            "Removed top words: ['water', 'urban', 'system', 'stormwater', 'drainage', 'area', 'management', 'model', 'green', 'study']\n"
          ]
        },
        {
          "name": "stderr",
          "output_type": "stream",
          "text": [
            " 78%|███████▊  | 7/9 [00:02<00:00,  2.89it/s]Training...\n"
          ]
        },
        {
          "name": "stdout",
          "output_type": "stream",
          "text": [
            "topic18_Coherence: 0.3967_Perplexity: 62.95\n",
            "Num docs: 54 , Vocab size: 58 , Num words: 1493\n",
            "Removed top words: ['water', 'urban', 'system', 'stormwater', 'drainage', 'area', 'management', 'model', 'green', 'study']\n"
          ]
        },
        {
          "name": "stderr",
          "output_type": "stream",
          "text": [
            " 89%|████████▉ | 8/9 [00:02<00:00,  2.77it/s]Training...\n"
          ]
        },
        {
          "name": "stdout",
          "output_type": "stream",
          "text": [
            "topic22_Coherence: 0.4069_Perplexity: 62.57\n",
            "Num docs: 54 , Vocab size: 58 , Num words: 1493\n",
            "Removed top words: ['water', 'urban', 'system', 'stormwater', 'drainage', 'area', 'management', 'model', 'green', 'study']\n"
          ]
        },
        {
          "name": "stderr",
          "output_type": "stream",
          "text": [
            "100%|██████████| 9/9 [00:03<00:00,  2.78it/s]\n"
          ]
        },
        {
          "name": "stdout",
          "output_type": "stream",
          "text": [
            "topic21_Coherence: 0.394_Perplexity: 61.18\n",
            "Topics : 23, Sub_topics : 5, Coherence_score : 0.4098\n"
          ]
        },
        {
          "name": "stderr",
          "output_type": "stream",
          "text": [
            "  0%|          | 0/9 [00:00<?, ?it/s]C:\\Users\\Public\\Documents\\ESTsoft\\CreatorTemp\\ipykernel_40760\\3125301607.py:15: RuntimeWarning: The training result may differ even with fixed seed if `workers` != 1.\n",
            "  mdl.train(0)\n",
            "Training...\n",
            "Training...\n",
            " 22%|██▏       | 2/9 [00:00<00:00, 14.71it/s]"
          ]
        },
        {
          "name": "stdout",
          "output_type": "stream",
          "text": [
            "Num docs: 31 , Vocab size: 14 , Num words: 281\n",
            "Removed top words: ['engine', 'combustion', 'fuel', 'emission', 'efficiency', 'injection', 'diesel', 'system', 'gas', 'thermal']\n",
            "topic1_Coherence: 0.4763_Perplexity: 17.5\n",
            "Num docs: 31 , Vocab size: 14 , Num words: 281\n",
            "Removed top words: ['engine', 'combustion', 'fuel', 'emission', 'efficiency', 'injection', 'diesel', 'system', 'gas', 'thermal']\n",
            "topic6_Coherence: 0.4888_Perplexity: 24.57\n"
          ]
        },
        {
          "name": "stderr",
          "output_type": "stream",
          "text": [
            "Training...\n"
          ]
        },
        {
          "name": "stdout",
          "output_type": "stream",
          "text": [
            "Num docs: 31 , Vocab size: 14 , Num words: 281\n",
            "Removed top words: ['engine', 'combustion', 'fuel', 'emission', 'efficiency', 'injection', 'diesel', 'system', 'gas', 'thermal']\n"
          ]
        },
        {
          "name": "stderr",
          "output_type": "stream",
          "text": [
            "Training...\n",
            " 44%|████▍     | 4/9 [00:00<00:00, 14.83it/s]Training...\n",
            "Training...\n",
            " 67%|██████▋   | 6/9 [00:00<00:00, 15.13it/s]"
          ]
        },
        {
          "name": "stdout",
          "output_type": "stream",
          "text": [
            "topic3_Coherence: 0.4893_Perplexity: 18.33\n",
            "Num docs: 31 , Vocab size: 14 , Num words: 281\n",
            "Removed top words: ['engine', 'combustion', 'fuel', 'emission', 'efficiency', 'injection', 'diesel', 'system', 'gas', 'thermal']\n",
            "topic3_Coherence: 0.4936_Perplexity: 18.71\n",
            "Num docs: 31 , Vocab size: 14 , Num words: 281\n",
            "Removed top words: ['engine', 'combustion', 'fuel', 'emission', 'efficiency', 'injection', 'diesel', 'system', 'gas', 'thermal']\n",
            "topic6_Coherence: 0.4874_Perplexity: 20.89\n",
            "Num docs: 31 , Vocab size: 14 , Num words: 281\n",
            "Removed top words: ['engine', 'combustion', 'fuel', 'emission', 'efficiency', 'injection', 'diesel', 'system', 'gas', 'thermal']\n",
            "topic4_Coherence: 0.4902_Perplexity: 20.58\n"
          ]
        },
        {
          "name": "stderr",
          "output_type": "stream",
          "text": [
            "Training...\n"
          ]
        },
        {
          "name": "stdout",
          "output_type": "stream",
          "text": [
            "Num docs: 31 , Vocab size: 14 , Num words: 281\n",
            "Removed top words: ['engine', 'combustion', 'fuel', 'emission', 'efficiency', 'injection', 'diesel', 'system', 'gas', 'thermal']\n"
          ]
        },
        {
          "name": "stderr",
          "output_type": "stream",
          "text": [
            "Training...\n",
            " 89%|████████▉ | 8/9 [00:00<00:00, 15.19it/s]Training...\n",
            "100%|██████████| 9/9 [00:00<00:00, 14.80it/s]\n"
          ]
        },
        {
          "name": "stdout",
          "output_type": "stream",
          "text": [
            "topic3_Coherence: 0.4804_Perplexity: 19.69\n",
            "Num docs: 31 , Vocab size: 14 , Num words: 281\n",
            "Removed top words: ['engine', 'combustion', 'fuel', 'emission', 'efficiency', 'injection', 'diesel', 'system', 'gas', 'thermal']\n",
            "topic5_Coherence: 0.4889_Perplexity: 20.76\n",
            "Num docs: 31 , Vocab size: 14 , Num words: 281\n",
            "Removed top words: ['engine', 'combustion', 'fuel', 'emission', 'efficiency', 'injection', 'diesel', 'system', 'gas', 'thermal']\n",
            "topic9_Coherence: 0.4874_Perplexity: 25.79\n",
            "Topics : 24, Sub_topics : 5, Coherence_score : 0.4936\n"
          ]
        },
        {
          "name": "stderr",
          "output_type": "stream",
          "text": [
            "  0%|          | 0/9 [00:00<?, ?it/s]C:\\Users\\Public\\Documents\\ESTsoft\\CreatorTemp\\ipykernel_40760\\3125301607.py:15: RuntimeWarning: The training result may differ even with fixed seed if `workers` != 1.\n",
            "  mdl.train(0)\n",
            "Training...\n",
            " 11%|█         | 1/9 [00:00<00:00,  9.23it/s]Training...\n",
            "Training...\n"
          ]
        },
        {
          "name": "stdout",
          "output_type": "stream",
          "text": [
            "Num docs: 31 , Vocab size: 28 , Num words: 630\n",
            "Removed top words: ['health', 'air', 'policy', 'emission', 'pollution', 'climate-change', 'scenario', 'PM2', 'energy', 'climate']\n",
            "topic2_Coherence: 0.4283_Perplexity: 35.51\n",
            "Num docs: 31 , Vocab size: 28 , Num words: 630\n",
            "Removed top words: ['health', 'air', 'policy', 'emission', 'pollution', 'climate-change', 'scenario', 'PM2', 'energy', 'climate']\n",
            "topic1_Coherence: 0.4309_Perplexity: 35.47\n",
            "Num docs: 31 , Vocab size: 28 , Num words: 630\n",
            "Removed top words: ['health', 'air', 'policy', 'emission', 'pollution', 'climate-change', 'scenario', 'PM2', 'energy', 'climate']\n"
          ]
        },
        {
          "name": "stderr",
          "output_type": "stream",
          "text": [
            " 33%|███▎      | 3/9 [00:00<00:00, 10.31it/s]Training...\n",
            "Training...\n",
            " 56%|█████▌    | 5/9 [00:00<00:00, 10.36it/s]"
          ]
        },
        {
          "name": "stdout",
          "output_type": "stream",
          "text": [
            "topic2_Coherence: 0.4354_Perplexity: 37.03\n",
            "Num docs: 31 , Vocab size: 28 , Num words: 630\n",
            "Removed top words: ['health', 'air', 'policy', 'emission', 'pollution', 'climate-change', 'scenario', 'PM2', 'energy', 'climate']\n",
            "topic2_Coherence: 0.444_Perplexity: 35.57\n",
            "Num docs: 31 , Vocab size: 28 , Num words: 630\n",
            "Removed top words: ['health', 'air', 'policy', 'emission', 'pollution', 'climate-change', 'scenario', 'PM2', 'energy', 'climate']\n",
            "topic1_Coherence: 0.4267_Perplexity: 35.47\n"
          ]
        },
        {
          "name": "stderr",
          "output_type": "stream",
          "text": [
            "Training...\n",
            "Training...\n",
            " 78%|███████▊  | 7/9 [00:00<00:00,  9.74it/s]"
          ]
        },
        {
          "name": "stdout",
          "output_type": "stream",
          "text": [
            "Num docs: 31 , Vocab size: 28 , Num words: 630\n",
            "Removed top words: ['health', 'air', 'policy', 'emission', 'pollution', 'climate-change', 'scenario', 'PM2', 'energy', 'climate']\n",
            "topic2_Coherence: 0.4371_Perplexity: 35.37\n",
            "Num docs: 31 , Vocab size: 28 , Num words: 630\n",
            "Removed top words: ['health', 'air', 'policy', 'emission', 'pollution', 'climate-change', 'scenario', 'PM2', 'energy', 'climate']\n",
            "topic1_Coherence: 0.4155_Perplexity: 35.44\n"
          ]
        },
        {
          "name": "stderr",
          "output_type": "stream",
          "text": [
            "Training...\n",
            "Training...\n"
          ]
        },
        {
          "name": "stdout",
          "output_type": "stream",
          "text": [
            "Num docs: 31 , Vocab size: 28 , Num words: 630\n",
            "Removed top words: ['health', 'air', 'policy', 'emission', 'pollution', 'climate-change', 'scenario', 'PM2', 'energy', 'climate']\n",
            "topic4_Coherence: 0.425_Perplexity: 35.81\n",
            "Num docs: 31 , Vocab size: 28 , Num words: 630\n",
            "Removed top words: ['health', 'air', 'policy', 'emission', 'pollution', 'climate-change', 'scenario', 'PM2', 'energy', 'climate']\n"
          ]
        },
        {
          "name": "stderr",
          "output_type": "stream",
          "text": [
            "100%|██████████| 9/9 [00:00<00:00,  9.95it/s]\n"
          ]
        },
        {
          "name": "stdout",
          "output_type": "stream",
          "text": [
            "topic2_Coherence: 0.4054_Perplexity: 35.94\n",
            "Topics : 25, Sub_topics : 5, Coherence_score : 0.444\n"
          ]
        },
        {
          "name": "stderr",
          "output_type": "stream",
          "text": [
            "  0%|          | 0/9 [00:00<?, ?it/s]C:\\Users\\Public\\Documents\\ESTsoft\\CreatorTemp\\ipykernel_40760\\3125301607.py:15: RuntimeWarning: The training result may differ even with fixed seed if `workers` != 1.\n",
            "  mdl.train(0)\n",
            "Training...\n",
            "Training...\n",
            "Training...\n",
            "Training...\n",
            "Training...\n",
            "Training...\n",
            "Training...\n",
            "Training...\n",
            "Training...\n",
            "100%|██████████| 9/9 [00:00<00:00, 81.82it/s]"
          ]
        },
        {
          "name": "stdout",
          "output_type": "stream",
          "text": [
            "Num docs: 12 , Vocab size: 0 , Num words: 0\n",
            "Removed top words: ['design', 'magnet', 'seal', 'energy', 'coil', 'climate', 'coffee', 'WEC', 'climate-change', 'system']\n",
            "topic0_Coherence: nan_Perplexity: nan\n",
            "Num docs: 12 , Vocab size: 0 , Num words: 0\n",
            "Removed top words: ['design', 'magnet', 'seal', 'energy', 'coil', 'climate', 'coffee', 'WEC', 'climate-change', 'system']\n",
            "topic0_Coherence: nan_Perplexity: nan\n",
            "Num docs: 12 , Vocab size: 0 , Num words: 0\n",
            "Removed top words: ['design', 'magnet', 'seal', 'energy', 'coil', 'climate', 'coffee', 'WEC', 'climate-change', 'system']\n",
            "topic0_Coherence: nan_Perplexity: nan\n",
            "Num docs: 12 , Vocab size: 0 , Num words: 0\n",
            "Removed top words: ['design', 'magnet', 'seal', 'energy', 'coil', 'climate', 'coffee', 'WEC', 'climate-change', 'system']\n",
            "topic0_Coherence: nan_Perplexity: nan\n",
            "Num docs: 12 , Vocab size: 0 , Num words: 0\n",
            "Removed top words: ['design', 'magnet', 'seal', 'energy', 'coil', 'climate', 'coffee', 'WEC', 'climate-change', 'system']\n",
            "topic0_Coherence: nan_Perplexity: nan\n",
            "Num docs: 12 , Vocab size: 0 , Num words: 0\n",
            "Removed top words: ['design', 'magnet', 'seal', 'energy', 'coil', 'climate', 'coffee', 'WEC', 'climate-change', 'system']\n",
            "topic0_Coherence: nan_Perplexity: nan\n",
            "Num docs: 12 , Vocab size: 0 , Num words: 0\n",
            "Removed top words: ['design', 'magnet', 'seal', 'energy', 'coil', 'climate', 'coffee', 'WEC', 'climate-change', 'system']\n",
            "topic0_Coherence: nan_Perplexity: nan\n",
            "Num docs: 12 , Vocab size: 0 , Num words: 0\n",
            "Removed top words: ['design', 'magnet', 'seal', 'energy', 'coil', 'climate', 'coffee', 'WEC', 'climate-change', 'system']\n",
            "topic0_Coherence: nan_Perplexity: nan\n",
            "Num docs: 12 , Vocab size: 0 , Num words: 0\n",
            "Removed top words: ['design', 'magnet', 'seal', 'energy', 'coil', 'climate', 'coffee', 'WEC', 'climate-change', 'system']\n",
            "topic0_Coherence: nan_Perplexity: nan\n",
            "Topics : 26, Sub_topics : 2, Coherence_score : nan\n"
          ]
        },
        {
          "name": "stderr",
          "output_type": "stream",
          "text": [
            "\n"
          ]
        }
      ],
      "source": [
        "sub = {'Topics' : [], 'Sub_topics' : [], 'Coherence_score' : []}\n",
        "for t in range(len(topics)):\n",
        "    corpus = tp.utils.Corpus()\n",
        "    for line in sentence[t]:\n",
        "        tokens = word_tokenize(line)\n",
        "        corpus.add_doc(words = tokens)\n",
        "\n",
        "    model_results = {'Topics': [], 'Coherence': [], 'Perplexity' : []}\n",
        "\n",
        "    for k in tqdm(range(2,11)):\n",
        "        mdl = tp.HDPModel(tw=tp.TermWeight.IDF, min_cf=5, min_df=10, rm_top=10, initial_k=k, corpus=corpus, seed=99999)\n",
        "\n",
        "        # Initiate MCMC burn-in\n",
        "        mdl.burn_in = 100\n",
        "        mdl.train(0)\n",
        "\n",
        "        print('Num docs:', len(mdl.docs), ', Vocab size:', mdl.num_vocabs, ', Num words:', mdl.num_words)\n",
        "        print('Removed top words:', mdl.removed_top_words)\n",
        "        print('Training...', file=sys.stderr, flush=True)\n",
        "\n",
        "        # Train model\n",
        "        mcmc_iter = 1000\n",
        "        quiet = False\n",
        "\n",
        "        step=round(mcmc_iter*0.01)\n",
        "        for i in range(0, mcmc_iter, step):\n",
        "            mdl.train(step, workers=1)\n",
        "            if not quiet:\n",
        "                ('Iteration: {}\\tLog-likelihood: {}\\tNum. of topics: {}'.format(i, mdl.ll_per_word, mdl.live_k))\n",
        "\n",
        "        coh = tp.coherence.Coherence(mdl, coherence='c_v')\n",
        "        average_coherence = coh.get_score()\n",
        "        topic_len = np.array(np.nonzero(mdl.get_count_by_topics())).size\n",
        "\n",
        "        print('topic{}_Coherence: {:.4}_Perplexity: {:.4}'.format(topic_len, average_coherence, mdl.perplexity))\n",
        "        model_results['Topics'].append(topic_len)\n",
        "        model_results['Coherence'].append(average_coherence)\n",
        "        model_results['Perplexity'].append(mdl.perplexity)\n",
        "\n",
        "    pd.DataFrame(model_results).to_excel(f'sub/0527_num_10_cc_topic{t}.xlsx', index=False)\n",
        "\n",
        "    print('Topics : {}, Sub_topics : {}, Coherence_score : {:.4}'.format(t, model_results['Coherence'].index(max(model_results['Coherence']))+2, max(model_results['Coherence'])))\n",
        "    sub['Topics'].append(t)\n",
        "    sub['Sub_topics'].append(model_results['Coherence'].index(max(model_results['Coherence']))+2)\n",
        "    sub['Coherence_score'].append(max(model_results['Coherence']))\n",
        "\n",
        "pd.DataFrame(sub).to_excel('sub/0527_num_10_cc_SUB_topic.xlsx', index=False)"
      ]
    },
    {
      "cell_type": "code",
      "execution_count": null,
      "metadata": {
        "id": "MRW0fPLIH1K6",
        "outputId": "0e89947d-fed8-4578-a831-9cd6aeceb753"
      },
      "outputs": [
        {
          "data": {
            "text/html": [
              "<div>\n",
              "<style scoped>\n",
              "    .dataframe tbody tr th:only-of-type {\n",
              "        vertical-align: middle;\n",
              "    }\n",
              "\n",
              "    .dataframe tbody tr th {\n",
              "        vertical-align: top;\n",
              "    }\n",
              "\n",
              "    .dataframe thead th {\n",
              "        text-align: right;\n",
              "    }\n",
              "</style>\n",
              "<table border=\"1\" class=\"dataframe\">\n",
              "  <thead>\n",
              "    <tr style=\"text-align: right;\">\n",
              "      <th></th>\n",
              "      <th>Topics</th>\n",
              "      <th>Sub_topics</th>\n",
              "      <th>Coherence_score</th>\n",
              "    </tr>\n",
              "  </thead>\n",
              "  <tbody>\n",
              "    <tr>\n",
              "      <th>0</th>\n",
              "      <td>0</td>\n",
              "      <td>10</td>\n",
              "      <td>0.652704</td>\n",
              "    </tr>\n",
              "    <tr>\n",
              "      <th>1</th>\n",
              "      <td>1</td>\n",
              "      <td>9</td>\n",
              "      <td>0.647099</td>\n",
              "    </tr>\n",
              "    <tr>\n",
              "      <th>2</th>\n",
              "      <td>2</td>\n",
              "      <td>5</td>\n",
              "      <td>0.685042</td>\n",
              "    </tr>\n",
              "    <tr>\n",
              "      <th>3</th>\n",
              "      <td>3</td>\n",
              "      <td>10</td>\n",
              "      <td>0.655532</td>\n",
              "    </tr>\n",
              "    <tr>\n",
              "      <th>4</th>\n",
              "      <td>4</td>\n",
              "      <td>6</td>\n",
              "      <td>0.679814</td>\n",
              "    </tr>\n",
              "    <tr>\n",
              "      <th>5</th>\n",
              "      <td>5</td>\n",
              "      <td>5</td>\n",
              "      <td>0.652061</td>\n",
              "    </tr>\n",
              "    <tr>\n",
              "      <th>6</th>\n",
              "      <td>6</td>\n",
              "      <td>8</td>\n",
              "      <td>0.592023</td>\n",
              "    </tr>\n",
              "    <tr>\n",
              "      <th>7</th>\n",
              "      <td>7</td>\n",
              "      <td>10</td>\n",
              "      <td>0.606983</td>\n",
              "    </tr>\n",
              "    <tr>\n",
              "      <th>8</th>\n",
              "      <td>8</td>\n",
              "      <td>6</td>\n",
              "      <td>0.619624</td>\n",
              "    </tr>\n",
              "    <tr>\n",
              "      <th>9</th>\n",
              "      <td>9</td>\n",
              "      <td>8</td>\n",
              "      <td>0.649973</td>\n",
              "    </tr>\n",
              "    <tr>\n",
              "      <th>10</th>\n",
              "      <td>10</td>\n",
              "      <td>6</td>\n",
              "      <td>0.63105</td>\n",
              "    </tr>\n",
              "    <tr>\n",
              "      <th>11</th>\n",
              "      <td>11</td>\n",
              "      <td>6</td>\n",
              "      <td>0.637438</td>\n",
              "    </tr>\n",
              "    <tr>\n",
              "      <th>12</th>\n",
              "      <td>12</td>\n",
              "      <td>9</td>\n",
              "      <td>0.660668</td>\n",
              "    </tr>\n",
              "    <tr>\n",
              "      <th>13</th>\n",
              "      <td>13</td>\n",
              "      <td>2</td>\n",
              "      <td>0.503209</td>\n",
              "    </tr>\n",
              "    <tr>\n",
              "      <th>14</th>\n",
              "      <td>14</td>\n",
              "      <td>5</td>\n",
              "      <td>0.537765</td>\n",
              "    </tr>\n",
              "    <tr>\n",
              "      <th>15</th>\n",
              "      <td>15</td>\n",
              "      <td>6</td>\n",
              "      <td>0.620082</td>\n",
              "    </tr>\n",
              "    <tr>\n",
              "      <th>16</th>\n",
              "      <td>16</td>\n",
              "      <td>8</td>\n",
              "      <td>0.546981</td>\n",
              "    </tr>\n",
              "    <tr>\n",
              "      <th>17</th>\n",
              "      <td>17</td>\n",
              "      <td>3</td>\n",
              "      <td>0.581215</td>\n",
              "    </tr>\n",
              "    <tr>\n",
              "      <th>18</th>\n",
              "      <td>18</td>\n",
              "      <td>4</td>\n",
              "      <td>0.532283</td>\n",
              "    </tr>\n",
              "    <tr>\n",
              "      <th>19</th>\n",
              "      <td>19</td>\n",
              "      <td>4</td>\n",
              "      <td>0.475925</td>\n",
              "    </tr>\n",
              "    <tr>\n",
              "      <th>20</th>\n",
              "      <td>20</td>\n",
              "      <td>2</td>\n",
              "      <td>0.454003</td>\n",
              "    </tr>\n",
              "    <tr>\n",
              "      <th>21</th>\n",
              "      <td>21</td>\n",
              "      <td>3</td>\n",
              "      <td>0.372295</td>\n",
              "    </tr>\n",
              "    <tr>\n",
              "      <th>22</th>\n",
              "      <td>22</td>\n",
              "      <td>7</td>\n",
              "      <td>0.499432</td>\n",
              "    </tr>\n",
              "    <tr>\n",
              "      <th>23</th>\n",
              "      <td>23</td>\n",
              "      <td>5</td>\n",
              "      <td>0.409763</td>\n",
              "    </tr>\n",
              "    <tr>\n",
              "      <th>24</th>\n",
              "      <td>24</td>\n",
              "      <td>5</td>\n",
              "      <td>0.493631</td>\n",
              "    </tr>\n",
              "    <tr>\n",
              "      <th>25</th>\n",
              "      <td>25</td>\n",
              "      <td>5</td>\n",
              "      <td>0.443954</td>\n",
              "    </tr>\n",
              "  </tbody>\n",
              "</table>\n",
              "</div>"
            ],
            "text/plain": [
              "   Topics Sub_topics Coherence_score\n",
              "0       0         10        0.652704\n",
              "1       1          9        0.647099\n",
              "2       2          5        0.685042\n",
              "3       3         10        0.655532\n",
              "4       4          6        0.679814\n",
              "5       5          5        0.652061\n",
              "6       6          8        0.592023\n",
              "7       7         10        0.606983\n",
              "8       8          6        0.619624\n",
              "9       9          8        0.649973\n",
              "10     10          6         0.63105\n",
              "11     11          6        0.637438\n",
              "12     12          9        0.660668\n",
              "13     13          2        0.503209\n",
              "14     14          5        0.537765\n",
              "15     15          6        0.620082\n",
              "16     16          8        0.546981\n",
              "17     17          3        0.581215\n",
              "18     18          4        0.532283\n",
              "19     19          4        0.475925\n",
              "20     20          2        0.454003\n",
              "21     21          3        0.372295\n",
              "22     22          7        0.499432\n",
              "23     23          5        0.409763\n",
              "24     24          5        0.493631\n",
              "25     25          5        0.443954"
            ]
          },
          "execution_count": 27,
          "metadata": {},
          "output_type": "execute_result"
        }
      ],
      "source": [
        "sub = pd.read_excel('sub/0527_num_10_cc_SUB_topic.xlsx',dtype=object)\n",
        "sub = sub.dropna()\n",
        "sub"
      ]
    },
    {
      "cell_type": "code",
      "execution_count": null,
      "metadata": {
        "id": "Rz4WnAcJH1K6",
        "outputId": "a81d2a62-7d80-4529-8a69-30c8924b2f63"
      },
      "outputs": [
        {
          "name": "stdout",
          "output_type": "stream",
          "text": [
            "0 10 0.65270392393524\n"
          ]
        },
        {
          "name": "stderr",
          "output_type": "stream",
          "text": [
            "C:\\Users\\Public\\Documents\\ESTsoft\\CreatorTemp\\ipykernel_40760\\4137851866.py:17: RuntimeWarning: The training result may differ even with fixed seed if `workers` != 1.\n",
            "  mdl.train(0)\n",
            "Training...\n"
          ]
        },
        {
          "name": "stdout",
          "output_type": "stream",
          "text": [
            "Num docs: 5045 , Vocab size: 3230 , Num words: 396172\n",
            "Removed top words: ['climate-change', 'policy', 'adaptation', 'urban', 'climate', 'system', 'city', 'local', 'development', 'water']\n",
            "topic11_Coherence: 0.6527_Perplexity: 1.743e+03\n",
            "11 11\n"
          ]
        },
        {
          "name": "stderr",
          "output_type": "stream",
          "text": [
            "100%|██████████| 11/11 [00:00<00:00, 99.10it/s] \n",
            "100%|██████████| 11/11 [00:00<?, ?it/s]\n"
          ]
        },
        {
          "name": "stdout",
          "output_type": "stream",
          "text": [
            "Num docs belonging to topic #0: 8\n",
            "Num docs belonging to topic #1: 4\n",
            "Num docs belonging to topic #2: 10\n",
            "Num docs belonging to topic #3: 5\n",
            "Num docs belonging to topic #4: 6\n",
            "Num docs belonging to topic #5: 400\n",
            "Num docs belonging to topic #6: 22\n",
            "Num docs belonging to topic #7: 2728\n",
            "Num docs belonging to topic #8: 4\n",
            "Num docs belonging to topic #9: 1858\n",
            "Num docs belonging to topic #10: 0\n"
          ]
        },
        {
          "name": "stderr",
          "output_type": "stream",
          "text": [
            "100%|██████████| 11/11 [00:00<00:00, 10987.70it/s]\n",
            "C:\\Users\\Public\\Documents\\ESTsoft\\CreatorTemp\\ipykernel_40760\\4137851866.py:17: RuntimeWarning: The training result may differ even with fixed seed if `workers` != 1.\n",
            "  mdl.train(0)\n",
            "Training...\n"
          ]
        },
        {
          "name": "stdout",
          "output_type": "stream",
          "text": [
            "1 9 0.6470990312844516\n",
            "Num docs: 4500 , Vocab size: 2820 , Num words: 356141\n",
            "Removed top words: ['energy', 'emission', 'policy', 'technology', 'system', 'carbon', 'power', 'cost', 'gas', 'CO2']\n",
            "topic9_Coherence: 0.6471_Perplexity: 1.506e+03\n",
            "10 9\n"
          ]
        },
        {
          "name": "stderr",
          "output_type": "stream",
          "text": [
            "100%|██████████| 10/10 [00:00<00:00, 117.65it/s]\n",
            "100%|██████████| 10/10 [00:00<?, ?it/s]\n"
          ]
        },
        {
          "name": "stdout",
          "output_type": "stream",
          "text": [
            "Num docs belonging to topic #0: 24\n",
            "Num docs belonging to topic #1: 1543\n",
            "Num docs belonging to topic #2: 13\n",
            "Num docs belonging to topic #3: 1525\n",
            "Num docs belonging to topic #4: 16\n",
            "Num docs belonging to topic #5: 74\n",
            "Num docs belonging to topic #6: 13\n",
            "Num docs belonging to topic #7: 25\n",
            "Num docs belonging to topic #8: 1267\n",
            "Num docs belonging to topic #9: 0\n"
          ]
        },
        {
          "name": "stderr",
          "output_type": "stream",
          "text": [
            "100%|██████████| 10/10 [00:00<00:00, 10015.05it/s]\n",
            "C:\\Users\\Public\\Documents\\ESTsoft\\CreatorTemp\\ipykernel_40760\\4137851866.py:17: RuntimeWarning: The training result may differ even with fixed seed if `workers` != 1.\n",
            "  mdl.train(0)\n",
            "Training...\n"
          ]
        },
        {
          "name": "stdout",
          "output_type": "stream",
          "text": [
            "2 5 0.6850423242896795\n",
            "Num docs: 2767 , Vocab size: 2420 , Num words: 225673\n",
            "Removed top words: ['water', 'climate-change', 'system', 'risk', 'flood', 'adaptation', 'study', 'management', 'model', 'area']\n",
            "topic8_Coherence: 0.685_Perplexity: 1.436e+03\n",
            "8 8\n"
          ]
        },
        {
          "name": "stderr",
          "output_type": "stream",
          "text": [
            "100%|██████████| 8/8 [00:00<00:00, 173.91it/s]\n",
            "100%|██████████| 8/8 [00:00<?, ?it/s]\n"
          ]
        },
        {
          "name": "stdout",
          "output_type": "stream",
          "text": [
            "Num docs belonging to topic #0: 7\n",
            "Num docs belonging to topic #1: 326\n",
            "Num docs belonging to topic #2: 53\n",
            "Num docs belonging to topic #3: 1004\n",
            "Num docs belonging to topic #4: 1374\n",
            "Num docs belonging to topic #5: 1\n",
            "Num docs belonging to topic #6: 1\n",
            "Num docs belonging to topic #7: 1\n"
          ]
        },
        {
          "name": "stderr",
          "output_type": "stream",
          "text": [
            "100%|██████████| 8/8 [00:00<?, ?it/s]\n",
            "C:\\Users\\Public\\Documents\\ESTsoft\\CreatorTemp\\ipykernel_40760\\4137851866.py:17: RuntimeWarning: The training result may differ even with fixed seed if `workers` != 1.\n",
            "  mdl.train(0)\n",
            "Training...\n"
          ]
        },
        {
          "name": "stdout",
          "output_type": "stream",
          "text": [
            "3 10 0.6555316805839538\n",
            "Num docs: 2706 , Vocab size: 2161 , Num words: 202794\n",
            "Removed top words: ['energy', 'building', 'design', 'system', 'environmental', 'construction', 'study', 'material', 'emission', 'carbon']\n",
            "topic10_Coherence: 0.6555_Perplexity: 1.342e+03\n",
            "11 10\n"
          ]
        },
        {
          "name": "stderr",
          "output_type": "stream",
          "text": [
            "100%|██████████| 11/11 [00:00<00:00, 186.44it/s]\n",
            "100%|██████████| 11/11 [00:00<?, ?it/s]\n"
          ]
        },
        {
          "name": "stdout",
          "output_type": "stream",
          "text": [
            "Num docs belonging to topic #0: 7\n",
            "Num docs belonging to topic #1: 7\n",
            "Num docs belonging to topic #2: 4\n",
            "Num docs belonging to topic #3: 4\n",
            "Num docs belonging to topic #4: 6\n",
            "Num docs belonging to topic #5: 88\n",
            "Num docs belonging to topic #6: 6\n",
            "Num docs belonging to topic #7: 6\n",
            "Num docs belonging to topic #8: 606\n",
            "Num docs belonging to topic #9: 1972\n",
            "Num docs belonging to topic #10: 0\n"
          ]
        },
        {
          "name": "stderr",
          "output_type": "stream",
          "text": [
            "100%|██████████| 11/11 [00:00<00:00, 5499.74it/s]\n",
            "C:\\Users\\Public\\Documents\\ESTsoft\\CreatorTemp\\ipykernel_40760\\4137851866.py:17: RuntimeWarning: The training result may differ even with fixed seed if `workers` != 1.\n",
            "  mdl.train(0)\n",
            "Training...\n"
          ]
        },
        {
          "name": "stdout",
          "output_type": "stream",
          "text": [
            "4 6 0.6798135555535554\n",
            "Num docs: 2640 , Vocab size: 1932 , Num words: 186357\n",
            "Removed top words: ['energy', 'system', 'power', 'model', 'cost', 'carbon-emission', 'network', 'renewable', 'carbon', 'optimization']\n",
            "topic9_Coherence: 0.6798_Perplexity: 1.125e+03\n",
            "10 9\n"
          ]
        },
        {
          "name": "stderr",
          "output_type": "stream",
          "text": [
            "100%|██████████| 10/10 [00:00<00:00, 192.85it/s]\n",
            "100%|██████████| 10/10 [00:00<?, ?it/s]\n"
          ]
        },
        {
          "name": "stdout",
          "output_type": "stream",
          "text": [
            "Num docs belonging to topic #0: 5\n",
            "Num docs belonging to topic #1: 1300\n",
            "Num docs belonging to topic #2: 358\n",
            "Num docs belonging to topic #3: 34\n",
            "Num docs belonging to topic #4: 934\n",
            "Num docs belonging to topic #5: 7\n",
            "Num docs belonging to topic #6: 1\n",
            "Num docs belonging to topic #7: 1\n",
            "Num docs belonging to topic #8: 0\n",
            "Num docs belonging to topic #9: 0\n"
          ]
        },
        {
          "name": "stderr",
          "output_type": "stream",
          "text": [
            "100%|██████████| 10/10 [00:00<00:00, 9993.58it/s]\n",
            "C:\\Users\\Public\\Documents\\ESTsoft\\CreatorTemp\\ipykernel_40760\\4137851866.py:17: RuntimeWarning: The training result may differ even with fixed seed if `workers` != 1.\n",
            "  mdl.train(0)\n",
            "Training...\n"
          ]
        },
        {
          "name": "stdout",
          "output_type": "stream",
          "text": [
            "5 5 0.6520609141886233\n",
            "Num docs: 2491 , Vocab size: 2198 , Num words: 195120\n",
            "Removed top words: ['energy', 'production', 'CO2', 'process', 'system', 'carbon', 'fuel', 'gas', 'technology', 'emission']\n",
            "topic8_Coherence: 0.6521_Perplexity: 1.324e+03\n",
            "10 8\n"
          ]
        },
        {
          "name": "stderr",
          "output_type": "stream",
          "text": [
            "100%|██████████| 10/10 [00:00<00:00, 204.10it/s]\n",
            "100%|██████████| 10/10 [00:00<00:00, 10000.72it/s]\n"
          ]
        },
        {
          "name": "stdout",
          "output_type": "stream",
          "text": [
            "Num docs belonging to topic #0: 15\n",
            "Num docs belonging to topic #1: 212\n",
            "Num docs belonging to topic #2: 38\n",
            "Num docs belonging to topic #3: 1120\n",
            "Num docs belonging to topic #4: 1104\n",
            "Num docs belonging to topic #5: 1\n",
            "Num docs belonging to topic #6: 1\n",
            "Num docs belonging to topic #7: 0\n",
            "Num docs belonging to topic #8: 0\n",
            "Num docs belonging to topic #9: 0\n"
          ]
        },
        {
          "name": "stderr",
          "output_type": "stream",
          "text": [
            "100%|██████████| 10/10 [00:00<00:00, 10000.72it/s]\n",
            "C:\\Users\\Public\\Documents\\ESTsoft\\CreatorTemp\\ipykernel_40760\\4137851866.py:17: RuntimeWarning: The training result may differ even with fixed seed if `workers` != 1.\n",
            "  mdl.train(0)\n",
            "Training...\n"
          ]
        },
        {
          "name": "stdout",
          "output_type": "stream",
          "text": [
            "6 8 0.5920226977103286\n",
            "Num docs: 2099 , Vocab size: 1795 , Num words: 147532\n",
            "Removed top words: ['energy', 'policy', 'technology', 'transition', 'climate-change', 'innovation', 'carbon', 'system', 'study', 'development']\n",
            "topic8_Coherence: 0.592_Perplexity: 1.183e+03\n",
            "9 8\n"
          ]
        },
        {
          "name": "stderr",
          "output_type": "stream",
          "text": [
            "100%|██████████| 9/9 [00:00<00:00, 264.72it/s]\n",
            "100%|██████████| 9/9 [00:00<?, ?it/s]\n"
          ]
        },
        {
          "name": "stdout",
          "output_type": "stream",
          "text": [
            "Num docs belonging to topic #0: 1055\n",
            "Num docs belonging to topic #1: 42\n",
            "Num docs belonging to topic #2: 982\n",
            "Num docs belonging to topic #3: 4\n",
            "Num docs belonging to topic #4: 6\n",
            "Num docs belonging to topic #5: 3\n",
            "Num docs belonging to topic #6: 3\n",
            "Num docs belonging to topic #7: 4\n",
            "Num docs belonging to topic #8: 0\n"
          ]
        },
        {
          "name": "stderr",
          "output_type": "stream",
          "text": [
            "100%|██████████| 9/9 [00:00<?, ?it/s]\n",
            "C:\\Users\\Public\\Documents\\ESTsoft\\CreatorTemp\\ipykernel_40760\\4137851866.py:17: RuntimeWarning: The training result may differ even with fixed seed if `workers` != 1.\n",
            "  mdl.train(0)\n",
            "Training...\n"
          ]
        },
        {
          "name": "stdout",
          "output_type": "stream",
          "text": [
            "7 10 0.6069833958831925\n",
            "Num docs: 1921 , Vocab size: 1405 , Num words: 136167\n",
            "Removed top words: ['carbon-emission', 'energy', 'china', 'efficiency', 'development', 'carbon', 'emission', 'industry', 'policy', 'economic']\n",
            "topic10_Coherence: 0.607_Perplexity: 814.2\n",
            "12 10\n"
          ]
        },
        {
          "name": "stderr",
          "output_type": "stream",
          "text": [
            "100%|██████████| 12/12 [00:00<00:00, 279.08it/s]\n",
            "100%|██████████| 12/12 [00:00<?, ?it/s]\n"
          ]
        },
        {
          "name": "stdout",
          "output_type": "stream",
          "text": [
            "Num docs belonging to topic #0: 4\n",
            "Num docs belonging to topic #1: 77\n",
            "Num docs belonging to topic #2: 1021\n",
            "Num docs belonging to topic #3: 14\n",
            "Num docs belonging to topic #4: 68\n",
            "Num docs belonging to topic #5: 3\n",
            "Num docs belonging to topic #6: 33\n",
            "Num docs belonging to topic #7: 21\n",
            "Num docs belonging to topic #8: 661\n",
            "Num docs belonging to topic #9: 19\n",
            "Num docs belonging to topic #10: 0\n",
            "Num docs belonging to topic #11: 0\n"
          ]
        },
        {
          "name": "stderr",
          "output_type": "stream",
          "text": [
            "100%|██████████| 12/12 [00:00<?, ?it/s]\n",
            "C:\\Users\\Public\\Documents\\ESTsoft\\CreatorTemp\\ipykernel_40760\\4137851866.py:17: RuntimeWarning: The training result may differ even with fixed seed if `workers` != 1.\n",
            "  mdl.train(0)\n",
            "Training...\n"
          ]
        },
        {
          "name": "stdout",
          "output_type": "stream",
          "text": [
            "8 6 0.6196237898431719\n",
            "Num docs: 1421 , Vocab size: 1383 , Num words: 102124\n",
            "Removed top words: ['energy', 'system', 'heat', 'building', 'solar', 'thermal', 'performance', 'power', 'efficiency', 'design']\n",
            "topic7_Coherence: 0.6196_Perplexity: 971.1\n",
            "8 7\n"
          ]
        },
        {
          "name": "stderr",
          "output_type": "stream",
          "text": [
            "100%|██████████| 8/8 [00:00<00:00, 381.00it/s]\n",
            "100%|██████████| 8/8 [00:00<?, ?it/s]\n"
          ]
        },
        {
          "name": "stdout",
          "output_type": "stream",
          "text": [
            "Num docs belonging to topic #0: 10\n",
            "Num docs belonging to topic #1: 9\n",
            "Num docs belonging to topic #2: 5\n",
            "Num docs belonging to topic #3: 1068\n",
            "Num docs belonging to topic #4: 9\n",
            "Num docs belonging to topic #5: 319\n",
            "Num docs belonging to topic #6: 1\n",
            "Num docs belonging to topic #7: 0\n"
          ]
        },
        {
          "name": "stderr",
          "output_type": "stream",
          "text": [
            "100%|██████████| 8/8 [00:00<00:00, 7996.77it/s]\n",
            "C:\\Users\\Public\\Documents\\ESTsoft\\CreatorTemp\\ipykernel_40760\\4137851866.py:17: RuntimeWarning: The training result may differ even with fixed seed if `workers` != 1.\n",
            "  mdl.train(0)\n",
            "Training...\n"
          ]
        },
        {
          "name": "stdout",
          "output_type": "stream",
          "text": [
            "9 8 0.6499725046482953\n",
            "Num docs: 1297 , Vocab size: 1651 , Num words: 111124\n",
            "Removed top words: ['climate-change', 'specie', 'ecosystem', 'area', 'management', 'conservation', 'change', 'carbon', 'system', 'study']\n",
            "topic9_Coherence: 0.65_Perplexity: 1.155e+03\n",
            "11 9\n"
          ]
        },
        {
          "name": "stderr",
          "output_type": "stream",
          "text": [
            "100%|██████████| 11/11 [00:00<00:00, 440.04it/s]\n",
            "100%|██████████| 11/11 [00:00<?, ?it/s]\n"
          ]
        },
        {
          "name": "stdout",
          "output_type": "stream",
          "text": [
            "Num docs belonging to topic #0: 3\n",
            "Num docs belonging to topic #1: 2\n",
            "Num docs belonging to topic #2: 7\n",
            "Num docs belonging to topic #3: 5\n",
            "Num docs belonging to topic #4: 928\n",
            "Num docs belonging to topic #5: 345\n",
            "Num docs belonging to topic #6: 1\n",
            "Num docs belonging to topic #7: 5\n",
            "Num docs belonging to topic #8: 1\n",
            "Num docs belonging to topic #9: 0\n",
            "Num docs belonging to topic #10: 0\n"
          ]
        },
        {
          "name": "stderr",
          "output_type": "stream",
          "text": [
            "100%|██████████| 11/11 [00:00<?, ?it/s]\n",
            "C:\\Users\\Public\\Documents\\ESTsoft\\CreatorTemp\\ipykernel_40760\\4137851866.py:17: RuntimeWarning: The training result may differ even with fixed seed if `workers` != 1.\n",
            "  mdl.train(0)\n",
            "Training...\n"
          ]
        },
        {
          "name": "stdout",
          "output_type": "stream",
          "text": [
            "10 6 0.6310495271533728\n",
            "Num docs: 1170 , Vocab size: 916 , Num words: 59046\n",
            "Removed top words: ['low-carbon', 'development', 'energy', 'city', 'system', 'carbon', 'urban', 'economy', 'low', 'china']\n",
            "topic12_Coherence: 0.631_Perplexity: 635.1\n",
            "15 12\n"
          ]
        },
        {
          "name": "stderr",
          "output_type": "stream",
          "text": [
            "100%|██████████| 15/15 [00:00<00:00, 500.04it/s]\n",
            "100%|██████████| 15/15 [00:00<00:00, 14940.53it/s]\n"
          ]
        },
        {
          "name": "stdout",
          "output_type": "stream",
          "text": [
            "Num docs belonging to topic #0: 898\n",
            "Num docs belonging to topic #1: 4\n",
            "Num docs belonging to topic #2: 10\n",
            "Num docs belonging to topic #3: 242\n",
            "Num docs belonging to topic #4: 9\n",
            "Num docs belonging to topic #5: 1\n",
            "Num docs belonging to topic #6: 1\n",
            "Num docs belonging to topic #7: 1\n",
            "Num docs belonging to topic #8: 1\n",
            "Num docs belonging to topic #9: 1\n",
            "Num docs belonging to topic #10: 1\n",
            "Num docs belonging to topic #11: 1\n",
            "Num docs belonging to topic #12: 0\n",
            "Num docs belonging to topic #13: 0\n",
            "Num docs belonging to topic #14: 0\n"
          ]
        },
        {
          "name": "stderr",
          "output_type": "stream",
          "text": [
            "100%|██████████| 15/15 [00:00<?, ?it/s]\n",
            "C:\\Users\\Public\\Documents\\ESTsoft\\CreatorTemp\\ipykernel_40760\\4137851866.py:17: RuntimeWarning: The training result may differ even with fixed seed if `workers` != 1.\n",
            "  mdl.train(0)\n",
            "Training...\n"
          ]
        },
        {
          "name": "stdout",
          "output_type": "stream",
          "text": [
            "11 6 0.6374382153153421\n",
            "Num docs: 937 , Vocab size: 1183 , Num words: 79905\n",
            "Removed top words: ['production', 'system', 'emission', 'crop', 'water', 'energy', 'environmental', 'yield', 'use', 'potential']\n",
            "topic8_Coherence: 0.6374_Perplexity: 825.8\n",
            "10 8\n"
          ]
        },
        {
          "name": "stderr",
          "output_type": "stream",
          "text": [
            "100%|██████████| 10/10 [00:00<00:00, 588.26it/s]\n",
            "100%|██████████| 10/10 [00:00<?, ?it/s]\n"
          ]
        },
        {
          "name": "stdout",
          "output_type": "stream",
          "text": [
            "Num docs belonging to topic #0: 17\n",
            "Num docs belonging to topic #1: 415\n",
            "Num docs belonging to topic #2: 1\n",
            "Num docs belonging to topic #3: 46\n",
            "Num docs belonging to topic #4: 5\n",
            "Num docs belonging to topic #5: 451\n",
            "Num docs belonging to topic #6: 1\n",
            "Num docs belonging to topic #7: 0\n",
            "Num docs belonging to topic #8: 1\n",
            "Num docs belonging to topic #9: 0\n"
          ]
        },
        {
          "name": "stderr",
          "output_type": "stream",
          "text": [
            "100%|██████████| 10/10 [00:00<?, ?it/s]\n",
            "C:\\Users\\Public\\Documents\\ESTsoft\\CreatorTemp\\ipykernel_40760\\4137851866.py:17: RuntimeWarning: The training result may differ even with fixed seed if `workers` != 1.\n",
            "  mdl.train(0)\n",
            "Training...\n"
          ]
        },
        {
          "name": "stdout",
          "output_type": "stream",
          "text": [
            "12 9 0.6606683723304582\n",
            "Num docs: 736 , Vocab size: 1011 , Num words: 57646\n",
            "Removed top words: ['water', 'crop', 'yield', 'climate-change', 'drought', 'plant', 'stress', 'temperature', 'production', 'condition']\n",
            "topic21_Coherence: 0.6607_Perplexity: 697.3\n",
            "23 21\n"
          ]
        },
        {
          "name": "stderr",
          "output_type": "stream",
          "text": [
            "100%|██████████| 23/23 [00:00<00:00, 619.30it/s]\n",
            "100%|██████████| 23/23 [00:00<?, ?it/s]\n"
          ]
        },
        {
          "name": "stdout",
          "output_type": "stream",
          "text": [
            "Num docs belonging to topic #0: 23\n",
            "Num docs belonging to topic #1: 292\n",
            "Num docs belonging to topic #2: 17\n",
            "Num docs belonging to topic #3: 3\n",
            "Num docs belonging to topic #4: 193\n",
            "Num docs belonging to topic #5: 1\n",
            "Num docs belonging to topic #6: 1\n",
            "Num docs belonging to topic #7: 7\n",
            "Num docs belonging to topic #8: 188\n",
            "Num docs belonging to topic #9: 1\n",
            "Num docs belonging to topic #10: 1\n",
            "Num docs belonging to topic #11: 1\n",
            "Num docs belonging to topic #12: 1\n",
            "Num docs belonging to topic #13: 1\n",
            "Num docs belonging to topic #14: 1\n",
            "Num docs belonging to topic #15: 1\n",
            "Num docs belonging to topic #16: 1\n",
            "Num docs belonging to topic #17: 1\n",
            "Num docs belonging to topic #18: 0\n",
            "Num docs belonging to topic #19: 0\n",
            "Num docs belonging to topic #20: 1\n",
            "Num docs belonging to topic #21: 1\n",
            "Num docs belonging to topic #22: 0\n"
          ]
        },
        {
          "name": "stderr",
          "output_type": "stream",
          "text": [
            "100%|██████████| 23/23 [00:00<?, ?it/s]\n",
            "C:\\Users\\Public\\Documents\\ESTsoft\\CreatorTemp\\ipykernel_40760\\4137851866.py:17: RuntimeWarning: The training result may differ even with fixed seed if `workers` != 1.\n",
            "  mdl.train(0)\n",
            "Training...\n"
          ]
        },
        {
          "name": "stdout",
          "output_type": "stream",
          "text": [
            "13 2 0.5032090788707136\n",
            "Num docs: 561 , Vocab size: 772 , Num words: 33207\n",
            "Removed top words: ['CO2', 'energy', 'catalyst', 'reaction', 'hydrogen', 'carbon', 'production', 'high', 'fuel', 'reduction']\n",
            "topic2_Coherence: 0.5032_Perplexity: 677.8\n",
            "3 2\n"
          ]
        },
        {
          "name": "stderr",
          "output_type": "stream",
          "text": [
            "100%|██████████| 3/3 [00:00<00:00, 1000.07it/s]\n",
            "100%|██████████| 3/3 [00:00<?, ?it/s]\n"
          ]
        },
        {
          "name": "stdout",
          "output_type": "stream",
          "text": [
            "Num docs belonging to topic #0: 539\n",
            "Num docs belonging to topic #1: 22\n",
            "Num docs belonging to topic #2: 0\n"
          ]
        },
        {
          "name": "stderr",
          "output_type": "stream",
          "text": [
            "100%|██████████| 3/3 [00:00<?, ?it/s]\n"
          ]
        },
        {
          "name": "stdout",
          "output_type": "stream",
          "text": [
            "14"
          ]
        },
        {
          "name": "stderr",
          "output_type": "stream",
          "text": [
            "C:\\Users\\Public\\Documents\\ESTsoft\\CreatorTemp\\ipykernel_40760\\4137851866.py:17: RuntimeWarning: The training result may differ even with fixed seed if `workers` != 1.\n",
            "  mdl.train(0)\n",
            "Training...\n"
          ]
        },
        {
          "name": "stdout",
          "output_type": "stream",
          "text": [
            " 5 0.5377645110556235\n",
            "Num docs: 503 , Vocab size: 593 , Num words: 31731\n",
            "Removed top words: ['energy', 'environmental', 'emission', 'economic', 'study', 'country', 'growth', 'development', 'carbon-emission', 'CO2']\n",
            "topic7_Coherence: 0.5378_Perplexity: 497.3\n",
            "9 7\n"
          ]
        },
        {
          "name": "stderr",
          "output_type": "stream",
          "text": [
            "100%|██████████| 9/9 [00:00<00:00, 900.15it/s]\n",
            "100%|██████████| 9/9 [00:00<?, ?it/s]\n"
          ]
        },
        {
          "name": "stdout",
          "output_type": "stream",
          "text": [
            "Num docs belonging to topic #0: 1\n",
            "Num docs belonging to topic #1: 420\n",
            "Num docs belonging to topic #2: 1\n",
            "Num docs belonging to topic #3: 78\n",
            "Num docs belonging to topic #4: 1\n",
            "Num docs belonging to topic #5: 1\n",
            "Num docs belonging to topic #6: 1\n",
            "Num docs belonging to topic #7: 0\n",
            "Num docs belonging to topic #8: 0\n"
          ]
        },
        {
          "name": "stderr",
          "output_type": "stream",
          "text": [
            "100%|██████████| 9/9 [00:00<?, ?it/s]"
          ]
        },
        {
          "name": "stdout",
          "output_type": "stream",
          "text": [
            "15 6 0.620081863221195\n"
          ]
        },
        {
          "name": "stderr",
          "output_type": "stream",
          "text": [
            "\n",
            "C:\\Users\\Public\\Documents\\ESTsoft\\CreatorTemp\\ipykernel_40760\\4137851866.py:17: RuntimeWarning: The training result may differ even with fixed seed if `workers` != 1.\n",
            "  mdl.train(0)\n",
            "Training...\n"
          ]
        },
        {
          "name": "stdout",
          "output_type": "stream",
          "text": [
            "Num docs: 426 , Vocab size: 544 , Num words: 20630\n",
            "Removed top words: ['steel', 'carbon', 'low', 'process', 'temperature', 'high', 'strength', 'corrosion', 'surface', 'material']\n",
            "topic36_Coherence: 0.6201_Perplexity: 386.1\n",
            "45 36\n"
          ]
        },
        {
          "name": "stderr",
          "output_type": "stream",
          "text": [
            "100%|██████████| 45/45 [00:00<00:00, 957.25it/s]\n",
            "100%|██████████| 45/45 [00:00<?, ?it/s]\n"
          ]
        },
        {
          "name": "stdout",
          "output_type": "stream",
          "text": [
            "Num docs belonging to topic #0: 75\n",
            "Num docs belonging to topic #1: 5\n",
            "Num docs belonging to topic #2: 87\n",
            "Num docs belonging to topic #3: 3\n",
            "Num docs belonging to topic #4: 226\n",
            "Num docs belonging to topic #5: 1\n",
            "Num docs belonging to topic #6: 1\n",
            "Num docs belonging to topic #7: 1\n",
            "Num docs belonging to topic #8: 1\n",
            "Num docs belonging to topic #9: 1\n",
            "Num docs belonging to topic #10: 1\n",
            "Num docs belonging to topic #11: 1\n",
            "Num docs belonging to topic #12: 1\n",
            "Num docs belonging to topic #13: 1\n",
            "Num docs belonging to topic #14: 1\n",
            "Num docs belonging to topic #15: 1\n",
            "Num docs belonging to topic #16: 1\n",
            "Num docs belonging to topic #17: 0\n",
            "Num docs belonging to topic #18: 1\n",
            "Num docs belonging to topic #19: 0\n",
            "Num docs belonging to topic #20: 1\n",
            "Num docs belonging to topic #21: 1\n",
            "Num docs belonging to topic #22: 2\n",
            "Num docs belonging to topic #23: 1\n",
            "Num docs belonging to topic #24: 1\n",
            "Num docs belonging to topic #25: 1\n",
            "Num docs belonging to topic #26: 1\n",
            "Num docs belonging to topic #27: 1\n",
            "Num docs belonging to topic #28: 1\n",
            "Num docs belonging to topic #29: 1\n",
            "Num docs belonging to topic #30: 1\n",
            "Num docs belonging to topic #31: 1\n",
            "Num docs belonging to topic #32: 1\n",
            "Num docs belonging to topic #33: 1\n",
            "Num docs belonging to topic #34: 1\n",
            "Num docs belonging to topic #35: 1\n",
            "Num docs belonging to topic #36: 0\n",
            "Num docs belonging to topic #37: 0\n",
            "Num docs belonging to topic #38: 0\n",
            "Num docs belonging to topic #39: 0\n",
            "Num docs belonging to topic #40: 0\n",
            "Num docs belonging to topic #41: 0\n",
            "Num docs belonging to topic #42: 0\n",
            "Num docs belonging to topic #43: 0\n",
            "Num docs belonging to topic #44: 0\n"
          ]
        },
        {
          "name": "stderr",
          "output_type": "stream",
          "text": [
            "100%|██████████| 45/45 [00:00<?, ?it/s]\n",
            "C:\\Users\\Public\\Documents\\ESTsoft\\CreatorTemp\\ipykernel_40760\\4137851866.py:17: RuntimeWarning: The training result may differ even with fixed seed if `workers` != 1.\n",
            "  mdl.train(0)\n",
            "Training...\n"
          ]
        },
        {
          "name": "stdout",
          "output_type": "stream",
          "text": [
            "16 8 0.5469809412423414\n",
            "Num docs: 416 , Vocab size: 611 , Num words: 26413\n",
            "Removed top words: ['urban', 'heat', 'temperature', 'area', 'green', 'city', 'study', 'climate-change', 'thermal', 'climate']\n",
            "topic7_Coherence: 0.547_Perplexity: 530.6\n",
            "26 7\n"
          ]
        },
        {
          "name": "stderr",
          "output_type": "stream",
          "text": [
            "100%|██████████| 26/26 [00:00<00:00, 2889.33it/s]\n",
            "100%|██████████| 26/26 [00:00<?, ?it/s]\n"
          ]
        },
        {
          "name": "stdout",
          "output_type": "stream",
          "text": [
            "Num docs belonging to topic #0: 1\n",
            "Num docs belonging to topic #1: 0\n",
            "Num docs belonging to topic #2: 408\n",
            "Num docs belonging to topic #3: 2\n",
            "Num docs belonging to topic #4: 2\n",
            "Num docs belonging to topic #5: 0\n",
            "Num docs belonging to topic #6: 2\n",
            "Num docs belonging to topic #7: 1\n",
            "Num docs belonging to topic #8: 0\n",
            "Num docs belonging to topic #9: 0\n",
            "Num docs belonging to topic #10: 0\n",
            "Num docs belonging to topic #11: 0\n",
            "Num docs belonging to topic #12: 0\n",
            "Num docs belonging to topic #13: 0\n",
            "Num docs belonging to topic #14: 0\n",
            "Num docs belonging to topic #15: 0\n",
            "Num docs belonging to topic #16: 0\n",
            "Num docs belonging to topic #17: 0\n",
            "Num docs belonging to topic #18: 0\n",
            "Num docs belonging to topic #19: 0\n",
            "Num docs belonging to topic #20: 0\n",
            "Num docs belonging to topic #21: 0\n",
            "Num docs belonging to topic #22: 0\n",
            "Num docs belonging to topic #23: 0\n",
            "Num docs belonging to topic #24: 0\n",
            "Num docs belonging to topic #25: 0\n"
          ]
        },
        {
          "name": "stderr",
          "output_type": "stream",
          "text": [
            "100%|██████████| 26/26 [00:00<?, ?it/s]"
          ]
        },
        {
          "name": "stdout",
          "output_type": "stream",
          "text": [
            "17"
          ]
        },
        {
          "name": "stderr",
          "output_type": "stream",
          "text": [
            "\n",
            "C:\\Users\\Public\\Documents\\ESTsoft\\CreatorTemp\\ipykernel_40760\\4137851866.py:17: RuntimeWarning: The training result may differ even with fixed seed if `workers` != 1.\n",
            "  mdl.train(0)\n",
            "Training...\n"
          ]
        },
        {
          "name": "stdout",
          "output_type": "stream",
          "text": [
            " 3 0.5812153889552543\n",
            "Num docs: 380 , Vocab size: 638 , Num words: 28675\n",
            "Removed top words: ['water', 'model', 'climate-change', 'climate', 'change', 'study', 'temperature', 'area', 'ecosystem', 'drought']\n",
            "topic14_Coherence: 0.5812_Perplexity: 509.1\n",
            "19 14\n"
          ]
        },
        {
          "name": "stderr",
          "output_type": "stream",
          "text": [
            "100%|██████████| 19/19 [00:00<00:00, 1266.74it/s]\n",
            "100%|██████████| 19/19 [00:00<?, ?it/s]\n"
          ]
        },
        {
          "name": "stdout",
          "output_type": "stream",
          "text": [
            "Num docs belonging to topic #0: 176\n",
            "Num docs belonging to topic #1: 3\n",
            "Num docs belonging to topic #2: 191\n",
            "Num docs belonging to topic #3: 1\n",
            "Num docs belonging to topic #4: 1\n",
            "Num docs belonging to topic #5: 0\n",
            "Num docs belonging to topic #6: 1\n",
            "Num docs belonging to topic #7: 1\n",
            "Num docs belonging to topic #8: 1\n",
            "Num docs belonging to topic #9: 1\n",
            "Num docs belonging to topic #10: 1\n",
            "Num docs belonging to topic #11: 1\n",
            "Num docs belonging to topic #12: 1\n",
            "Num docs belonging to topic #13: 1\n",
            "Num docs belonging to topic #14: 0\n",
            "Num docs belonging to topic #15: 0\n",
            "Num docs belonging to topic #16: 0\n",
            "Num docs belonging to topic #17: 0\n",
            "Num docs belonging to topic #18: 0\n"
          ]
        },
        {
          "name": "stderr",
          "output_type": "stream",
          "text": [
            "100%|██████████| 19/19 [00:00<?, ?it/s]\n",
            "C:\\Users\\Public\\Documents\\ESTsoft\\CreatorTemp\\ipykernel_40760\\4137851866.py:17: RuntimeWarning: The training result may differ even with fixed seed if `workers` != 1.\n",
            "  mdl.train(0)\n",
            "Training...\n"
          ]
        },
        {
          "name": "stdout",
          "output_type": "stream",
          "text": [
            "18 4 0.5322825982887298\n",
            "Num docs: 271 , Vocab size: 386 , Num words: 13211\n",
            "Removed top words: ['energy', 'system', 'network', 'consumption', 'power', 'technology', 'smart', 'model', 'grid', 'communication']\n",
            "topic6_Coherence: 0.5323_Perplexity: 347.5\n",
            "10 6\n"
          ]
        },
        {
          "name": "stderr",
          "output_type": "stream",
          "text": [
            "100%|██████████| 10/10 [00:00<00:00, 1666.19it/s]\n",
            "100%|██████████| 10/10 [00:00<?, ?it/s]\n"
          ]
        },
        {
          "name": "stdout",
          "output_type": "stream",
          "text": [
            "Num docs belonging to topic #0: 12\n",
            "Num docs belonging to topic #1: 254\n",
            "Num docs belonging to topic #2: 1\n",
            "Num docs belonging to topic #3: 2\n",
            "Num docs belonging to topic #4: 1\n",
            "Num docs belonging to topic #5: 1\n",
            "Num docs belonging to topic #6: 0\n",
            "Num docs belonging to topic #7: 0\n",
            "Num docs belonging to topic #8: 0\n",
            "Num docs belonging to topic #9: 0\n"
          ]
        },
        {
          "name": "stderr",
          "output_type": "stream",
          "text": [
            "100%|██████████| 10/10 [00:00<?, ?it/s]\n",
            "C:\\Users\\Public\\Documents\\ESTsoft\\CreatorTemp\\ipykernel_40760\\4137851866.py:17: RuntimeWarning: The training result may differ even with fixed seed if `workers` != 1.\n",
            "  mdl.train(0)\n",
            "Training...\n"
          ]
        },
        {
          "name": "stdout",
          "output_type": "stream",
          "text": [
            "19 4 0.4759254342088332\n",
            "Num docs: 238 , Vocab size: 369 , Num words: 16013\n",
            "Removed top words: ['soil', 'carbon', 'system', 'SOC', 'emission', 'organic', 'stock', 'CO2', 'N2O', 'production']\n",
            "topic6_Coherence: 0.4759_Perplexity: 313.5\n",
            "13 6\n"
          ]
        },
        {
          "name": "stderr",
          "output_type": "stream",
          "text": [
            "100%|██████████| 13/13 [00:00<00:00, 2601.30it/s]\n",
            "100%|██████████| 13/13 [00:00<?, ?it/s]\n"
          ]
        },
        {
          "name": "stdout",
          "output_type": "stream",
          "text": [
            "Num docs belonging to topic #0: 117\n",
            "Num docs belonging to topic #1: 4\n",
            "Num docs belonging to topic #2: 109\n",
            "Num docs belonging to topic #3: 6\n",
            "Num docs belonging to topic #4: 1\n",
            "Num docs belonging to topic #5: 1\n",
            "Num docs belonging to topic #6: 0\n",
            "Num docs belonging to topic #7: 0\n",
            "Num docs belonging to topic #8: 0\n",
            "Num docs belonging to topic #9: 0\n",
            "Num docs belonging to topic #10: 0\n",
            "Num docs belonging to topic #11: 0\n",
            "Num docs belonging to topic #12: 0\n"
          ]
        },
        {
          "name": "stderr",
          "output_type": "stream",
          "text": [
            "100%|██████████| 13/13 [00:00<?, ?it/s]\n",
            "C:\\Users\\Public\\Documents\\ESTsoft\\CreatorTemp\\ipykernel_40760\\4137851866.py:17: RuntimeWarning: The training result may differ even with fixed seed if `workers` != 1.\n",
            "  mdl.train(0)\n",
            "Training...\n"
          ]
        },
        {
          "name": "stdout",
          "output_type": "stream",
          "text": [
            "20 2 0.4540026103811604\n",
            "Num docs: 234 , Vocab size: 335 , Num words: 12339\n",
            "Removed top words: ['concrete', 'material', 'cement', 'strength', 'waste', 'production', 'construction', 'CO2', 'emission', 'property']\n",
            "topic4_Coherence: 0.454_Perplexity: 311.7\n",
            "7 4\n"
          ]
        },
        {
          "name": "stderr",
          "output_type": "stream",
          "text": [
            "100%|██████████| 7/7 [00:00<00:00, 1750.23it/s]\n",
            "100%|██████████| 7/7 [00:00<?, ?it/s]\n"
          ]
        },
        {
          "name": "stdout",
          "output_type": "stream",
          "text": [
            "Num docs belonging to topic #0: 127\n",
            "Num docs belonging to topic #1: 104\n",
            "Num docs belonging to topic #2: 1\n",
            "Num docs belonging to topic #3: 2\n",
            "Num docs belonging to topic #4: 0\n",
            "Num docs belonging to topic #5: 0\n",
            "Num docs belonging to topic #6: 0\n"
          ]
        },
        {
          "name": "stderr",
          "output_type": "stream",
          "text": [
            "100%|██████████| 7/7 [00:00<?, ?it/s]\n",
            "C:\\Users\\Public\\Documents\\ESTsoft\\CreatorTemp\\ipykernel_40760\\4137851866.py:17: RuntimeWarning: The training result may differ even with fixed seed if `workers` != 1.\n",
            "  mdl.train(0)\n",
            "Training...\n"
          ]
        },
        {
          "name": "stdout",
          "output_type": "stream",
          "text": [
            "21 3 0.3722946873074398\n",
            "Num docs: 121 , Vocab size: 140 , Num words: 4055\n",
            "Removed top words: ['corrosion', 'inhibitor', 'steel', 'inhibition', 'adsorption', 'surface', 'solution', 'efficiency', 'electrochemical', 'polarization']\n",
            "topic4_Coherence: 0.3723_Perplexity: 143.8\n",
            "10 4\n"
          ]
        },
        {
          "name": "stderr",
          "output_type": "stream",
          "text": [
            "100%|██████████| 10/10 [00:00<00:00, 3333.57it/s]\n",
            "100%|██████████| 10/10 [00:00<?, ?it/s]\n"
          ]
        },
        {
          "name": "stdout",
          "output_type": "stream",
          "text": [
            "Num docs belonging to topic #0: 111\n",
            "Num docs belonging to topic #1: 6\n",
            "Num docs belonging to topic #2: 3\n",
            "Num docs belonging to topic #3: 1\n",
            "Num docs belonging to topic #4: 0\n",
            "Num docs belonging to topic #5: 0\n",
            "Num docs belonging to topic #6: 0\n",
            "Num docs belonging to topic #7: 0\n",
            "Num docs belonging to topic #8: 0\n",
            "Num docs belonging to topic #9: 0\n"
          ]
        },
        {
          "name": "stderr",
          "output_type": "stream",
          "text": [
            "100%|██████████| 10/10 [00:00<?, ?it/s]\n",
            "C:\\Users\\Public\\Documents\\ESTsoft\\CreatorTemp\\ipykernel_40760\\4137851866.py:17: RuntimeWarning: The training result may differ even with fixed seed if `workers` != 1.\n",
            "  mdl.train(0)\n",
            "Training...\n"
          ]
        },
        {
          "name": "stdout",
          "output_type": "stream",
          "text": [
            "22 7 0.4994322790644868\n",
            "Num docs: 66 , Vocab size: 67 , Num words: 1678\n",
            "Removed top words: ['removal', 'nitrogen', 'carbon', 'wastewater', 'system', 'low', 'treatment', 'ratio', 'denitrification', 'process']\n",
            "topic8_Coherence: 0.4994_Perplexity: 71.07\n",
            "39 8\n"
          ]
        },
        {
          "name": "stderr",
          "output_type": "stream",
          "text": [
            "100%|██████████| 39/39 [00:00<00:00, 7803.17it/s]\n",
            "100%|██████████| 39/39 [00:00<?, ?it/s]\n"
          ]
        },
        {
          "name": "stdout",
          "output_type": "stream",
          "text": [
            "Num docs belonging to topic #0: 3\n",
            "Num docs belonging to topic #1: 1\n",
            "Num docs belonging to topic #2: 1\n",
            "Num docs belonging to topic #3: 1\n",
            "Num docs belonging to topic #4: 0\n",
            "Num docs belonging to topic #5: 5\n",
            "Num docs belonging to topic #6: 53\n",
            "Num docs belonging to topic #7: 0\n",
            "Num docs belonging to topic #8: 0\n",
            "Num docs belonging to topic #9: 0\n",
            "Num docs belonging to topic #10: 0\n",
            "Num docs belonging to topic #11: 0\n",
            "Num docs belonging to topic #12: 0\n",
            "Num docs belonging to topic #13: 0\n",
            "Num docs belonging to topic #14: 0\n",
            "Num docs belonging to topic #15: 0\n",
            "Num docs belonging to topic #16: 0\n",
            "Num docs belonging to topic #17: 2\n",
            "Num docs belonging to topic #18: 0\n",
            "Num docs belonging to topic #19: 0\n",
            "Num docs belonging to topic #20: 0\n",
            "Num docs belonging to topic #21: 0\n",
            "Num docs belonging to topic #22: 0\n",
            "Num docs belonging to topic #23: 0\n",
            "Num docs belonging to topic #24: 0\n",
            "Num docs belonging to topic #25: 0\n",
            "Num docs belonging to topic #26: 0\n",
            "Num docs belonging to topic #27: 0\n",
            "Num docs belonging to topic #28: 0\n",
            "Num docs belonging to topic #29: 0\n",
            "Num docs belonging to topic #30: 0\n",
            "Num docs belonging to topic #31: 0\n",
            "Num docs belonging to topic #32: 0\n",
            "Num docs belonging to topic #33: 0\n",
            "Num docs belonging to topic #34: 0\n",
            "Num docs belonging to topic #35: 0\n",
            "Num docs belonging to topic #36: 0\n",
            "Num docs belonging to topic #37: 0\n",
            "Num docs belonging to topic #38: 0\n"
          ]
        },
        {
          "name": "stderr",
          "output_type": "stream",
          "text": [
            "100%|██████████| 39/39 [00:00<?, ?it/s]\n",
            "C:\\Users\\Public\\Documents\\ESTsoft\\CreatorTemp\\ipykernel_40760\\4137851866.py:17: RuntimeWarning: The training result may differ even with fixed seed if `workers` != 1.\n",
            "  mdl.train(0)\n",
            "Training...\n"
          ]
        },
        {
          "name": "stdout",
          "output_type": "stream",
          "text": [
            "23 5 0.4097627704004899\n",
            "Num docs: 54 , Vocab size: 58 , Num words: 1493\n",
            "Removed top words: ['water', 'urban', 'system', 'stormwater', 'drainage', 'area', 'management', 'model', 'green', 'study']\n",
            "topic6_Coherence: 0.4098_Perplexity: 62.19\n",
            "52 6\n"
          ]
        },
        {
          "name": "stderr",
          "output_type": "stream",
          "text": [
            "100%|██████████| 52/52 [00:00<00:00, 17344.24it/s]\n",
            "100%|██████████| 52/52 [00:00<?, ?it/s]\n"
          ]
        },
        {
          "name": "stdout",
          "output_type": "stream",
          "text": [
            "Num docs belonging to topic #0: 1\n",
            "Num docs belonging to topic #1: 1\n",
            "Num docs belonging to topic #2: 0\n",
            "Num docs belonging to topic #3: 47\n",
            "Num docs belonging to topic #4: 3\n",
            "Num docs belonging to topic #5: 0\n",
            "Num docs belonging to topic #6: 0\n",
            "Num docs belonging to topic #7: 0\n",
            "Num docs belonging to topic #8: 2\n",
            "Num docs belonging to topic #9: 0\n",
            "Num docs belonging to topic #10: 0\n",
            "Num docs belonging to topic #11: 0\n",
            "Num docs belonging to topic #12: 0\n",
            "Num docs belonging to topic #13: 0\n",
            "Num docs belonging to topic #14: 0\n",
            "Num docs belonging to topic #15: 0\n",
            "Num docs belonging to topic #16: 0\n",
            "Num docs belonging to topic #17: 0\n",
            "Num docs belonging to topic #18: 0\n",
            "Num docs belonging to topic #19: 0\n",
            "Num docs belonging to topic #20: 0\n",
            "Num docs belonging to topic #21: 0\n",
            "Num docs belonging to topic #22: 0\n",
            "Num docs belonging to topic #23: 0\n",
            "Num docs belonging to topic #24: 0\n",
            "Num docs belonging to topic #25: 0\n",
            "Num docs belonging to topic #26: 0\n",
            "Num docs belonging to topic #27: 0\n",
            "Num docs belonging to topic #28: 0\n",
            "Num docs belonging to topic #29: 0\n",
            "Num docs belonging to topic #30: 0\n",
            "Num docs belonging to topic #31: 0\n",
            "Num docs belonging to topic #32: 0\n",
            "Num docs belonging to topic #33: 0\n",
            "Num docs belonging to topic #34: 0\n",
            "Num docs belonging to topic #35: 0\n",
            "Num docs belonging to topic #36: 0\n",
            "Num docs belonging to topic #37: 0\n",
            "Num docs belonging to topic #38: 0\n",
            "Num docs belonging to topic #39: 0\n",
            "Num docs belonging to topic #40: 0\n",
            "Num docs belonging to topic #41: 0\n",
            "Num docs belonging to topic #42: 0\n",
            "Num docs belonging to topic #43: 0\n",
            "Num docs belonging to topic #44: 0\n",
            "Num docs belonging to topic #45: 0\n",
            "Num docs belonging to topic #46: 0\n",
            "Num docs belonging to topic #47: 0\n",
            "Num docs belonging to topic #48: 0\n",
            "Num docs belonging to topic #49: 0\n",
            "Num docs belonging to topic #50: 0\n",
            "Num docs belonging to topic #51: 0\n"
          ]
        },
        {
          "name": "stderr",
          "output_type": "stream",
          "text": [
            "100%|██████████| 52/52 [00:00<?, ?it/s]\n",
            "C:\\Users\\Public\\Documents\\ESTsoft\\CreatorTemp\\ipykernel_40760\\4137851866.py:17: RuntimeWarning: The training result may differ even with fixed seed if `workers` != 1.\n",
            "  mdl.train(0)\n",
            "Training...\n"
          ]
        },
        {
          "name": "stdout",
          "output_type": "stream",
          "text": [
            "24 5 0.4936311324605265\n",
            "Num docs: 31 , Vocab size: 14 , Num words: 281\n",
            "Removed top words: ['engine', 'combustion', 'fuel', 'emission', 'efficiency', 'injection', 'diesel', 'system', 'gas', 'thermal']\n",
            "topic3_Coherence: 0.4936_Perplexity: 18.71\n",
            "37 3\n"
          ]
        },
        {
          "name": "stderr",
          "output_type": "stream",
          "text": [
            "100%|██████████| 37/37 [00:00<00:00, 36958.62it/s]\n",
            "100%|██████████| 37/37 [00:00<?, ?it/s]\n"
          ]
        },
        {
          "name": "stdout",
          "output_type": "stream",
          "text": [
            "Num docs belonging to topic #0: 1\n",
            "Num docs belonging to topic #1: 0\n",
            "Num docs belonging to topic #2: 2\n",
            "Num docs belonging to topic #3: 0\n",
            "Num docs belonging to topic #4: 0\n",
            "Num docs belonging to topic #5: 0\n",
            "Num docs belonging to topic #6: 0\n",
            "Num docs belonging to topic #7: 0\n",
            "Num docs belonging to topic #8: 0\n",
            "Num docs belonging to topic #9: 0\n",
            "Num docs belonging to topic #10: 0\n",
            "Num docs belonging to topic #11: 0\n",
            "Num docs belonging to topic #12: 0\n",
            "Num docs belonging to topic #13: 0\n",
            "Num docs belonging to topic #14: 0\n",
            "Num docs belonging to topic #15: 0\n",
            "Num docs belonging to topic #16: 0\n",
            "Num docs belonging to topic #17: 0\n",
            "Num docs belonging to topic #18: 0\n",
            "Num docs belonging to topic #19: 0\n",
            "Num docs belonging to topic #20: 0\n",
            "Num docs belonging to topic #21: 0\n",
            "Num docs belonging to topic #22: 0\n",
            "Num docs belonging to topic #23: 1\n",
            "Num docs belonging to topic #24: 0\n",
            "Num docs belonging to topic #25: 0\n",
            "Num docs belonging to topic #26: 0\n",
            "Num docs belonging to topic #27: 0\n",
            "Num docs belonging to topic #28: 0\n",
            "Num docs belonging to topic #29: 0\n",
            "Num docs belonging to topic #30: 0\n",
            "Num docs belonging to topic #31: 0\n",
            "Num docs belonging to topic #32: 0\n",
            "Num docs belonging to topic #33: 27\n",
            "Num docs belonging to topic #34: 0\n",
            "Num docs belonging to topic #35: 0\n",
            "Num docs belonging to topic #36: 0\n"
          ]
        },
        {
          "name": "stderr",
          "output_type": "stream",
          "text": [
            "100%|██████████| 37/37 [00:00<?, ?it/s]\n",
            "C:\\Users\\Public\\Documents\\ESTsoft\\CreatorTemp\\ipykernel_40760\\4137851866.py:17: RuntimeWarning: The training result may differ even with fixed seed if `workers` != 1.\n",
            "  mdl.train(0)\n",
            "Training...\n"
          ]
        },
        {
          "name": "stdout",
          "output_type": "stream",
          "text": [
            "25 5 0.4439542956731242\n",
            "Num docs: 31 , Vocab size: 28 , Num words: 630\n",
            "Removed top words: ['health', 'air', 'policy', 'emission', 'pollution', 'climate-change', 'scenario', 'PM2', 'energy', 'climate']\n",
            "topic2_Coherence: 0.444_Perplexity: 35.57\n",
            "23 2\n"
          ]
        },
        {
          "name": "stderr",
          "output_type": "stream",
          "text": [
            "100%|██████████| 23/23 [00:00<00:00, 23012.64it/s]\n",
            "100%|██████████| 23/23 [00:00<?, ?it/s]\n"
          ]
        },
        {
          "name": "stdout",
          "output_type": "stream",
          "text": [
            "Num docs belonging to topic #0: 0\n",
            "Num docs belonging to topic #1: 30\n",
            "Num docs belonging to topic #2: 0\n",
            "Num docs belonging to topic #3: 1\n",
            "Num docs belonging to topic #4: 0\n",
            "Num docs belonging to topic #5: 0\n",
            "Num docs belonging to topic #6: 0\n",
            "Num docs belonging to topic #7: 0\n",
            "Num docs belonging to topic #8: 0\n",
            "Num docs belonging to topic #9: 0\n",
            "Num docs belonging to topic #10: 0\n",
            "Num docs belonging to topic #11: 0\n",
            "Num docs belonging to topic #12: 0\n",
            "Num docs belonging to topic #13: 0\n",
            "Num docs belonging to topic #14: 0\n",
            "Num docs belonging to topic #15: 0\n",
            "Num docs belonging to topic #16: 0\n",
            "Num docs belonging to topic #17: 0\n",
            "Num docs belonging to topic #18: 0\n",
            "Num docs belonging to topic #19: 0\n",
            "Num docs belonging to topic #20: 0\n",
            "Num docs belonging to topic #21: 0\n",
            "Num docs belonging to topic #22: 0\n"
          ]
        },
        {
          "name": "stderr",
          "output_type": "stream",
          "text": [
            "100%|██████████| 23/23 [00:00<?, ?it/s]\n",
            "C:\\Users\\Public\\Documents\\ESTsoft\\CreatorTemp\\ipykernel_40760\\4137851866.py:91: FutureWarning: save is not part of the public API, usage can give unexpected results and will be removed in a future version\n",
            "  writer.save()\n",
            "C:\\Users\\Public\\Documents\\ESTsoft\\CreatorTemp\\ipykernel_40760\\4137851866.py:92: FutureWarning: save is not part of the public API, usage can give unexpected results and will be removed in a future version\n",
            "  writer1.save()\n"
          ]
        }
      ],
      "source": [
        "writer = pd.ExcelWriter('sub/0527_results_cc_sub_topic.xlsx', engine='xlsxwriter')\n",
        "writer1 = pd.ExcelWriter('sub/0527_results_cc_sub_topic_doc.xlsx', engine='xlsxwriter')\n",
        "\n",
        "for t in sub['Topics']:\n",
        "# for t in range(len(0,1)):\n",
        "    corpus = tp.utils.Corpus()\n",
        "    for line in sentence[t]:\n",
        "        tokens = word_tokenize(line)\n",
        "        corpus.add_doc(words = tokens)\n",
        "\n",
        "    print(t, sub['Sub_topics'][t],  sub['Coherence_score'][t])\n",
        "\n",
        "    mdl = tp.HDPModel(tw=tp.TermWeight.IDF, min_cf=5, min_df=10, rm_top=10, initial_k=sub['Sub_topics'][t], corpus=corpus, seed=99999)\n",
        "\n",
        "    # Initiate MCMC burn-in\n",
        "    mdl.burn_in = 100\n",
        "    mdl.train(0)\n",
        "\n",
        "    print('Num docs:', len(mdl.docs), ', Vocab size:', mdl.num_vocabs, ', Num words:', mdl.num_words)\n",
        "    print('Removed top words:', mdl.removed_top_words)\n",
        "    print('Training...', file=sys.stderr, flush=True)\n",
        "\n",
        "    # Train model\n",
        "    mcmc_iter = 1000\n",
        "    quiet = False\n",
        "\n",
        "    step=round(mcmc_iter*0.01)\n",
        "    for i in range(0, mcmc_iter, step):\n",
        "        mdl.train(step, workers=1)\n",
        "        if not quiet:\n",
        "            ('Iteration: {}\\tLog-likelihood: {}\\tNum. of topics: {}'.format(i, mdl.ll_per_word, mdl.live_k))\n",
        "\n",
        "    coh = tp.coherence.Coherence(mdl, coherence='c_v')\n",
        "    average_coherence = coh.get_score()\n",
        "    topic_len = np.array(np.nonzero(mdl.get_count_by_topics())).size\n",
        "\n",
        "    print('topic{}_Coherence: {:.4}_Perplexity: {:.4}'.format(topic_len, average_coherence, mdl.perplexity))\n",
        "    print(mdl.k, topic_len)\n",
        "\n",
        "    topic_results = {'Topics': [], 'document_count': [], 'represent': [], 'words': [], 'word_probability': []}\n",
        "\n",
        "    important_topics = [k for k, v in sorted(enumerate(mdl.get_count_by_topics()), key=lambda x:x[1], reverse=True)]\n",
        "    important_topics.sort()\n",
        "\n",
        "    # 먼저 토픽 개수만큼 공간을 만들어줍니다.\n",
        "    buckets = [[] for _ in range(len(important_topics))]\n",
        "    docs = [[] for _ in range(len(important_topics))]\n",
        "\n",
        "    # extract candidates for auto topic labeling\n",
        "    extractor = tp.label.PMIExtractor(min_cf=5, min_df=10, min_len=1, max_len=4, max_cand=10000)\n",
        "    cands = extractor.extract(mdl)\n",
        "\n",
        "    labeler = tp.label.FoRelevance(mdl, cands, min_df=10, smoothing=1e-2, mu=0.25)\n",
        "\n",
        "    topic_doc = {'mdl.docs': [],'topic': []}\n",
        "\n",
        "    for k in tqdm(important_topics):\n",
        "        if not mdl.is_live_topic(k): continue # remove un-assigned topics at the end (i.e. not alive)\n",
        "\n",
        "        # 전체 문헌에 대해, top 1 주제 번호를 찾아 그 그룹에 해당 문헌을 포함시킵니다.\n",
        "        for d in mdl.docs:\n",
        "            topic = d.get_topics(top_n=1)[0][0]\n",
        "            if k == topic:\n",
        "                buckets[k].append(topic)\n",
        "\n",
        "        topic_results['Topics'].append(k)\n",
        "        topic_results['document_count'].append(len(buckets[k]))\n",
        "        label = \"Labels:\", ', '.join(label for label, score in labeler.get_topic_labels(k, top_n=40))\n",
        "        topic_results['represent'].append(label)\n",
        "        word = [word for word, prob in mdl.get_topic_words(k, top_n=40)]\n",
        "        prob = [np.round(prob,6) for word, prob in mdl.get_topic_words(k, top_n=40)]\n",
        "        topic_results['words'].append(word)\n",
        "        word_porobability = dict(zip(word, prob))\n",
        "        topic_results['word_probability'].append(word_porobability)\n",
        "\n",
        "    for d in mdl.docs:\n",
        "            docs[d.get_topics(top_n=1)[0][0]].append(d)\n",
        "\n",
        "    for k in tqdm(important_topics):\n",
        "        print('Num docs belonging to topic #%d: %d' % (k, len(docs[k])))\n",
        "\n",
        "    topic = [[] for _ in range(len(important_topics))]\n",
        "    for k in tqdm(important_topics):\n",
        "        for d in docs[k]:\n",
        "            topic_doc['mdl.docs'].append(d)\n",
        "            topic_doc['topic'].append(k)\n",
        "\n",
        "    pd.DataFrame(topic_doc).to_excel(writer1, sheet_name = 'Topic_{}'.format(t), index=False)\n",
        "    pd.DataFrame(topic_results).to_excel(writer, sheet_name = 'Topic_{}'.format(t), index=False)\n",
        "\n",
        "writer.save()\n",
        "writer1.save()"
      ]
    },
    {
      "cell_type": "code",
      "execution_count": null,
      "metadata": {
        "id": "infUxaTPH1K6",
        "outputId": "9ae6d1e8-95ff-45d2-9cb2-dce23f42f075"
      },
      "outputs": [
        {
          "ename": "FileNotFoundError",
          "evalue": "[Errno 2] No such file or directory: '0525_full_content_cc.xlsx'",
          "output_type": "error",
          "traceback": [
            "\u001b[1;31m---------------------------------------------------------------------------\u001b[0m",
            "\u001b[1;31mFileNotFoundError\u001b[0m                         Traceback (most recent call last)",
            "Cell \u001b[1;32mIn[29], line 1\u001b[0m\n\u001b[1;32m----> 1\u001b[0m full_docs \u001b[39m=\u001b[39m pd\u001b[39m.\u001b[39;49mread_excel(\u001b[39m'\u001b[39;49m\u001b[39m0525_full_content_cc.xlsx\u001b[39;49m\u001b[39m'\u001b[39;49m,dtype\u001b[39m=\u001b[39;49m\u001b[39mobject\u001b[39;49m)\n\u001b[0;32m      2\u001b[0m full_docs \u001b[39m=\u001b[39m full_docs\u001b[39m.\u001b[39mdrop([\u001b[39m'\u001b[39m\u001b[39mUnnamed: 0\u001b[39m\u001b[39m'\u001b[39m], axis\u001b[39m=\u001b[39m\u001b[39m1\u001b[39m)\n\u001b[0;32m      3\u001b[0m full_docs2 \u001b[39m=\u001b[39m full_docs[[\u001b[39m'\u001b[39m\u001b[39mNo\u001b[39m\u001b[39m'\u001b[39m,\u001b[39m'\u001b[39m\u001b[39mcorpus\u001b[39m\u001b[39m'\u001b[39m,\u001b[39m'\u001b[39m\u001b[39mArticle Title\u001b[39m\u001b[39m'\u001b[39m,\u001b[39m'\u001b[39m\u001b[39mAbstract\u001b[39m\u001b[39m'\u001b[39m,\u001b[39m'\u001b[39m\u001b[39mYear\u001b[39m\u001b[39m'\u001b[39m]]\n",
            "File \u001b[1;32mc:\\Users\\user\\anaconda3\\envs\\ICT2\\Lib\\site-packages\\pandas\\util\\_decorators.py:211\u001b[0m, in \u001b[0;36mdeprecate_kwarg.<locals>._deprecate_kwarg.<locals>.wrapper\u001b[1;34m(*args, **kwargs)\u001b[0m\n\u001b[0;32m    209\u001b[0m     \u001b[39melse\u001b[39;00m:\n\u001b[0;32m    210\u001b[0m         kwargs[new_arg_name] \u001b[39m=\u001b[39m new_arg_value\n\u001b[1;32m--> 211\u001b[0m \u001b[39mreturn\u001b[39;00m func(\u001b[39m*\u001b[39;49margs, \u001b[39m*\u001b[39;49m\u001b[39m*\u001b[39;49mkwargs)\n",
            "File \u001b[1;32mc:\\Users\\user\\anaconda3\\envs\\ICT2\\Lib\\site-packages\\pandas\\util\\_decorators.py:331\u001b[0m, in \u001b[0;36mdeprecate_nonkeyword_arguments.<locals>.decorate.<locals>.wrapper\u001b[1;34m(*args, **kwargs)\u001b[0m\n\u001b[0;32m    325\u001b[0m \u001b[39mif\u001b[39;00m \u001b[39mlen\u001b[39m(args) \u001b[39m>\u001b[39m num_allow_args:\n\u001b[0;32m    326\u001b[0m     warnings\u001b[39m.\u001b[39mwarn(\n\u001b[0;32m    327\u001b[0m         msg\u001b[39m.\u001b[39mformat(arguments\u001b[39m=\u001b[39m_format_argument_list(allow_args)),\n\u001b[0;32m    328\u001b[0m         \u001b[39mFutureWarning\u001b[39;00m,\n\u001b[0;32m    329\u001b[0m         stacklevel\u001b[39m=\u001b[39mfind_stack_level(),\n\u001b[0;32m    330\u001b[0m     )\n\u001b[1;32m--> 331\u001b[0m \u001b[39mreturn\u001b[39;00m func(\u001b[39m*\u001b[39;49margs, \u001b[39m*\u001b[39;49m\u001b[39m*\u001b[39;49mkwargs)\n",
            "File \u001b[1;32mc:\\Users\\user\\anaconda3\\envs\\ICT2\\Lib\\site-packages\\pandas\\io\\excel\\_base.py:482\u001b[0m, in \u001b[0;36mread_excel\u001b[1;34m(io, sheet_name, header, names, index_col, usecols, squeeze, dtype, engine, converters, true_values, false_values, skiprows, nrows, na_values, keep_default_na, na_filter, verbose, parse_dates, date_parser, thousands, decimal, comment, skipfooter, convert_float, mangle_dupe_cols, storage_options)\u001b[0m\n\u001b[0;32m    480\u001b[0m \u001b[39mif\u001b[39;00m \u001b[39mnot\u001b[39;00m \u001b[39misinstance\u001b[39m(io, ExcelFile):\n\u001b[0;32m    481\u001b[0m     should_close \u001b[39m=\u001b[39m \u001b[39mTrue\u001b[39;00m\n\u001b[1;32m--> 482\u001b[0m     io \u001b[39m=\u001b[39m ExcelFile(io, storage_options\u001b[39m=\u001b[39;49mstorage_options, engine\u001b[39m=\u001b[39;49mengine)\n\u001b[0;32m    483\u001b[0m \u001b[39melif\u001b[39;00m engine \u001b[39mand\u001b[39;00m engine \u001b[39m!=\u001b[39m io\u001b[39m.\u001b[39mengine:\n\u001b[0;32m    484\u001b[0m     \u001b[39mraise\u001b[39;00m \u001b[39mValueError\u001b[39;00m(\n\u001b[0;32m    485\u001b[0m         \u001b[39m\"\u001b[39m\u001b[39mEngine should not be specified when passing \u001b[39m\u001b[39m\"\u001b[39m\n\u001b[0;32m    486\u001b[0m         \u001b[39m\"\u001b[39m\u001b[39man ExcelFile - ExcelFile already has the engine set\u001b[39m\u001b[39m\"\u001b[39m\n\u001b[0;32m    487\u001b[0m     )\n",
            "File \u001b[1;32mc:\\Users\\user\\anaconda3\\envs\\ICT2\\Lib\\site-packages\\pandas\\io\\excel\\_base.py:1652\u001b[0m, in \u001b[0;36mExcelFile.__init__\u001b[1;34m(self, path_or_buffer, engine, storage_options)\u001b[0m\n\u001b[0;32m   1650\u001b[0m     ext \u001b[39m=\u001b[39m \u001b[39m\"\u001b[39m\u001b[39mxls\u001b[39m\u001b[39m\"\u001b[39m\n\u001b[0;32m   1651\u001b[0m \u001b[39melse\u001b[39;00m:\n\u001b[1;32m-> 1652\u001b[0m     ext \u001b[39m=\u001b[39m inspect_excel_format(\n\u001b[0;32m   1653\u001b[0m         content_or_path\u001b[39m=\u001b[39;49mpath_or_buffer, storage_options\u001b[39m=\u001b[39;49mstorage_options\n\u001b[0;32m   1654\u001b[0m     )\n\u001b[0;32m   1655\u001b[0m     \u001b[39mif\u001b[39;00m ext \u001b[39mis\u001b[39;00m \u001b[39mNone\u001b[39;00m:\n\u001b[0;32m   1656\u001b[0m         \u001b[39mraise\u001b[39;00m \u001b[39mValueError\u001b[39;00m(\n\u001b[0;32m   1657\u001b[0m             \u001b[39m\"\u001b[39m\u001b[39mExcel file format cannot be determined, you must specify \u001b[39m\u001b[39m\"\u001b[39m\n\u001b[0;32m   1658\u001b[0m             \u001b[39m\"\u001b[39m\u001b[39man engine manually.\u001b[39m\u001b[39m\"\u001b[39m\n\u001b[0;32m   1659\u001b[0m         )\n",
            "File \u001b[1;32mc:\\Users\\user\\anaconda3\\envs\\ICT2\\Lib\\site-packages\\pandas\\io\\excel\\_base.py:1525\u001b[0m, in \u001b[0;36minspect_excel_format\u001b[1;34m(content_or_path, storage_options)\u001b[0m\n\u001b[0;32m   1522\u001b[0m \u001b[39mif\u001b[39;00m \u001b[39misinstance\u001b[39m(content_or_path, \u001b[39mbytes\u001b[39m):\n\u001b[0;32m   1523\u001b[0m     content_or_path \u001b[39m=\u001b[39m BytesIO(content_or_path)\n\u001b[1;32m-> 1525\u001b[0m \u001b[39mwith\u001b[39;00m get_handle(\n\u001b[0;32m   1526\u001b[0m     content_or_path, \u001b[39m\"\u001b[39;49m\u001b[39mrb\u001b[39;49m\u001b[39m\"\u001b[39;49m, storage_options\u001b[39m=\u001b[39;49mstorage_options, is_text\u001b[39m=\u001b[39;49m\u001b[39mFalse\u001b[39;49;00m\n\u001b[0;32m   1527\u001b[0m ) \u001b[39mas\u001b[39;00m handle:\n\u001b[0;32m   1528\u001b[0m     stream \u001b[39m=\u001b[39m handle\u001b[39m.\u001b[39mhandle\n\u001b[0;32m   1529\u001b[0m     stream\u001b[39m.\u001b[39mseek(\u001b[39m0\u001b[39m)\n",
            "File \u001b[1;32mc:\\Users\\user\\anaconda3\\envs\\ICT2\\Lib\\site-packages\\pandas\\io\\common.py:865\u001b[0m, in \u001b[0;36mget_handle\u001b[1;34m(path_or_buf, mode, encoding, compression, memory_map, is_text, errors, storage_options)\u001b[0m\n\u001b[0;32m    856\u001b[0m         handle \u001b[39m=\u001b[39m \u001b[39mopen\u001b[39m(\n\u001b[0;32m    857\u001b[0m             handle,\n\u001b[0;32m    858\u001b[0m             ioargs\u001b[39m.\u001b[39mmode,\n\u001b[1;32m   (...)\u001b[0m\n\u001b[0;32m    861\u001b[0m             newline\u001b[39m=\u001b[39m\u001b[39m\"\u001b[39m\u001b[39m\"\u001b[39m,\n\u001b[0;32m    862\u001b[0m         )\n\u001b[0;32m    863\u001b[0m     \u001b[39melse\u001b[39;00m:\n\u001b[0;32m    864\u001b[0m         \u001b[39m# Binary mode\u001b[39;00m\n\u001b[1;32m--> 865\u001b[0m         handle \u001b[39m=\u001b[39m \u001b[39mopen\u001b[39m(handle, ioargs\u001b[39m.\u001b[39mmode)\n\u001b[0;32m    866\u001b[0m     handles\u001b[39m.\u001b[39mappend(handle)\n\u001b[0;32m    868\u001b[0m \u001b[39m# Convert BytesIO or file objects passed with an encoding\u001b[39;00m\n",
            "\u001b[1;31mFileNotFoundError\u001b[0m: [Errno 2] No such file or directory: '0525_full_content_cc.xlsx'"
          ]
        }
      ],
      "source": [
        "full_docs = pd.read_excel('0527_full_content_cc.xlsx',dtype=object)\n",
        "full_docs = full_docs.drop(['Unnamed: 0'], axis=1)\n",
        "full_docs2 = full_docs[['No','corpus','Article Title','Abstract','Year']]\n",
        "\n",
        "docs_zip = pd.ExcelWriter('sub/0527_final_topic_index_cc.xlsx', engine='xlsxwriter')\n",
        "\n",
        "for t in sub['Topics']:\n",
        "\n",
        "    topic_docs = pd.read_excel('sub/0525_results_plan_sub_topic_doc.xlsx', sheet_name='Topic_{}'.format(t))\n",
        "    # print(t, len(topic_docs['mdl.docs']))\n",
        "    df = full_docs2.merge(topic_docs, how = 'right', left_on = 'corpus', right_on = 'mdl.docs')\n",
        "    # print(t, len(df))\n",
        "    df2 = df.drop_duplicates(['Abstract'],keep='first',ignore_index=True)\n",
        "    df2 = df2.dropna()\n",
        "    df2['count'] = 1\n",
        "    # print(t, df2['count'].sum())\n",
        "    df2['doc_count'] = df2.groupby(['topic'])['count'].transform(sum)\n",
        "    df2 = df2.sort_values('doc_count', ascending=False)\n",
        "    content = df2.dropna()\n",
        "    content = content[content['doc_count']>=10]\n",
        "    content = content.reset_index(drop=True)\n",
        "    content = content.drop(['No', 'mdl.docs'], axis=1)\n",
        "\n",
        "    content.to_excel(docs_zip, sheet_name = 'Topic_{}'.format(t), index=False)\n",
        "\n",
        "docs_zip.save()"
      ]
    },
    {
      "cell_type": "code",
      "execution_count": null,
      "metadata": {
        "id": "gXbg1ew5H1K6",
        "outputId": "2116a108-c73c-4600-a20d-f0a46571d7f7"
      },
      "outputs": [
        {
          "name": "stdout",
          "output_type": "stream",
          "text": [
            "[9, 7, 1, 5]\n"
          ]
        },
        {
          "name": "stderr",
          "output_type": "stream",
          "text": [
            "100%|██████████| 1555/1555 [00:16<00:00, 96.56it/s] \n",
            "100%|██████████| 1534/1534 [00:17<00:00, 89.73it/s]\n",
            "100%|██████████| 158/158 [00:01<00:00, 89.35it/s]\n",
            "100%|██████████| 14/14 [00:00<00:00, 96.55it/s]\n"
          ]
        },
        {
          "name": "stdout",
          "output_type": "stream",
          "text": [
            "[0, 1, 8, 6]\n"
          ]
        },
        {
          "name": "stderr",
          "output_type": "stream",
          "text": [
            "100%|██████████| 1782/1782 [00:18<00:00, 94.72it/s] \n",
            "100%|██████████| 774/774 [00:08<00:00, 94.03it/s] \n",
            "100%|██████████| 25/25 [00:00<00:00, 89.60it/s]\n",
            "100%|██████████| 23/23 [00:00<00:00, 99.30it/s] \n"
          ]
        },
        {
          "name": "stdout",
          "output_type": "stream",
          "text": [
            "[3, 0, 6, 2, 5]\n"
          ]
        },
        {
          "name": "stderr",
          "output_type": "stream",
          "text": [
            "100%|██████████| 829/829 [00:08<00:00, 93.68it/s] \n",
            "100%|██████████| 650/650 [00:06<00:00, 96.86it/s] \n",
            "100%|██████████| 266/266 [00:02<00:00, 89.38it/s]\n",
            "100%|██████████| 231/231 [00:02<00:00, 90.38it/s]\n",
            "100%|██████████| 11/11 [00:00<00:00, 102.76it/s]\n"
          ]
        },
        {
          "name": "stdout",
          "output_type": "stream",
          "text": [
            "[1, 0]\n"
          ]
        },
        {
          "name": "stderr",
          "output_type": "stream",
          "text": [
            "100%|██████████| 417/417 [00:04<00:00, 85.82it/s]\n",
            "100%|██████████| 352/352 [00:04<00:00, 86.03it/s]\n"
          ]
        },
        {
          "name": "stdout",
          "output_type": "stream",
          "text": [
            "[8, 0]\n"
          ]
        },
        {
          "name": "stderr",
          "output_type": "stream",
          "text": [
            "100%|██████████| 660/660 [00:06<00:00, 95.87it/s] \n",
            "100%|██████████| 12/12 [00:00<00:00, 68.21it/s]\n"
          ]
        },
        {
          "name": "stdout",
          "output_type": "stream",
          "text": [
            "[8, 5]\n"
          ]
        },
        {
          "name": "stderr",
          "output_type": "stream",
          "text": [
            "100%|██████████| 604/604 [00:07<00:00, 77.64it/s]\n",
            "100%|██████████| 11/11 [00:00<00:00, 68.26it/s]\n"
          ]
        },
        {
          "name": "stdout",
          "output_type": "stream",
          "text": [
            "[4, 3]\n"
          ]
        },
        {
          "name": "stderr",
          "output_type": "stream",
          "text": [
            "100%|██████████| 488/488 [00:04<00:00, 101.16it/s]\n",
            "100%|██████████| 47/47 [00:00<00:00, 99.36it/s] \n"
          ]
        },
        {
          "name": "stdout",
          "output_type": "stream",
          "text": [
            "[6, 1, 3, 2]\n"
          ]
        },
        {
          "name": "stderr",
          "output_type": "stream",
          "text": [
            "100%|██████████| 249/249 [00:02<00:00, 83.60it/s]\n",
            "100%|██████████| 106/106 [00:01<00:00, 93.72it/s]\n",
            "100%|██████████| 18/18 [00:00<00:00, 81.44it/s]\n",
            "100%|██████████| 11/11 [00:00<00:00, 113.40it/s]\n"
          ]
        },
        {
          "name": "stdout",
          "output_type": "stream",
          "text": [
            "[0, 6, 3, 4]\n"
          ]
        },
        {
          "name": "stderr",
          "output_type": "stream",
          "text": [
            "100%|██████████| 185/185 [00:02<00:00, 74.70it/s]\n",
            "100%|██████████| 83/83 [00:01<00:00, 70.49it/s]\n",
            "100%|██████████| 53/53 [00:00<00:00, 67.50it/s]\n",
            "100%|██████████| 13/13 [00:00<00:00, 77.11it/s]\n"
          ]
        },
        {
          "name": "stdout",
          "output_type": "stream",
          "text": [
            "[1]\n"
          ]
        },
        {
          "name": "stderr",
          "output_type": "stream",
          "text": [
            "100%|██████████| 217/217 [00:02<00:00, 86.21it/s]\n"
          ]
        },
        {
          "name": "stdout",
          "output_type": "stream",
          "text": [
            "[1, 2]\n"
          ]
        },
        {
          "name": "stderr",
          "output_type": "stream",
          "text": [
            "100%|██████████| 183/183 [00:02<00:00, 84.85it/s]\n",
            "100%|██████████| 13/13 [00:00<00:00, 79.76it/s]\n"
          ]
        },
        {
          "name": "stdout",
          "output_type": "stream",
          "text": [
            "[1]\n"
          ]
        },
        {
          "name": "stderr",
          "output_type": "stream",
          "text": [
            "100%|██████████| 102/102 [00:01<00:00, 101.48it/s]\n"
          ]
        },
        {
          "name": "stdout",
          "output_type": "stream",
          "text": [
            "[4]\n"
          ]
        },
        {
          "name": "stderr",
          "output_type": "stream",
          "text": [
            "100%|██████████| 54/54 [00:00<00:00, 144.36it/s]\n"
          ]
        },
        {
          "name": "stdout",
          "output_type": "stream",
          "text": [
            "[2]\n"
          ]
        },
        {
          "name": "stderr",
          "output_type": "stream",
          "text": [
            "100%|██████████| 39/39 [00:00<00:00, 79.85it/s]\n"
          ]
        },
        {
          "name": "stdout",
          "output_type": "stream",
          "text": [
            "[3]\n"
          ]
        },
        {
          "name": "stderr",
          "output_type": "stream",
          "text": [
            "100%|██████████| 30/30 [00:00<00:00, 118.99it/s]\n"
          ]
        },
        {
          "name": "stdout",
          "output_type": "stream",
          "text": [
            "[0]\n"
          ]
        },
        {
          "name": "stderr",
          "output_type": "stream",
          "text": [
            "100%|██████████| 25/25 [00:00<00:00, 73.31it/s]\n"
          ]
        }
      ],
      "source": [
        "custom_tokenizer = CustomTokenizer()\n",
        "sentence = [[] for _ in range(len(sub['Topics']))]\n",
        "for r in sub['Topics']:\n",
        "    content = pd.read_excel('Sub/0527_final_topic_index_cc.xlsx', sheet_name='Topic_{}'.format(r))\n",
        "\n",
        "    sub_topics = list(content['topic'].unique())\n",
        "    print(sub_topics)\n",
        "\n",
        "    for i in sub_topics:\n",
        "        preprocessing = []\n",
        "        for line in tqdm(range(len(content.Abstract.values[content['topic'] == i]))):\n",
        "            preprocessing.append(custom_tokenizer(content.Abstract.values[content['topic'] == i][line]))\n",
        "        sentence[r].append(preprocessing)"
      ]
    },
    {
      "cell_type": "code",
      "execution_count": null,
      "metadata": {
        "id": "GANbUEDKH1K6",
        "outputId": "5e887f74-fbf2-48c7-8018-68cb73c1dc39"
      },
      "outputs": [
        {
          "data": {
            "text/plain": [
              "1534"
            ]
          },
          "execution_count": 124,
          "metadata": {},
          "output_type": "execute_result"
        }
      ],
      "source": [
        "len(sentence[0][1])"
      ]
    },
    {
      "cell_type": "code",
      "execution_count": null,
      "metadata": {
        "id": "oS4FoRcoH1K7",
        "outputId": "9582c121-56cb-455e-adeb-164f954e25ad"
      },
      "outputs": [
        {
          "name": "stderr",
          "output_type": "stream",
          "text": [
            "C:\\Users\\Public\\Documents\\ESTsoft\\CreatorTemp\\ipykernel_59236\\2884310502.py:24: RuntimeWarning: The training result may differ even with fixed seed if `workers` != 1.\n",
            "  mdl.train(0)\n",
            "Training...\n"
          ]
        },
        {
          "name": "stdout",
          "output_type": "stream",
          "text": [
            "Num docs: 1555 , Vocab size: 1497 , Num words: 104232\n",
            "Removed top words: ['policy', 'climate-change', 'adaptation', 'climate', 'urban', 'energy', 'local', 'city', 'action', 'process']\n"
          ]
        },
        {
          "name": "stderr",
          "output_type": "stream",
          "text": [
            "Training...\n"
          ]
        },
        {
          "name": "stdout",
          "output_type": "stream",
          "text": [
            "Topic 2_Opti_topic 2_Coherence: 0.3704_Perplexity: 1.137e+03\n",
            "Num docs: 1555 , Vocab size: 1497 , Num words: 104232\n",
            "Removed top words: ['policy', 'climate-change', 'adaptation', 'climate', 'urban', 'energy', 'local', 'city', 'action', 'process']\n"
          ]
        },
        {
          "name": "stderr",
          "output_type": "stream",
          "text": [
            "Training...\n"
          ]
        },
        {
          "name": "stdout",
          "output_type": "stream",
          "text": [
            "Topic 3_Opti_topic 3_Coherence: 0.4626_Perplexity: 1.133e+03\n",
            "Num docs: 1555 , Vocab size: 1497 , Num words: 104232\n",
            "Removed top words: ['policy', 'climate-change', 'adaptation', 'climate', 'urban', 'energy', 'local', 'city', 'action', 'process']\n"
          ]
        },
        {
          "name": "stderr",
          "output_type": "stream",
          "text": [
            "Training...\n"
          ]
        },
        {
          "name": "stdout",
          "output_type": "stream",
          "text": [
            "Topic 4_Opti_topic 4_Coherence: 0.5366_Perplexity: 1.125e+03\n",
            "Num docs: 1555 , Vocab size: 1497 , Num words: 104232\n",
            "Removed top words: ['policy', 'climate-change', 'adaptation', 'climate', 'urban', 'energy', 'local', 'city', 'action', 'process']\n"
          ]
        },
        {
          "name": "stderr",
          "output_type": "stream",
          "text": [
            "Training...\n"
          ]
        },
        {
          "name": "stdout",
          "output_type": "stream",
          "text": [
            "Topic 5_Opti_topic 5_Coherence: 0.5243_Perplexity: 1.084e+03\n",
            "Num docs: 1555 , Vocab size: 1497 , Num words: 104232\n",
            "Removed top words: ['policy', 'climate-change', 'adaptation', 'climate', 'urban', 'energy', 'local', 'city', 'action', 'process']\n"
          ]
        },
        {
          "name": "stderr",
          "output_type": "stream",
          "text": [
            "Training...\n"
          ]
        },
        {
          "name": "stdout",
          "output_type": "stream",
          "text": [
            "Topic 6_Opti_topic 6_Coherence: 0.5815_Perplexity: 1.087e+03\n",
            "Num docs: 1555 , Vocab size: 1497 , Num words: 104232\n",
            "Removed top words: ['policy', 'climate-change', 'adaptation', 'climate', 'urban', 'energy', 'local', 'city', 'action', 'process']\n"
          ]
        },
        {
          "name": "stderr",
          "output_type": "stream",
          "text": [
            "Training...\n"
          ]
        },
        {
          "name": "stdout",
          "output_type": "stream",
          "text": [
            "Topic 7_Opti_topic 7_Coherence: 0.568_Perplexity: 1.12e+03\n",
            "Num docs: 1555 , Vocab size: 1497 , Num words: 104232\n",
            "Removed top words: ['policy', 'climate-change', 'adaptation', 'climate', 'urban', 'energy', 'local', 'city', 'action', 'process']\n"
          ]
        },
        {
          "name": "stderr",
          "output_type": "stream",
          "text": [
            "Training...\n"
          ]
        },
        {
          "name": "stdout",
          "output_type": "stream",
          "text": [
            "Topic 8_Opti_topic 8_Coherence: 0.5554_Perplexity: 1.116e+03\n",
            "Num docs: 1555 , Vocab size: 1497 , Num words: 104232\n",
            "Removed top words: ['policy', 'climate-change', 'adaptation', 'climate', 'urban', 'energy', 'local', 'city', 'action', 'process']\n"
          ]
        },
        {
          "name": "stderr",
          "output_type": "stream",
          "text": [
            "Training...\n"
          ]
        },
        {
          "name": "stdout",
          "output_type": "stream",
          "text": [
            "Topic 9_Opti_topic 9_Coherence: 0.4963_Perplexity: 1.115e+03\n",
            "Num docs: 1555 , Vocab size: 1497 , Num words: 104232\n",
            "Removed top words: ['policy', 'climate-change', 'adaptation', 'climate', 'urban', 'energy', 'local', 'city', 'action', 'process']\n",
            "Topic 10_Opti_topic 8_Coherence: 0.5359_Perplexity: 1.12e+03\n",
            "Topics : 9, Sub_topics : 6, Coherence_score : 0.5815\n"
          ]
        },
        {
          "name": "stderr",
          "output_type": "stream",
          "text": [
            "Training...\n"
          ]
        },
        {
          "name": "stdout",
          "output_type": "stream",
          "text": [
            "Num docs: 1534 , Vocab size: 1542 , Num words: 112353\n",
            "Removed top words: ['climate-change', 'adaptation', 'policy', 'urban', 'risk', 'water', 'management', 'strategy', 'climate', 'city']\n"
          ]
        },
        {
          "name": "stderr",
          "output_type": "stream",
          "text": [
            "Training...\n"
          ]
        },
        {
          "name": "stdout",
          "output_type": "stream",
          "text": [
            "Topic 2_Opti_topic 2_Coherence: 0.4042_Perplexity: 1.159e+03\n",
            "Num docs: 1534 , Vocab size: 1542 , Num words: 112353\n",
            "Removed top words: ['climate-change', 'adaptation', 'policy', 'urban', 'risk', 'water', 'management', 'strategy', 'climate', 'city']\n"
          ]
        },
        {
          "name": "stderr",
          "output_type": "stream",
          "text": [
            "Training...\n"
          ]
        },
        {
          "name": "stdout",
          "output_type": "stream",
          "text": [
            "Topic 3_Opti_topic 3_Coherence: 0.4354_Perplexity: 1.116e+03\n",
            "Num docs: 1534 , Vocab size: 1542 , Num words: 112353\n",
            "Removed top words: ['climate-change', 'adaptation', 'policy', 'urban', 'risk', 'water', 'management', 'strategy', 'climate', 'city']\n"
          ]
        },
        {
          "name": "stderr",
          "output_type": "stream",
          "text": [
            "Training...\n"
          ]
        },
        {
          "name": "stdout",
          "output_type": "stream",
          "text": [
            "Topic 4_Opti_topic 4_Coherence: 0.5067_Perplexity: 1.113e+03\n",
            "Num docs: 1534 , Vocab size: 1542 , Num words: 112353\n",
            "Removed top words: ['climate-change', 'adaptation', 'policy', 'urban', 'risk', 'water', 'management', 'strategy', 'climate', 'city']\n"
          ]
        },
        {
          "name": "stderr",
          "output_type": "stream",
          "text": [
            "Training...\n"
          ]
        },
        {
          "name": "stdout",
          "output_type": "stream",
          "text": [
            "Topic 5_Opti_topic 5_Coherence: 0.5267_Perplexity: 1.146e+03\n",
            "Num docs: 1534 , Vocab size: 1542 , Num words: 112353\n",
            "Removed top words: ['climate-change', 'adaptation', 'policy', 'urban', 'risk', 'water', 'management', 'strategy', 'climate', 'city']\n"
          ]
        },
        {
          "name": "stderr",
          "output_type": "stream",
          "text": [
            "Training...\n"
          ]
        },
        {
          "name": "stdout",
          "output_type": "stream",
          "text": [
            "Topic 6_Opti_topic 6_Coherence: 0.5499_Perplexity: 1.107e+03\n",
            "Num docs: 1534 , Vocab size: 1542 , Num words: 112353\n",
            "Removed top words: ['climate-change', 'adaptation', 'policy', 'urban', 'risk', 'water', 'management', 'strategy', 'climate', 'city']\n"
          ]
        },
        {
          "name": "stderr",
          "output_type": "stream",
          "text": [
            "Training...\n"
          ]
        },
        {
          "name": "stdout",
          "output_type": "stream",
          "text": [
            "Topic 7_Opti_topic 7_Coherence: 0.5685_Perplexity: 1.139e+03\n",
            "Num docs: 1534 , Vocab size: 1542 , Num words: 112353\n",
            "Removed top words: ['climate-change', 'adaptation', 'policy', 'urban', 'risk', 'water', 'management', 'strategy', 'climate', 'city']\n"
          ]
        },
        {
          "name": "stderr",
          "output_type": "stream",
          "text": [
            "Training...\n"
          ]
        },
        {
          "name": "stdout",
          "output_type": "stream",
          "text": [
            "Topic 8_Opti_topic 8_Coherence: 0.6122_Perplexity: 1.136e+03\n",
            "Num docs: 1534 , Vocab size: 1542 , Num words: 112353\n",
            "Removed top words: ['climate-change', 'adaptation', 'policy', 'urban', 'risk', 'water', 'management', 'strategy', 'climate', 'city']\n"
          ]
        },
        {
          "name": "stderr",
          "output_type": "stream",
          "text": [
            "Training...\n"
          ]
        },
        {
          "name": "stdout",
          "output_type": "stream",
          "text": [
            "Topic 9_Opti_topic 9_Coherence: 0.5953_Perplexity: 1.14e+03\n",
            "Num docs: 1534 , Vocab size: 1542 , Num words: 112353\n",
            "Removed top words: ['climate-change', 'adaptation', 'policy', 'urban', 'risk', 'water', 'management', 'strategy', 'climate', 'city']\n"
          ]
        },
        {
          "name": "stderr",
          "output_type": "stream",
          "text": [
            "Training...\n"
          ]
        },
        {
          "name": "stdout",
          "output_type": "stream",
          "text": [
            "Topic 10_Opti_topic 10_Coherence: 0.5942_Perplexity: 1.094e+03\n",
            "Topics : 7, Sub_topics : 8, Coherence_score : 0.6122\n",
            "Num docs: 158 , Vocab size: 238 , Num words: 7003\n",
            "Removed top words: ['health', 'climate-change', 'risk', 'adaptation', 'community', 'heat', 'policy', 'climate', 'local', 'public']\n"
          ]
        },
        {
          "name": "stderr",
          "output_type": "stream",
          "text": [
            "Training...\n"
          ]
        },
        {
          "name": "stdout",
          "output_type": "stream",
          "text": [
            "Topic 2_Opti_topic 2_Coherence: 0.4394_Perplexity: 241.0\n",
            "Num docs: 158 , Vocab size: 238 , Num words: 7003\n",
            "Removed top words: ['health', 'climate-change', 'risk', 'adaptation', 'community', 'heat', 'policy', 'climate', 'local', 'public']\n"
          ]
        },
        {
          "name": "stderr",
          "output_type": "stream",
          "text": [
            "Training...\n"
          ]
        },
        {
          "name": "stdout",
          "output_type": "stream",
          "text": [
            "Topic 3_Opti_topic 2_Coherence: 0.4427_Perplexity: 238.9\n",
            "Num docs: 158 , Vocab size: 238 , Num words: 7003\n",
            "Removed top words: ['health', 'climate-change', 'risk', 'adaptation', 'community', 'heat', 'policy', 'climate', 'local', 'public']\n"
          ]
        },
        {
          "name": "stderr",
          "output_type": "stream",
          "text": [
            "Training...\n"
          ]
        },
        {
          "name": "stdout",
          "output_type": "stream",
          "text": [
            "Topic 4_Opti_topic 4_Coherence: 0.4201_Perplexity: 236.2\n",
            "Num docs: 158 , Vocab size: 238 , Num words: 7003\n",
            "Removed top words: ['health', 'climate-change', 'risk', 'adaptation', 'community', 'heat', 'policy', 'climate', 'local', 'public']\n"
          ]
        },
        {
          "name": "stderr",
          "output_type": "stream",
          "text": [
            "Training...\n"
          ]
        },
        {
          "name": "stdout",
          "output_type": "stream",
          "text": [
            "Topic 5_Opti_topic 2_Coherence: 0.3836_Perplexity: 239.0\n",
            "Num docs: 158 , Vocab size: 238 , Num words: 7003\n",
            "Removed top words: ['health', 'climate-change', 'risk', 'adaptation', 'community', 'heat', 'policy', 'climate', 'local', 'public']\n"
          ]
        },
        {
          "name": "stderr",
          "output_type": "stream",
          "text": [
            "Training...\n"
          ]
        },
        {
          "name": "stdout",
          "output_type": "stream",
          "text": [
            "Topic 6_Opti_topic 9_Coherence: 0.4491_Perplexity: 230.2\n",
            "Num docs: 158 , Vocab size: 238 , Num words: 7003\n",
            "Removed top words: ['health', 'climate-change', 'risk', 'adaptation', 'community', 'heat', 'policy', 'climate', 'local', 'public']\n"
          ]
        },
        {
          "name": "stderr",
          "output_type": "stream",
          "text": [
            "Training...\n"
          ]
        },
        {
          "name": "stdout",
          "output_type": "stream",
          "text": [
            "Topic 7_Opti_topic 1_Coherence: 0.3913_Perplexity: 240.2\n",
            "Num docs: 158 , Vocab size: 238 , Num words: 7003\n",
            "Removed top words: ['health', 'climate-change', 'risk', 'adaptation', 'community', 'heat', 'policy', 'climate', 'local', 'public']\n"
          ]
        },
        {
          "name": "stderr",
          "output_type": "stream",
          "text": [
            "Training...\n"
          ]
        },
        {
          "name": "stdout",
          "output_type": "stream",
          "text": [
            "Topic 8_Opti_topic 2_Coherence: 0.4172_Perplexity: 239.9\n",
            "Num docs: 158 , Vocab size: 238 , Num words: 7003\n",
            "Removed top words: ['health', 'climate-change', 'risk', 'adaptation', 'community', 'heat', 'policy', 'climate', 'local', 'public']\n"
          ]
        },
        {
          "name": "stderr",
          "output_type": "stream",
          "text": [
            "Training...\n"
          ]
        },
        {
          "name": "stdout",
          "output_type": "stream",
          "text": [
            "Topic 9_Opti_topic 6_Coherence: 0.431_Perplexity: 232.6\n",
            "Num docs: 158 , Vocab size: 238 , Num words: 7003\n",
            "Removed top words: ['health', 'climate-change', 'risk', 'adaptation', 'community', 'heat', 'policy', 'climate', 'local', 'public']\n"
          ]
        },
        {
          "name": "stderr",
          "output_type": "stream",
          "text": [
            "Training...\n",
            "Training...\n",
            "Training...\n",
            "Training...\n",
            "Training...\n",
            "Training...\n",
            "Training...\n",
            "Training...\n",
            "Training...\n"
          ]
        },
        {
          "name": "stdout",
          "output_type": "stream",
          "text": [
            "Topic 10_Opti_topic 2_Coherence: 0.4094_Perplexity: 237.4\n",
            "Topics : 1, Sub_topics : 6, Coherence_score : 0.4491\n",
            "Num docs: 14 , Vocab size: 0 , Num words: 0\n",
            "Removed top words: ['student', 'design', 'climate', 'education', 'engineering', 'policy', 'science', 'climate-change', 'game', 'critique']\n",
            "Topic 2_Opti_topic 0_Coherence: nan_Perplexity: nan\n",
            "Num docs: 14 , Vocab size: 0 , Num words: 0\n",
            "Removed top words: ['student', 'design', 'climate', 'education', 'engineering', 'policy', 'science', 'climate-change', 'game', 'critique']\n",
            "Topic 3_Opti_topic 0_Coherence: nan_Perplexity: nan\n",
            "Num docs: 14 , Vocab size: 0 , Num words: 0\n",
            "Removed top words: ['student', 'design', 'climate', 'education', 'engineering', 'policy', 'science', 'climate-change', 'game', 'critique']\n",
            "Topic 4_Opti_topic 0_Coherence: nan_Perplexity: nan\n",
            "Num docs: 14 , Vocab size: 0 , Num words: 0\n",
            "Removed top words: ['student', 'design', 'climate', 'education', 'engineering', 'policy', 'science', 'climate-change', 'game', 'critique']\n",
            "Topic 5_Opti_topic 0_Coherence: nan_Perplexity: nan\n",
            "Num docs: 14 , Vocab size: 0 , Num words: 0\n",
            "Removed top words: ['student', 'design', 'climate', 'education', 'engineering', 'policy', 'science', 'climate-change', 'game', 'critique']\n",
            "Topic 6_Opti_topic 0_Coherence: nan_Perplexity: nan\n",
            "Num docs: 14 , Vocab size: 0 , Num words: 0\n",
            "Removed top words: ['student', 'design', 'climate', 'education', 'engineering', 'policy', 'science', 'climate-change', 'game', 'critique']\n",
            "Topic 7_Opti_topic 0_Coherence: nan_Perplexity: nan\n",
            "Num docs: 14 , Vocab size: 0 , Num words: 0\n",
            "Removed top words: ['student', 'design', 'climate', 'education', 'engineering', 'policy', 'science', 'climate-change', 'game', 'critique']\n",
            "Topic 8_Opti_topic 0_Coherence: nan_Perplexity: nan\n",
            "Num docs: 14 , Vocab size: 0 , Num words: 0\n",
            "Removed top words: ['student', 'design', 'climate', 'education', 'engineering', 'policy', 'science', 'climate-change', 'game', 'critique']\n",
            "Topic 9_Opti_topic 0_Coherence: nan_Perplexity: nan\n",
            "Num docs: 14 , Vocab size: 0 , Num words: 0\n",
            "Removed top words: ['student', 'design', 'climate', 'education', 'engineering', 'policy', 'science', 'climate-change', 'game', 'critique']\n",
            "Topic 10_Opti_topic 0_Coherence: nan_Perplexity: nan\n",
            "Topics : 5, Sub_topics : 2, Coherence_score : nan\n"
          ]
        },
        {
          "name": "stderr",
          "output_type": "stream",
          "text": [
            "C:\\Users\\Public\\Documents\\ESTsoft\\CreatorTemp\\ipykernel_59236\\2884310502.py:55: FutureWarning: save is not part of the public API, usage can give unexpected results and will be removed in a future version\n",
            "  writer.save()\n",
            "C:\\Users\\Public\\Documents\\ESTsoft\\CreatorTemp\\ipykernel_59236\\2884310502.py:24: RuntimeWarning: The training result may differ even with fixed seed if `workers` != 1.\n",
            "  mdl.train(0)\n",
            "Training...\n"
          ]
        },
        {
          "name": "stdout",
          "output_type": "stream",
          "text": [
            "Num docs: 1782 , Vocab size: 1733 , Num words: 127504\n",
            "Removed top words: ['policy', 'energy', 'emission', 'climate-change', 'carbon', 'climate', 'country', 'mitigation', 'environmental', 'strategy']\n"
          ]
        },
        {
          "name": "stderr",
          "output_type": "stream",
          "text": [
            "Training...\n"
          ]
        },
        {
          "name": "stdout",
          "output_type": "stream",
          "text": [
            "Topic 2_Opti_topic 2_Coherence: 0.5059_Perplexity: 1.222e+03\n",
            "Num docs: 1782 , Vocab size: 1733 , Num words: 127504\n",
            "Removed top words: ['policy', 'energy', 'emission', 'climate-change', 'carbon', 'climate', 'country', 'mitigation', 'environmental', 'strategy']\n"
          ]
        },
        {
          "name": "stderr",
          "output_type": "stream",
          "text": [
            "Training...\n"
          ]
        },
        {
          "name": "stdout",
          "output_type": "stream",
          "text": [
            "Topic 3_Opti_topic 3_Coherence: 0.4337_Perplexity: 1.215e+03\n",
            "Num docs: 1782 , Vocab size: 1733 , Num words: 127504\n",
            "Removed top words: ['policy', 'energy', 'emission', 'climate-change', 'carbon', 'climate', 'country', 'mitigation', 'environmental', 'strategy']\n"
          ]
        },
        {
          "name": "stderr",
          "output_type": "stream",
          "text": [
            "Training...\n"
          ]
        },
        {
          "name": "stdout",
          "output_type": "stream",
          "text": [
            "Topic 4_Opti_topic 4_Coherence: 0.4713_Perplexity: 1.222e+03\n",
            "Num docs: 1782 , Vocab size: 1733 , Num words: 127504\n",
            "Removed top words: ['policy', 'energy', 'emission', 'climate-change', 'carbon', 'climate', 'country', 'mitigation', 'environmental', 'strategy']\n"
          ]
        },
        {
          "name": "stderr",
          "output_type": "stream",
          "text": [
            "Training...\n"
          ]
        },
        {
          "name": "stdout",
          "output_type": "stream",
          "text": [
            "Topic 5_Opti_topic 5_Coherence: 0.5089_Perplexity: 1.21e+03\n",
            "Num docs: 1782 , Vocab size: 1733 , Num words: 127504\n",
            "Removed top words: ['policy', 'energy', 'emission', 'climate-change', 'carbon', 'climate', 'country', 'mitigation', 'environmental', 'strategy']\n"
          ]
        },
        {
          "name": "stderr",
          "output_type": "stream",
          "text": [
            "Training...\n"
          ]
        },
        {
          "name": "stdout",
          "output_type": "stream",
          "text": [
            "Topic 6_Opti_topic 6_Coherence: 0.6006_Perplexity: 1.208e+03\n",
            "Num docs: 1782 , Vocab size: 1733 , Num words: 127504\n",
            "Removed top words: ['policy', 'energy', 'emission', 'climate-change', 'carbon', 'climate', 'country', 'mitigation', 'environmental', 'strategy']\n"
          ]
        },
        {
          "name": "stderr",
          "output_type": "stream",
          "text": [
            "Training...\n"
          ]
        },
        {
          "name": "stdout",
          "output_type": "stream",
          "text": [
            "Topic 7_Opti_topic 7_Coherence: 0.6044_Perplexity: 1.262e+03\n",
            "Num docs: 1782 , Vocab size: 1733 , Num words: 127504\n",
            "Removed top words: ['policy', 'energy', 'emission', 'climate-change', 'carbon', 'climate', 'country', 'mitigation', 'environmental', 'strategy']\n"
          ]
        },
        {
          "name": "stderr",
          "output_type": "stream",
          "text": [
            "Training...\n"
          ]
        },
        {
          "name": "stdout",
          "output_type": "stream",
          "text": [
            "Topic 8_Opti_topic 8_Coherence: 0.63_Perplexity: 1.26e+03\n",
            "Num docs: 1782 , Vocab size: 1733 , Num words: 127504\n",
            "Removed top words: ['policy', 'energy', 'emission', 'climate-change', 'carbon', 'climate', 'country', 'mitigation', 'environmental', 'strategy']\n"
          ]
        },
        {
          "name": "stderr",
          "output_type": "stream",
          "text": [
            "Training...\n"
          ]
        },
        {
          "name": "stdout",
          "output_type": "stream",
          "text": [
            "Topic 9_Opti_topic 9_Coherence: 0.6249_Perplexity: 1.201e+03\n",
            "Num docs: 1782 , Vocab size: 1733 , Num words: 127504\n",
            "Removed top words: ['policy', 'energy', 'emission', 'climate-change', 'carbon', 'climate', 'country', 'mitigation', 'environmental', 'strategy']\n",
            "Topic 10_Opti_topic 10_Coherence: 0.5701_Perplexity: 1.204e+03\n",
            "Topics : 0, Sub_topics : 8, Coherence_score : 0.63\n"
          ]
        },
        {
          "name": "stderr",
          "output_type": "stream",
          "text": [
            "Training...\n"
          ]
        },
        {
          "name": "stdout",
          "output_type": "stream",
          "text": [
            "Num docs: 774 , Vocab size: 986 , Num words: 51027\n",
            "Removed top words: ['energy', 'policy', 'environmental', 'study', 'sustainability', 'design', 'sustainable', 'practice', 'green', 'building']\n"
          ]
        },
        {
          "name": "stderr",
          "output_type": "stream",
          "text": [
            "Training...\n"
          ]
        },
        {
          "name": "stdout",
          "output_type": "stream",
          "text": [
            "Topic 2_Opti_topic 2_Coherence: 0.4995_Perplexity: 806.2\n",
            "Num docs: 774 , Vocab size: 986 , Num words: 51027\n",
            "Removed top words: ['energy', 'policy', 'environmental', 'study', 'sustainability', 'design', 'sustainable', 'practice', 'green', 'building']\n"
          ]
        },
        {
          "name": "stderr",
          "output_type": "stream",
          "text": [
            "Training...\n"
          ]
        },
        {
          "name": "stdout",
          "output_type": "stream",
          "text": [
            "Topic 3_Opti_topic 3_Coherence: 0.5033_Perplexity: 823.1\n",
            "Num docs: 774 , Vocab size: 986 , Num words: 51027\n",
            "Removed top words: ['energy', 'policy', 'environmental', 'study', 'sustainability', 'design', 'sustainable', 'practice', 'green', 'building']\n"
          ]
        },
        {
          "name": "stderr",
          "output_type": "stream",
          "text": [
            "Training...\n"
          ]
        },
        {
          "name": "stdout",
          "output_type": "stream",
          "text": [
            "Topic 4_Opti_topic 5_Coherence: 0.5106_Perplexity: 818.3\n",
            "Num docs: 774 , Vocab size: 986 , Num words: 51027\n",
            "Removed top words: ['energy', 'policy', 'environmental', 'study', 'sustainability', 'design', 'sustainable', 'practice', 'green', 'building']\n"
          ]
        },
        {
          "name": "stderr",
          "output_type": "stream",
          "text": [
            "Training...\n"
          ]
        },
        {
          "name": "stdout",
          "output_type": "stream",
          "text": [
            "Topic 5_Opti_topic 5_Coherence: 0.4821_Perplexity: 818.2\n",
            "Num docs: 774 , Vocab size: 986 , Num words: 51027\n",
            "Removed top words: ['energy', 'policy', 'environmental', 'study', 'sustainability', 'design', 'sustainable', 'practice', 'green', 'building']\n"
          ]
        },
        {
          "name": "stderr",
          "output_type": "stream",
          "text": [
            "Training...\n"
          ]
        },
        {
          "name": "stdout",
          "output_type": "stream",
          "text": [
            "Topic 6_Opti_topic 7_Coherence: 0.5445_Perplexity: 816.2\n",
            "Num docs: 774 , Vocab size: 986 , Num words: 51027\n",
            "Removed top words: ['energy', 'policy', 'environmental', 'study', 'sustainability', 'design', 'sustainable', 'practice', 'green', 'building']\n"
          ]
        },
        {
          "name": "stderr",
          "output_type": "stream",
          "text": [
            "Training...\n"
          ]
        },
        {
          "name": "stdout",
          "output_type": "stream",
          "text": [
            "Topic 7_Opti_topic 9_Coherence: 0.5077_Perplexity: 785.4\n",
            "Num docs: 774 , Vocab size: 986 , Num words: 51027\n",
            "Removed top words: ['energy', 'policy', 'environmental', 'study', 'sustainability', 'design', 'sustainable', 'practice', 'green', 'building']\n"
          ]
        },
        {
          "name": "stderr",
          "output_type": "stream",
          "text": [
            "Training...\n"
          ]
        },
        {
          "name": "stdout",
          "output_type": "stream",
          "text": [
            "Topic 8_Opti_topic 9_Coherence: 0.5294_Perplexity: 807.3\n",
            "Num docs: 774 , Vocab size: 986 , Num words: 51027\n",
            "Removed top words: ['energy', 'policy', 'environmental', 'study', 'sustainability', 'design', 'sustainable', 'practice', 'green', 'building']\n"
          ]
        },
        {
          "name": "stderr",
          "output_type": "stream",
          "text": [
            "Training...\n"
          ]
        },
        {
          "name": "stdout",
          "output_type": "stream",
          "text": [
            "Topic 9_Opti_topic 10_Coherence: 0.5145_Perplexity: 804.3\n",
            "Num docs: 774 , Vocab size: 986 , Num words: 51027\n",
            "Removed top words: ['energy', 'policy', 'environmental', 'study', 'sustainability', 'design', 'sustainable', 'practice', 'green', 'building']\n"
          ]
        },
        {
          "name": "stderr",
          "output_type": "stream",
          "text": [
            "Training...\n",
            "Training...\n",
            "Training...\n",
            "Training...\n",
            "Training...\n",
            "Training...\n"
          ]
        },
        {
          "name": "stdout",
          "output_type": "stream",
          "text": [
            "Topic 10_Opti_topic 11_Coherence: 0.5207_Perplexity: 806.8\n",
            "Topics : 1, Sub_topics : 6, Coherence_score : 0.5445\n",
            "Num docs: 25 , Vocab size: 0 , Num words: 0\n",
            "Removed top words: ['policy', 'energy', 'climate', 'transition', 'climate-change', 'government', 'emission', 'political', 'key', 'CCS']\n",
            "Topic 2_Opti_topic 0_Coherence: nan_Perplexity: nan\n",
            "Num docs: 25 , Vocab size: 0 , Num words: 0\n",
            "Removed top words: ['policy', 'energy', 'climate', 'transition', 'climate-change', 'government', 'emission', 'political', 'key', 'CCS']\n",
            "Topic 3_Opti_topic 0_Coherence: nan_Perplexity: nan\n",
            "Num docs: 25 , Vocab size: 0 , Num words: 0\n",
            "Removed top words: ['policy', 'energy', 'climate', 'transition', 'climate-change', 'government', 'emission', 'political', 'key', 'CCS']\n",
            "Topic 4_Opti_topic 0_Coherence: nan_Perplexity: nan\n",
            "Num docs: 25 , Vocab size: 0 , Num words: 0\n",
            "Removed top words: ['policy', 'energy', 'climate', 'transition', 'climate-change', 'government', 'emission', 'political', 'key', 'CCS']\n",
            "Topic 5_Opti_topic 0_Coherence: nan_Perplexity: nan\n",
            "Num docs: 25 , Vocab size: 0 , Num words: 0\n",
            "Removed top words: ['policy', 'energy', 'climate', 'transition', 'climate-change', 'government', 'emission', 'political', 'key', 'CCS']\n",
            "Topic 6_Opti_topic 0_Coherence: nan_Perplexity: nan\n",
            "Num docs: 25 , Vocab size: 0 , Num words: 0\n",
            "Removed top words: ['policy', 'energy', 'climate', 'transition', 'climate-change', 'government', 'emission', 'political', 'key', 'CCS']\n",
            "Topic 7_Opti_topic 0_Coherence: nan_Perplexity: nan\n",
            "Num docs: 25 , Vocab size: 0 , Num words: 0\n",
            "Removed top words: ['policy', 'energy', 'climate', 'transition', 'climate-change', 'government', 'emission', 'political', 'key', 'CCS']\n"
          ]
        },
        {
          "name": "stderr",
          "output_type": "stream",
          "text": [
            "Training...\n",
            "Training...\n",
            "Training...\n",
            "Training...\n",
            "Training...\n",
            "Training...\n",
            "Training...\n",
            "Training...\n"
          ]
        },
        {
          "name": "stdout",
          "output_type": "stream",
          "text": [
            "Topic 8_Opti_topic 0_Coherence: nan_Perplexity: nan\n",
            "Num docs: 25 , Vocab size: 0 , Num words: 0\n",
            "Removed top words: ['policy', 'energy', 'climate', 'transition', 'climate-change', 'government', 'emission', 'political', 'key', 'CCS']\n",
            "Topic 9_Opti_topic 0_Coherence: nan_Perplexity: nan\n",
            "Num docs: 25 , Vocab size: 0 , Num words: 0\n",
            "Removed top words: ['policy', 'energy', 'climate', 'transition', 'climate-change', 'government', 'emission', 'political', 'key', 'CCS']\n",
            "Topic 10_Opti_topic 0_Coherence: nan_Perplexity: nan\n",
            "Topics : 8, Sub_topics : 2, Coherence_score : nan\n",
            "Num docs: 23 , Vocab size: 0 , Num words: 0\n",
            "Removed top words: ['policy', 'climate-change', 'emission', 'carbon', 'reduction', 'climate', 'energy', 'support', 'household', 'tax']\n",
            "Topic 2_Opti_topic 0_Coherence: nan_Perplexity: nan\n",
            "Num docs: 23 , Vocab size: 0 , Num words: 0\n",
            "Removed top words: ['policy', 'climate-change', 'emission', 'carbon', 'reduction', 'climate', 'energy', 'support', 'household', 'tax']\n",
            "Topic 3_Opti_topic 0_Coherence: nan_Perplexity: nan\n",
            "Num docs: 23 , Vocab size: 0 , Num words: 0\n",
            "Removed top words: ['policy', 'climate-change', 'emission', 'carbon', 'reduction', 'climate', 'energy', 'support', 'household', 'tax']\n",
            "Topic 4_Opti_topic 0_Coherence: nan_Perplexity: nan\n",
            "Num docs: 23 , Vocab size: 0 , Num words: 0\n",
            "Removed top words: ['policy', 'climate-change', 'emission', 'carbon', 'reduction', 'climate', 'energy', 'support', 'household', 'tax']\n",
            "Topic 5_Opti_topic 0_Coherence: nan_Perplexity: nan\n",
            "Num docs: 23 , Vocab size: 0 , Num words: 0\n",
            "Removed top words: ['policy', 'climate-change', 'emission', 'carbon', 'reduction', 'climate', 'energy', 'support', 'household', 'tax']\n",
            "Topic 6_Opti_topic 0_Coherence: nan_Perplexity: nan\n",
            "Num docs: 23 , Vocab size: 0 , Num words: 0\n",
            "Removed top words: ['policy', 'climate-change', 'emission', 'carbon', 'reduction', 'climate', 'energy', 'support', 'household', 'tax']\n"
          ]
        },
        {
          "name": "stderr",
          "output_type": "stream",
          "text": [
            "Training...\n",
            "Training...\n",
            "Training...\n",
            "Training...\n",
            "C:\\Users\\Public\\Documents\\ESTsoft\\CreatorTemp\\ipykernel_59236\\2884310502.py:55: FutureWarning: save is not part of the public API, usage can give unexpected results and will be removed in a future version\n",
            "  writer.save()\n"
          ]
        },
        {
          "name": "stdout",
          "output_type": "stream",
          "text": [
            "Topic 7_Opti_topic 0_Coherence: nan_Perplexity: nan\n",
            "Num docs: 23 , Vocab size: 0 , Num words: 0\n",
            "Removed top words: ['policy', 'climate-change', 'emission', 'carbon', 'reduction', 'climate', 'energy', 'support', 'household', 'tax']\n",
            "Topic 8_Opti_topic 0_Coherence: nan_Perplexity: nan\n",
            "Num docs: 23 , Vocab size: 0 , Num words: 0\n",
            "Removed top words: ['policy', 'climate-change', 'emission', 'carbon', 'reduction', 'climate', 'energy', 'support', 'household', 'tax']\n",
            "Topic 9_Opti_topic 0_Coherence: nan_Perplexity: nan\n",
            "Num docs: 23 , Vocab size: 0 , Num words: 0\n",
            "Removed top words: ['policy', 'climate-change', 'emission', 'carbon', 'reduction', 'climate', 'energy', 'support', 'household', 'tax']\n",
            "Topic 10_Opti_topic 0_Coherence: nan_Perplexity: nan\n",
            "Topics : 6, Sub_topics : 2, Coherence_score : nan\n"
          ]
        },
        {
          "name": "stderr",
          "output_type": "stream",
          "text": [
            "C:\\Users\\Public\\Documents\\ESTsoft\\CreatorTemp\\ipykernel_59236\\2884310502.py:24: RuntimeWarning: The training result may differ even with fixed seed if `workers` != 1.\n",
            "  mdl.train(0)\n",
            "Training...\n"
          ]
        },
        {
          "name": "stdout",
          "output_type": "stream",
          "text": [
            "Num docs: 829 , Vocab size: 993 , Num words: 52759\n",
            "Removed top words: ['energy', 'system', 'power', 'design', 'cost', 'building', 'heat', 'emission', 'strategy', 'solar']\n"
          ]
        },
        {
          "name": "stderr",
          "output_type": "stream",
          "text": [
            "Training...\n"
          ]
        },
        {
          "name": "stdout",
          "output_type": "stream",
          "text": [
            "Topic 2_Opti_topic 2_Coherence: 0.4542_Perplexity: 822.8\n",
            "Num docs: 829 , Vocab size: 993 , Num words: 52759\n",
            "Removed top words: ['energy', 'system', 'power', 'design', 'cost', 'building', 'heat', 'emission', 'strategy', 'solar']\n"
          ]
        },
        {
          "name": "stderr",
          "output_type": "stream",
          "text": [
            "Training...\n"
          ]
        },
        {
          "name": "stdout",
          "output_type": "stream",
          "text": [
            "Topic 3_Opti_topic 3_Coherence: 0.4526_Perplexity: 824.9\n",
            "Num docs: 829 , Vocab size: 993 , Num words: 52759\n",
            "Removed top words: ['energy', 'system', 'power', 'design', 'cost', 'building', 'heat', 'emission', 'strategy', 'solar']\n"
          ]
        },
        {
          "name": "stderr",
          "output_type": "stream",
          "text": [
            "Training...\n"
          ]
        },
        {
          "name": "stdout",
          "output_type": "stream",
          "text": [
            "Topic 4_Opti_topic 4_Coherence: 0.4624_Perplexity: 822.5\n",
            "Num docs: 829 , Vocab size: 993 , Num words: 52759\n",
            "Removed top words: ['energy', 'system', 'power', 'design', 'cost', 'building', 'heat', 'emission', 'strategy', 'solar']\n"
          ]
        },
        {
          "name": "stderr",
          "output_type": "stream",
          "text": [
            "Training...\n"
          ]
        },
        {
          "name": "stdout",
          "output_type": "stream",
          "text": [
            "Topic 5_Opti_topic 5_Coherence: 0.48_Perplexity: 815.6\n",
            "Num docs: 829 , Vocab size: 993 , Num words: 52759\n",
            "Removed top words: ['energy', 'system', 'power', 'design', 'cost', 'building', 'heat', 'emission', 'strategy', 'solar']\n"
          ]
        },
        {
          "name": "stderr",
          "output_type": "stream",
          "text": [
            "Training...\n"
          ]
        },
        {
          "name": "stdout",
          "output_type": "stream",
          "text": [
            "Topic 6_Opti_topic 6_Coherence: 0.4565_Perplexity: 815.9\n",
            "Num docs: 829 , Vocab size: 993 , Num words: 52759\n",
            "Removed top words: ['energy', 'system', 'power', 'design', 'cost', 'building', 'heat', 'emission', 'strategy', 'solar']\n"
          ]
        },
        {
          "name": "stderr",
          "output_type": "stream",
          "text": [
            "Training...\n"
          ]
        },
        {
          "name": "stdout",
          "output_type": "stream",
          "text": [
            "Topic 7_Opti_topic 6_Coherence: 0.4914_Perplexity: 811.7\n",
            "Num docs: 829 , Vocab size: 993 , Num words: 52759\n",
            "Removed top words: ['energy', 'system', 'power', 'design', 'cost', 'building', 'heat', 'emission', 'strategy', 'solar']\n"
          ]
        },
        {
          "name": "stderr",
          "output_type": "stream",
          "text": [
            "Training...\n"
          ]
        },
        {
          "name": "stdout",
          "output_type": "stream",
          "text": [
            "Topic 8_Opti_topic 8_Coherence: 0.5175_Perplexity: 809.8\n",
            "Num docs: 829 , Vocab size: 993 , Num words: 52759\n",
            "Removed top words: ['energy', 'system', 'power', 'design', 'cost', 'building', 'heat', 'emission', 'strategy', 'solar']\n"
          ]
        },
        {
          "name": "stderr",
          "output_type": "stream",
          "text": [
            "Training...\n"
          ]
        },
        {
          "name": "stdout",
          "output_type": "stream",
          "text": [
            "Topic 9_Opti_topic 10_Coherence: 0.5154_Perplexity: 804.8\n",
            "Num docs: 829 , Vocab size: 993 , Num words: 52759\n",
            "Removed top words: ['energy', 'system', 'power', 'design', 'cost', 'building', 'heat', 'emission', 'strategy', 'solar']\n",
            "Topic 10_Opti_topic 10_Coherence: 0.5296_Perplexity: 780.0\n",
            "Topics : 3, Sub_topics : 10, Coherence_score : 0.5296\n"
          ]
        },
        {
          "name": "stderr",
          "output_type": "stream",
          "text": [
            "Training...\n"
          ]
        },
        {
          "name": "stdout",
          "output_type": "stream",
          "text": [
            "Num docs: 650 , Vocab size: 772 , Num words: 39880\n",
            "Removed top words: ['energy', 'model', 'system', 'power', 'carbon-emission', 'cost', 'problem', 'optimization', 'carbon', 'method']\n"
          ]
        },
        {
          "name": "stderr",
          "output_type": "stream",
          "text": [
            "Training...\n"
          ]
        },
        {
          "name": "stdout",
          "output_type": "stream",
          "text": [
            "Topic 2_Opti_topic 3_Coherence: 0.5106_Perplexity: 622.9\n",
            "Num docs: 650 , Vocab size: 772 , Num words: 39880\n",
            "Removed top words: ['energy', 'model', 'system', 'power', 'carbon-emission', 'cost', 'problem', 'optimization', 'carbon', 'method']\n"
          ]
        },
        {
          "name": "stderr",
          "output_type": "stream",
          "text": [
            "Training...\n"
          ]
        },
        {
          "name": "stdout",
          "output_type": "stream",
          "text": [
            "Topic 3_Opti_topic 5_Coherence: 0.5992_Perplexity: 620.2\n",
            "Num docs: 650 , Vocab size: 772 , Num words: 39880\n",
            "Removed top words: ['energy', 'model', 'system', 'power', 'carbon-emission', 'cost', 'problem', 'optimization', 'carbon', 'method']\n"
          ]
        },
        {
          "name": "stderr",
          "output_type": "stream",
          "text": [
            "Training...\n"
          ]
        },
        {
          "name": "stdout",
          "output_type": "stream",
          "text": [
            "Topic 4_Opti_topic 4_Coherence: 0.462_Perplexity: 619.7\n",
            "Num docs: 650 , Vocab size: 772 , Num words: 39880\n",
            "Removed top words: ['energy', 'model', 'system', 'power', 'carbon-emission', 'cost', 'problem', 'optimization', 'carbon', 'method']\n"
          ]
        },
        {
          "name": "stderr",
          "output_type": "stream",
          "text": [
            "Training...\n"
          ]
        },
        {
          "name": "stdout",
          "output_type": "stream",
          "text": [
            "Topic 5_Opti_topic 7_Coherence: 0.5779_Perplexity: 612.8\n",
            "Num docs: 650 , Vocab size: 772 , Num words: 39880\n",
            "Removed top words: ['energy', 'model', 'system', 'power', 'carbon-emission', 'cost', 'problem', 'optimization', 'carbon', 'method']\n"
          ]
        },
        {
          "name": "stderr",
          "output_type": "stream",
          "text": [
            "Training...\n"
          ]
        },
        {
          "name": "stdout",
          "output_type": "stream",
          "text": [
            "Topic 6_Opti_topic 6_Coherence: 0.477_Perplexity: 625.4\n",
            "Num docs: 650 , Vocab size: 772 , Num words: 39880\n",
            "Removed top words: ['energy', 'model', 'system', 'power', 'carbon-emission', 'cost', 'problem', 'optimization', 'carbon', 'method']\n"
          ]
        },
        {
          "name": "stderr",
          "output_type": "stream",
          "text": [
            "Training...\n"
          ]
        },
        {
          "name": "stdout",
          "output_type": "stream",
          "text": [
            "Topic 7_Opti_topic 9_Coherence: 0.6025_Perplexity: 604.8\n",
            "Num docs: 650 , Vocab size: 772 , Num words: 39880\n",
            "Removed top words: ['energy', 'model', 'system', 'power', 'carbon-emission', 'cost', 'problem', 'optimization', 'carbon', 'method']\n"
          ]
        },
        {
          "name": "stderr",
          "output_type": "stream",
          "text": [
            "Training...\n"
          ]
        },
        {
          "name": "stdout",
          "output_type": "stream",
          "text": [
            "Topic 8_Opti_topic 7_Coherence: 0.4785_Perplexity: 611.4\n",
            "Num docs: 650 , Vocab size: 772 , Num words: 39880\n",
            "Removed top words: ['energy', 'model', 'system', 'power', 'carbon-emission', 'cost', 'problem', 'optimization', 'carbon', 'method']\n"
          ]
        },
        {
          "name": "stderr",
          "output_type": "stream",
          "text": [
            "Training...\n"
          ]
        },
        {
          "name": "stdout",
          "output_type": "stream",
          "text": [
            "Topic 9_Opti_topic 7_Coherence: 0.4439_Perplexity: 649.7\n",
            "Num docs: 650 , Vocab size: 772 , Num words: 39880\n",
            "Removed top words: ['energy', 'model', 'system', 'power', 'carbon-emission', 'cost', 'problem', 'optimization', 'carbon', 'method']\n"
          ]
        },
        {
          "name": "stderr",
          "output_type": "stream",
          "text": [
            "Training...\n"
          ]
        },
        {
          "name": "stdout",
          "output_type": "stream",
          "text": [
            "Topic 10_Opti_topic 10_Coherence: 0.5357_Perplexity: 609.5\n",
            "Topics : 0, Sub_topics : 7, Coherence_score : 0.6025\n",
            "Num docs: 266 , Vocab size: 414 , Num words: 13745\n",
            "Removed top words: ['energy', 'building', 'design', 'system', 'performance', 'consumption', 'thermal', 'strategy', 'study', 'efficiency']\n"
          ]
        },
        {
          "name": "stderr",
          "output_type": "stream",
          "text": [
            "Training...\n"
          ]
        },
        {
          "name": "stdout",
          "output_type": "stream",
          "text": [
            "Topic 2_Opti_topic 10_Coherence: 0.5104_Perplexity: 386.6\n",
            "Num docs: 266 , Vocab size: 414 , Num words: 13745\n",
            "Removed top words: ['energy', 'building', 'design', 'system', 'performance', 'consumption', 'thermal', 'strategy', 'study', 'efficiency']\n"
          ]
        },
        {
          "name": "stderr",
          "output_type": "stream",
          "text": [
            "Training...\n"
          ]
        },
        {
          "name": "stdout",
          "output_type": "stream",
          "text": [
            "Topic 3_Opti_topic 6_Coherence: 0.4444_Perplexity: 391.5\n",
            "Num docs: 266 , Vocab size: 414 , Num words: 13745\n",
            "Removed top words: ['energy', 'building', 'design', 'system', 'performance', 'consumption', 'thermal', 'strategy', 'study', 'efficiency']\n"
          ]
        },
        {
          "name": "stderr",
          "output_type": "stream",
          "text": [
            "Training...\n"
          ]
        },
        {
          "name": "stdout",
          "output_type": "stream",
          "text": [
            "Topic 4_Opti_topic 4_Coherence: 0.3429_Perplexity: 398.3\n",
            "Num docs: 266 , Vocab size: 414 , Num words: 13745\n",
            "Removed top words: ['energy', 'building', 'design', 'system', 'performance', 'consumption', 'thermal', 'strategy', 'study', 'efficiency']\n"
          ]
        },
        {
          "name": "stderr",
          "output_type": "stream",
          "text": [
            "Training...\n"
          ]
        },
        {
          "name": "stdout",
          "output_type": "stream",
          "text": [
            "Topic 5_Opti_topic 7_Coherence: 0.3984_Perplexity: 387.2\n",
            "Num docs: 266 , Vocab size: 414 , Num words: 13745\n",
            "Removed top words: ['energy', 'building', 'design', 'system', 'performance', 'consumption', 'thermal', 'strategy', 'study', 'efficiency']\n"
          ]
        },
        {
          "name": "stderr",
          "output_type": "stream",
          "text": [
            "Training...\n"
          ]
        },
        {
          "name": "stdout",
          "output_type": "stream",
          "text": [
            "Topic 6_Opti_topic 4_Coherence: 0.3513_Perplexity: 395.2\n",
            "Num docs: 266 , Vocab size: 414 , Num words: 13745\n",
            "Removed top words: ['energy', 'building', 'design', 'system', 'performance', 'consumption', 'thermal', 'strategy', 'study', 'efficiency']\n"
          ]
        },
        {
          "name": "stderr",
          "output_type": "stream",
          "text": [
            "Training...\n"
          ]
        },
        {
          "name": "stdout",
          "output_type": "stream",
          "text": [
            "Topic 7_Opti_topic 7_Coherence: 0.3589_Perplexity: 385.0\n",
            "Num docs: 266 , Vocab size: 414 , Num words: 13745\n",
            "Removed top words: ['energy', 'building', 'design', 'system', 'performance', 'consumption', 'thermal', 'strategy', 'study', 'efficiency']\n"
          ]
        },
        {
          "name": "stderr",
          "output_type": "stream",
          "text": [
            "Training...\n"
          ]
        },
        {
          "name": "stdout",
          "output_type": "stream",
          "text": [
            "Topic 8_Opti_topic 6_Coherence: 0.3548_Perplexity: 392.8\n",
            "Num docs: 266 , Vocab size: 414 , Num words: 13745\n",
            "Removed top words: ['energy', 'building', 'design', 'system', 'performance', 'consumption', 'thermal', 'strategy', 'study', 'efficiency']\n"
          ]
        },
        {
          "name": "stderr",
          "output_type": "stream",
          "text": [
            "Training...\n"
          ]
        },
        {
          "name": "stdout",
          "output_type": "stream",
          "text": [
            "Topic 9_Opti_topic 9_Coherence: 0.3798_Perplexity: 386.3\n",
            "Num docs: 266 , Vocab size: 414 , Num words: 13745\n",
            "Removed top words: ['energy', 'building', 'design', 'system', 'performance', 'consumption', 'thermal', 'strategy', 'study', 'efficiency']\n"
          ]
        },
        {
          "name": "stderr",
          "output_type": "stream",
          "text": [
            "Training...\n"
          ]
        },
        {
          "name": "stdout",
          "output_type": "stream",
          "text": [
            "Topic 10_Opti_topic 9_Coherence: 0.3728_Perplexity: 382.4\n",
            "Topics : 6, Sub_topics : 2, Coherence_score : 0.5104\n",
            "Num docs: 231 , Vocab size: 305 , Num words: 11348\n",
            "Removed top words: ['design', 'building', 'material', 'energy', 'environmental', 'life', 'carbon', 'process', 'cycle', 'study']\n"
          ]
        },
        {
          "name": "stderr",
          "output_type": "stream",
          "text": [
            "Training...\n"
          ]
        },
        {
          "name": "stdout",
          "output_type": "stream",
          "text": [
            "Topic 2_Opti_topic 2_Coherence: 0.4311_Perplexity: 290.8\n",
            "Num docs: 231 , Vocab size: 305 , Num words: 11348\n",
            "Removed top words: ['design', 'building', 'material', 'energy', 'environmental', 'life', 'carbon', 'process', 'cycle', 'study']\n"
          ]
        },
        {
          "name": "stderr",
          "output_type": "stream",
          "text": [
            "Training...\n"
          ]
        },
        {
          "name": "stdout",
          "output_type": "stream",
          "text": [
            "Topic 3_Opti_topic 3_Coherence: 0.4699_Perplexity: 286.6\n",
            "Num docs: 231 , Vocab size: 305 , Num words: 11348\n",
            "Removed top words: ['design', 'building', 'material', 'energy', 'environmental', 'life', 'carbon', 'process', 'cycle', 'study']\n"
          ]
        },
        {
          "name": "stderr",
          "output_type": "stream",
          "text": [
            "Training...\n"
          ]
        },
        {
          "name": "stdout",
          "output_type": "stream",
          "text": [
            "Topic 4_Opti_topic 3_Coherence: 0.3915_Perplexity: 287.7\n",
            "Num docs: 231 , Vocab size: 305 , Num words: 11348\n",
            "Removed top words: ['design', 'building', 'material', 'energy', 'environmental', 'life', 'carbon', 'process', 'cycle', 'study']\n"
          ]
        },
        {
          "name": "stderr",
          "output_type": "stream",
          "text": [
            "Training...\n"
          ]
        },
        {
          "name": "stdout",
          "output_type": "stream",
          "text": [
            "Topic 5_Opti_topic 5_Coherence: 0.4404_Perplexity: 282.6\n",
            "Num docs: 231 , Vocab size: 305 , Num words: 11348\n",
            "Removed top words: ['design', 'building', 'material', 'energy', 'environmental', 'life', 'carbon', 'process', 'cycle', 'study']\n"
          ]
        },
        {
          "name": "stderr",
          "output_type": "stream",
          "text": [
            "Training...\n"
          ]
        },
        {
          "name": "stdout",
          "output_type": "stream",
          "text": [
            "Topic 6_Opti_topic 6_Coherence: 0.4293_Perplexity: 280.4\n",
            "Num docs: 231 , Vocab size: 305 , Num words: 11348\n",
            "Removed top words: ['design', 'building', 'material', 'energy', 'environmental', 'life', 'carbon', 'process', 'cycle', 'study']\n"
          ]
        },
        {
          "name": "stderr",
          "output_type": "stream",
          "text": [
            "Training...\n"
          ]
        },
        {
          "name": "stdout",
          "output_type": "stream",
          "text": [
            "Topic 7_Opti_topic 7_Coherence: 0.4469_Perplexity: 278.4\n",
            "Num docs: 231 , Vocab size: 305 , Num words: 11348\n",
            "Removed top words: ['design', 'building', 'material', 'energy', 'environmental', 'life', 'carbon', 'process', 'cycle', 'study']\n"
          ]
        },
        {
          "name": "stderr",
          "output_type": "stream",
          "text": [
            "Training...\n"
          ]
        },
        {
          "name": "stdout",
          "output_type": "stream",
          "text": [
            "Topic 8_Opti_topic 9_Coherence: 0.4672_Perplexity: 273.7\n",
            "Num docs: 231 , Vocab size: 305 , Num words: 11348\n",
            "Removed top words: ['design', 'building', 'material', 'energy', 'environmental', 'life', 'carbon', 'process', 'cycle', 'study']\n"
          ]
        },
        {
          "name": "stderr",
          "output_type": "stream",
          "text": [
            "Training...\n"
          ]
        },
        {
          "name": "stdout",
          "output_type": "stream",
          "text": [
            "Topic 9_Opti_topic 6_Coherence: 0.4377_Perplexity: 280.0\n",
            "Num docs: 231 , Vocab size: 305 , Num words: 11348\n",
            "Removed top words: ['design', 'building', 'material', 'energy', 'environmental', 'life', 'carbon', 'process', 'cycle', 'study']\n"
          ]
        },
        {
          "name": "stderr",
          "output_type": "stream",
          "text": [
            "Training...\n",
            "Training...\n",
            "Training...\n",
            "Training...\n",
            "Training...\n",
            "Training...\n",
            "Training...\n",
            "Training...\n",
            "Training...\n"
          ]
        },
        {
          "name": "stdout",
          "output_type": "stream",
          "text": [
            "Topic 10_Opti_topic 7_Coherence: 0.4292_Perplexity: 276.9\n",
            "Topics : 2, Sub_topics : 3, Coherence_score : 0.4699\n",
            "Num docs: 11 , Vocab size: 0 , Num words: 0\n",
            "Removed top words: ['network', 'waste', 'cost', 'design', 'system', 'emission', 'study', 'model', 'scenario', 'optimal']\n",
            "Topic 2_Opti_topic 0_Coherence: nan_Perplexity: nan\n",
            "Num docs: 11 , Vocab size: 0 , Num words: 0\n",
            "Removed top words: ['network', 'waste', 'cost', 'design', 'system', 'emission', 'study', 'model', 'scenario', 'optimal']\n",
            "Topic 3_Opti_topic 0_Coherence: nan_Perplexity: nan\n",
            "Num docs: 11 , Vocab size: 0 , Num words: 0\n",
            "Removed top words: ['network', 'waste', 'cost', 'design', 'system', 'emission', 'study', 'model', 'scenario', 'optimal']\n",
            "Topic 4_Opti_topic 0_Coherence: nan_Perplexity: nan\n",
            "Num docs: 11 , Vocab size: 0 , Num words: 0\n",
            "Removed top words: ['network', 'waste', 'cost', 'design', 'system', 'emission', 'study', 'model', 'scenario', 'optimal']\n",
            "Topic 5_Opti_topic 0_Coherence: nan_Perplexity: nan\n",
            "Num docs: 11 , Vocab size: 0 , Num words: 0\n",
            "Removed top words: ['network', 'waste', 'cost', 'design', 'system', 'emission', 'study', 'model', 'scenario', 'optimal']\n",
            "Topic 6_Opti_topic 0_Coherence: nan_Perplexity: nan\n",
            "Num docs: 11 , Vocab size: 0 , Num words: 0\n",
            "Removed top words: ['network', 'waste', 'cost', 'design', 'system', 'emission', 'study', 'model', 'scenario', 'optimal']\n",
            "Topic 7_Opti_topic 0_Coherence: nan_Perplexity: nan\n",
            "Num docs: 11 , Vocab size: 0 , Num words: 0\n",
            "Removed top words: ['network', 'waste', 'cost', 'design', 'system', 'emission', 'study', 'model', 'scenario', 'optimal']\n",
            "Topic 8_Opti_topic 0_Coherence: nan_Perplexity: nan\n",
            "Num docs: 11 , Vocab size: 0 , Num words: 0\n",
            "Removed top words: ['network', 'waste', 'cost', 'design', 'system', 'emission', 'study', 'model', 'scenario', 'optimal']\n",
            "Topic 9_Opti_topic 0_Coherence: nan_Perplexity: nan\n",
            "Num docs: 11 , Vocab size: 0 , Num words: 0\n",
            "Removed top words: ['network', 'waste', 'cost', 'design', 'system', 'emission', 'study', 'model', 'scenario', 'optimal']\n",
            "Topic 10_Opti_topic 0_Coherence: nan_Perplexity: nan\n",
            "Topics : 5, Sub_topics : 2, Coherence_score : nan\n"
          ]
        },
        {
          "name": "stderr",
          "output_type": "stream",
          "text": [
            "C:\\Users\\Public\\Documents\\ESTsoft\\CreatorTemp\\ipykernel_59236\\2884310502.py:55: FutureWarning: save is not part of the public API, usage can give unexpected results and will be removed in a future version\n",
            "  writer.save()\n",
            "C:\\Users\\Public\\Documents\\ESTsoft\\CreatorTemp\\ipykernel_59236\\2884310502.py:24: RuntimeWarning: The training result may differ even with fixed seed if `workers` != 1.\n",
            "  mdl.train(0)\n",
            "Training...\n"
          ]
        },
        {
          "name": "stdout",
          "output_type": "stream",
          "text": [
            "Num docs: 417 , Vocab size: 613 , Num words: 26674\n",
            "Removed top words: ['water', 'climate-change', 'model', 'management', 'resource', 'system', 'strategy', 'future', 'adaptation', 'climate']\n"
          ]
        },
        {
          "name": "stderr",
          "output_type": "stream",
          "text": [
            "Training...\n"
          ]
        },
        {
          "name": "stdout",
          "output_type": "stream",
          "text": [
            "Topic 2_Opti_topic 2_Coherence: 0.3807_Perplexity: 556.9\n",
            "Num docs: 417 , Vocab size: 613 , Num words: 26674\n",
            "Removed top words: ['water', 'climate-change', 'model', 'management', 'resource', 'system', 'strategy', 'future', 'adaptation', 'climate']\n"
          ]
        },
        {
          "name": "stderr",
          "output_type": "stream",
          "text": [
            "Training...\n"
          ]
        },
        {
          "name": "stdout",
          "output_type": "stream",
          "text": [
            "Topic 3_Opti_topic 3_Coherence: 0.4015_Perplexity: 551.3\n",
            "Num docs: 417 , Vocab size: 613 , Num words: 26674\n",
            "Removed top words: ['water', 'climate-change', 'model', 'management', 'resource', 'system', 'strategy', 'future', 'adaptation', 'climate']\n"
          ]
        },
        {
          "name": "stderr",
          "output_type": "stream",
          "text": [
            "Training...\n"
          ]
        },
        {
          "name": "stdout",
          "output_type": "stream",
          "text": [
            "Topic 4_Opti_topic 3_Coherence: 0.3937_Perplexity: 550.0\n",
            "Num docs: 417 , Vocab size: 613 , Num words: 26674\n",
            "Removed top words: ['water', 'climate-change', 'model', 'management', 'resource', 'system', 'strategy', 'future', 'adaptation', 'climate']\n"
          ]
        },
        {
          "name": "stderr",
          "output_type": "stream",
          "text": [
            "Training...\n"
          ]
        },
        {
          "name": "stdout",
          "output_type": "stream",
          "text": [
            "Topic 5_Opti_topic 5_Coherence: 0.4739_Perplexity: 544.5\n",
            "Num docs: 417 , Vocab size: 613 , Num words: 26674\n",
            "Removed top words: ['water', 'climate-change', 'model', 'management', 'resource', 'system', 'strategy', 'future', 'adaptation', 'climate']\n"
          ]
        },
        {
          "name": "stderr",
          "output_type": "stream",
          "text": [
            "Training...\n"
          ]
        },
        {
          "name": "stdout",
          "output_type": "stream",
          "text": [
            "Topic 6_Opti_topic 5_Coherence: 0.3964_Perplexity: 546.9\n",
            "Num docs: 417 , Vocab size: 613 , Num words: 26674\n",
            "Removed top words: ['water', 'climate-change', 'model', 'management', 'resource', 'system', 'strategy', 'future', 'adaptation', 'climate']\n"
          ]
        },
        {
          "name": "stderr",
          "output_type": "stream",
          "text": [
            "Training...\n"
          ]
        },
        {
          "name": "stdout",
          "output_type": "stream",
          "text": [
            "Topic 7_Opti_topic 6_Coherence: 0.4632_Perplexity: 545.1\n",
            "Num docs: 417 , Vocab size: 613 , Num words: 26674\n",
            "Removed top words: ['water', 'climate-change', 'model', 'management', 'resource', 'system', 'strategy', 'future', 'adaptation', 'climate']\n"
          ]
        },
        {
          "name": "stderr",
          "output_type": "stream",
          "text": [
            "Training...\n"
          ]
        },
        {
          "name": "stdout",
          "output_type": "stream",
          "text": [
            "Topic 8_Opti_topic 5_Coherence: 0.4391_Perplexity: 546.2\n",
            "Num docs: 417 , Vocab size: 613 , Num words: 26674\n",
            "Removed top words: ['water', 'climate-change', 'model', 'management', 'resource', 'system', 'strategy', 'future', 'adaptation', 'climate']\n"
          ]
        },
        {
          "name": "stderr",
          "output_type": "stream",
          "text": [
            "Training...\n"
          ]
        },
        {
          "name": "stdout",
          "output_type": "stream",
          "text": [
            "Topic 9_Opti_topic 7_Coherence: 0.4411_Perplexity: 541.6\n",
            "Num docs: 417 , Vocab size: 613 , Num words: 26674\n",
            "Removed top words: ['water', 'climate-change', 'model', 'management', 'resource', 'system', 'strategy', 'future', 'adaptation', 'climate']\n"
          ]
        },
        {
          "name": "stderr",
          "output_type": "stream",
          "text": [
            "Training...\n"
          ]
        },
        {
          "name": "stdout",
          "output_type": "stream",
          "text": [
            "Topic 10_Opti_topic 5_Coherence: 0.4065_Perplexity: 549.7\n",
            "Topics : 1, Sub_topics : 5, Coherence_score : 0.4739\n",
            "Num docs: 352 , Vocab size: 532 , Num words: 21496\n",
            "Removed top words: ['flood', 'climate-change', 'urban', 'water', 'risk', 'area', 'system', 'adaptation', 'coastal', 'design']\n"
          ]
        },
        {
          "name": "stderr",
          "output_type": "stream",
          "text": [
            "Training...\n"
          ]
        },
        {
          "name": "stdout",
          "output_type": "stream",
          "text": [
            "Topic 2_Opti_topic 2_Coherence: 0.3482_Perplexity: 487.7\n",
            "Num docs: 352 , Vocab size: 532 , Num words: 21496\n",
            "Removed top words: ['flood', 'climate-change', 'urban', 'water', 'risk', 'area', 'system', 'adaptation', 'coastal', 'design']\n"
          ]
        },
        {
          "name": "stderr",
          "output_type": "stream",
          "text": [
            "Training...\n"
          ]
        },
        {
          "name": "stdout",
          "output_type": "stream",
          "text": [
            "Topic 3_Opti_topic 3_Coherence: 0.3455_Perplexity: 483.1\n",
            "Num docs: 352 , Vocab size: 532 , Num words: 21496\n",
            "Removed top words: ['flood', 'climate-change', 'urban', 'water', 'risk', 'area', 'system', 'adaptation', 'coastal', 'design']\n"
          ]
        },
        {
          "name": "stderr",
          "output_type": "stream",
          "text": [
            "Training...\n"
          ]
        },
        {
          "name": "stdout",
          "output_type": "stream",
          "text": [
            "Topic 4_Opti_topic 3_Coherence: 0.3507_Perplexity: 484.2\n",
            "Num docs: 352 , Vocab size: 532 , Num words: 21496\n",
            "Removed top words: ['flood', 'climate-change', 'urban', 'water', 'risk', 'area', 'system', 'adaptation', 'coastal', 'design']\n"
          ]
        },
        {
          "name": "stderr",
          "output_type": "stream",
          "text": [
            "Training...\n"
          ]
        },
        {
          "name": "stdout",
          "output_type": "stream",
          "text": [
            "Topic 5_Opti_topic 5_Coherence: 0.393_Perplexity: 481.1\n",
            "Num docs: 352 , Vocab size: 532 , Num words: 21496\n",
            "Removed top words: ['flood', 'climate-change', 'urban', 'water', 'risk', 'area', 'system', 'adaptation', 'coastal', 'design']\n"
          ]
        },
        {
          "name": "stderr",
          "output_type": "stream",
          "text": [
            "Training...\n"
          ]
        },
        {
          "name": "stdout",
          "output_type": "stream",
          "text": [
            "Topic 6_Opti_topic 7_Coherence: 0.5033_Perplexity: 477.5\n",
            "Num docs: 352 , Vocab size: 532 , Num words: 21496\n",
            "Removed top words: ['flood', 'climate-change', 'urban', 'water', 'risk', 'area', 'system', 'adaptation', 'coastal', 'design']\n"
          ]
        },
        {
          "name": "stderr",
          "output_type": "stream",
          "text": [
            "Training...\n"
          ]
        },
        {
          "name": "stdout",
          "output_type": "stream",
          "text": [
            "Topic 7_Opti_topic 4_Coherence: 0.3188_Perplexity: 481.2\n",
            "Num docs: 352 , Vocab size: 532 , Num words: 21496\n",
            "Removed top words: ['flood', 'climate-change', 'urban', 'water', 'risk', 'area', 'system', 'adaptation', 'coastal', 'design']\n"
          ]
        },
        {
          "name": "stderr",
          "output_type": "stream",
          "text": [
            "Training...\n"
          ]
        },
        {
          "name": "stdout",
          "output_type": "stream",
          "text": [
            "Topic 8_Opti_topic 7_Coherence: 0.3888_Perplexity: 474.3\n",
            "Num docs: 352 , Vocab size: 532 , Num words: 21496\n",
            "Removed top words: ['flood', 'climate-change', 'urban', 'water', 'risk', 'area', 'system', 'adaptation', 'coastal', 'design']\n"
          ]
        },
        {
          "name": "stderr",
          "output_type": "stream",
          "text": [
            "Training...\n"
          ]
        },
        {
          "name": "stdout",
          "output_type": "stream",
          "text": [
            "Topic 9_Opti_topic 6_Coherence: 0.3101_Perplexity: 480.1\n",
            "Num docs: 352 , Vocab size: 532 , Num words: 21496\n",
            "Removed top words: ['flood', 'climate-change', 'urban', 'water', 'risk', 'area', 'system', 'adaptation', 'coastal', 'design']\n",
            "Topic 10_Opti_topic 5_Coherence: 0.3337_Perplexity: 481.3\n",
            "Topics : 0, Sub_topics : 6, Coherence_score : 0.5033\n"
          ]
        },
        {
          "name": "stderr",
          "output_type": "stream",
          "text": [
            "C:\\Users\\Public\\Documents\\ESTsoft\\CreatorTemp\\ipykernel_59236\\2884310502.py:55: FutureWarning: save is not part of the public API, usage can give unexpected results and will be removed in a future version\n",
            "  writer.save()\n",
            "C:\\Users\\Public\\Documents\\ESTsoft\\CreatorTemp\\ipykernel_59236\\2884310502.py:24: RuntimeWarning: The training result may differ even with fixed seed if `workers` != 1.\n",
            "  mdl.train(0)\n",
            "Training...\n"
          ]
        },
        {
          "name": "stdout",
          "output_type": "stream",
          "text": [
            "Num docs: 660 , Vocab size: 769 , Num words: 42582\n",
            "Removed top words: ['energy', 'policy', 'emission', 'power', 'carbon', 'cost', 'CO2', 'system', 'model', 'electricity']\n"
          ]
        },
        {
          "name": "stderr",
          "output_type": "stream",
          "text": [
            "Training...\n"
          ]
        },
        {
          "name": "stdout",
          "output_type": "stream",
          "text": [
            "Topic 2_Opti_topic 2_Coherence: 0.4461_Perplexity: 611.6\n",
            "Num docs: 660 , Vocab size: 769 , Num words: 42582\n",
            "Removed top words: ['energy', 'policy', 'emission', 'power', 'carbon', 'cost', 'CO2', 'system', 'model', 'electricity']\n"
          ]
        },
        {
          "name": "stderr",
          "output_type": "stream",
          "text": [
            "Training...\n"
          ]
        },
        {
          "name": "stdout",
          "output_type": "stream",
          "text": [
            "Topic 3_Opti_topic 4_Coherence: 0.5024_Perplexity: 613.4\n",
            "Num docs: 660 , Vocab size: 769 , Num words: 42582\n",
            "Removed top words: ['energy', 'policy', 'emission', 'power', 'carbon', 'cost', 'CO2', 'system', 'model', 'electricity']\n"
          ]
        },
        {
          "name": "stderr",
          "output_type": "stream",
          "text": [
            "Training...\n"
          ]
        },
        {
          "name": "stdout",
          "output_type": "stream",
          "text": [
            "Topic 4_Opti_topic 4_Coherence: 0.5396_Perplexity: 609.6\n",
            "Num docs: 660 , Vocab size: 769 , Num words: 42582\n",
            "Removed top words: ['energy', 'policy', 'emission', 'power', 'carbon', 'cost', 'CO2', 'system', 'model', 'electricity']\n"
          ]
        },
        {
          "name": "stderr",
          "output_type": "stream",
          "text": [
            "Training...\n"
          ]
        },
        {
          "name": "stdout",
          "output_type": "stream",
          "text": [
            "Topic 5_Opti_topic 5_Coherence: 0.5009_Perplexity: 608.5\n",
            "Num docs: 660 , Vocab size: 769 , Num words: 42582\n",
            "Removed top words: ['energy', 'policy', 'emission', 'power', 'carbon', 'cost', 'CO2', 'system', 'model', 'electricity']\n"
          ]
        },
        {
          "name": "stderr",
          "output_type": "stream",
          "text": [
            "Training...\n"
          ]
        },
        {
          "name": "stdout",
          "output_type": "stream",
          "text": [
            "Topic 6_Opti_topic 6_Coherence: 0.5328_Perplexity: 597.3\n",
            "Num docs: 660 , Vocab size: 769 , Num words: 42582\n",
            "Removed top words: ['energy', 'policy', 'emission', 'power', 'carbon', 'cost', 'CO2', 'system', 'model', 'electricity']\n"
          ]
        },
        {
          "name": "stderr",
          "output_type": "stream",
          "text": [
            "Training...\n"
          ]
        },
        {
          "name": "stdout",
          "output_type": "stream",
          "text": [
            "Topic 7_Opti_topic 7_Coherence: 0.5553_Perplexity: 624.6\n",
            "Num docs: 660 , Vocab size: 769 , Num words: 42582\n",
            "Removed top words: ['energy', 'policy', 'emission', 'power', 'carbon', 'cost', 'CO2', 'system', 'model', 'electricity']\n"
          ]
        },
        {
          "name": "stderr",
          "output_type": "stream",
          "text": [
            "Training...\n"
          ]
        },
        {
          "name": "stdout",
          "output_type": "stream",
          "text": [
            "Topic 8_Opti_topic 8_Coherence: 0.6056_Perplexity: 595.1\n",
            "Num docs: 660 , Vocab size: 769 , Num words: 42582\n",
            "Removed top words: ['energy', 'policy', 'emission', 'power', 'carbon', 'cost', 'CO2', 'system', 'model', 'electricity']\n"
          ]
        },
        {
          "name": "stderr",
          "output_type": "stream",
          "text": [
            "Training...\n"
          ]
        },
        {
          "name": "stdout",
          "output_type": "stream",
          "text": [
            "Topic 9_Opti_topic 8_Coherence: 0.5566_Perplexity: 621.4\n",
            "Num docs: 660 , Vocab size: 769 , Num words: 42582\n",
            "Removed top words: ['energy', 'policy', 'emission', 'power', 'carbon', 'cost', 'CO2', 'system', 'model', 'electricity']\n"
          ]
        },
        {
          "name": "stderr",
          "output_type": "stream",
          "text": [
            "Training...\n",
            "Training...\n",
            "Training...\n",
            "Training...\n",
            "Training...\n",
            "Training...\n",
            "Training...\n",
            "Training...\n",
            "Training...\n"
          ]
        },
        {
          "name": "stdout",
          "output_type": "stream",
          "text": [
            "Topic 10_Opti_topic 10_Coherence: 0.5586_Perplexity: 594.8\n",
            "Topics : 8, Sub_topics : 8, Coherence_score : 0.6056\n",
            "Num docs: 12 , Vocab size: 0 , Num words: 0\n",
            "Removed top words: ['air', 'policy', 'pollution', 'emission', 'health', 'control', 'climate', 'china', 'scenario', 'quality']\n",
            "Topic 2_Opti_topic 0_Coherence: nan_Perplexity: nan\n",
            "Num docs: 12 , Vocab size: 0 , Num words: 0\n",
            "Removed top words: ['air', 'policy', 'pollution', 'emission', 'health', 'control', 'climate', 'china', 'scenario', 'quality']\n",
            "Topic 3_Opti_topic 0_Coherence: nan_Perplexity: nan\n",
            "Num docs: 12 , Vocab size: 0 , Num words: 0\n",
            "Removed top words: ['air', 'policy', 'pollution', 'emission', 'health', 'control', 'climate', 'china', 'scenario', 'quality']\n",
            "Topic 4_Opti_topic 0_Coherence: nan_Perplexity: nan\n",
            "Num docs: 12 , Vocab size: 0 , Num words: 0\n",
            "Removed top words: ['air', 'policy', 'pollution', 'emission', 'health', 'control', 'climate', 'china', 'scenario', 'quality']\n",
            "Topic 5_Opti_topic 0_Coherence: nan_Perplexity: nan\n",
            "Num docs: 12 , Vocab size: 0 , Num words: 0\n",
            "Removed top words: ['air', 'policy', 'pollution', 'emission', 'health', 'control', 'climate', 'china', 'scenario', 'quality']\n",
            "Topic 6_Opti_topic 0_Coherence: nan_Perplexity: nan\n",
            "Num docs: 12 , Vocab size: 0 , Num words: 0\n",
            "Removed top words: ['air', 'policy', 'pollution', 'emission', 'health', 'control', 'climate', 'china', 'scenario', 'quality']\n",
            "Topic 7_Opti_topic 0_Coherence: nan_Perplexity: nan\n",
            "Num docs: 12 , Vocab size: 0 , Num words: 0\n",
            "Removed top words: ['air', 'policy', 'pollution', 'emission', 'health', 'control', 'climate', 'china', 'scenario', 'quality']\n",
            "Topic 8_Opti_topic 0_Coherence: nan_Perplexity: nan\n",
            "Num docs: 12 , Vocab size: 0 , Num words: 0\n",
            "Removed top words: ['air', 'policy', 'pollution', 'emission', 'health', 'control', 'climate', 'china', 'scenario', 'quality']\n",
            "Topic 9_Opti_topic 0_Coherence: nan_Perplexity: nan\n",
            "Num docs: 12 , Vocab size: 0 , Num words: 0\n",
            "Removed top words: ['air', 'policy', 'pollution', 'emission', 'health', 'control', 'climate', 'china', 'scenario', 'quality']\n",
            "Topic 10_Opti_topic 0_Coherence: nan_Perplexity: nan\n",
            "Topics : 0, Sub_topics : 2, Coherence_score : nan\n"
          ]
        },
        {
          "name": "stderr",
          "output_type": "stream",
          "text": [
            "C:\\Users\\Public\\Documents\\ESTsoft\\CreatorTemp\\ipykernel_59236\\2884310502.py:55: FutureWarning: save is not part of the public API, usage can give unexpected results and will be removed in a future version\n",
            "  writer.save()\n",
            "C:\\Users\\Public\\Documents\\ESTsoft\\CreatorTemp\\ipykernel_59236\\2884310502.py:24: RuntimeWarning: The training result may differ even with fixed seed if `workers` != 1.\n",
            "  mdl.train(0)\n",
            "Training...\n"
          ]
        },
        {
          "name": "stdout",
          "output_type": "stream",
          "text": [
            "Num docs: 604 , Vocab size: 899 , Num words: 44558\n",
            "Removed top words: ['climate-change', 'specie', 'area', 'conservation', 'ecosystem', 'management', 'carbon', 'strategy', 'change', 'climate']\n"
          ]
        },
        {
          "name": "stderr",
          "output_type": "stream",
          "text": [
            "Training...\n"
          ]
        },
        {
          "name": "stdout",
          "output_type": "stream",
          "text": [
            "Topic 2_Opti_topic 3_Coherence: 0.417_Perplexity: 737.0\n",
            "Num docs: 604 , Vocab size: 899 , Num words: 44558\n",
            "Removed top words: ['climate-change', 'specie', 'area', 'conservation', 'ecosystem', 'management', 'carbon', 'strategy', 'change', 'climate']\n"
          ]
        },
        {
          "name": "stderr",
          "output_type": "stream",
          "text": [
            "Training...\n"
          ]
        },
        {
          "name": "stdout",
          "output_type": "stream",
          "text": [
            "Topic 3_Opti_topic 3_Coherence: 0.4362_Perplexity: 731.0\n",
            "Num docs: 604 , Vocab size: 899 , Num words: 44558\n",
            "Removed top words: ['climate-change', 'specie', 'area', 'conservation', 'ecosystem', 'management', 'carbon', 'strategy', 'change', 'climate']\n"
          ]
        },
        {
          "name": "stderr",
          "output_type": "stream",
          "text": [
            "Training...\n"
          ]
        },
        {
          "name": "stdout",
          "output_type": "stream",
          "text": [
            "Topic 4_Opti_topic 4_Coherence: 0.4543_Perplexity: 729.3\n",
            "Num docs: 604 , Vocab size: 899 , Num words: 44558\n",
            "Removed top words: ['climate-change', 'specie', 'area', 'conservation', 'ecosystem', 'management', 'carbon', 'strategy', 'change', 'climate']\n"
          ]
        },
        {
          "name": "stderr",
          "output_type": "stream",
          "text": [
            "Training...\n"
          ]
        },
        {
          "name": "stdout",
          "output_type": "stream",
          "text": [
            "Topic 5_Opti_topic 5_Coherence: 0.4786_Perplexity: 730.1\n",
            "Num docs: 604 , Vocab size: 899 , Num words: 44558\n",
            "Removed top words: ['climate-change', 'specie', 'area', 'conservation', 'ecosystem', 'management', 'carbon', 'strategy', 'change', 'climate']\n"
          ]
        },
        {
          "name": "stderr",
          "output_type": "stream",
          "text": [
            "Training...\n"
          ]
        },
        {
          "name": "stdout",
          "output_type": "stream",
          "text": [
            "Topic 6_Opti_topic 6_Coherence: 0.4809_Perplexity: 726.0\n",
            "Num docs: 604 , Vocab size: 899 , Num words: 44558\n",
            "Removed top words: ['climate-change', 'specie', 'area', 'conservation', 'ecosystem', 'management', 'carbon', 'strategy', 'change', 'climate']\n"
          ]
        },
        {
          "name": "stderr",
          "output_type": "stream",
          "text": [
            "Training...\n"
          ]
        },
        {
          "name": "stdout",
          "output_type": "stream",
          "text": [
            "Topic 7_Opti_topic 7_Coherence: 0.4747_Perplexity: 724.6\n",
            "Num docs: 604 , Vocab size: 899 , Num words: 44558\n",
            "Removed top words: ['climate-change', 'specie', 'area', 'conservation', 'ecosystem', 'management', 'carbon', 'strategy', 'change', 'climate']\n"
          ]
        },
        {
          "name": "stderr",
          "output_type": "stream",
          "text": [
            "Training...\n"
          ]
        },
        {
          "name": "stdout",
          "output_type": "stream",
          "text": [
            "Topic 8_Opti_topic 7_Coherence: 0.4584_Perplexity: 760.4\n",
            "Num docs: 604 , Vocab size: 899 , Num words: 44558\n",
            "Removed top words: ['climate-change', 'specie', 'area', 'conservation', 'ecosystem', 'management', 'carbon', 'strategy', 'change', 'climate']\n"
          ]
        },
        {
          "name": "stderr",
          "output_type": "stream",
          "text": [
            "Training...\n"
          ]
        },
        {
          "name": "stdout",
          "output_type": "stream",
          "text": [
            "Topic 9_Opti_topic 10_Coherence: 0.4665_Perplexity: 714.6\n",
            "Num docs: 604 , Vocab size: 899 , Num words: 44558\n",
            "Removed top words: ['climate-change', 'specie', 'area', 'conservation', 'ecosystem', 'management', 'carbon', 'strategy', 'change', 'climate']\n"
          ]
        },
        {
          "name": "stderr",
          "output_type": "stream",
          "text": [
            "Training...\n",
            "Training...\n",
            "Training...\n",
            "Training...\n",
            "Training...\n",
            "Training...\n",
            "Training...\n",
            "Training...\n",
            "Training...\n"
          ]
        },
        {
          "name": "stdout",
          "output_type": "stream",
          "text": [
            "Topic 10_Opti_topic 10_Coherence: 0.4734_Perplexity: 752.1\n",
            "Topics : 8, Sub_topics : 6, Coherence_score : 0.4809\n",
            "Num docs: 11 , Vocab size: 0 , Num words: 0\n",
            "Removed top words: ['land', 'soil', 'SOC', 'carbon', 'stock', 'sequestration', 'change', 'use', 'climate-change', 'management']\n",
            "Topic 2_Opti_topic 0_Coherence: nan_Perplexity: nan\n",
            "Num docs: 11 , Vocab size: 0 , Num words: 0\n",
            "Removed top words: ['land', 'soil', 'SOC', 'carbon', 'stock', 'sequestration', 'change', 'use', 'climate-change', 'management']\n",
            "Topic 3_Opti_topic 0_Coherence: nan_Perplexity: nan\n",
            "Num docs: 11 , Vocab size: 0 , Num words: 0\n",
            "Removed top words: ['land', 'soil', 'SOC', 'carbon', 'stock', 'sequestration', 'change', 'use', 'climate-change', 'management']\n",
            "Topic 4_Opti_topic 0_Coherence: nan_Perplexity: nan\n",
            "Num docs: 11 , Vocab size: 0 , Num words: 0\n",
            "Removed top words: ['land', 'soil', 'SOC', 'carbon', 'stock', 'sequestration', 'change', 'use', 'climate-change', 'management']\n",
            "Topic 5_Opti_topic 0_Coherence: nan_Perplexity: nan\n",
            "Num docs: 11 , Vocab size: 0 , Num words: 0\n",
            "Removed top words: ['land', 'soil', 'SOC', 'carbon', 'stock', 'sequestration', 'change', 'use', 'climate-change', 'management']\n",
            "Topic 6_Opti_topic 0_Coherence: nan_Perplexity: nan\n",
            "Num docs: 11 , Vocab size: 0 , Num words: 0\n",
            "Removed top words: ['land', 'soil', 'SOC', 'carbon', 'stock', 'sequestration', 'change', 'use', 'climate-change', 'management']\n",
            "Topic 7_Opti_topic 0_Coherence: nan_Perplexity: nan\n",
            "Num docs: 11 , Vocab size: 0 , Num words: 0\n",
            "Removed top words: ['land', 'soil', 'SOC', 'carbon', 'stock', 'sequestration', 'change', 'use', 'climate-change', 'management']\n",
            "Topic 8_Opti_topic 0_Coherence: nan_Perplexity: nan\n",
            "Num docs: 11 , Vocab size: 0 , Num words: 0\n",
            "Removed top words: ['land', 'soil', 'SOC', 'carbon', 'stock', 'sequestration', 'change', 'use', 'climate-change', 'management']\n",
            "Topic 9_Opti_topic 0_Coherence: nan_Perplexity: nan\n",
            "Num docs: 11 , Vocab size: 0 , Num words: 0\n",
            "Removed top words: ['land', 'soil', 'SOC', 'carbon', 'stock', 'sequestration', 'change', 'use', 'climate-change', 'management']\n",
            "Topic 10_Opti_topic 0_Coherence: nan_Perplexity: nan\n",
            "Topics : 5, Sub_topics : 2, Coherence_score : nan\n"
          ]
        },
        {
          "name": "stderr",
          "output_type": "stream",
          "text": [
            "C:\\Users\\Public\\Documents\\ESTsoft\\CreatorTemp\\ipykernel_59236\\2884310502.py:55: FutureWarning: save is not part of the public API, usage can give unexpected results and will be removed in a future version\n",
            "  writer.save()\n",
            "C:\\Users\\Public\\Documents\\ESTsoft\\CreatorTemp\\ipykernel_59236\\2884310502.py:24: RuntimeWarning: The training result may differ even with fixed seed if `workers` != 1.\n",
            "  mdl.train(0)\n",
            "Training...\n"
          ]
        },
        {
          "name": "stdout",
          "output_type": "stream",
          "text": [
            "Num docs: 488 , Vocab size: 548 , Num words: 27245\n",
            "Removed top words: ['energy', 'policy', 'carbon-emission', 'china', 'carbon', 'emission', 'development', 'industry', 'low-carbon', 'reduction']\n"
          ]
        },
        {
          "name": "stderr",
          "output_type": "stream",
          "text": [
            "Training...\n"
          ]
        },
        {
          "name": "stdout",
          "output_type": "stream",
          "text": [
            "Topic 2_Opti_topic 3_Coherence: 0.4525_Perplexity: 451.8\n",
            "Num docs: 488 , Vocab size: 548 , Num words: 27245\n",
            "Removed top words: ['energy', 'policy', 'carbon-emission', 'china', 'carbon', 'emission', 'development', 'industry', 'low-carbon', 'reduction']\n"
          ]
        },
        {
          "name": "stderr",
          "output_type": "stream",
          "text": [
            "Training...\n"
          ]
        },
        {
          "name": "stdout",
          "output_type": "stream",
          "text": [
            "Topic 3_Opti_topic 4_Coherence: 0.4266_Perplexity: 442.6\n",
            "Num docs: 488 , Vocab size: 548 , Num words: 27245\n",
            "Removed top words: ['energy', 'policy', 'carbon-emission', 'china', 'carbon', 'emission', 'development', 'industry', 'low-carbon', 'reduction']\n"
          ]
        },
        {
          "name": "stderr",
          "output_type": "stream",
          "text": [
            "Training...\n"
          ]
        },
        {
          "name": "stdout",
          "output_type": "stream",
          "text": [
            "Topic 4_Opti_topic 5_Coherence: 0.4646_Perplexity: 453.8\n",
            "Num docs: 488 , Vocab size: 548 , Num words: 27245\n",
            "Removed top words: ['energy', 'policy', 'carbon-emission', 'china', 'carbon', 'emission', 'development', 'industry', 'low-carbon', 'reduction']\n"
          ]
        },
        {
          "name": "stderr",
          "output_type": "stream",
          "text": [
            "Training...\n"
          ]
        },
        {
          "name": "stdout",
          "output_type": "stream",
          "text": [
            "Topic 5_Opti_topic 6_Coherence: 0.4721_Perplexity: 456.8\n",
            "Num docs: 488 , Vocab size: 548 , Num words: 27245\n",
            "Removed top words: ['energy', 'policy', 'carbon-emission', 'china', 'carbon', 'emission', 'development', 'industry', 'low-carbon', 'reduction']\n"
          ]
        },
        {
          "name": "stderr",
          "output_type": "stream",
          "text": [
            "Training...\n"
          ]
        },
        {
          "name": "stdout",
          "output_type": "stream",
          "text": [
            "Topic 6_Opti_topic 7_Coherence: 0.5056_Perplexity: 459.7\n",
            "Num docs: 488 , Vocab size: 548 , Num words: 27245\n",
            "Removed top words: ['energy', 'policy', 'carbon-emission', 'china', 'carbon', 'emission', 'development', 'industry', 'low-carbon', 'reduction']\n"
          ]
        },
        {
          "name": "stderr",
          "output_type": "stream",
          "text": [
            "Training...\n"
          ]
        },
        {
          "name": "stdout",
          "output_type": "stream",
          "text": [
            "Topic 7_Opti_topic 9_Coherence: 0.5183_Perplexity: 453.9\n",
            "Num docs: 488 , Vocab size: 548 , Num words: 27245\n",
            "Removed top words: ['energy', 'policy', 'carbon-emission', 'china', 'carbon', 'emission', 'development', 'industry', 'low-carbon', 'reduction']\n"
          ]
        },
        {
          "name": "stderr",
          "output_type": "stream",
          "text": [
            "Training...\n"
          ]
        },
        {
          "name": "stdout",
          "output_type": "stream",
          "text": [
            "Topic 8_Opti_topic 8_Coherence: 0.4564_Perplexity: 462.2\n",
            "Num docs: 488 , Vocab size: 548 , Num words: 27245\n",
            "Removed top words: ['energy', 'policy', 'carbon-emission', 'china', 'carbon', 'emission', 'development', 'industry', 'low-carbon', 'reduction']\n"
          ]
        },
        {
          "name": "stderr",
          "output_type": "stream",
          "text": [
            "Training...\n"
          ]
        },
        {
          "name": "stdout",
          "output_type": "stream",
          "text": [
            "Topic 9_Opti_topic 9_Coherence: 0.4318_Perplexity: 455.9\n",
            "Num docs: 488 , Vocab size: 548 , Num words: 27245\n",
            "Removed top words: ['energy', 'policy', 'carbon-emission', 'china', 'carbon', 'emission', 'development', 'industry', 'low-carbon', 'reduction']\n"
          ]
        },
        {
          "name": "stderr",
          "output_type": "stream",
          "text": [
            "Training...\n"
          ]
        },
        {
          "name": "stdout",
          "output_type": "stream",
          "text": [
            "Topic 10_Opti_topic 9_Coherence: 0.4474_Perplexity: 441.2\n",
            "Topics : 4, Sub_topics : 7, Coherence_score : 0.5183\n",
            "Num docs: 47 , Vocab size: 49 , Num words: 1113\n",
            "Removed top words: ['policy', 'city', 'pilot', 'innovation', 'low-carbon', 'china', 'carbon-emission', 'green', 'urban', 'reduction']\n",
            "Topic 2_Opti_topic 4_Coherence: 0.3659_Perplexity: 61.82\n",
            "Num docs: 47 , Vocab size: 49 , Num words: 1113\n",
            "Removed top words: ['policy', 'city', 'pilot', 'innovation', 'low-carbon', 'china', 'carbon-emission', 'green', 'urban', 'reduction']\n"
          ]
        },
        {
          "name": "stderr",
          "output_type": "stream",
          "text": [
            "Training...\n",
            "Training...\n"
          ]
        },
        {
          "name": "stdout",
          "output_type": "stream",
          "text": [
            "Topic 3_Opti_topic 3_Coherence: 0.3595_Perplexity: 61.11\n",
            "Num docs: 47 , Vocab size: 49 , Num words: 1113\n",
            "Removed top words: ['policy', 'city', 'pilot', 'innovation', 'low-carbon', 'china', 'carbon-emission', 'green', 'urban', 'reduction']\n"
          ]
        },
        {
          "name": "stderr",
          "output_type": "stream",
          "text": [
            "Training...\n"
          ]
        },
        {
          "name": "stdout",
          "output_type": "stream",
          "text": [
            "Topic 4_Opti_topic 3_Coherence: 0.3707_Perplexity: 59.23\n",
            "Num docs: 47 , Vocab size: 49 , Num words: 1113\n",
            "Removed top words: ['policy', 'city', 'pilot', 'innovation', 'low-carbon', 'china', 'carbon-emission', 'green', 'urban', 'reduction']\n",
            "Topic 5_Opti_topic 2_Coherence: 0.3615_Perplexity: 59.39\n",
            "Num docs: 47 , Vocab size: 49 , Num words: 1113\n",
            "Removed top words: ['policy', 'city', 'pilot', 'innovation', 'low-carbon', 'china', 'carbon-emission', 'green', 'urban', 'reduction']\n"
          ]
        },
        {
          "name": "stderr",
          "output_type": "stream",
          "text": [
            "Training...\n",
            "Training...\n",
            "Training...\n"
          ]
        },
        {
          "name": "stdout",
          "output_type": "stream",
          "text": [
            "Topic 6_Opti_topic 1_Coherence: 0.3524_Perplexity: 57.95\n",
            "Num docs: 47 , Vocab size: 49 , Num words: 1113\n",
            "Removed top words: ['policy', 'city', 'pilot', 'innovation', 'low-carbon', 'china', 'carbon-emission', 'green', 'urban', 'reduction']\n",
            "Topic 7_Opti_topic 1_Coherence: 0.352_Perplexity: 57.96\n",
            "Num docs: 47 , Vocab size: 49 , Num words: 1113\n",
            "Removed top words: ['policy', 'city', 'pilot', 'innovation', 'low-carbon', 'china', 'carbon-emission', 'green', 'urban', 'reduction']\n"
          ]
        },
        {
          "name": "stderr",
          "output_type": "stream",
          "text": [
            "Training...\n"
          ]
        },
        {
          "name": "stdout",
          "output_type": "stream",
          "text": [
            "Topic 8_Opti_topic 3_Coherence: 0.3742_Perplexity: 64.81\n",
            "Num docs: 47 , Vocab size: 49 , Num words: 1113\n",
            "Removed top words: ['policy', 'city', 'pilot', 'innovation', 'low-carbon', 'china', 'carbon-emission', 'green', 'urban', 'reduction']\n"
          ]
        },
        {
          "name": "stderr",
          "output_type": "stream",
          "text": [
            "Training...\n"
          ]
        },
        {
          "name": "stdout",
          "output_type": "stream",
          "text": [
            "Topic 9_Opti_topic 4_Coherence: 0.3567_Perplexity: 59.3\n",
            "Num docs: 47 , Vocab size: 49 , Num words: 1113\n",
            "Removed top words: ['policy', 'city', 'pilot', 'innovation', 'low-carbon', 'china', 'carbon-emission', 'green', 'urban', 'reduction']\n",
            "Topic 10_Opti_topic 1_Coherence: 0.3522_Perplexity: 57.96\n",
            "Topics : 3, Sub_topics : 8, Coherence_score : 0.3742\n"
          ]
        },
        {
          "name": "stderr",
          "output_type": "stream",
          "text": [
            "C:\\Users\\Public\\Documents\\ESTsoft\\CreatorTemp\\ipykernel_59236\\2884310502.py:55: FutureWarning: save is not part of the public API, usage can give unexpected results and will be removed in a future version\n",
            "  writer.save()\n",
            "C:\\Users\\Public\\Documents\\ESTsoft\\CreatorTemp\\ipykernel_59236\\2884310502.py:24: RuntimeWarning: The training result may differ even with fixed seed if `workers` != 1.\n",
            "  mdl.train(0)\n",
            "Training...\n"
          ]
        },
        {
          "name": "stdout",
          "output_type": "stream",
          "text": [
            "Num docs: 249 , Vocab size: 391 , Num words: 13045\n",
            "Removed top words: ['CO2', 'process', 'energy', 'production', 'carbon', 'gas', 'fuel', 'emission', 'system', 'strategy']\n"
          ]
        },
        {
          "name": "stderr",
          "output_type": "stream",
          "text": [
            "Training...\n"
          ]
        },
        {
          "name": "stdout",
          "output_type": "stream",
          "text": [
            "Topic 2_Opti_topic 3_Coherence: 0.4165_Perplexity: 369.4\n",
            "Num docs: 249 , Vocab size: 391 , Num words: 13045\n",
            "Removed top words: ['CO2', 'process', 'energy', 'production', 'carbon', 'gas', 'fuel', 'emission', 'system', 'strategy']\n"
          ]
        },
        {
          "name": "stderr",
          "output_type": "stream",
          "text": [
            "Training...\n"
          ]
        },
        {
          "name": "stdout",
          "output_type": "stream",
          "text": [
            "Topic 3_Opti_topic 4_Coherence: 0.4036_Perplexity: 376.2\n",
            "Num docs: 249 , Vocab size: 391 , Num words: 13045\n",
            "Removed top words: ['CO2', 'process', 'energy', 'production', 'carbon', 'gas', 'fuel', 'emission', 'system', 'strategy']\n"
          ]
        },
        {
          "name": "stderr",
          "output_type": "stream",
          "text": [
            "Training...\n"
          ]
        },
        {
          "name": "stdout",
          "output_type": "stream",
          "text": [
            "Topic 4_Opti_topic 5_Coherence: 0.4402_Perplexity: 374.1\n",
            "Num docs: 249 , Vocab size: 391 , Num words: 13045\n",
            "Removed top words: ['CO2', 'process', 'energy', 'production', 'carbon', 'gas', 'fuel', 'emission', 'system', 'strategy']\n"
          ]
        },
        {
          "name": "stderr",
          "output_type": "stream",
          "text": [
            "Training...\n"
          ]
        },
        {
          "name": "stdout",
          "output_type": "stream",
          "text": [
            "Topic 5_Opti_topic 5_Coherence: 0.4312_Perplexity: 375.3\n",
            "Num docs: 249 , Vocab size: 391 , Num words: 13045\n",
            "Removed top words: ['CO2', 'process', 'energy', 'production', 'carbon', 'gas', 'fuel', 'emission', 'system', 'strategy']\n"
          ]
        },
        {
          "name": "stderr",
          "output_type": "stream",
          "text": [
            "Training...\n"
          ]
        },
        {
          "name": "stdout",
          "output_type": "stream",
          "text": [
            "Topic 6_Opti_topic 4_Coherence: 0.3967_Perplexity: 379.4\n",
            "Num docs: 249 , Vocab size: 391 , Num words: 13045\n",
            "Removed top words: ['CO2', 'process', 'energy', 'production', 'carbon', 'gas', 'fuel', 'emission', 'system', 'strategy']\n"
          ]
        },
        {
          "name": "stderr",
          "output_type": "stream",
          "text": [
            "Training...\n"
          ]
        },
        {
          "name": "stdout",
          "output_type": "stream",
          "text": [
            "Topic 7_Opti_topic 3_Coherence: 0.3714_Perplexity: 382.7\n",
            "Num docs: 249 , Vocab size: 391 , Num words: 13045\n",
            "Removed top words: ['CO2', 'process', 'energy', 'production', 'carbon', 'gas', 'fuel', 'emission', 'system', 'strategy']\n"
          ]
        },
        {
          "name": "stderr",
          "output_type": "stream",
          "text": [
            "Training...\n"
          ]
        },
        {
          "name": "stdout",
          "output_type": "stream",
          "text": [
            "Topic 8_Opti_topic 7_Coherence: 0.4059_Perplexity: 369.9\n",
            "Num docs: 249 , Vocab size: 391 , Num words: 13045\n",
            "Removed top words: ['CO2', 'process', 'energy', 'production', 'carbon', 'gas', 'fuel', 'emission', 'system', 'strategy']\n"
          ]
        },
        {
          "name": "stderr",
          "output_type": "stream",
          "text": [
            "Training...\n"
          ]
        },
        {
          "name": "stdout",
          "output_type": "stream",
          "text": [
            "Topic 9_Opti_topic 5_Coherence: 0.3736_Perplexity: 379.3\n",
            "Num docs: 249 , Vocab size: 391 , Num words: 13045\n",
            "Removed top words: ['CO2', 'process', 'energy', 'production', 'carbon', 'gas', 'fuel', 'emission', 'system', 'strategy']\n"
          ]
        },
        {
          "name": "stderr",
          "output_type": "stream",
          "text": [
            "Training...\n"
          ]
        },
        {
          "name": "stdout",
          "output_type": "stream",
          "text": [
            "Topic 10_Opti_topic 4_Coherence: 0.3607_Perplexity: 380.0\n",
            "Topics : 6, Sub_topics : 4, Coherence_score : 0.4402\n",
            "Num docs: 106 , Vocab size: 148 , Num words: 3672\n",
            "Removed top words: ['energy', 'CO2', 'catalyst', 'reaction', 'design', 'high', 'hydrogen', 'material', 'strategy', 'carbon']\n"
          ]
        },
        {
          "name": "stderr",
          "output_type": "stream",
          "text": [
            "Training...\n"
          ]
        },
        {
          "name": "stdout",
          "output_type": "stream",
          "text": [
            "Topic 2_Opti_topic 1_Coherence: 0.4012_Perplexity: 160.4\n",
            "Num docs: 106 , Vocab size: 148 , Num words: 3672\n",
            "Removed top words: ['energy', 'CO2', 'catalyst', 'reaction', 'design', 'high', 'hydrogen', 'material', 'strategy', 'carbon']\n"
          ]
        },
        {
          "name": "stderr",
          "output_type": "stream",
          "text": [
            "Training...\n"
          ]
        },
        {
          "name": "stdout",
          "output_type": "stream",
          "text": [
            "Topic 3_Opti_topic 1_Coherence: 0.4349_Perplexity: 160.4\n",
            "Num docs: 106 , Vocab size: 148 , Num words: 3672\n",
            "Removed top words: ['energy', 'CO2', 'catalyst', 'reaction', 'design', 'high', 'hydrogen', 'material', 'strategy', 'carbon']\n"
          ]
        },
        {
          "name": "stderr",
          "output_type": "stream",
          "text": [
            "Training...\n"
          ]
        },
        {
          "name": "stdout",
          "output_type": "stream",
          "text": [
            "Topic 4_Opti_topic 1_Coherence: 0.4413_Perplexity: 160.4\n",
            "Num docs: 106 , Vocab size: 148 , Num words: 3672\n",
            "Removed top words: ['energy', 'CO2', 'catalyst', 'reaction', 'design', 'high', 'hydrogen', 'material', 'strategy', 'carbon']\n"
          ]
        },
        {
          "name": "stderr",
          "output_type": "stream",
          "text": [
            "Training...\n"
          ]
        },
        {
          "name": "stdout",
          "output_type": "stream",
          "text": [
            "Topic 5_Opti_topic 1_Coherence: 0.4579_Perplexity: 160.4\n",
            "Num docs: 106 , Vocab size: 148 , Num words: 3672\n",
            "Removed top words: ['energy', 'CO2', 'catalyst', 'reaction', 'design', 'high', 'hydrogen', 'material', 'strategy', 'carbon']\n"
          ]
        },
        {
          "name": "stderr",
          "output_type": "stream",
          "text": [
            "Training...\n"
          ]
        },
        {
          "name": "stdout",
          "output_type": "stream",
          "text": [
            "Topic 6_Opti_topic 1_Coherence: 0.4456_Perplexity: 160.4\n",
            "Num docs: 106 , Vocab size: 148 , Num words: 3672\n",
            "Removed top words: ['energy', 'CO2', 'catalyst', 'reaction', 'design', 'high', 'hydrogen', 'material', 'strategy', 'carbon']\n"
          ]
        },
        {
          "name": "stderr",
          "output_type": "stream",
          "text": [
            "Training...\n"
          ]
        },
        {
          "name": "stdout",
          "output_type": "stream",
          "text": [
            "Topic 7_Opti_topic 2_Coherence: 0.4543_Perplexity: 158.9\n",
            "Num docs: 106 , Vocab size: 148 , Num words: 3672\n",
            "Removed top words: ['energy', 'CO2', 'catalyst', 'reaction', 'design', 'high', 'hydrogen', 'material', 'strategy', 'carbon']\n"
          ]
        },
        {
          "name": "stderr",
          "output_type": "stream",
          "text": [
            "Training...\n"
          ]
        },
        {
          "name": "stdout",
          "output_type": "stream",
          "text": [
            "Topic 8_Opti_topic 1_Coherence: 0.4331_Perplexity: 160.4\n",
            "Num docs: 106 , Vocab size: 148 , Num words: 3672\n",
            "Removed top words: ['energy', 'CO2', 'catalyst', 'reaction', 'design', 'high', 'hydrogen', 'material', 'strategy', 'carbon']\n"
          ]
        },
        {
          "name": "stderr",
          "output_type": "stream",
          "text": [
            "Training...\n"
          ]
        },
        {
          "name": "stdout",
          "output_type": "stream",
          "text": [
            "Topic 9_Opti_topic 1_Coherence: 0.4406_Perplexity: 160.4\n",
            "Num docs: 106 , Vocab size: 148 , Num words: 3672\n",
            "Removed top words: ['energy', 'CO2', 'catalyst', 'reaction', 'design', 'high', 'hydrogen', 'material', 'strategy', 'carbon']\n"
          ]
        },
        {
          "name": "stderr",
          "output_type": "stream",
          "text": [
            "Training...\n",
            "Training...\n",
            "Training...\n",
            "Training...\n",
            "Training...\n",
            "Training...\n",
            "Training...\n",
            "Training...\n",
            "Training...\n"
          ]
        },
        {
          "name": "stdout",
          "output_type": "stream",
          "text": [
            "Topic 10_Opti_topic 4_Coherence: 0.4233_Perplexity: 157.7\n",
            "Topics : 1, Sub_topics : 5, Coherence_score : 0.4579\n",
            "Num docs: 18 , Vocab size: 0 , Num words: 0\n",
            "Removed top words: ['carbon', 'low', 'study', 'engine', 'fuel', 'strength', 'material', 'efficiency', 'ignition', 'strategy']\n",
            "Topic 2_Opti_topic 0_Coherence: nan_Perplexity: nan\n",
            "Num docs: 18 , Vocab size: 0 , Num words: 0\n",
            "Removed top words: ['carbon', 'low', 'study', 'engine', 'fuel', 'strength', 'material', 'efficiency', 'ignition', 'strategy']\n",
            "Topic 3_Opti_topic 0_Coherence: nan_Perplexity: nan\n",
            "Num docs: 18 , Vocab size: 0 , Num words: 0\n",
            "Removed top words: ['carbon', 'low', 'study', 'engine', 'fuel', 'strength', 'material', 'efficiency', 'ignition', 'strategy']\n",
            "Topic 4_Opti_topic 0_Coherence: nan_Perplexity: nan\n",
            "Num docs: 18 , Vocab size: 0 , Num words: 0\n",
            "Removed top words: ['carbon', 'low', 'study', 'engine', 'fuel', 'strength', 'material', 'efficiency', 'ignition', 'strategy']\n",
            "Topic 5_Opti_topic 0_Coherence: nan_Perplexity: nan\n",
            "Num docs: 18 , Vocab size: 0 , Num words: 0\n",
            "Removed top words: ['carbon', 'low', 'study', 'engine', 'fuel', 'strength', 'material', 'efficiency', 'ignition', 'strategy']\n",
            "Topic 6_Opti_topic 0_Coherence: nan_Perplexity: nan\n",
            "Num docs: 18 , Vocab size: 0 , Num words: 0\n",
            "Removed top words: ['carbon', 'low', 'study', 'engine', 'fuel', 'strength', 'material', 'efficiency', 'ignition', 'strategy']\n",
            "Topic 7_Opti_topic 0_Coherence: nan_Perplexity: nan\n",
            "Num docs: 18 , Vocab size: 0 , Num words: 0\n",
            "Removed top words: ['carbon', 'low', 'study', 'engine', 'fuel', 'strength', 'material', 'efficiency', 'ignition', 'strategy']\n",
            "Topic 8_Opti_topic 0_Coherence: nan_Perplexity: nan\n",
            "Num docs: 18 , Vocab size: 0 , Num words: 0\n",
            "Removed top words: ['carbon', 'low', 'study', 'engine', 'fuel', 'strength', 'material', 'efficiency', 'ignition', 'strategy']\n",
            "Topic 9_Opti_topic 0_Coherence: nan_Perplexity: nan\n",
            "Num docs: 18 , Vocab size: 0 , Num words: 0\n",
            "Removed top words: ['carbon', 'low', 'study', 'engine', 'fuel', 'strength', 'material', 'efficiency', 'ignition', 'strategy']\n"
          ]
        },
        {
          "name": "stderr",
          "output_type": "stream",
          "text": [
            "Training...\n",
            "Training...\n",
            "Training...\n",
            "Training...\n",
            "Training...\n",
            "Training...\n",
            "Training...\n",
            "Training...\n",
            "Training...\n",
            "C:\\Users\\Public\\Documents\\ESTsoft\\CreatorTemp\\ipykernel_59236\\2884310502.py:55: FutureWarning: save is not part of the public API, usage can give unexpected results and will be removed in a future version\n",
            "  writer.save()\n"
          ]
        },
        {
          "name": "stdout",
          "output_type": "stream",
          "text": [
            "Topic 10_Opti_topic 0_Coherence: nan_Perplexity: nan\n",
            "Topics : 3, Sub_topics : 2, Coherence_score : nan\n",
            "Num docs: 11 , Vocab size: 0 , Num words: 0\n",
            "Removed top words: ['steel', 'corrosion', 'inhibition', 'inhibitor', 'efficiency', 'surface', 'solution', 'Ti', 'water', 'polarization']\n",
            "Topic 2_Opti_topic 0_Coherence: nan_Perplexity: nan\n",
            "Num docs: 11 , Vocab size: 0 , Num words: 0\n",
            "Removed top words: ['steel', 'corrosion', 'inhibition', 'inhibitor', 'efficiency', 'surface', 'solution', 'Ti', 'water', 'polarization']\n",
            "Topic 3_Opti_topic 0_Coherence: nan_Perplexity: nan\n",
            "Num docs: 11 , Vocab size: 0 , Num words: 0\n",
            "Removed top words: ['steel', 'corrosion', 'inhibition', 'inhibitor', 'efficiency', 'surface', 'solution', 'Ti', 'water', 'polarization']\n",
            "Topic 4_Opti_topic 0_Coherence: nan_Perplexity: nan\n",
            "Num docs: 11 , Vocab size: 0 , Num words: 0\n",
            "Removed top words: ['steel', 'corrosion', 'inhibition', 'inhibitor', 'efficiency', 'surface', 'solution', 'Ti', 'water', 'polarization']\n",
            "Topic 5_Opti_topic 0_Coherence: nan_Perplexity: nan\n",
            "Num docs: 11 , Vocab size: 0 , Num words: 0\n",
            "Removed top words: ['steel', 'corrosion', 'inhibition', 'inhibitor', 'efficiency', 'surface', 'solution', 'Ti', 'water', 'polarization']\n",
            "Topic 6_Opti_topic 0_Coherence: nan_Perplexity: nan\n",
            "Num docs: 11 , Vocab size: 0 , Num words: 0\n",
            "Removed top words: ['steel', 'corrosion', 'inhibition', 'inhibitor', 'efficiency', 'surface', 'solution', 'Ti', 'water', 'polarization']\n",
            "Topic 7_Opti_topic 0_Coherence: nan_Perplexity: nan\n",
            "Num docs: 11 , Vocab size: 0 , Num words: 0\n",
            "Removed top words: ['steel', 'corrosion', 'inhibition', 'inhibitor', 'efficiency', 'surface', 'solution', 'Ti', 'water', 'polarization']\n",
            "Topic 8_Opti_topic 0_Coherence: nan_Perplexity: nan\n",
            "Num docs: 11 , Vocab size: 0 , Num words: 0\n",
            "Removed top words: ['steel', 'corrosion', 'inhibition', 'inhibitor', 'efficiency', 'surface', 'solution', 'Ti', 'water', 'polarization']\n",
            "Topic 9_Opti_topic 0_Coherence: nan_Perplexity: nan\n",
            "Num docs: 11 , Vocab size: 0 , Num words: 0\n",
            "Removed top words: ['steel', 'corrosion', 'inhibition', 'inhibitor', 'efficiency', 'surface', 'solution', 'Ti', 'water', 'polarization']\n",
            "Topic 10_Opti_topic 0_Coherence: nan_Perplexity: nan\n",
            "Topics : 2, Sub_topics : 2, Coherence_score : nan\n"
          ]
        },
        {
          "name": "stderr",
          "output_type": "stream",
          "text": [
            "C:\\Users\\Public\\Documents\\ESTsoft\\CreatorTemp\\ipykernel_59236\\2884310502.py:24: RuntimeWarning: The training result may differ even with fixed seed if `workers` != 1.\n",
            "  mdl.train(0)\n",
            "Training...\n"
          ]
        },
        {
          "name": "stdout",
          "output_type": "stream",
          "text": [
            "Num docs: 185 , Vocab size: 300 , Num words: 10055\n",
            "Removed top words: ['water', 'plant', 'stress', 'drought', 'crop', 'climate-change', 'strategy', 'soil', 'yield', 'temperature']\n"
          ]
        },
        {
          "name": "stderr",
          "output_type": "stream",
          "text": [
            "Training...\n"
          ]
        },
        {
          "name": "stdout",
          "output_type": "stream",
          "text": [
            "Topic 2_Opti_topic 6_Coherence: 0.4031_Perplexity: 289.5\n",
            "Num docs: 185 , Vocab size: 300 , Num words: 10055\n",
            "Removed top words: ['water', 'plant', 'stress', 'drought', 'crop', 'climate-change', 'strategy', 'soil', 'yield', 'temperature']\n"
          ]
        },
        {
          "name": "stderr",
          "output_type": "stream",
          "text": [
            "Training...\n"
          ]
        },
        {
          "name": "stdout",
          "output_type": "stream",
          "text": [
            "Topic 3_Opti_topic 13_Coherence: 0.416_Perplexity: 280.9\n",
            "Num docs: 185 , Vocab size: 300 , Num words: 10055\n",
            "Removed top words: ['water', 'plant', 'stress', 'drought', 'crop', 'climate-change', 'strategy', 'soil', 'yield', 'temperature']\n"
          ]
        },
        {
          "name": "stderr",
          "output_type": "stream",
          "text": [
            "Training...\n"
          ]
        },
        {
          "name": "stdout",
          "output_type": "stream",
          "text": [
            "Topic 4_Opti_topic 4_Coherence: 0.3393_Perplexity: 292.9\n",
            "Num docs: 185 , Vocab size: 300 , Num words: 10055\n",
            "Removed top words: ['water', 'plant', 'stress', 'drought', 'crop', 'climate-change', 'strategy', 'soil', 'yield', 'temperature']\n"
          ]
        },
        {
          "name": "stderr",
          "output_type": "stream",
          "text": [
            "Training...\n"
          ]
        },
        {
          "name": "stdout",
          "output_type": "stream",
          "text": [
            "Topic 5_Opti_topic 16_Coherence: 0.4676_Perplexity: 279.0\n",
            "Num docs: 185 , Vocab size: 300 , Num words: 10055\n",
            "Removed top words: ['water', 'plant', 'stress', 'drought', 'crop', 'climate-change', 'strategy', 'soil', 'yield', 'temperature']\n"
          ]
        },
        {
          "name": "stderr",
          "output_type": "stream",
          "text": [
            "Training...\n"
          ]
        },
        {
          "name": "stdout",
          "output_type": "stream",
          "text": [
            "Topic 6_Opti_topic 6_Coherence: 0.3689_Perplexity: 283.3\n",
            "Num docs: 185 , Vocab size: 300 , Num words: 10055\n",
            "Removed top words: ['water', 'plant', 'stress', 'drought', 'crop', 'climate-change', 'strategy', 'soil', 'yield', 'temperature']\n"
          ]
        },
        {
          "name": "stderr",
          "output_type": "stream",
          "text": [
            "Training...\n"
          ]
        },
        {
          "name": "stdout",
          "output_type": "stream",
          "text": [
            "Topic 7_Opti_topic 4_Coherence: 0.3638_Perplexity: 289.4\n",
            "Num docs: 185 , Vocab size: 300 , Num words: 10055\n",
            "Removed top words: ['water', 'plant', 'stress', 'drought', 'crop', 'climate-change', 'strategy', 'soil', 'yield', 'temperature']\n"
          ]
        },
        {
          "name": "stderr",
          "output_type": "stream",
          "text": [
            "Training...\n"
          ]
        },
        {
          "name": "stdout",
          "output_type": "stream",
          "text": [
            "Topic 8_Opti_topic 8_Coherence: 0.3617_Perplexity: 281.2\n",
            "Num docs: 185 , Vocab size: 300 , Num words: 10055\n",
            "Removed top words: ['water', 'plant', 'stress', 'drought', 'crop', 'climate-change', 'strategy', 'soil', 'yield', 'temperature']\n"
          ]
        },
        {
          "name": "stderr",
          "output_type": "stream",
          "text": [
            "Training...\n"
          ]
        },
        {
          "name": "stdout",
          "output_type": "stream",
          "text": [
            "Topic 9_Opti_topic 3_Coherence: 0.3083_Perplexity: 293.6\n",
            "Num docs: 185 , Vocab size: 300 , Num words: 10055\n",
            "Removed top words: ['water', 'plant', 'stress', 'drought', 'crop', 'climate-change', 'strategy', 'soil', 'yield', 'temperature']\n"
          ]
        },
        {
          "name": "stderr",
          "output_type": "stream",
          "text": [
            "Training...\n"
          ]
        },
        {
          "name": "stdout",
          "output_type": "stream",
          "text": [
            "Topic 10_Opti_topic 4_Coherence: 0.356_Perplexity: 292.8\n",
            "Topics : 0, Sub_topics : 5, Coherence_score : 0.4676\n",
            "Num docs: 83 , Vocab size: 115 , Num words: 3760\n",
            "Removed top words: ['soil', 'emission', 'crop', 'carbon', 'system', 'practice', 'management', 'yield', 'tillage', 'production']\n"
          ]
        },
        {
          "name": "stderr",
          "output_type": "stream",
          "text": [
            "Training...\n"
          ]
        },
        {
          "name": "stdout",
          "output_type": "stream",
          "text": [
            "Topic 2_Opti_topic 10_Coherence: 0.4384_Perplexity: 117.5\n",
            "Num docs: 83 , Vocab size: 115 , Num words: 3760\n",
            "Removed top words: ['soil', 'emission', 'crop', 'carbon', 'system', 'practice', 'management', 'yield', 'tillage', 'production']\n"
          ]
        },
        {
          "name": "stderr",
          "output_type": "stream",
          "text": [
            "Training...\n"
          ]
        },
        {
          "name": "stdout",
          "output_type": "stream",
          "text": [
            "Topic 3_Opti_topic 9_Coherence: 0.4116_Perplexity: 112.8\n",
            "Num docs: 83 , Vocab size: 115 , Num words: 3760\n",
            "Removed top words: ['soil', 'emission', 'crop', 'carbon', 'system', 'practice', 'management', 'yield', 'tillage', 'production']\n"
          ]
        },
        {
          "name": "stderr",
          "output_type": "stream",
          "text": [
            "Training...\n"
          ]
        },
        {
          "name": "stdout",
          "output_type": "stream",
          "text": [
            "Topic 4_Opti_topic 9_Coherence: 0.4099_Perplexity: 125.7\n",
            "Num docs: 83 , Vocab size: 115 , Num words: 3760\n",
            "Removed top words: ['soil', 'emission', 'crop', 'carbon', 'system', 'practice', 'management', 'yield', 'tillage', 'production']\n"
          ]
        },
        {
          "name": "stderr",
          "output_type": "stream",
          "text": [
            "Training...\n"
          ]
        },
        {
          "name": "stdout",
          "output_type": "stream",
          "text": [
            "Topic 5_Opti_topic 10_Coherence: 0.4226_Perplexity: 112.8\n",
            "Num docs: 83 , Vocab size: 115 , Num words: 3760\n",
            "Removed top words: ['soil', 'emission', 'crop', 'carbon', 'system', 'practice', 'management', 'yield', 'tillage', 'production']\n"
          ]
        },
        {
          "name": "stderr",
          "output_type": "stream",
          "text": [
            "Training...\n"
          ]
        },
        {
          "name": "stdout",
          "output_type": "stream",
          "text": [
            "Topic 6_Opti_topic 15_Coherence: 0.4389_Perplexity: 115.4\n",
            "Num docs: 83 , Vocab size: 115 , Num words: 3760\n",
            "Removed top words: ['soil', 'emission', 'crop', 'carbon', 'system', 'practice', 'management', 'yield', 'tillage', 'production']\n"
          ]
        },
        {
          "name": "stderr",
          "output_type": "stream",
          "text": [
            "Training...\n"
          ]
        },
        {
          "name": "stdout",
          "output_type": "stream",
          "text": [
            "Topic 7_Opti_topic 12_Coherence: 0.4453_Perplexity: 119.8\n",
            "Num docs: 83 , Vocab size: 115 , Num words: 3760\n",
            "Removed top words: ['soil', 'emission', 'crop', 'carbon', 'system', 'practice', 'management', 'yield', 'tillage', 'production']\n"
          ]
        },
        {
          "name": "stderr",
          "output_type": "stream",
          "text": [
            "Training...\n"
          ]
        },
        {
          "name": "stdout",
          "output_type": "stream",
          "text": [
            "Topic 8_Opti_topic 34_Coherence: 0.423_Perplexity: 115.1\n",
            "Num docs: 83 , Vocab size: 115 , Num words: 3760\n",
            "Removed top words: ['soil', 'emission', 'crop', 'carbon', 'system', 'practice', 'management', 'yield', 'tillage', 'production']\n"
          ]
        },
        {
          "name": "stderr",
          "output_type": "stream",
          "text": [
            "Training...\n"
          ]
        },
        {
          "name": "stdout",
          "output_type": "stream",
          "text": [
            "Topic 9_Opti_topic 5_Coherence: 0.4143_Perplexity: 116.0\n",
            "Num docs: 83 , Vocab size: 115 , Num words: 3760\n",
            "Removed top words: ['soil', 'emission', 'crop', 'carbon', 'system', 'practice', 'management', 'yield', 'tillage', 'production']\n"
          ]
        },
        {
          "name": "stderr",
          "output_type": "stream",
          "text": [
            "Training...\n"
          ]
        },
        {
          "name": "stdout",
          "output_type": "stream",
          "text": [
            "Topic 10_Opti_topic 11_Coherence: 0.4168_Perplexity: 112.6\n",
            "Topics : 6, Sub_topics : 7, Coherence_score : 0.4453\n",
            "Num docs: 53 , Vocab size: 78 , Num words: 2193\n",
            "Removed top words: ['yield', 'climate-change', 'model', 'crop', 'future', 'date', 'water', 'climate', 'adaptation', 'irrigation']\n"
          ]
        },
        {
          "name": "stderr",
          "output_type": "stream",
          "text": [
            "Training...\n"
          ]
        },
        {
          "name": "stdout",
          "output_type": "stream",
          "text": [
            "Topic 2_Opti_topic 25_Coherence: 0.3366_Perplexity: 107.6\n",
            "Num docs: 53 , Vocab size: 78 , Num words: 2193\n",
            "Removed top words: ['yield', 'climate-change', 'model', 'crop', 'future', 'date', 'water', 'climate', 'adaptation', 'irrigation']\n"
          ]
        },
        {
          "name": "stderr",
          "output_type": "stream",
          "text": [
            "Training...\n"
          ]
        },
        {
          "name": "stdout",
          "output_type": "stream",
          "text": [
            "Topic 3_Opti_topic 9_Coherence: 0.3154_Perplexity: 94.43\n",
            "Num docs: 53 , Vocab size: 78 , Num words: 2193\n",
            "Removed top words: ['yield', 'climate-change', 'model', 'crop', 'future', 'date', 'water', 'climate', 'adaptation', 'irrigation']\n"
          ]
        },
        {
          "name": "stderr",
          "output_type": "stream",
          "text": [
            "Training...\n"
          ]
        },
        {
          "name": "stdout",
          "output_type": "stream",
          "text": [
            "Topic 4_Opti_topic 9_Coherence: 0.3218_Perplexity: 102.2\n",
            "Num docs: 53 , Vocab size: 78 , Num words: 2193\n",
            "Removed top words: ['yield', 'climate-change', 'model', 'crop', 'future', 'date', 'water', 'climate', 'adaptation', 'irrigation']\n"
          ]
        },
        {
          "name": "stderr",
          "output_type": "stream",
          "text": [
            "Training...\n"
          ]
        },
        {
          "name": "stdout",
          "output_type": "stream",
          "text": [
            "Topic 5_Opti_topic 22_Coherence: 0.3266_Perplexity: 106.7\n",
            "Num docs: 53 , Vocab size: 78 , Num words: 2193\n",
            "Removed top words: ['yield', 'climate-change', 'model', 'crop', 'future', 'date', 'water', 'climate', 'adaptation', 'irrigation']\n"
          ]
        },
        {
          "name": "stderr",
          "output_type": "stream",
          "text": [
            "Training...\n"
          ]
        },
        {
          "name": "stdout",
          "output_type": "stream",
          "text": [
            "Topic 6_Opti_topic 4_Coherence: 0.311_Perplexity: 89.13\n",
            "Num docs: 53 , Vocab size: 78 , Num words: 2193\n",
            "Removed top words: ['yield', 'climate-change', 'model', 'crop', 'future', 'date', 'water', 'climate', 'adaptation', 'irrigation']\n"
          ]
        },
        {
          "name": "stderr",
          "output_type": "stream",
          "text": [
            "Training...\n"
          ]
        },
        {
          "name": "stdout",
          "output_type": "stream",
          "text": [
            "Topic 7_Opti_topic 4_Coherence: 0.3126_Perplexity: 90.8\n",
            "Num docs: 53 , Vocab size: 78 , Num words: 2193\n",
            "Removed top words: ['yield', 'climate-change', 'model', 'crop', 'future', 'date', 'water', 'climate', 'adaptation', 'irrigation']\n"
          ]
        },
        {
          "name": "stderr",
          "output_type": "stream",
          "text": [
            "Training...\n"
          ]
        },
        {
          "name": "stdout",
          "output_type": "stream",
          "text": [
            "Topic 8_Opti_topic 7_Coherence: 0.3121_Perplexity: 88.57\n",
            "Num docs: 53 , Vocab size: 78 , Num words: 2193\n",
            "Removed top words: ['yield', 'climate-change', 'model', 'crop', 'future', 'date', 'water', 'climate', 'adaptation', 'irrigation']\n"
          ]
        },
        {
          "name": "stderr",
          "output_type": "stream",
          "text": [
            "Training...\n"
          ]
        },
        {
          "name": "stdout",
          "output_type": "stream",
          "text": [
            "Topic 9_Opti_topic 5_Coherence: 0.3229_Perplexity: 91.95\n",
            "Num docs: 53 , Vocab size: 78 , Num words: 2193\n",
            "Removed top words: ['yield', 'climate-change', 'model', 'crop', 'future', 'date', 'water', 'climate', 'adaptation', 'irrigation']\n"
          ]
        },
        {
          "name": "stderr",
          "output_type": "stream",
          "text": [
            "Training...\n",
            "Training...\n",
            "Training...\n",
            "Training...\n",
            "Training...\n",
            "Training...\n",
            "Training...\n",
            "Training...\n",
            "Training...\n"
          ]
        },
        {
          "name": "stdout",
          "output_type": "stream",
          "text": [
            "Topic 10_Opti_topic 5_Coherence: 0.3207_Perplexity: 92.02\n",
            "Topics : 3, Sub_topics : 2, Coherence_score : 0.3366\n",
            "Num docs: 13 , Vocab size: 0 , Num words: 0\n",
            "Removed top words: ['emission', 'rice', 'CH4', 'practice', 'system', 'field', 'global', 'methane', 'potential', 'N2O']\n",
            "Topic 2_Opti_topic 0_Coherence: nan_Perplexity: nan\n",
            "Num docs: 13 , Vocab size: 0 , Num words: 0\n",
            "Removed top words: ['emission', 'rice', 'CH4', 'practice', 'system', 'field', 'global', 'methane', 'potential', 'N2O']\n",
            "Topic 3_Opti_topic 0_Coherence: nan_Perplexity: nan\n",
            "Num docs: 13 , Vocab size: 0 , Num words: 0\n",
            "Removed top words: ['emission', 'rice', 'CH4', 'practice', 'system', 'field', 'global', 'methane', 'potential', 'N2O']\n",
            "Topic 4_Opti_topic 0_Coherence: nan_Perplexity: nan\n",
            "Num docs: 13 , Vocab size: 0 , Num words: 0\n",
            "Removed top words: ['emission', 'rice', 'CH4', 'practice', 'system', 'field', 'global', 'methane', 'potential', 'N2O']\n",
            "Topic 5_Opti_topic 0_Coherence: nan_Perplexity: nan\n",
            "Num docs: 13 , Vocab size: 0 , Num words: 0\n",
            "Removed top words: ['emission', 'rice', 'CH4', 'practice', 'system', 'field', 'global', 'methane', 'potential', 'N2O']\n",
            "Topic 6_Opti_topic 0_Coherence: nan_Perplexity: nan\n",
            "Num docs: 13 , Vocab size: 0 , Num words: 0\n",
            "Removed top words: ['emission', 'rice', 'CH4', 'practice', 'system', 'field', 'global', 'methane', 'potential', 'N2O']\n",
            "Topic 7_Opti_topic 0_Coherence: nan_Perplexity: nan\n",
            "Num docs: 13 , Vocab size: 0 , Num words: 0\n",
            "Removed top words: ['emission', 'rice', 'CH4', 'practice', 'system', 'field', 'global', 'methane', 'potential', 'N2O']\n",
            "Topic 8_Opti_topic 0_Coherence: nan_Perplexity: nan\n",
            "Num docs: 13 , Vocab size: 0 , Num words: 0\n",
            "Removed top words: ['emission', 'rice', 'CH4', 'practice', 'system', 'field', 'global', 'methane', 'potential', 'N2O']\n",
            "Topic 9_Opti_topic 0_Coherence: nan_Perplexity: nan\n",
            "Num docs: 13 , Vocab size: 0 , Num words: 0\n",
            "Removed top words: ['emission', 'rice', 'CH4', 'practice', 'system', 'field', 'global', 'methane', 'potential', 'N2O']\n",
            "Topic 10_Opti_topic 0_Coherence: nan_Perplexity: nan\n",
            "Topics : 4, Sub_topics : 2, Coherence_score : nan\n"
          ]
        },
        {
          "name": "stderr",
          "output_type": "stream",
          "text": [
            "C:\\Users\\Public\\Documents\\ESTsoft\\CreatorTemp\\ipykernel_59236\\2884310502.py:55: FutureWarning: save is not part of the public API, usage can give unexpected results and will be removed in a future version\n",
            "  writer.save()\n",
            "C:\\Users\\Public\\Documents\\ESTsoft\\CreatorTemp\\ipykernel_59236\\2884310502.py:24: RuntimeWarning: The training result may differ even with fixed seed if `workers` != 1.\n",
            "  mdl.train(0)\n",
            "Training...\n"
          ]
        },
        {
          "name": "stdout",
          "output_type": "stream",
          "text": [
            "Num docs: 217 , Vocab size: 318 , Num words: 11148\n",
            "Removed top words: ['urban', 'heat', 'temperature', 'green', 'area', 'thermal', 'study', 'building', 'city', 'design']\n"
          ]
        },
        {
          "name": "stderr",
          "output_type": "stream",
          "text": [
            "Training...\n"
          ]
        },
        {
          "name": "stdout",
          "output_type": "stream",
          "text": [
            "Topic 2_Opti_topic 4_Coherence: 0.4409_Perplexity: 299.4\n",
            "Num docs: 217 , Vocab size: 318 , Num words: 11148\n",
            "Removed top words: ['urban', 'heat', 'temperature', 'green', 'area', 'thermal', 'study', 'building', 'city', 'design']\n"
          ]
        },
        {
          "name": "stderr",
          "output_type": "stream",
          "text": [
            "Training...\n"
          ]
        },
        {
          "name": "stdout",
          "output_type": "stream",
          "text": [
            "Topic 3_Opti_topic 3_Coherence: 0.4074_Perplexity: 300.7\n",
            "Num docs: 217 , Vocab size: 318 , Num words: 11148\n",
            "Removed top words: ['urban', 'heat', 'temperature', 'green', 'area', 'thermal', 'study', 'building', 'city', 'design']\n"
          ]
        },
        {
          "name": "stderr",
          "output_type": "stream",
          "text": [
            "Training...\n"
          ]
        },
        {
          "name": "stdout",
          "output_type": "stream",
          "text": [
            "Topic 4_Opti_topic 4_Coherence: 0.4266_Perplexity: 301.8\n",
            "Num docs: 217 , Vocab size: 318 , Num words: 11148\n",
            "Removed top words: ['urban', 'heat', 'temperature', 'green', 'area', 'thermal', 'study', 'building', 'city', 'design']\n"
          ]
        },
        {
          "name": "stderr",
          "output_type": "stream",
          "text": [
            "Training...\n"
          ]
        },
        {
          "name": "stdout",
          "output_type": "stream",
          "text": [
            "Topic 5_Opti_topic 7_Coherence: 0.4795_Perplexity: 295.7\n",
            "Num docs: 217 , Vocab size: 318 , Num words: 11148\n",
            "Removed top words: ['urban', 'heat', 'temperature', 'green', 'area', 'thermal', 'study', 'building', 'city', 'design']\n"
          ]
        },
        {
          "name": "stderr",
          "output_type": "stream",
          "text": [
            "Training...\n"
          ]
        },
        {
          "name": "stdout",
          "output_type": "stream",
          "text": [
            "Topic 6_Opti_topic 6_Coherence: 0.4205_Perplexity: 297.1\n",
            "Num docs: 217 , Vocab size: 318 , Num words: 11148\n",
            "Removed top words: ['urban', 'heat', 'temperature', 'green', 'area', 'thermal', 'study', 'building', 'city', 'design']\n"
          ]
        },
        {
          "name": "stderr",
          "output_type": "stream",
          "text": [
            "Training...\n"
          ]
        },
        {
          "name": "stdout",
          "output_type": "stream",
          "text": [
            "Topic 7_Opti_topic 8_Coherence: 0.4458_Perplexity: 290.7\n",
            "Num docs: 217 , Vocab size: 318 , Num words: 11148\n",
            "Removed top words: ['urban', 'heat', 'temperature', 'green', 'area', 'thermal', 'study', 'building', 'city', 'design']\n"
          ]
        },
        {
          "name": "stderr",
          "output_type": "stream",
          "text": [
            "Training...\n"
          ]
        },
        {
          "name": "stdout",
          "output_type": "stream",
          "text": [
            "Topic 8_Opti_topic 7_Coherence: 0.3887_Perplexity: 295.8\n",
            "Num docs: 217 , Vocab size: 318 , Num words: 11148\n",
            "Removed top words: ['urban', 'heat', 'temperature', 'green', 'area', 'thermal', 'study', 'building', 'city', 'design']\n"
          ]
        },
        {
          "name": "stderr",
          "output_type": "stream",
          "text": [
            "Training...\n"
          ]
        },
        {
          "name": "stdout",
          "output_type": "stream",
          "text": [
            "Topic 9_Opti_topic 8_Coherence: 0.4307_Perplexity: 295.8\n",
            "Num docs: 217 , Vocab size: 318 , Num words: 11148\n",
            "Removed top words: ['urban', 'heat', 'temperature', 'green', 'area', 'thermal', 'study', 'building', 'city', 'design']\n",
            "Topic 10_Opti_topic 8_Coherence: 0.3832_Perplexity: 291.4\n",
            "Topics : 1, Sub_topics : 5, Coherence_score : 0.4795\n"
          ]
        },
        {
          "name": "stderr",
          "output_type": "stream",
          "text": [
            "C:\\Users\\Public\\Documents\\ESTsoft\\CreatorTemp\\ipykernel_59236\\2884310502.py:55: FutureWarning: save is not part of the public API, usage can give unexpected results and will be removed in a future version\n",
            "  writer.save()\n",
            "C:\\Users\\Public\\Documents\\ESTsoft\\CreatorTemp\\ipykernel_59236\\2884310502.py:24: RuntimeWarning: The training result may differ even with fixed seed if `workers` != 1.\n",
            "  mdl.train(0)\n",
            "Training...\n"
          ]
        },
        {
          "name": "stdout",
          "output_type": "stream",
          "text": [
            "Num docs: 183 , Vocab size: 317 , Num words: 9680\n",
            "Removed top words: ['household', 'strategy', 'adaptation', 'climate-change', 'study', 'farmer', 'livelihood', 'vulnerability', 'drought', 'climate']\n"
          ]
        },
        {
          "name": "stderr",
          "output_type": "stream",
          "text": [
            "Training...\n"
          ]
        },
        {
          "name": "stdout",
          "output_type": "stream",
          "text": [
            "Topic 2_Opti_topic 2_Coherence: 0.4397_Perplexity: 313.7\n",
            "Num docs: 183 , Vocab size: 317 , Num words: 9680\n",
            "Removed top words: ['household', 'strategy', 'adaptation', 'climate-change', 'study', 'farmer', 'livelihood', 'vulnerability', 'drought', 'climate']\n"
          ]
        },
        {
          "name": "stderr",
          "output_type": "stream",
          "text": [
            "Training...\n"
          ]
        },
        {
          "name": "stdout",
          "output_type": "stream",
          "text": [
            "Topic 3_Opti_topic 1_Coherence: 0.3384_Perplexity: 317.0\n",
            "Num docs: 183 , Vocab size: 317 , Num words: 9680\n",
            "Removed top words: ['household', 'strategy', 'adaptation', 'climate-change', 'study', 'farmer', 'livelihood', 'vulnerability', 'drought', 'climate']\n"
          ]
        },
        {
          "name": "stderr",
          "output_type": "stream",
          "text": [
            "Training...\n"
          ]
        },
        {
          "name": "stdout",
          "output_type": "stream",
          "text": [
            "Topic 4_Opti_topic 2_Coherence: 0.368_Perplexity: 315.6\n",
            "Num docs: 183 , Vocab size: 317 , Num words: 9680\n",
            "Removed top words: ['household', 'strategy', 'adaptation', 'climate-change', 'study', 'farmer', 'livelihood', 'vulnerability', 'drought', 'climate']\n"
          ]
        },
        {
          "name": "stderr",
          "output_type": "stream",
          "text": [
            "Training...\n"
          ]
        },
        {
          "name": "stdout",
          "output_type": "stream",
          "text": [
            "Topic 5_Opti_topic 2_Coherence: 0.3786_Perplexity: 315.8\n",
            "Num docs: 183 , Vocab size: 317 , Num words: 9680\n",
            "Removed top words: ['household', 'strategy', 'adaptation', 'climate-change', 'study', 'farmer', 'livelihood', 'vulnerability', 'drought', 'climate']\n"
          ]
        },
        {
          "name": "stderr",
          "output_type": "stream",
          "text": [
            "Training...\n"
          ]
        },
        {
          "name": "stdout",
          "output_type": "stream",
          "text": [
            "Topic 6_Opti_topic 2_Coherence: 0.3695_Perplexity: 315.7\n",
            "Num docs: 183 , Vocab size: 317 , Num words: 9680\n",
            "Removed top words: ['household', 'strategy', 'adaptation', 'climate-change', 'study', 'farmer', 'livelihood', 'vulnerability', 'drought', 'climate']\n"
          ]
        },
        {
          "name": "stderr",
          "output_type": "stream",
          "text": [
            "Training...\n"
          ]
        },
        {
          "name": "stdout",
          "output_type": "stream",
          "text": [
            "Topic 7_Opti_topic 2_Coherence: 0.3705_Perplexity: 314.2\n",
            "Num docs: 183 , Vocab size: 317 , Num words: 9680\n",
            "Removed top words: ['household', 'strategy', 'adaptation', 'climate-change', 'study', 'farmer', 'livelihood', 'vulnerability', 'drought', 'climate']\n"
          ]
        },
        {
          "name": "stderr",
          "output_type": "stream",
          "text": [
            "Training...\n"
          ]
        },
        {
          "name": "stdout",
          "output_type": "stream",
          "text": [
            "Topic 8_Opti_topic 2_Coherence: 0.3769_Perplexity: 316.5\n",
            "Num docs: 183 , Vocab size: 317 , Num words: 9680\n",
            "Removed top words: ['household', 'strategy', 'adaptation', 'climate-change', 'study', 'farmer', 'livelihood', 'vulnerability', 'drought', 'climate']\n"
          ]
        },
        {
          "name": "stderr",
          "output_type": "stream",
          "text": [
            "Training...\n"
          ]
        },
        {
          "name": "stdout",
          "output_type": "stream",
          "text": [
            "Topic 9_Opti_topic 4_Coherence: 0.3666_Perplexity: 307.1\n",
            "Num docs: 183 , Vocab size: 317 , Num words: 9680\n",
            "Removed top words: ['household', 'strategy', 'adaptation', 'climate-change', 'study', 'farmer', 'livelihood', 'vulnerability', 'drought', 'climate']\n"
          ]
        },
        {
          "name": "stderr",
          "output_type": "stream",
          "text": [
            "Training...\n",
            "Training...\n",
            "Training...\n",
            "Training...\n",
            "Training...\n",
            "Training...\n",
            "Training...\n",
            "Training...\n",
            "Training...\n"
          ]
        },
        {
          "name": "stdout",
          "output_type": "stream",
          "text": [
            "Topic 10_Opti_topic 3_Coherence: 0.3497_Perplexity: 315.7\n",
            "Topics : 1, Sub_topics : 2, Coherence_score : 0.4397\n",
            "Num docs: 13 , Vocab size: 0 , Num words: 0\n",
            "Removed top words: ['heat', 'health', 'risk', 'stress', 'temperature', 'study', 'year', 'adaptation', 'strategy', 'age']\n",
            "Topic 2_Opti_topic 0_Coherence: nan_Perplexity: nan\n",
            "Num docs: 13 , Vocab size: 0 , Num words: 0\n",
            "Removed top words: ['heat', 'health', 'risk', 'stress', 'temperature', 'study', 'year', 'adaptation', 'strategy', 'age']\n",
            "Topic 3_Opti_topic 0_Coherence: nan_Perplexity: nan\n",
            "Num docs: 13 , Vocab size: 0 , Num words: 0\n",
            "Removed top words: ['heat', 'health', 'risk', 'stress', 'temperature', 'study', 'year', 'adaptation', 'strategy', 'age']\n",
            "Topic 4_Opti_topic 0_Coherence: nan_Perplexity: nan\n",
            "Num docs: 13 , Vocab size: 0 , Num words: 0\n",
            "Removed top words: ['heat', 'health', 'risk', 'stress', 'temperature', 'study', 'year', 'adaptation', 'strategy', 'age']\n",
            "Topic 5_Opti_topic 0_Coherence: nan_Perplexity: nan\n",
            "Num docs: 13 , Vocab size: 0 , Num words: 0\n",
            "Removed top words: ['heat', 'health', 'risk', 'stress', 'temperature', 'study', 'year', 'adaptation', 'strategy', 'age']\n",
            "Topic 6_Opti_topic 0_Coherence: nan_Perplexity: nan\n",
            "Num docs: 13 , Vocab size: 0 , Num words: 0\n",
            "Removed top words: ['heat', 'health', 'risk', 'stress', 'temperature', 'study', 'year', 'adaptation', 'strategy', 'age']\n",
            "Topic 7_Opti_topic 0_Coherence: nan_Perplexity: nan\n",
            "Num docs: 13 , Vocab size: 0 , Num words: 0\n",
            "Removed top words: ['heat', 'health', 'risk', 'stress', 'temperature', 'study', 'year', 'adaptation', 'strategy', 'age']\n",
            "Topic 8_Opti_topic 0_Coherence: nan_Perplexity: nan\n",
            "Num docs: 13 , Vocab size: 0 , Num words: 0\n",
            "Removed top words: ['heat', 'health', 'risk', 'stress', 'temperature', 'study', 'year', 'adaptation', 'strategy', 'age']\n",
            "Topic 9_Opti_topic 0_Coherence: nan_Perplexity: nan\n",
            "Num docs: 13 , Vocab size: 0 , Num words: 0\n",
            "Removed top words: ['heat', 'health', 'risk', 'stress', 'temperature', 'study', 'year', 'adaptation', 'strategy', 'age']\n",
            "Topic 10_Opti_topic 0_Coherence: nan_Perplexity: nan\n",
            "Topics : 2, Sub_topics : 2, Coherence_score : nan\n"
          ]
        },
        {
          "name": "stderr",
          "output_type": "stream",
          "text": [
            "C:\\Users\\Public\\Documents\\ESTsoft\\CreatorTemp\\ipykernel_59236\\2884310502.py:55: FutureWarning: save is not part of the public API, usage can give unexpected results and will be removed in a future version\n",
            "  writer.save()\n",
            "C:\\Users\\Public\\Documents\\ESTsoft\\CreatorTemp\\ipykernel_59236\\2884310502.py:24: RuntimeWarning: The training result may differ even with fixed seed if `workers` != 1.\n",
            "  mdl.train(0)\n",
            "Training...\n"
          ]
        },
        {
          "name": "stdout",
          "output_type": "stream",
          "text": [
            "Num docs: 102 , Vocab size: 124 , Num words: 4112\n",
            "Removed top words: ['carbon', 'policy', 'carbon-emission', 'government', 'chain', 'supply', 'model', 'tax', 'manufacturer', 'strategy']\n"
          ]
        },
        {
          "name": "stderr",
          "output_type": "stream",
          "text": [
            "Training...\n"
          ]
        },
        {
          "name": "stdout",
          "output_type": "stream",
          "text": [
            "Topic 2_Opti_topic 3_Coherence: 0.3071_Perplexity: 125.5\n",
            "Num docs: 102 , Vocab size: 124 , Num words: 4112\n",
            "Removed top words: ['carbon', 'policy', 'carbon-emission', 'government', 'chain', 'supply', 'model', 'tax', 'manufacturer', 'strategy']\n"
          ]
        },
        {
          "name": "stderr",
          "output_type": "stream",
          "text": [
            "Training...\n"
          ]
        },
        {
          "name": "stdout",
          "output_type": "stream",
          "text": [
            "Topic 3_Opti_topic 9_Coherence: 0.3737_Perplexity: 117.9\n",
            "Num docs: 102 , Vocab size: 124 , Num words: 4112\n",
            "Removed top words: ['carbon', 'policy', 'carbon-emission', 'government', 'chain', 'supply', 'model', 'tax', 'manufacturer', 'strategy']\n"
          ]
        },
        {
          "name": "stderr",
          "output_type": "stream",
          "text": [
            "Training...\n"
          ]
        },
        {
          "name": "stdout",
          "output_type": "stream",
          "text": [
            "Topic 4_Opti_topic 5_Coherence: 0.3517_Perplexity: 120.9\n",
            "Num docs: 102 , Vocab size: 124 , Num words: 4112\n",
            "Removed top words: ['carbon', 'policy', 'carbon-emission', 'government', 'chain', 'supply', 'model', 'tax', 'manufacturer', 'strategy']\n"
          ]
        },
        {
          "name": "stderr",
          "output_type": "stream",
          "text": [
            "Training...\n"
          ]
        },
        {
          "name": "stdout",
          "output_type": "stream",
          "text": [
            "Topic 5_Opti_topic 5_Coherence: 0.3645_Perplexity: 124.9\n",
            "Num docs: 102 , Vocab size: 124 , Num words: 4112\n",
            "Removed top words: ['carbon', 'policy', 'carbon-emission', 'government', 'chain', 'supply', 'model', 'tax', 'manufacturer', 'strategy']\n"
          ]
        },
        {
          "name": "stderr",
          "output_type": "stream",
          "text": [
            "Training...\n"
          ]
        },
        {
          "name": "stdout",
          "output_type": "stream",
          "text": [
            "Topic 6_Opti_topic 10_Coherence: 0.351_Perplexity: 119.5\n",
            "Num docs: 102 , Vocab size: 124 , Num words: 4112\n",
            "Removed top words: ['carbon', 'policy', 'carbon-emission', 'government', 'chain', 'supply', 'model', 'tax', 'manufacturer', 'strategy']\n"
          ]
        },
        {
          "name": "stderr",
          "output_type": "stream",
          "text": [
            "Training...\n"
          ]
        },
        {
          "name": "stdout",
          "output_type": "stream",
          "text": [
            "Topic 7_Opti_topic 3_Coherence: 0.2734_Perplexity: 125.5\n",
            "Num docs: 102 , Vocab size: 124 , Num words: 4112\n",
            "Removed top words: ['carbon', 'policy', 'carbon-emission', 'government', 'chain', 'supply', 'model', 'tax', 'manufacturer', 'strategy']\n"
          ]
        },
        {
          "name": "stderr",
          "output_type": "stream",
          "text": [
            "Training...\n"
          ]
        },
        {
          "name": "stdout",
          "output_type": "stream",
          "text": [
            "Topic 8_Opti_topic 8_Coherence: 0.3184_Perplexity: 120.9\n",
            "Num docs: 102 , Vocab size: 124 , Num words: 4112\n",
            "Removed top words: ['carbon', 'policy', 'carbon-emission', 'government', 'chain', 'supply', 'model', 'tax', 'manufacturer', 'strategy']\n"
          ]
        },
        {
          "name": "stderr",
          "output_type": "stream",
          "text": [
            "Training...\n"
          ]
        },
        {
          "name": "stdout",
          "output_type": "stream",
          "text": [
            "Topic 9_Opti_topic 3_Coherence: 0.2819_Perplexity: 125.1\n",
            "Num docs: 102 , Vocab size: 124 , Num words: 4112\n",
            "Removed top words: ['carbon', 'policy', 'carbon-emission', 'government', 'chain', 'supply', 'model', 'tax', 'manufacturer', 'strategy']\n",
            "Topic 10_Opti_topic 4_Coherence: 0.2829_Perplexity: 123.9\n",
            "Topics : 1, Sub_topics : 3, Coherence_score : 0.3737\n"
          ]
        },
        {
          "name": "stderr",
          "output_type": "stream",
          "text": [
            "C:\\Users\\Public\\Documents\\ESTsoft\\CreatorTemp\\ipykernel_59236\\2884310502.py:55: FutureWarning: save is not part of the public API, usage can give unexpected results and will be removed in a future version\n",
            "  writer.save()\n",
            "C:\\Users\\Public\\Documents\\ESTsoft\\CreatorTemp\\ipykernel_59236\\2884310502.py:24: RuntimeWarning: The training result may differ even with fixed seed if `workers` != 1.\n",
            "  mdl.train(0)\n",
            "Training...\n",
            "Training...\n"
          ]
        },
        {
          "name": "stdout",
          "output_type": "stream",
          "text": [
            "Num docs: 54 , Vocab size: 27 , Num words: 654\n",
            "Removed top words: ['urban', 'low-carbon', 'design', 'city', 'planning', 'development', 'ecological', 'construction', 'transportation', 'traffic']\n",
            "Topic 2_Opti_topic 38_Coherence: 0.3264_Perplexity: 33.21\n",
            "Num docs: 54 , Vocab size: 27 , Num words: 654\n",
            "Removed top words: ['urban', 'low-carbon', 'design', 'city', 'planning', 'development', 'ecological', 'construction', 'transportation', 'traffic']\n"
          ]
        },
        {
          "name": "stderr",
          "output_type": "stream",
          "text": [
            "Training...\n",
            "Training...\n"
          ]
        },
        {
          "name": "stdout",
          "output_type": "stream",
          "text": [
            "Topic 3_Opti_topic 5_Coherence: 0.3125_Perplexity: 30.72\n",
            "Num docs: 54 , Vocab size: 27 , Num words: 654\n",
            "Removed top words: ['urban', 'low-carbon', 'design', 'city', 'planning', 'development', 'ecological', 'construction', 'transportation', 'traffic']\n",
            "Topic 4_Opti_topic 12_Coherence: 0.3188_Perplexity: 28.43\n",
            "Num docs: 54 , Vocab size: 27 , Num words: 654\n",
            "Removed top words: ['urban', 'low-carbon', 'design', 'city', 'planning', 'development', 'ecological', 'construction', 'transportation', 'traffic']\n"
          ]
        },
        {
          "name": "stderr",
          "output_type": "stream",
          "text": [
            "Training...\n",
            "Training...\n"
          ]
        },
        {
          "name": "stdout",
          "output_type": "stream",
          "text": [
            "Topic 5_Opti_topic 8_Coherence: 0.3095_Perplexity: 30.49\n",
            "Num docs: 54 , Vocab size: 27 , Num words: 654\n",
            "Removed top words: ['urban', 'low-carbon', 'design', 'city', 'planning', 'development', 'ecological', 'construction', 'transportation', 'traffic']\n",
            "Topic 6_Opti_topic 12_Coherence: 0.32_Perplexity: 28.3\n",
            "Num docs: 54 , Vocab size: 27 , Num words: 654\n",
            "Removed top words: ['urban', 'low-carbon', 'design', 'city', 'planning', 'development', 'ecological', 'construction', 'transportation', 'traffic']\n"
          ]
        },
        {
          "name": "stderr",
          "output_type": "stream",
          "text": [
            "Training...\n",
            "Training...\n"
          ]
        },
        {
          "name": "stdout",
          "output_type": "stream",
          "text": [
            "Topic 7_Opti_topic 10_Coherence: 0.3151_Perplexity: 30.43\n",
            "Num docs: 54 , Vocab size: 27 , Num words: 654\n",
            "Removed top words: ['urban', 'low-carbon', 'design', 'city', 'planning', 'development', 'ecological', 'construction', 'transportation', 'traffic']\n",
            "Topic 8_Opti_topic 14_Coherence: 0.3301_Perplexity: 29.62\n",
            "Num docs: 54 , Vocab size: 27 , Num words: 654\n",
            "Removed top words: ['urban', 'low-carbon', 'design', 'city', 'planning', 'development', 'ecological', 'construction', 'transportation', 'traffic']\n"
          ]
        },
        {
          "name": "stderr",
          "output_type": "stream",
          "text": [
            "Training...\n"
          ]
        },
        {
          "name": "stdout",
          "output_type": "stream",
          "text": [
            "Topic 9_Opti_topic 6_Coherence: 0.3132_Perplexity: 31.66\n",
            "Num docs: 54 , Vocab size: 27 , Num words: 654\n",
            "Removed top words: ['urban', 'low-carbon', 'design', 'city', 'planning', 'development', 'ecological', 'construction', 'transportation', 'traffic']\n",
            "Topic 10_Opti_topic 5_Coherence: 0.3336_Perplexity: 30.16\n",
            "Topics : 4, Sub_topics : 10, Coherence_score : 0.3336\n"
          ]
        },
        {
          "name": "stderr",
          "output_type": "stream",
          "text": [
            "C:\\Users\\Public\\Documents\\ESTsoft\\CreatorTemp\\ipykernel_59236\\2884310502.py:55: FutureWarning: save is not part of the public API, usage can give unexpected results and will be removed in a future version\n",
            "  writer.save()\n",
            "C:\\Users\\Public\\Documents\\ESTsoft\\CreatorTemp\\ipykernel_59236\\2884310502.py:24: RuntimeWarning: The training result may differ even with fixed seed if `workers` != 1.\n",
            "  mdl.train(0)\n",
            "Training...\n",
            "Training...\n"
          ]
        },
        {
          "name": "stdout",
          "output_type": "stream",
          "text": [
            "Num docs: 39 , Vocab size: 32 , Num words: 692\n",
            "Removed top words: ['emission', 'energy', 'fuel', 'CO2', 'gas', 'waste', 'reduction', 'scenario', 'greenhouse', 'study']\n",
            "Topic 2_Opti_topic 21_Coherence: 0.293_Perplexity: 49.85\n",
            "Num docs: 39 , Vocab size: 32 , Num words: 692\n",
            "Removed top words: ['emission', 'energy', 'fuel', 'CO2', 'gas', 'waste', 'reduction', 'scenario', 'greenhouse', 'study']\n"
          ]
        },
        {
          "name": "stderr",
          "output_type": "stream",
          "text": [
            "Training...\n",
            "Training...\n"
          ]
        },
        {
          "name": "stdout",
          "output_type": "stream",
          "text": [
            "Topic 3_Opti_topic 9_Coherence: 0.2973_Perplexity: 46.46\n",
            "Num docs: 39 , Vocab size: 32 , Num words: 692\n",
            "Removed top words: ['emission', 'energy', 'fuel', 'CO2', 'gas', 'waste', 'reduction', 'scenario', 'greenhouse', 'study']\n",
            "Topic 4_Opti_topic 1_Coherence: 0.2731_Perplexity: 38.41\n",
            "Num docs: 39 , Vocab size: 32 , Num words: 692\n",
            "Removed top words: ['emission', 'energy', 'fuel', 'CO2', 'gas', 'waste', 'reduction', 'scenario', 'greenhouse', 'study']\n",
            "Topic 5_Opti_topic 7_Coherence: 0.3068_Perplexity: 41.61\n",
            "Num docs: 39 , Vocab size: 32 , Num words: 692\n",
            "Removed top words: ['emission', 'energy', 'fuel', 'CO2', 'gas', 'waste', 'reduction', 'scenario', 'greenhouse', 'study']\n"
          ]
        },
        {
          "name": "stderr",
          "output_type": "stream",
          "text": [
            "Training...\n",
            "Training...\n",
            "Training...\n"
          ]
        },
        {
          "name": "stdout",
          "output_type": "stream",
          "text": [
            "Topic 6_Opti_topic 10_Coherence: 0.2888_Perplexity: 46.22\n",
            "Num docs: 39 , Vocab size: 32 , Num words: 692\n",
            "Removed top words: ['emission', 'energy', 'fuel', 'CO2', 'gas', 'waste', 'reduction', 'scenario', 'greenhouse', 'study']\n",
            "Topic 7_Opti_topic 5_Coherence: 0.2998_Perplexity: 41.81\n",
            "Num docs: 39 , Vocab size: 32 , Num words: 692\n",
            "Removed top words: ['emission', 'energy', 'fuel', 'CO2', 'gas', 'waste', 'reduction', 'scenario', 'greenhouse', 'study']\n"
          ]
        },
        {
          "name": "stderr",
          "output_type": "stream",
          "text": [
            "Training...\n",
            "Training...\n"
          ]
        },
        {
          "name": "stdout",
          "output_type": "stream",
          "text": [
            "Topic 8_Opti_topic 3_Coherence: 0.2833_Perplexity: 37.93\n",
            "Num docs: 39 , Vocab size: 32 , Num words: 692\n",
            "Removed top words: ['emission', 'energy', 'fuel', 'CO2', 'gas', 'waste', 'reduction', 'scenario', 'greenhouse', 'study']\n",
            "Topic 9_Opti_topic 6_Coherence: 0.2743_Perplexity: 40.62\n",
            "Num docs: 39 , Vocab size: 32 , Num words: 692\n",
            "Removed top words: ['emission', 'energy', 'fuel', 'CO2', 'gas', 'waste', 'reduction', 'scenario', 'greenhouse', 'study']\n"
          ]
        },
        {
          "name": "stderr",
          "output_type": "stream",
          "text": [
            "C:\\Users\\Public\\Documents\\ESTsoft\\CreatorTemp\\ipykernel_59236\\2884310502.py:55: FutureWarning: save is not part of the public API, usage can give unexpected results and will be removed in a future version\n",
            "  writer.save()\n"
          ]
        },
        {
          "name": "stdout",
          "output_type": "stream",
          "text": [
            "Topic 10_Opti_topic 21_Coherence: 0.2967_Perplexity: 45.7\n",
            "Topics : 2, Sub_topics : 5, Coherence_score : 0.3068\n"
          ]
        },
        {
          "name": "stderr",
          "output_type": "stream",
          "text": [
            "C:\\Users\\Public\\Documents\\ESTsoft\\CreatorTemp\\ipykernel_59236\\2884310502.py:24: RuntimeWarning: The training result may differ even with fixed seed if `workers` != 1.\n",
            "  mdl.train(0)\n",
            "Training...\n",
            "Training...\n",
            "Training...\n",
            "Training...\n"
          ]
        },
        {
          "name": "stdout",
          "output_type": "stream",
          "text": [
            "Num docs: 30 , Vocab size: 10 , Num words: 196\n",
            "Removed top words: ['design', 'material', 'green', 'low-carbon', 'environmental', 'environment', 'protection', 'concept', 'energy', 'development']\n",
            "Topic 2_Opti_topic 1_Coherence: 0.2477_Perplexity: 12.75\n",
            "Num docs: 30 , Vocab size: 10 , Num words: 196\n",
            "Removed top words: ['design', 'material', 'green', 'low-carbon', 'environmental', 'environment', 'protection', 'concept', 'energy', 'development']\n",
            "Topic 3_Opti_topic 1_Coherence: 0.2477_Perplexity: 12.75\n",
            "Num docs: 30 , Vocab size: 10 , Num words: 196\n",
            "Removed top words: ['design', 'material', 'green', 'low-carbon', 'environmental', 'environment', 'protection', 'concept', 'energy', 'development']\n",
            "Topic 4_Opti_topic 1_Coherence: 0.2477_Perplexity: 12.74\n",
            "Num docs: 30 , Vocab size: 10 , Num words: 196\n",
            "Removed top words: ['design', 'material', 'green', 'low-carbon', 'environmental', 'environment', 'protection', 'concept', 'energy', 'development']\n"
          ]
        },
        {
          "name": "stderr",
          "output_type": "stream",
          "text": [
            "Training...\n",
            "Training...\n",
            "Training...\n",
            "Training...\n"
          ]
        },
        {
          "name": "stdout",
          "output_type": "stream",
          "text": [
            "Topic 5_Opti_topic 1_Coherence: 0.2477_Perplexity: 12.75\n",
            "Num docs: 30 , Vocab size: 10 , Num words: 196\n",
            "Removed top words: ['design', 'material', 'green', 'low-carbon', 'environmental', 'environment', 'protection', 'concept', 'energy', 'development']\n",
            "Topic 6_Opti_topic 2_Coherence: 0.2477_Perplexity: 14.26\n",
            "Num docs: 30 , Vocab size: 10 , Num words: 196\n",
            "Removed top words: ['design', 'material', 'green', 'low-carbon', 'environmental', 'environment', 'protection', 'concept', 'energy', 'development']\n",
            "Topic 7_Opti_topic 20_Coherence: 0.2477_Perplexity: 30.38\n",
            "Num docs: 30 , Vocab size: 10 , Num words: 196\n",
            "Removed top words: ['design', 'material', 'green', 'low-carbon', 'environmental', 'environment', 'protection', 'concept', 'energy', 'development']\n",
            "Topic 8_Opti_topic 7_Coherence: 0.2477_Perplexity: 18.75\n",
            "Num docs: 30 , Vocab size: 10 , Num words: 196\n",
            "Removed top words: ['design', 'material', 'green', 'low-carbon', 'environmental', 'environment', 'protection', 'concept', 'energy', 'development']\n"
          ]
        },
        {
          "name": "stderr",
          "output_type": "stream",
          "text": [
            "Training...\n",
            "C:\\Users\\Public\\Documents\\ESTsoft\\CreatorTemp\\ipykernel_59236\\2884310502.py:55: FutureWarning: save is not part of the public API, usage can give unexpected results and will be removed in a future version\n",
            "  writer.save()\n"
          ]
        },
        {
          "name": "stdout",
          "output_type": "stream",
          "text": [
            "Topic 9_Opti_topic 3_Coherence: 0.2477_Perplexity: 12.88\n",
            "Num docs: 30 , Vocab size: 10 , Num words: 196\n",
            "Removed top words: ['design', 'material', 'green', 'low-carbon', 'environmental', 'environment', 'protection', 'concept', 'energy', 'development']\n",
            "Topic 10_Opti_topic 22_Coherence: 0.2477_Perplexity: 30.57\n",
            "Topics : 3, Sub_topics : 5, Coherence_score : 0.2477\n"
          ]
        },
        {
          "name": "stderr",
          "output_type": "stream",
          "text": [
            "C:\\Users\\Public\\Documents\\ESTsoft\\CreatorTemp\\ipykernel_59236\\2884310502.py:24: RuntimeWarning: The training result may differ even with fixed seed if `workers` != 1.\n",
            "  mdl.train(0)\n",
            "Training...\n",
            "Training...\n",
            "Training...\n",
            "Training...\n",
            "Training...\n"
          ]
        },
        {
          "name": "stdout",
          "output_type": "stream",
          "text": [
            "Num docs: 25 , Vocab size: 5 , Num words: 115\n",
            "Removed top words: ['specie', 'conservation', 'area', 'climate-change', 'approach', 'adaptation', 'network', 'future', 'climate', 'habitat']\n",
            "Topic 2_Opti_topic 2_Coherence: 0.4744_Perplexity: 7.015\n",
            "Num docs: 25 , Vocab size: 5 , Num words: 115\n",
            "Removed top words: ['specie', 'conservation', 'area', 'climate-change', 'approach', 'adaptation', 'network', 'future', 'climate', 'habitat']\n",
            "Topic 3_Opti_topic 3_Coherence: 0.4744_Perplexity: 7.489\n",
            "Num docs: 25 , Vocab size: 5 , Num words: 115\n",
            "Removed top words: ['specie', 'conservation', 'area', 'climate-change', 'approach', 'adaptation', 'network', 'future', 'climate', 'habitat']\n",
            "Topic 4_Opti_topic 4_Coherence: 0.4744_Perplexity: 7.669\n",
            "Num docs: 25 , Vocab size: 5 , Num words: 115\n",
            "Removed top words: ['specie', 'conservation', 'area', 'climate-change', 'approach', 'adaptation', 'network', 'future', 'climate', 'habitat']\n",
            "Topic 5_Opti_topic 1_Coherence: 0.4744_Perplexity: 6.428\n",
            "Num docs: 25 , Vocab size: 5 , Num words: 115\n",
            "Removed top words: ['specie', 'conservation', 'area', 'climate-change', 'approach', 'adaptation', 'network', 'future', 'climate', 'habitat']\n"
          ]
        },
        {
          "name": "stderr",
          "output_type": "stream",
          "text": [
            "Training...\n",
            "Training...\n",
            "Training...\n",
            "Training...\n"
          ]
        },
        {
          "name": "stdout",
          "output_type": "stream",
          "text": [
            "Topic 6_Opti_topic 3_Coherence: 0.4744_Perplexity: 7.996\n",
            "Num docs: 25 , Vocab size: 5 , Num words: 115\n",
            "Removed top words: ['specie', 'conservation', 'area', 'climate-change', 'approach', 'adaptation', 'network', 'future', 'climate', 'habitat']\n",
            "Topic 7_Opti_topic 5_Coherence: 0.4744_Perplexity: 8.082\n",
            "Num docs: 25 , Vocab size: 5 , Num words: 115\n",
            "Removed top words: ['specie', 'conservation', 'area', 'climate-change', 'approach', 'adaptation', 'network', 'future', 'climate', 'habitat']\n",
            "Topic 8_Opti_topic 8_Coherence: 0.4744_Perplexity: 13.29\n",
            "Num docs: 25 , Vocab size: 5 , Num words: 115\n",
            "Removed top words: ['specie', 'conservation', 'area', 'climate-change', 'approach', 'adaptation', 'network', 'future', 'climate', 'habitat']\n",
            "Topic 9_Opti_topic 3_Coherence: 0.4744_Perplexity: 8.289\n",
            "Num docs: 25 , Vocab size: 5 , Num words: 115\n",
            "Removed top words: ['specie', 'conservation', 'area', 'climate-change', 'approach', 'adaptation', 'network', 'future', 'climate', 'habitat']\n"
          ]
        },
        {
          "name": "stderr",
          "output_type": "stream",
          "text": [
            "C:\\Users\\Public\\Documents\\ESTsoft\\CreatorTemp\\ipykernel_59236\\2884310502.py:55: FutureWarning: save is not part of the public API, usage can give unexpected results and will be removed in a future version\n",
            "  writer.save()\n"
          ]
        },
        {
          "name": "stdout",
          "output_type": "stream",
          "text": [
            "Topic 10_Opti_topic 6_Coherence: 0.4744_Perplexity: 8.438\n",
            "Topics : 0, Sub_topics : 5, Coherence_score : 0.4744\n"
          ]
        }
      ],
      "source": [
        "for r in sub['Topics']:\n",
        "\n",
        "    writer = pd.ExcelWriter('sub/sub/0527_num_10_cc_sub_Topic{}.xlsx'.format(r), engine='openpyxl')\n",
        "    content = pd.read_excel('Sub/0527_final_topic_index_cc.xlsx', sheet_name='Topic_{}'.format(r))\n",
        "    sub_topics = list(content['topic'].unique())\n",
        "\n",
        "    sub_sub = {'Topics' : [], 'Sub_topics' : [], 'Coherence_score' : []}\n",
        "\n",
        "    for l in range(len(sub_topics)):\n",
        "\n",
        "        corpus = tp.utils.Corpus()\n",
        "        for line in sentence[r][l]:\n",
        "            tokens = word_tokenize(line)\n",
        "            corpus.add_doc(words = tokens)\n",
        "\n",
        "        model_results = {'Topics': [], 'Coherence': [], 'Perplexity' : []}\n",
        "\n",
        "        for j in range(2,11):\n",
        "\n",
        "            mdl = tp.HDPModel(tw=tp.TermWeight.IDF, min_cf=5, min_df=10, rm_top=10, initial_k=j, corpus=corpus, seed=99999)\n",
        "\n",
        "            # Initiate MCMC burn-in\n",
        "            mdl.burn_in = 100\n",
        "            mdl.train(0)\n",
        "\n",
        "            print('Num docs:', len(mdl.docs), ', Vocab size:', mdl.num_vocabs, ', Num words:', mdl.num_words)\n",
        "            print('Removed top words:', mdl.removed_top_words)\n",
        "            print('Training...', file=sys.stderr, flush=True)\n",
        "\n",
        "            # Train model\n",
        "            mcmc_iter = 1000\n",
        "            quiet = False\n",
        "\n",
        "            step=round(mcmc_iter*0.01)\n",
        "            for i in range(0, mcmc_iter, step):\n",
        "                mdl.train(step, workers=1)\n",
        "                if not quiet:\n",
        "                    ('Iteration: {}\\tLog-likelihood: {}\\tNum. of topics: {}'.format(i, mdl.ll_per_word, mdl.live_k))\n",
        "\n",
        "            coh = tp.coherence.Coherence(mdl, coherence='c_v')\n",
        "            average_coherence = coh.get_score()\n",
        "            topic_len = np.array(np.nonzero(mdl.get_count_by_topics())).size\n",
        "\n",
        "            print('Topic {}_Opti_topic {}_Coherence: {:.4}_Perplexity: {:.4}'.format(j, topic_len, average_coherence, mdl.perplexity))\n",
        "            model_results['Topics'].append(topic_len)\n",
        "            model_results['Coherence'].append(average_coherence)\n",
        "            model_results['Perplexity'].append(mdl.perplexity)\n",
        "\n",
        "        print('Topics : {}, Sub_topics : {}, Coherence_score : {:.4}'.format(sub_topics[l], model_results['Coherence'].index(max(model_results['Coherence']))+2, max(model_results['Coherence'])))\n",
        "        sub_sub['Topics'].append(sub_topics[l])\n",
        "        sub_sub['Sub_topics'].append(model_results['Coherence'].index(max(model_results['Coherence']))+2)\n",
        "        sub_sub['Coherence_score'].append(max(model_results['Coherence']))\n",
        "\n",
        "    pd.DataFrame(sub_sub).to_excel(writer, index=False)\n",
        "    writer.save()\n"
      ]
    },
    {
      "cell_type": "code",
      "execution_count": null,
      "metadata": {
        "id": "hRd5HCnlH1K7",
        "outputId": "58edaa2f-6875-41d4-d114-2144021841f1"
      },
      "outputs": [
        {
          "name": "stderr",
          "output_type": "stream",
          "text": [
            "C:\\Users\\Public\\Documents\\ESTsoft\\CreatorTemp\\ipykernel_59236\\2106772570.py:19: RuntimeWarning: The training result may differ even with fixed seed if `workers` != 1.\n",
            "  mdl.train(0)\n",
            "Training...\n"
          ]
        },
        {
          "name": "stdout",
          "output_type": "stream",
          "text": [
            "9 6 0.5815222464501858\n",
            "Num docs: 1555 , Vocab size: 1497 , Num words: 104232\n",
            "Removed top words: ['policy', 'climate-change', 'adaptation', 'climate', 'urban', 'energy', 'local', 'city', 'action', 'process']\n",
            "topic6_Coherence: 0.5815_Perplexity: 1.087e+03\n"
          ]
        },
        {
          "name": "stderr",
          "output_type": "stream",
          "text": [
            "100%|██████████| 7/7 [00:00<00:00, 388.89it/s]\n",
            "C:\\Users\\Public\\Documents\\ESTsoft\\CreatorTemp\\ipykernel_59236\\2106772570.py:19: RuntimeWarning: The training result may differ even with fixed seed if `workers` != 1.\n",
            "  mdl.train(0)\n",
            "Training...\n"
          ]
        },
        {
          "name": "stdout",
          "output_type": "stream",
          "text": [
            "7 8 0.6122079645097254\n",
            "Num docs: 1534 , Vocab size: 1542 , Num words: 112353\n",
            "Removed top words: ['climate-change', 'adaptation', 'policy', 'urban', 'risk', 'water', 'management', 'strategy', 'climate', 'city']\n",
            "topic8_Coherence: 0.6122_Perplexity: 1.136e+03\n"
          ]
        },
        {
          "name": "stderr",
          "output_type": "stream",
          "text": [
            "100%|██████████| 10/10 [00:00<00:00, 416.43it/s]\n",
            "C:\\Users\\Public\\Documents\\ESTsoft\\CreatorTemp\\ipykernel_59236\\2106772570.py:19: RuntimeWarning: The training result may differ even with fixed seed if `workers` != 1.\n",
            "  mdl.train(0)\n",
            "Training...\n"
          ]
        },
        {
          "name": "stdout",
          "output_type": "stream",
          "text": [
            "1 6 0.449111669843506\n",
            "Num docs: 158 , Vocab size: 238 , Num words: 7003\n",
            "Removed top words: ['health', 'climate-change', 'risk', 'adaptation', 'community', 'heat', 'policy', 'climate', 'local', 'public']\n",
            "topic9_Coherence: 0.4491_Perplexity: 230.2\n"
          ]
        },
        {
          "name": "stderr",
          "output_type": "stream",
          "text": [
            "100%|██████████| 52/52 [00:00<00:00, 7426.33it/s]\n",
            "C:\\Users\\Public\\Documents\\ESTsoft\\CreatorTemp\\ipykernel_59236\\2106772570.py:19: RuntimeWarning: The training result may differ even with fixed seed if `workers` != 1.\n",
            "  mdl.train(0)\n",
            "Training...\n"
          ]
        },
        {
          "name": "stdout",
          "output_type": "stream",
          "text": [
            "5 2 nan\n",
            "Num docs: 14 , Vocab size: 0 , Num words: 0\n",
            "Removed top words: ['student', 'design', 'climate', 'education', 'engineering', 'policy', 'science', 'climate-change', 'game', 'critique']\n",
            "topic0_Coherence: nan_Perplexity: nan\n"
          ]
        },
        {
          "name": "stderr",
          "output_type": "stream",
          "text": [
            "100%|██████████| 2/2 [00:00<?, ?it/s]\n",
            "C:\\Users\\Public\\Documents\\ESTsoft\\CreatorTemp\\ipykernel_59236\\2106772570.py:79: FutureWarning: save is not part of the public API, usage can give unexpected results and will be removed in a future version\n",
            "  writer.save()\n",
            "C:\\Users\\Public\\Documents\\ESTsoft\\CreatorTemp\\ipykernel_59236\\2106772570.py:19: RuntimeWarning: The training result may differ even with fixed seed if `workers` != 1.\n",
            "  mdl.train(0)\n",
            "Training...\n"
          ]
        },
        {
          "name": "stdout",
          "output_type": "stream",
          "text": [
            "0 8 0.6300216801464558\n",
            "Num docs: 1782 , Vocab size: 1733 , Num words: 127504\n",
            "Removed top words: ['policy', 'energy', 'emission', 'climate-change', 'carbon', 'climate', 'country', 'mitigation', 'environmental', 'strategy']\n",
            "topic8_Coherence: 0.63_Perplexity: 1.26e+03\n"
          ]
        },
        {
          "name": "stderr",
          "output_type": "stream",
          "text": [
            "100%|██████████| 10/10 [00:00<00:00, 357.17it/s]\n",
            "C:\\Users\\Public\\Documents\\ESTsoft\\CreatorTemp\\ipykernel_59236\\2106772570.py:19: RuntimeWarning: The training result may differ even with fixed seed if `workers` != 1.\n",
            "  mdl.train(0)\n",
            "Training...\n"
          ]
        },
        {
          "name": "stdout",
          "output_type": "stream",
          "text": [
            "1 6 0.5445171465081248\n",
            "Num docs: 774 , Vocab size: 986 , Num words: 51027\n",
            "Removed top words: ['energy', 'policy', 'environmental', 'study', 'sustainability', 'design', 'sustainable', 'practice', 'green', 'building']\n",
            "topic7_Coherence: 0.5445_Perplexity: 816.2\n"
          ]
        },
        {
          "name": "stderr",
          "output_type": "stream",
          "text": [
            "100%|██████████| 11/11 [00:00<00:00, 916.68it/s]\n",
            "C:\\Users\\Public\\Documents\\ESTsoft\\CreatorTemp\\ipykernel_59236\\2106772570.py:19: RuntimeWarning: The training result may differ even with fixed seed if `workers` != 1.\n",
            "  mdl.train(0)\n",
            "Training...\n"
          ]
        },
        {
          "name": "stdout",
          "output_type": "stream",
          "text": [
            "8 2 nan\n",
            "Num docs: 25 , Vocab size: 0 , Num words: 0\n",
            "Removed top words: ['policy', 'energy', 'climate', 'transition', 'climate-change', 'government', 'emission', 'political', 'key', 'CCS']\n",
            "topic0_Coherence: nan_Perplexity: nan\n"
          ]
        },
        {
          "name": "stderr",
          "output_type": "stream",
          "text": [
            "100%|██████████| 2/2 [00:00<?, ?it/s]\n",
            "C:\\Users\\Public\\Documents\\ESTsoft\\CreatorTemp\\ipykernel_59236\\2106772570.py:19: RuntimeWarning: The training result may differ even with fixed seed if `workers` != 1.\n",
            "  mdl.train(0)\n",
            "Training...\n"
          ]
        },
        {
          "name": "stdout",
          "output_type": "stream",
          "text": [
            "6 2 nan\n",
            "Num docs: 23 , Vocab size: 0 , Num words: 0\n",
            "Removed top words: ['policy', 'climate-change', 'emission', 'carbon', 'reduction', 'climate', 'energy', 'support', 'household', 'tax']\n",
            "topic0_Coherence: nan_Perplexity: nan\n"
          ]
        },
        {
          "name": "stderr",
          "output_type": "stream",
          "text": [
            "100%|██████████| 2/2 [00:00<?, ?it/s]\n",
            "C:\\Users\\Public\\Documents\\ESTsoft\\CreatorTemp\\ipykernel_59236\\2106772570.py:79: FutureWarning: save is not part of the public API, usage can give unexpected results and will be removed in a future version\n",
            "  writer.save()\n",
            "C:\\Users\\Public\\Documents\\ESTsoft\\CreatorTemp\\ipykernel_59236\\2106772570.py:19: RuntimeWarning: The training result may differ even with fixed seed if `workers` != 1.\n",
            "  mdl.train(0)\n",
            "Training...\n"
          ]
        },
        {
          "name": "stdout",
          "output_type": "stream",
          "text": [
            "3 10 0.5295831766156922\n",
            "Num docs: 829 , Vocab size: 993 , Num words: 52759\n",
            "Removed top words: ['energy', 'system', 'power', 'design', 'cost', 'building', 'heat', 'emission', 'strategy', 'solar']\n",
            "topic10_Coherence: 0.5296_Perplexity: 780.0\n"
          ]
        },
        {
          "name": "stderr",
          "output_type": "stream",
          "text": [
            "100%|██████████| 21/21 [00:00<00:00, 1050.01it/s]\n",
            "C:\\Users\\Public\\Documents\\ESTsoft\\CreatorTemp\\ipykernel_59236\\2106772570.py:19: RuntimeWarning: The training result may differ even with fixed seed if `workers` != 1.\n",
            "  mdl.train(0)\n",
            "Training...\n"
          ]
        },
        {
          "name": "stdout",
          "output_type": "stream",
          "text": [
            "0 7 0.602480639666319\n",
            "Num docs: 650 , Vocab size: 772 , Num words: 39880\n",
            "Removed top words: ['energy', 'model', 'system', 'power', 'carbon-emission', 'cost', 'problem', 'optimization', 'carbon', 'method']\n",
            "topic9_Coherence: 0.6025_Perplexity: 604.8\n"
          ]
        },
        {
          "name": "stderr",
          "output_type": "stream",
          "text": [
            "100%|██████████| 10/10 [00:00<00:00, 714.18it/s]\n",
            "C:\\Users\\Public\\Documents\\ESTsoft\\CreatorTemp\\ipykernel_59236\\2106772570.py:19: RuntimeWarning: The training result may differ even with fixed seed if `workers` != 1.\n",
            "  mdl.train(0)\n",
            "Training...\n"
          ]
        },
        {
          "name": "stdout",
          "output_type": "stream",
          "text": [
            "6 2 0.5104410885274412\n",
            "Num docs: 266 , Vocab size: 414 , Num words: 13745\n",
            "Removed top words: ['energy', 'building', 'design', 'system', 'performance', 'consumption', 'thermal', 'strategy', 'study', 'efficiency']\n",
            "topic10_Coherence: 0.5104_Perplexity: 386.6\n"
          ]
        },
        {
          "name": "stderr",
          "output_type": "stream",
          "text": [
            "100%|██████████| 15/15 [00:00<00:00, 1666.92it/s]\n",
            "C:\\Users\\Public\\Documents\\ESTsoft\\CreatorTemp\\ipykernel_59236\\2106772570.py:19: RuntimeWarning: The training result may differ even with fixed seed if `workers` != 1.\n",
            "  mdl.train(0)\n",
            "Training...\n"
          ]
        },
        {
          "name": "stdout",
          "output_type": "stream",
          "text": [
            "2 3 0.4699008476609985\n",
            "Num docs: 231 , Vocab size: 305 , Num words: 11348\n",
            "Removed top words: ['design', 'building', 'material', 'energy', 'environmental', 'life', 'carbon', 'process', 'cycle', 'study']\n",
            "topic3_Coherence: 0.4699_Perplexity: 286.6\n"
          ]
        },
        {
          "name": "stderr",
          "output_type": "stream",
          "text": [
            "100%|██████████| 6/6 [00:00<00:00, 1999.51it/s]\n",
            "C:\\Users\\Public\\Documents\\ESTsoft\\CreatorTemp\\ipykernel_59236\\2106772570.py:19: RuntimeWarning: The training result may differ even with fixed seed if `workers` != 1.\n",
            "  mdl.train(0)\n",
            "Training...\n"
          ]
        },
        {
          "name": "stdout",
          "output_type": "stream",
          "text": [
            "5 2 nan\n",
            "Num docs: 11 , Vocab size: 0 , Num words: 0\n",
            "Removed top words: ['network', 'waste', 'cost', 'design', 'system', 'emission', 'study', 'model', 'scenario', 'optimal']\n",
            "topic0_Coherence: nan_Perplexity: nan\n"
          ]
        },
        {
          "name": "stderr",
          "output_type": "stream",
          "text": [
            "100%|██████████| 2/2 [00:00<?, ?it/s]\n",
            "C:\\Users\\Public\\Documents\\ESTsoft\\CreatorTemp\\ipykernel_59236\\2106772570.py:79: FutureWarning: save is not part of the public API, usage can give unexpected results and will be removed in a future version\n",
            "  writer.save()\n",
            "C:\\Users\\Public\\Documents\\ESTsoft\\CreatorTemp\\ipykernel_59236\\2106772570.py:19: RuntimeWarning: The training result may differ even with fixed seed if `workers` != 1.\n",
            "  mdl.train(0)\n",
            "Training...\n"
          ]
        },
        {
          "name": "stdout",
          "output_type": "stream",
          "text": [
            "1 5 0.4739217578433454\n",
            "Num docs: 417 , Vocab size: 613 , Num words: 26674\n",
            "Removed top words: ['water', 'climate-change', 'model', 'management', 'resource', 'system', 'strategy', 'future', 'adaptation', 'climate']\n",
            "topic5_Coherence: 0.4739_Perplexity: 544.5\n"
          ]
        },
        {
          "name": "stderr",
          "output_type": "stream",
          "text": [
            "100%|██████████| 8/8 [00:00<00:00, 1332.95it/s]\n",
            "C:\\Users\\Public\\Documents\\ESTsoft\\CreatorTemp\\ipykernel_59236\\2106772570.py:19: RuntimeWarning: The training result may differ even with fixed seed if `workers` != 1.\n",
            "  mdl.train(0)\n",
            "Training...\n"
          ]
        },
        {
          "name": "stdout",
          "output_type": "stream",
          "text": [
            "0 6 0.5033354146638884\n",
            "Num docs: 352 , Vocab size: 532 , Num words: 21496\n",
            "Removed top words: ['flood', 'climate-change', 'urban', 'water', 'risk', 'area', 'system', 'adaptation', 'coastal', 'design']\n",
            "topic7_Coherence: 0.5033_Perplexity: 477.5\n"
          ]
        },
        {
          "name": "stderr",
          "output_type": "stream",
          "text": [
            "100%|██████████| 8/8 [00:00<00:00, 1143.10it/s]\n",
            "C:\\Users\\Public\\Documents\\ESTsoft\\CreatorTemp\\ipykernel_59236\\2106772570.py:79: FutureWarning: save is not part of the public API, usage can give unexpected results and will be removed in a future version\n",
            "  writer.save()\n",
            "C:\\Users\\Public\\Documents\\ESTsoft\\CreatorTemp\\ipykernel_59236\\2106772570.py:19: RuntimeWarning: The training result may differ even with fixed seed if `workers` != 1.\n",
            "  mdl.train(0)\n",
            "Training...\n"
          ]
        },
        {
          "name": "stdout",
          "output_type": "stream",
          "text": [
            "8 8 0.6055541436746718\n",
            "Num docs: 660 , Vocab size: 769 , Num words: 42582\n",
            "Removed top words: ['energy', 'policy', 'emission', 'power', 'carbon', 'cost', 'CO2', 'system', 'model', 'electricity']\n",
            "topic8_Coherence: 0.6056_Perplexity: 595.1\n"
          ]
        },
        {
          "name": "stderr",
          "output_type": "stream",
          "text": [
            "100%|██████████| 10/10 [00:00<00:00, 769.12it/s]\n",
            "C:\\Users\\Public\\Documents\\ESTsoft\\CreatorTemp\\ipykernel_59236\\2106772570.py:19: RuntimeWarning: The training result may differ even with fixed seed if `workers` != 1.\n",
            "  mdl.train(0)\n",
            "Training...\n"
          ]
        },
        {
          "name": "stdout",
          "output_type": "stream",
          "text": [
            "0 2 nan\n",
            "Num docs: 12 , Vocab size: 0 , Num words: 0\n",
            "Removed top words: ['air', 'policy', 'pollution', 'emission', 'health', 'control', 'climate', 'china', 'scenario', 'quality']\n",
            "topic0_Coherence: nan_Perplexity: nan\n"
          ]
        },
        {
          "name": "stderr",
          "output_type": "stream",
          "text": [
            "100%|██████████| 2/2 [00:00<?, ?it/s]\n",
            "C:\\Users\\Public\\Documents\\ESTsoft\\CreatorTemp\\ipykernel_59236\\2106772570.py:79: FutureWarning: save is not part of the public API, usage can give unexpected results and will be removed in a future version\n",
            "  writer.save()\n",
            "C:\\Users\\Public\\Documents\\ESTsoft\\CreatorTemp\\ipykernel_59236\\2106772570.py:19: RuntimeWarning: The training result may differ even with fixed seed if `workers` != 1.\n",
            "  mdl.train(0)\n",
            "Training...\n"
          ]
        },
        {
          "name": "stdout",
          "output_type": "stream",
          "text": [
            "8 6 0.4808582670986652\n",
            "Num docs: 604 , Vocab size: 899 , Num words: 44558\n",
            "Removed top words: ['climate-change', 'specie', 'area', 'conservation', 'ecosystem', 'management', 'carbon', 'strategy', 'change', 'climate']\n",
            "topic6_Coherence: 0.4809_Perplexity: 726.0\n"
          ]
        },
        {
          "name": "stderr",
          "output_type": "stream",
          "text": [
            "100%|██████████| 11/11 [00:00<00:00, 1222.15it/s]\n",
            "C:\\Users\\Public\\Documents\\ESTsoft\\CreatorTemp\\ipykernel_59236\\2106772570.py:19: RuntimeWarning: The training result may differ even with fixed seed if `workers` != 1.\n",
            "  mdl.train(0)\n",
            "Training...\n"
          ]
        },
        {
          "name": "stdout",
          "output_type": "stream",
          "text": [
            "5 2 nan\n",
            "Num docs: 11 , Vocab size: 0 , Num words: 0\n",
            "Removed top words: ['land', 'soil', 'SOC', 'carbon', 'stock', 'sequestration', 'change', 'use', 'climate-change', 'management']\n",
            "topic0_Coherence: nan_Perplexity: nan\n"
          ]
        },
        {
          "name": "stderr",
          "output_type": "stream",
          "text": [
            "100%|██████████| 2/2 [00:00<?, ?it/s]\n",
            "C:\\Users\\Public\\Documents\\ESTsoft\\CreatorTemp\\ipykernel_59236\\2106772570.py:79: FutureWarning: save is not part of the public API, usage can give unexpected results and will be removed in a future version\n",
            "  writer.save()\n",
            "C:\\Users\\Public\\Documents\\ESTsoft\\CreatorTemp\\ipykernel_59236\\2106772570.py:19: RuntimeWarning: The training result may differ even with fixed seed if `workers` != 1.\n",
            "  mdl.train(0)\n",
            "Training...\n"
          ]
        },
        {
          "name": "stdout",
          "output_type": "stream",
          "text": [
            "4 7 0.5183366393501108\n",
            "Num docs: 488 , Vocab size: 548 , Num words: 27245\n",
            "Removed top words: ['energy', 'policy', 'carbon-emission', 'china', 'carbon', 'emission', 'development', 'industry', 'low-carbon', 'reduction']\n",
            "topic9_Coherence: 0.5183_Perplexity: 453.9\n"
          ]
        },
        {
          "name": "stderr",
          "output_type": "stream",
          "text": [
            "100%|██████████| 11/11 [00:00<00:00, 916.77it/s]\n",
            "C:\\Users\\Public\\Documents\\ESTsoft\\CreatorTemp\\ipykernel_59236\\2106772570.py:19: RuntimeWarning: The training result may differ even with fixed seed if `workers` != 1.\n",
            "  mdl.train(0)\n",
            "Training...\n"
          ]
        },
        {
          "name": "stdout",
          "output_type": "stream",
          "text": [
            "3 8 0.3741873081321287\n",
            "Num docs: 47 , Vocab size: 49 , Num words: 1113\n",
            "Removed top words: ['policy', 'city', 'pilot', 'innovation', 'low-carbon', 'china', 'carbon-emission', 'green', 'urban', 'reduction']\n",
            "topic3_Coherence: 0.3742_Perplexity: 64.81\n"
          ]
        },
        {
          "name": "stderr",
          "output_type": "stream",
          "text": [
            "100%|██████████| 52/52 [00:00<00:00, 26001.88it/s]\n",
            "C:\\Users\\Public\\Documents\\ESTsoft\\CreatorTemp\\ipykernel_59236\\2106772570.py:79: FutureWarning: save is not part of the public API, usage can give unexpected results and will be removed in a future version\n",
            "  writer.save()\n",
            "C:\\Users\\Public\\Documents\\ESTsoft\\CreatorTemp\\ipykernel_59236\\2106772570.py:19: RuntimeWarning: The training result may differ even with fixed seed if `workers` != 1.\n",
            "  mdl.train(0)\n",
            "Training...\n"
          ]
        },
        {
          "name": "stdout",
          "output_type": "stream",
          "text": [
            "6 4 0.4402431933200985\n",
            "Num docs: 249 , Vocab size: 391 , Num words: 13045\n",
            "Removed top words: ['CO2', 'process', 'energy', 'production', 'carbon', 'gas', 'fuel', 'emission', 'system', 'strategy']\n",
            "topic5_Coherence: 0.4402_Perplexity: 374.1\n"
          ]
        },
        {
          "name": "stderr",
          "output_type": "stream",
          "text": [
            "100%|██████████| 14/14 [00:00<00:00, 3499.42it/s]\n",
            "C:\\Users\\Public\\Documents\\ESTsoft\\CreatorTemp\\ipykernel_59236\\2106772570.py:19: RuntimeWarning: The training result may differ even with fixed seed if `workers` != 1.\n",
            "  mdl.train(0)\n",
            "Training...\n"
          ]
        },
        {
          "name": "stdout",
          "output_type": "stream",
          "text": [
            "1 5 0.4579110350615034\n",
            "Num docs: 106 , Vocab size: 148 , Num words: 3672\n",
            "Removed top words: ['energy', 'CO2', 'catalyst', 'reaction', 'design', 'high', 'hydrogen', 'material', 'strategy', 'carbon']\n",
            "topic1_Coherence: 0.4579_Perplexity: 160.4\n"
          ]
        },
        {
          "name": "stderr",
          "output_type": "stream",
          "text": [
            "100%|██████████| 15/15 [00:00<00:00, 14997.51it/s]\n",
            "C:\\Users\\Public\\Documents\\ESTsoft\\CreatorTemp\\ipykernel_59236\\2106772570.py:19: RuntimeWarning: The training result may differ even with fixed seed if `workers` != 1.\n",
            "  mdl.train(0)\n",
            "Training...\n"
          ]
        },
        {
          "name": "stdout",
          "output_type": "stream",
          "text": [
            "3 2 nan\n",
            "Num docs: 18 , Vocab size: 0 , Num words: 0\n",
            "Removed top words: ['carbon', 'low', 'study', 'engine', 'fuel', 'strength', 'material', 'efficiency', 'ignition', 'strategy']\n",
            "topic0_Coherence: nan_Perplexity: nan\n"
          ]
        },
        {
          "name": "stderr",
          "output_type": "stream",
          "text": [
            "100%|██████████| 2/2 [00:00<?, ?it/s]\n",
            "C:\\Users\\Public\\Documents\\ESTsoft\\CreatorTemp\\ipykernel_59236\\2106772570.py:19: RuntimeWarning: The training result may differ even with fixed seed if `workers` != 1.\n",
            "  mdl.train(0)\n",
            "Training...\n"
          ]
        },
        {
          "name": "stdout",
          "output_type": "stream",
          "text": [
            "2 2 nan\n",
            "Num docs: 11 , Vocab size: 0 , Num words: 0\n",
            "Removed top words: ['steel', 'corrosion', 'inhibition', 'inhibitor', 'efficiency', 'surface', 'solution', 'Ti', 'water', 'polarization']\n",
            "topic0_Coherence: nan_Perplexity: nan\n"
          ]
        },
        {
          "name": "stderr",
          "output_type": "stream",
          "text": [
            "100%|██████████| 2/2 [00:00<?, ?it/s]\n",
            "C:\\Users\\Public\\Documents\\ESTsoft\\CreatorTemp\\ipykernel_59236\\2106772570.py:79: FutureWarning: save is not part of the public API, usage can give unexpected results and will be removed in a future version\n",
            "  writer.save()\n",
            "C:\\Users\\Public\\Documents\\ESTsoft\\CreatorTemp\\ipykernel_59236\\2106772570.py:19: RuntimeWarning: The training result may differ even with fixed seed if `workers` != 1.\n",
            "  mdl.train(0)\n",
            "Training...\n"
          ]
        },
        {
          "name": "stdout",
          "output_type": "stream",
          "text": [
            "0 5 0.4675635146684945\n",
            "Num docs: 185 , Vocab size: 300 , Num words: 10055\n",
            "Removed top words: ['water', 'plant', 'stress', 'drought', 'crop', 'climate-change', 'strategy', 'soil', 'yield', 'temperature']\n",
            "topic16_Coherence: 0.4676_Perplexity: 279.0\n"
          ]
        },
        {
          "name": "stderr",
          "output_type": "stream",
          "text": [
            "100%|██████████| 25/25 [00:00<00:00, 2272.89it/s]\n",
            "C:\\Users\\Public\\Documents\\ESTsoft\\CreatorTemp\\ipykernel_59236\\2106772570.py:19: RuntimeWarning: The training result may differ even with fixed seed if `workers` != 1.\n",
            "  mdl.train(0)\n",
            "Training...\n"
          ]
        },
        {
          "name": "stdout",
          "output_type": "stream",
          "text": [
            "6 7 0.4452533605824682\n",
            "Num docs: 83 , Vocab size: 115 , Num words: 3760\n",
            "Removed top words: ['soil', 'emission', 'crop', 'carbon', 'system', 'practice', 'management', 'yield', 'tillage', 'production']\n",
            "topic12_Coherence: 0.4453_Perplexity: 119.8\n"
          ]
        },
        {
          "name": "stderr",
          "output_type": "stream",
          "text": [
            "100%|██████████| 44/44 [00:00<00:00, 6285.74it/s]\n",
            "C:\\Users\\Public\\Documents\\ESTsoft\\CreatorTemp\\ipykernel_59236\\2106772570.py:19: RuntimeWarning: The training result may differ even with fixed seed if `workers` != 1.\n",
            "  mdl.train(0)\n",
            "Training...\n"
          ]
        },
        {
          "name": "stdout",
          "output_type": "stream",
          "text": [
            "3 2 0.3365892321940813\n",
            "Num docs: 53 , Vocab size: 78 , Num words: 2193\n",
            "Removed top words: ['yield', 'climate-change', 'model', 'crop', 'future', 'date', 'water', 'climate', 'adaptation', 'irrigation']\n",
            "topic25_Coherence: 0.3366_Perplexity: 107.6\n"
          ]
        },
        {
          "name": "stderr",
          "output_type": "stream",
          "text": [
            "100%|██████████| 67/67 [00:00<00:00, 4784.76it/s]\n",
            "C:\\Users\\Public\\Documents\\ESTsoft\\CreatorTemp\\ipykernel_59236\\2106772570.py:19: RuntimeWarning: The training result may differ even with fixed seed if `workers` != 1.\n",
            "  mdl.train(0)\n",
            "Training...\n"
          ]
        },
        {
          "name": "stdout",
          "output_type": "stream",
          "text": [
            "4 2 nan\n",
            "Num docs: 13 , Vocab size: 0 , Num words: 0\n",
            "Removed top words: ['emission', 'rice', 'CH4', 'practice', 'system', 'field', 'global', 'methane', 'potential', 'N2O']\n",
            "topic0_Coherence: nan_Perplexity: nan\n"
          ]
        },
        {
          "name": "stderr",
          "output_type": "stream",
          "text": [
            "100%|██████████| 2/2 [00:00<?, ?it/s]"
          ]
        },
        {
          "name": "stdout",
          "output_type": "stream",
          "text": [
            "1"
          ]
        },
        {
          "name": "stderr",
          "output_type": "stream",
          "text": [
            "\n",
            "C:\\Users\\Public\\Documents\\ESTsoft\\CreatorTemp\\ipykernel_59236\\2106772570.py:79: FutureWarning: save is not part of the public API, usage can give unexpected results and will be removed in a future version\n",
            "  writer.save()\n",
            "C:\\Users\\Public\\Documents\\ESTsoft\\CreatorTemp\\ipykernel_59236\\2106772570.py:19: RuntimeWarning: The training result may differ even with fixed seed if `workers` != 1.\n",
            "  mdl.train(0)\n",
            "Training...\n"
          ]
        },
        {
          "name": "stdout",
          "output_type": "stream",
          "text": [
            " 5 0.4795155652860799\n",
            "Num docs: 217 , Vocab size: 318 , Num words: 11148\n",
            "Removed top words: ['urban', 'heat', 'temperature', 'green', 'area', 'thermal', 'study', 'building', 'city', 'design']\n",
            "topic7_Coherence: 0.4795_Perplexity: 295.7\n"
          ]
        },
        {
          "name": "stderr",
          "output_type": "stream",
          "text": [
            "100%|██████████| 15/15 [00:00<00:00, 2500.98it/s]\n",
            "C:\\Users\\Public\\Documents\\ESTsoft\\CreatorTemp\\ipykernel_59236\\2106772570.py:79: FutureWarning: save is not part of the public API, usage can give unexpected results and will be removed in a future version\n",
            "  writer.save()\n",
            "C:\\Users\\Public\\Documents\\ESTsoft\\CreatorTemp\\ipykernel_59236\\2106772570.py:19: RuntimeWarning: The training result may differ even with fixed seed if `workers` != 1.\n",
            "  mdl.train(0)\n",
            "Training...\n"
          ]
        },
        {
          "name": "stdout",
          "output_type": "stream",
          "text": [
            "1 2 0.4396667867433279\n",
            "Num docs: 183 , Vocab size: 317 , Num words: 9680\n",
            "Removed top words: ['household', 'strategy', 'adaptation', 'climate-change', 'study', 'farmer', 'livelihood', 'vulnerability', 'drought', 'climate']\n",
            "topic2_Coherence: 0.4397_Perplexity: 313.7\n"
          ]
        },
        {
          "name": "stderr",
          "output_type": "stream",
          "text": [
            "100%|██████████| 4/4 [00:00<00:00, 3990.77it/s]\n",
            "C:\\Users\\Public\\Documents\\ESTsoft\\CreatorTemp\\ipykernel_59236\\2106772570.py:19: RuntimeWarning: The training result may differ even with fixed seed if `workers` != 1.\n",
            "  mdl.train(0)\n",
            "Training...\n"
          ]
        },
        {
          "name": "stdout",
          "output_type": "stream",
          "text": [
            "2 2 nan\n",
            "Num docs: 13 , Vocab size: 0 , Num words: 0\n",
            "Removed top words: ['heat', 'health', 'risk', 'stress', 'temperature', 'study', 'year', 'adaptation', 'strategy', 'age']\n",
            "topic0_Coherence: nan_Perplexity: nan\n"
          ]
        },
        {
          "name": "stderr",
          "output_type": "stream",
          "text": [
            "100%|██████████| 2/2 [00:00<?, ?it/s]\n",
            "C:\\Users\\Public\\Documents\\ESTsoft\\CreatorTemp\\ipykernel_59236\\2106772570.py:79: FutureWarning: save is not part of the public API, usage can give unexpected results and will be removed in a future version\n",
            "  writer.save()\n",
            "C:\\Users\\Public\\Documents\\ESTsoft\\CreatorTemp\\ipykernel_59236\\2106772570.py:19: RuntimeWarning: The training result may differ even with fixed seed if `workers` != 1.\n",
            "  mdl.train(0)\n",
            "Training...\n"
          ]
        },
        {
          "name": "stdout",
          "output_type": "stream",
          "text": [
            "1 3 0.3737436817749402\n",
            "Num docs: 102 , Vocab size: 124 , Num words: 4112\n",
            "Removed top words: ['carbon', 'policy', 'carbon-emission', 'government', 'chain', 'supply', 'model', 'tax', 'manufacturer', 'strategy']\n",
            "topic9_Coherence: 0.3737_Perplexity: 117.9\n"
          ]
        },
        {
          "name": "stderr",
          "output_type": "stream",
          "text": [
            "100%|██████████| 20/20 [00:00<00:00, 3333.18it/s]\n",
            "C:\\Users\\Public\\Documents\\ESTsoft\\CreatorTemp\\ipykernel_59236\\2106772570.py:79: FutureWarning: save is not part of the public API, usage can give unexpected results and will be removed in a future version\n",
            "  writer.save()\n",
            "C:\\Users\\Public\\Documents\\ESTsoft\\CreatorTemp\\ipykernel_59236\\2106772570.py:19: RuntimeWarning: The training result may differ even with fixed seed if `workers` != 1.\n",
            "  mdl.train(0)\n",
            "Training...\n"
          ]
        },
        {
          "name": "stdout",
          "output_type": "stream",
          "text": [
            "4 10 0.3335930334248891\n",
            "Num docs: 54 , Vocab size: 27 , Num words: 654\n",
            "Removed top words: ['urban', 'low-carbon', 'design', 'city', 'planning', 'development', 'ecological', 'construction', 'transportation', 'traffic']\n",
            "topic5_Coherence: 0.3336_Perplexity: 30.16\n"
          ]
        },
        {
          "name": "stderr",
          "output_type": "stream",
          "text": [
            "100%|██████████| 36/36 [00:00<00:00, 18001.30it/s]"
          ]
        },
        {
          "name": "stdout",
          "output_type": "stream",
          "text": [
            "2"
          ]
        },
        {
          "name": "stderr",
          "output_type": "stream",
          "text": [
            "\n",
            "C:\\Users\\Public\\Documents\\ESTsoft\\CreatorTemp\\ipykernel_59236\\2106772570.py:79: FutureWarning: save is not part of the public API, usage can give unexpected results and will be removed in a future version\n",
            "  writer.save()\n",
            "C:\\Users\\Public\\Documents\\ESTsoft\\CreatorTemp\\ipykernel_59236\\2106772570.py:19: RuntimeWarning: The training result may differ even with fixed seed if `workers` != 1.\n",
            "  mdl.train(0)\n",
            "Training...\n"
          ]
        },
        {
          "name": "stdout",
          "output_type": "stream",
          "text": [
            " 5 0.3067520246812793\n",
            "Num docs: 39 , Vocab size: 32 , Num words: 692\n",
            "Removed top words: ['emission', 'energy', 'fuel', 'CO2', 'gas', 'waste', 'reduction', 'scenario', 'greenhouse', 'study']\n",
            "topic7_Coherence: 0.3068_Perplexity: 41.61\n"
          ]
        },
        {
          "name": "stderr",
          "output_type": "stream",
          "text": [
            "100%|██████████| 33/33 [00:00<00:00, 8249.61it/s]\n",
            "C:\\Users\\Public\\Documents\\ESTsoft\\CreatorTemp\\ipykernel_59236\\2106772570.py:79: FutureWarning: save is not part of the public API, usage can give unexpected results and will be removed in a future version\n",
            "  writer.save()\n",
            "C:\\Users\\Public\\Documents\\ESTsoft\\CreatorTemp\\ipykernel_59236\\2106772570.py:19: RuntimeWarning: The training result may differ even with fixed seed if `workers` != 1.\n",
            "  mdl.train(0)\n",
            "Training...\n"
          ]
        },
        {
          "name": "stdout",
          "output_type": "stream",
          "text": [
            "3 5 0.2477004866458868\n",
            "Num docs: 30 , Vocab size: 10 , Num words: 196\n",
            "Removed top words: ['design', 'material', 'green', 'low-carbon', 'environmental', 'environment', 'protection', 'concept', 'energy', 'development']\n",
            "topic1_Coherence: 0.2477_Perplexity: 12.75\n"
          ]
        },
        {
          "name": "stderr",
          "output_type": "stream",
          "text": [
            "100%|██████████| 19/19 [00:00<?, ?it/s]\n",
            "C:\\Users\\Public\\Documents\\ESTsoft\\CreatorTemp\\ipykernel_59236\\2106772570.py:79: FutureWarning: save is not part of the public API, usage can give unexpected results and will be removed in a future version\n",
            "  writer.save()\n",
            "C:\\Users\\Public\\Documents\\ESTsoft\\CreatorTemp\\ipykernel_59236\\2106772570.py:19: RuntimeWarning: The training result may differ even with fixed seed if `workers` != 1.\n",
            "  mdl.train(0)\n",
            "Training...\n"
          ]
        },
        {
          "name": "stdout",
          "output_type": "stream",
          "text": [
            "0 5 0.4743825529302869\n",
            "Num docs: 25 , Vocab size: 5 , Num words: 115\n",
            "Removed top words: ['specie', 'conservation', 'area', 'climate-change', 'approach', 'adaptation', 'network', 'future', 'climate', 'habitat']\n",
            "topic1_Coherence: 0.4744_Perplexity: 6.428\n"
          ]
        },
        {
          "name": "stderr",
          "output_type": "stream",
          "text": [
            "100%|██████████| 7/7 [00:00<00:00, 7010.54it/s]\n",
            "C:\\Users\\Public\\Documents\\ESTsoft\\CreatorTemp\\ipykernel_59236\\2106772570.py:79: FutureWarning: save is not part of the public API, usage can give unexpected results and will be removed in a future version\n",
            "  writer.save()\n"
          ]
        }
      ],
      "source": [
        "for t in sub['Topics']:\n",
        "\n",
        "    sub_sub = pd.read_excel('sub/sub/0527_num_10_cc_sub_Topic{}.xlsx'.format(t),dtype=object)\n",
        "    writer = pd.ExcelWriter('sub/sub/result/0527_results_cc_sub_topic{}.xlsx'.format(t), engine='xlsxwriter')\n",
        "\n",
        "    for l in range(len(sub_sub['Topics'])):\n",
        "\n",
        "        corpus = tp.utils.Corpus()\n",
        "        for line in sentence[t][l]:\n",
        "            tokens = word_tokenize(line)\n",
        "            corpus.add_doc(words = tokens)\n",
        "\n",
        "        print(sub_sub['Topics'][l], sub_sub['Sub_topics'][l]+2, sub_sub['Coherence_score'][l])\n",
        "\n",
        "        mdl = tp.HDPModel(tw=tp.TermWeight.IDF, min_cf=5, min_df=10, rm_top=10, initial_k=sub_sub['Sub_topics'][l]+2, corpus=corpus, seed=99999)\n",
        "\n",
        "        # Initiate MCMC burn-in\n",
        "        mdl.burn_in = 100\n",
        "        mdl.train(0)\n",
        "\n",
        "        print('Num docs:', len(mdl.docs), ', Vocab size:', mdl.num_vocabs, ', Num words:', mdl.num_words)\n",
        "        print('Removed top words:', mdl.removed_top_words)\n",
        "        print('Training...', file=sys.stderr, flush=True)\n",
        "\n",
        "        # Train model\n",
        "        mcmc_iter = 1000\n",
        "        quiet = False\n",
        "\n",
        "        step=round(mcmc_iter*0.01)\n",
        "        for i in range(0, mcmc_iter, step):\n",
        "            mdl.train(step, workers=1)\n",
        "            if not quiet:\n",
        "                ('Iteration: {}\\tLog-likelihood: {}\\tNum. of topics: {}'.format(i, mdl.ll_per_word, mdl.live_k))\n",
        "\n",
        "        coh = tp.coherence.Coherence(mdl, coherence='c_v')\n",
        "        average_coherence = coh.get_score()\n",
        "        topic_len = np.array(np.nonzero(mdl.get_count_by_topics())).size\n",
        "\n",
        "        print('topic{}_Coherence: {:.4}_Perplexity: {:.4}'.format(topic_len, average_coherence, mdl.perplexity))\n",
        "\n",
        "        topic_results = {'Topics': [], 'document_count': [], 'represent': [], 'words': [], 'word_probability': []}\n",
        "\n",
        "        important_topics = [k for k, v in sorted(enumerate(mdl.get_count_by_topics()), key=lambda x:x[1], reverse=True)]\n",
        "        important_topics.sort()\n",
        "\n",
        "        # 먼저 토픽 개수만큼 공간을 만들어줍니다.\n",
        "        buckets = [[] for _ in range(len(important_topics))]\n",
        "\n",
        "        # extract candidates for auto topic labeling\n",
        "        extractor = tp.label.PMIExtractor(min_cf=5, min_df=10, min_len=1, max_len=4, max_cand=10000)\n",
        "        cands = extractor.extract(mdl)\n",
        "\n",
        "        labeler = tp.label.FoRelevance(mdl, cands, min_df=10, smoothing=1e-2, mu=0.25)\n",
        "\n",
        "        topic_doc = {'mdl.docs': [],'topic': []}\n",
        "\n",
        "        for k in tqdm(important_topics):\n",
        "            if not mdl.is_live_topic(k): continue # remove un-assigned topics at the end (i.e. not alive)\n",
        "\n",
        "            # 전체 문헌에 대해, top 1 주제 번호를 찾아 그 그룹에 해당 문헌을 포함시킵니다.\n",
        "            for d in mdl.docs:\n",
        "                topic = d.get_topics(top_n=1)[0][0]\n",
        "                if k == topic:\n",
        "                    buckets[k].append(topic)\n",
        "\n",
        "            topic_results['Topics'].append(k)\n",
        "            topic_results['document_count'].append(len(buckets[k]))\n",
        "            label = \"Labels :\", ', '.join(label for label, score in labeler.get_topic_labels(k, top_n=40))\n",
        "            topic_results['represent'].append(label)\n",
        "            words = \"Words :\", ', '.join(word for word, prob in mdl.get_topic_words(k, top_n=40))\n",
        "            word = [word for word, prob in mdl.get_topic_words(k, top_n=40)]\n",
        "            prob = [np.round(prob,6) for word, prob in mdl.get_topic_words(k, top_n=40)]\n",
        "            topic_results['words'].append(words)\n",
        "            word_porobability = dict(zip(word, prob))\n",
        "            topic_results['word_probability'].append(word_porobability)\n",
        "\n",
        "        pd.DataFrame(topic_results).to_excel(writer, sheet_name = 'Topic_{}'.format(l), index=False)\n",
        "\n",
        "    writer.save()"
      ]
    }
  ],
  "metadata": {
    "kernelspec": {
      "display_name": "Python 3",
      "name": "python3"
    },
    "language_info": {
      "codemirror_mode": {
        "name": "ipython",
        "version": 3
      },
      "file_extension": ".py",
      "mimetype": "text/x-python",
      "name": "python",
      "nbconvert_exporter": "python",
      "pygments_lexer": "ipython3",
      "version": "3.11.5"
    },
    "orig_nbformat": 4,
    "colab": {
      "provenance": [],
      "include_colab_link": true
    },
    "accelerator": "TPU"
  },
  "nbformat": 4,
  "nbformat_minor": 0
}